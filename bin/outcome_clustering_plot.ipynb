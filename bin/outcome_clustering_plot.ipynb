{
 "cells": [
  {
   "cell_type": "code",
   "execution_count": 13,
   "metadata": {},
   "outputs": [],
   "source": [
    "import matplotlib.pyplot as plt\n",
    "import numpy as np"
   ]
  },
  {
   "cell_type": "code",
   "execution_count": 14,
   "metadata": {},
   "outputs": [],
   "source": [
    "outcome = np.load('outcome_clustering_results.npz')\n",
    "outcome = outcome['name1']"
   ]
  },
  {
   "cell_type": "code",
   "execution_count": 15,
   "metadata": {},
   "outputs": [
    {
     "data": {
      "text/plain": [
       "array([[ 1.  ,  1.  ,  1.  ,  1.  ,  1.  ,  1.  ,  1.  ,  1.  ,  1.  ,\n",
       "         1.  ,  0.98,  0.96,  0.96,  0.96,  0.96,  0.96,  0.96,  0.96],\n",
       "       [ 1.  ,  1.  ,  1.  ,  1.  ,  1.  ,  1.  ,  1.  ,  0.98,  0.98,\n",
       "         0.98,  0.98,  0.98,  0.96,  0.96,  0.96,  0.94,  0.94,  0.94],\n",
       "       [ 1.  ,  1.  ,  1.  ,  1.  ,  0.98,  0.98,  0.98,  0.98,  0.98,\n",
       "         0.98,  0.98,  0.98,  0.98,  0.98,  0.98,  0.94,  0.94,  0.94],\n",
       "       [ 1.  ,  0.98,  0.98,  0.98,  0.96,  0.96,  0.96,  0.96,  0.96,\n",
       "         0.96,  0.96,  0.96,  0.96,  0.96,  0.96,  0.94,  0.94,  0.94],\n",
       "       [ 0.98,  0.98,  0.98,  0.98,  0.96,  0.96,  0.94,  0.94,  0.94,\n",
       "         0.94,  0.94,  0.92,  0.92,  0.92,  0.92,  0.9 ,  0.9 ,  0.9 ],\n",
       "       [ 1.  ,  1.  ,  0.98,  0.96,  0.94,  0.94,  0.94,  0.92,  0.92,\n",
       "         0.92,  0.92,  0.92,  0.92,  0.92,  0.9 ,  0.88,  0.88,  0.88],\n",
       "       [ 1.  ,  1.  ,  1.  ,  1.  ,  1.  ,  1.  ,  1.  ,  1.  ,  1.  ,\n",
       "         1.  ,  1.  ,  1.  ,  1.  ,  1.  ,  1.  ,  0.96,  0.96,  0.96],\n",
       "       [ 1.  ,  1.  ,  1.  ,  1.  ,  1.  ,  1.  ,  0.98,  0.98,  0.98,\n",
       "         0.98,  0.96,  0.94,  0.94,  0.94,  0.94,  0.94,  0.94,  0.94],\n",
       "       [ 1.  ,  1.  ,  0.98,  0.96,  0.96,  0.96,  0.94,  0.92,  0.92,\n",
       "         0.92,  0.92,  0.9 ,  0.9 ,  0.9 ,  0.9 ,  0.9 ,  0.9 ,  0.9 ],\n",
       "       [ 1.  ,  1.  ,  1.  ,  1.  ,  1.  ,  1.  ,  1.  ,  1.  ,  1.  ,\n",
       "         1.  ,  1.  ,  1.  ,  1.  ,  1.  ,  0.98,  0.98,  0.96,  0.96]])"
      ]
     },
     "execution_count": 15,
     "metadata": {},
     "output_type": "execute_result"
    }
   ],
   "source": [
    "outcome"
   ]
  },
  {
   "cell_type": "code",
   "execution_count": 16,
   "metadata": {
    "collapsed": true
   },
   "outputs": [],
   "source": [
    "ranges = np.asarray(range(2,20))"
   ]
  },
  {
   "cell_type": "code",
   "execution_count": 17,
   "metadata": {},
   "outputs": [],
   "source": [
    "avg = outcome.mean(axis=0)"
   ]
  },
  {
   "cell_type": "code",
   "execution_count": 46,
   "metadata": {},
   "outputs": [
    {
     "data": {
      "image/png": "[encoded data removed]",
      "text/plain": [
       "<matplotlib.figure.Figure at 0x1179eccf8>"
      ]
     },
     "metadata": {},
     "output_type": "display_data"
    }
   ],
   "source": [
    "# number of classes vs classification accuracy\n",
    "plt.figure()\n",
    "plt.plot(ranges, avg, 'bo', linestyle = '-')\n",
    "plt.xlabel('Number of classes')\n",
    "plt.ylabel('Classification accuracy')\n",
    "plt.savefig('/Users/ahyeon/Desktop/activ/bin/outcome_plot.pdf')\n",
    "plt.show()"
   ]
  },
  {
   "cell_type": "code",
   "execution_count": 47,
   "metadata": {},
   "outputs": [],
   "source": [
    "# number of classes vs fold over chance\n",
    "normalized = np.zeros((10,18))\n",
    "for i in range(10):\n",
    "    norm = outcome[i]/(1/ranges)\n",
    "    normalized[i,:] = norm"
   ]
  },
  {
   "cell_type": "code",
   "execution_count": 48,
   "metadata": {},
   "outputs": [],
   "source": [
    "norm_avg = normalized.mean(axis=0)"
   ]
  },
  {
   "cell_type": "code",
   "execution_count": 49,
   "metadata": {},
   "outputs": [
    {
     "data": {
      "image/png": "[encoded data removed]",
      "text/plain": [
       "<matplotlib.figure.Figure at 0x118a31e80>"
      ]
     },
     "metadata": {},
     "output_type": "display_data"
    }
   ],
   "source": [
    "plt.figure()\n",
    "plt.plot(ranges, norm_avg, 'bo', linestyle = '-')\n",
    "plt.xlabel('Number of classes')\n",
    "plt.ylabel('Fold over chance')\n",
    "plt.savefig('/Users/ahyeon/Desktop/activ/bin/outcome_mean_plot.pdf')\n",
    "plt.show()"
   ]
  },
  {
   "cell_type": "code",
   "execution_count": null,
   "metadata": {
    "collapsed": true
   },
   "outputs": [],
   "source": []
  }
 ],
 "metadata": {
  "kernelspec": {
   "display_name": "Python 3",
   "language": "python",
   "name": "python3"
  },
  "language_info": {
   "codemirror_mode": {
    "name": "ipython",
    "version": 3
   },
   "file_extension": ".py",
   "mimetype": "text/x-python",
   "name": "python",
   "nbconvert_exporter": "python",
   "pygments_lexer": "ipython3",
   "version": "3.6.1"
  }
 },
 "nbformat": 4,
 "nbformat_minor": 2
}

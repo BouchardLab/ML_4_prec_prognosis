{
 "cells": [
  {
   "cell_type": "code",
   "execution_count": 7,
   "metadata": {},
   "outputs": [],
   "source": [
    "import numpy as np\n",
    "import scipy\n",
    "from activ import load_data\n",
    "from sklearn.model_selection import train_test_split\n",
    "from sklearn.cluster import DBSCAN\n",
    "from activ.data_normalization import data_normalization\n",
    "from scipy.spatial.distance import pdist\n",
    "from sklearn.model_selection import KFold, StratifiedKFold\n",
    "from sklearn.decomposition import NMF\n",
    "from sklearn.metrics import mean_squared_error\n",
    "import h5py\n",
    "import matplotlib.pyplot as plt\n",
    "from sklearn.preprocessing import MinMaxScaler\n",
    "from PyUoI.UoINMF import UoINMF\n",
    "from activ.analytics import heatmap"
   ]
  },
  {
   "cell_type": "code",
   "execution_count": 3,
   "metadata": {},
   "outputs": [],
   "source": [
    "nmfdata = load_data(uoinmf=True)"
   ]
  },
  {
   "cell_type": "code",
   "execution_count": 5,
   "metadata": {},
   "outputs": [],
   "source": [
    "bm_bases = nmfdata.biomarker_bases\n",
    "oc_bases = nmfdata.outcome_bases"
   ]
  },
  {
   "cell_type": "code",
   "execution_count": 6,
   "metadata": {},
   "outputs": [
    {
     "data": {
      "text/plain": [
       "((6, 235), (6, 177))"
      ]
     },
     "execution_count": 6,
     "metadata": {},
     "output_type": "execute_result"
    }
   ],
   "source": [
    "bm_bases.shape, oc_bases.shape"
   ]
  },
  {
   "cell_type": "code",
   "execution_count": 10,
   "metadata": {},
   "outputs": [
    {
     "data": {
      "text/plain": [
       "(<matplotlib.image.AxesImage at 0x1a173f4470>,\n",
       " <matplotlib.colorbar.Colorbar at 0x1a17425da0>)"
      ]
     },
     "execution_count": 10,
     "metadata": {},
     "output_type": "execute_result"
    },
    {
     "data": {
      "image/png": "[encoded data removed]",
      "text/plain": [
       "<Figure size 432x288 with 2 Axes>"
      ]
     },
     "metadata": {
      "needs_background": "light"
     },
     "output_type": "display_data"
    }
   ],
   "source": []
  },
  {
   "cell_type": "code",
   "execution_count": 11,
   "metadata": {},
   "outputs": [
    {
     "data": {
      "text/plain": [
       "\u001b[0;31mSignature:\u001b[0m\n",
       "\u001b[0mheatmap\u001b[0m\u001b[0;34m(\u001b[0m\u001b[0;34m\u001b[0m\n",
       "\u001b[0;34m\u001b[0m    \u001b[0;34m[\u001b[0m\u001b[0;34m'data'\u001b[0m\u001b[0;34m,\u001b[0m \u001b[0;34m'row_labels'\u001b[0m\u001b[0;34m,\u001b[0m \u001b[0;34m'col_labels'\u001b[0m\u001b[0;34m,\u001b[0m \u001b[0;34m'ax=None'\u001b[0m\u001b[0;34m,\u001b[0m \u001b[0;34m'cbar_kw={}'\u001b[0m\u001b[0;34m,\u001b[0m \u001b[0;34m\"cbarlabel=''\"\u001b[0m\u001b[0;34m,\u001b[0m \u001b[0;34m'xlab=None'\u001b[0m\u001b[0;34m,\u001b[0m \u001b[0;34m'ylab=None'\u001b[0m\u001b[0;34m,\u001b[0m \u001b[0;34m'title=None'\u001b[0m\u001b[0;34m,\u001b[0m \u001b[0;34m'**kwargs'\u001b[0m\u001b[0;34m]\u001b[0m\u001b[0;34m,\u001b[0m\u001b[0;34m\u001b[0m\n",
       "\u001b[0;34m\u001b[0m\u001b[0;34m)\u001b[0m\u001b[0;34m\u001b[0m\u001b[0;34m\u001b[0m\u001b[0m\n",
       "\u001b[0;31mDocstring:\u001b[0m\n",
       "Create a heatmap from a numpy array and two lists of labels.\n",
       "\n",
       "Arguments:\n",
       "    data       : A 2D numpy array of shape (N,M)\n",
       "    row_labels : A list or array of length N with the labels\n",
       "                 for the rows\n",
       "    col_labels : A list or array of length M with the labels\n",
       "                 for the columns\n",
       "Optional arguments:\n",
       "    xlab       : the label for the x-axis\n",
       "    ylab       : the label for the y-axis\n",
       "    title      : the title for the heatmap\n",
       "    ax         : A matplotlib.axes.Axes instance to which the heatmap\n",
       "                 is plotted. If not provided, use current axes or\n",
       "                 create a new one.\n",
       "    cbar_kw    : A dictionary with arguments to\n",
       "                 :meth:`matplotlib.Figure.colorbar`.\n",
       "    cbarlabel  : The label for the colorbar\n",
       "All other arguments are directly passed on to the imshow call.\n",
       "\u001b[0;31mFile:\u001b[0m      ~/Desktop/activ/activ/analytics.py\n",
       "\u001b[0;31mType:\u001b[0m      function\n"
      ]
     },
     "metadata": {},
     "output_type": "display_data"
    }
   ],
   "source": []
  },
  {
   "cell_type": "code",
   "execution_count": null,
   "metadata": {},
   "outputs": [],
   "source": []
  }
 ],
 "metadata": {
  "kernelspec": {
   "display_name": "Python [conda env:activ]",
   "language": "python",
   "name": "conda-env-activ-py"
  },
  "language_info": {
   "codemirror_mode": {
    "name": "ipython",
    "version": 3
   },
   "file_extension": ".py",
   "mimetype": "text/x-python",
   "name": "python",
   "nbconvert_exporter": "python",
   "pygments_lexer": "ipython3",
   "version": "3.7.2"
  }
 },
 "nbformat": 4,
 "nbformat_minor": 2
}

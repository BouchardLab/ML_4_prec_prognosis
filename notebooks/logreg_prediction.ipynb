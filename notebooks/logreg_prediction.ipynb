{
 "cells": [
  {
   "cell_type": "code",
   "execution_count": 28,
   "metadata": {},
   "outputs": [],
   "source": [
    "from activ import load_data, data_normalization\n",
    "import os\n",
    "from activ.readfile import TrackTBIFile\n",
    "%matplotlib inline\n",
    "import matplotlib.pyplot as plt\n",
    "import h5py\n",
    "import numpy as np\n",
    "from activ.analytics import heatmap, nmf_bases_heatmap, nmf_heatmap, nmf_boxplot\n",
    "from activ.clustering import UmapClusteringResults\n",
    "from os.path import dirname, join\n",
    "from scipy.spatial.distance import pdist, squareform\n",
    "import scipy.cluster.hierarchy as _sch\n",
    "from sklearn.linear_model import LogisticRegression\n",
    "from sklearn.metrics import mean_squared_error, r2_score"
   ]
  },
  {
   "cell_type": "code",
   "execution_count": 2,
   "metadata": {},
   "outputs": [],
   "source": [
    "file = '/Users/ahyeon/Desktop/activ/results/features_dropped/bm_features_dropped/single_dim/dim_2_bm_dropped_result_0.h5'"
   ]
  },
  {
   "cell_type": "code",
   "execution_count": 4,
   "metadata": {},
   "outputs": [],
   "source": [
    "f = h5py.File(file, 'r')"
   ]
  },
  {
   "cell_type": "code",
   "execution_count": 12,
   "metadata": {},
   "outputs": [],
   "source": [
    "predictions = np.squeeze(f['score'][:], axis=1)\n",
    "norm_predictions = np.squeeze(f['norm_score'][:], axis=1)\n",
    "labels = np.squeeze(f['clusters'][:], axis=1)\n",
    "umap_dims = f['umap_dimensions'][:]\n",
    "cluster_sizes = f['cluster_sizes'][:]\n",
    "emb = f['umap_embeddings'][:]\n",
    "scale = f['umap_embeddings_dimscale'][:]"
   ]
  },
  {
   "cell_type": "code",
   "execution_count": 13,
   "metadata": {},
   "outputs": [
    {
     "data": {
      "text/plain": [
       "array([2, 2])"
      ]
     },
     "execution_count": 13,
     "metadata": {},
     "output_type": "execute_result"
    }
   ],
   "source": [
    "scale"
   ]
  },
  {
   "cell_type": "code",
   "execution_count": 15,
   "metadata": {},
   "outputs": [
    {
     "data": {
      "text/plain": [
       "(30381,)"
      ]
     },
     "execution_count": 15,
     "metadata": {},
     "output_type": "execute_result"
    }
   ],
   "source": [
    "for dim in umap_dims:\n",
    "    all_dmat = np.zeros((30381,50))\n",
    "    for x in range(emb.shape[0]):\n",
    "        dmat = pdist(emb[x][:,scale==dim], metric='euclidean')\n",
    "        all_dmat[:,x] = dmat\n",
    "    mean = all_dmat.mean(axis=1)\n",
    "mean.shape"
   ]
  },
  {
   "cell_type": "code",
   "execution_count": 16,
   "metadata": {},
   "outputs": [],
   "source": [
    "numclusters = 14\n",
    "labels = _sch.cut_tree(_sch.linkage(mean, method='ward'), numclusters)"
   ]
  },
  {
   "cell_type": "code",
   "execution_count": 17,
   "metadata": {},
   "outputs": [
    {
     "data": {
      "text/plain": [
       "array([[ 0],\n",
       "       [ 1],\n",
       "       [ 2],\n",
       "       [ 0],\n",
       "       [ 3],\n",
       "       [ 4],\n",
       "       [ 5],\n",
       "       [ 5],\n",
       "       [ 6],\n",
       "       [ 5],\n",
       "       [ 2],\n",
       "       [ 7],\n",
       "       [ 0],\n",
       "       [ 5],\n",
       "       [ 3],\n",
       "       [ 0],\n",
       "       [ 0],\n",
       "       [ 5],\n",
       "       [ 1],\n",
       "       [ 3],\n",
       "       [ 8],\n",
       "       [ 3],\n",
       "       [ 0],\n",
       "       [ 8],\n",
       "       [ 9],\n",
       "       [10],\n",
       "       [11],\n",
       "       [ 8],\n",
       "       [ 8],\n",
       "       [ 5],\n",
       "       [ 5],\n",
       "       [ 1],\n",
       "       [ 5],\n",
       "       [ 8],\n",
       "       [ 3],\n",
       "       [ 8],\n",
       "       [ 7],\n",
       "       [ 5],\n",
       "       [ 4],\n",
       "       [ 8],\n",
       "       [ 2],\n",
       "       [ 5],\n",
       "       [ 8],\n",
       "       [ 5],\n",
       "       [11],\n",
       "       [ 8],\n",
       "       [ 5],\n",
       "       [ 4],\n",
       "       [ 9],\n",
       "       [11],\n",
       "       [ 1],\n",
       "       [ 0],\n",
       "       [ 0],\n",
       "       [ 5],\n",
       "       [ 3],\n",
       "       [ 7],\n",
       "       [ 1],\n",
       "       [ 5],\n",
       "       [ 8],\n",
       "       [ 5],\n",
       "       [ 1],\n",
       "       [ 8],\n",
       "       [ 9],\n",
       "       [ 1],\n",
       "       [ 0],\n",
       "       [ 1],\n",
       "       [11],\n",
       "       [ 7],\n",
       "       [ 8],\n",
       "       [ 5],\n",
       "       [ 7],\n",
       "       [ 1],\n",
       "       [ 5],\n",
       "       [ 6],\n",
       "       [ 5],\n",
       "       [ 6],\n",
       "       [11],\n",
       "       [ 5],\n",
       "       [ 8],\n",
       "       [ 7],\n",
       "       [ 5],\n",
       "       [12],\n",
       "       [ 5],\n",
       "       [ 9],\n",
       "       [ 6],\n",
       "       [ 2],\n",
       "       [ 2],\n",
       "       [ 3],\n",
       "       [ 9],\n",
       "       [ 5],\n",
       "       [12],\n",
       "       [ 5],\n",
       "       [11],\n",
       "       [ 3],\n",
       "       [ 0],\n",
       "       [ 6],\n",
       "       [12],\n",
       "       [ 6],\n",
       "       [ 6],\n",
       "       [12],\n",
       "       [ 0],\n",
       "       [11],\n",
       "       [ 5],\n",
       "       [ 1],\n",
       "       [ 4],\n",
       "       [ 9],\n",
       "       [ 7],\n",
       "       [ 9],\n",
       "       [12],\n",
       "       [ 7],\n",
       "       [ 5],\n",
       "       [12],\n",
       "       [ 5],\n",
       "       [ 3],\n",
       "       [ 2],\n",
       "       [12],\n",
       "       [ 1],\n",
       "       [ 0],\n",
       "       [ 3],\n",
       "       [ 3],\n",
       "       [ 3],\n",
       "       [ 0],\n",
       "       [ 0],\n",
       "       [ 7],\n",
       "       [ 7],\n",
       "       [11],\n",
       "       [ 0],\n",
       "       [ 4],\n",
       "       [ 1],\n",
       "       [ 9],\n",
       "       [ 5],\n",
       "       [ 1],\n",
       "       [ 5],\n",
       "       [ 9],\n",
       "       [ 9],\n",
       "       [12],\n",
       "       [ 4],\n",
       "       [12],\n",
       "       [ 6],\n",
       "       [ 9],\n",
       "       [ 7],\n",
       "       [ 0],\n",
       "       [12],\n",
       "       [ 6],\n",
       "       [ 0],\n",
       "       [ 2],\n",
       "       [ 5],\n",
       "       [ 7],\n",
       "       [ 4],\n",
       "       [ 5],\n",
       "       [ 7],\n",
       "       [11],\n",
       "       [ 0],\n",
       "       [ 0],\n",
       "       [ 7],\n",
       "       [ 1],\n",
       "       [12],\n",
       "       [12],\n",
       "       [ 0],\n",
       "       [ 4],\n",
       "       [ 7],\n",
       "       [ 7],\n",
       "       [ 2],\n",
       "       [ 3],\n",
       "       [ 7],\n",
       "       [ 0],\n",
       "       [12],\n",
       "       [ 7],\n",
       "       [ 1],\n",
       "       [ 6],\n",
       "       [ 2],\n",
       "       [ 6],\n",
       "       [ 7],\n",
       "       [11],\n",
       "       [ 4],\n",
       "       [ 2],\n",
       "       [ 2],\n",
       "       [12],\n",
       "       [12],\n",
       "       [ 7],\n",
       "       [ 0],\n",
       "       [11],\n",
       "       [ 2],\n",
       "       [ 5],\n",
       "       [11],\n",
       "       [ 2],\n",
       "       [11],\n",
       "       [ 7],\n",
       "       [ 0],\n",
       "       [12],\n",
       "       [ 5],\n",
       "       [ 2],\n",
       "       [ 7],\n",
       "       [ 7],\n",
       "       [ 7],\n",
       "       [ 7],\n",
       "       [ 5],\n",
       "       [ 8],\n",
       "       [11],\n",
       "       [ 3],\n",
       "       [ 3],\n",
       "       [ 7],\n",
       "       [12],\n",
       "       [ 6],\n",
       "       [ 5],\n",
       "       [ 0],\n",
       "       [ 9],\n",
       "       [ 3],\n",
       "       [11],\n",
       "       [ 0],\n",
       "       [11],\n",
       "       [ 4],\n",
       "       [ 9],\n",
       "       [ 4],\n",
       "       [ 0],\n",
       "       [ 3],\n",
       "       [ 2],\n",
       "       [ 1],\n",
       "       [11],\n",
       "       [11],\n",
       "       [ 2],\n",
       "       [ 0],\n",
       "       [ 7],\n",
       "       [ 8],\n",
       "       [ 8],\n",
       "       [11],\n",
       "       [11],\n",
       "       [ 2],\n",
       "       [11],\n",
       "       [ 0],\n",
       "       [ 0],\n",
       "       [12],\n",
       "       [ 2],\n",
       "       [13],\n",
       "       [ 0],\n",
       "       [12],\n",
       "       [ 7],\n",
       "       [ 0],\n",
       "       [ 0],\n",
       "       [ 6],\n",
       "       [11],\n",
       "       [ 0],\n",
       "       [ 7],\n",
       "       [ 3],\n",
       "       [ 7],\n",
       "       [ 0],\n",
       "       [ 2]])"
      ]
     },
     "execution_count": 17,
     "metadata": {},
     "output_type": "execute_result"
    }
   ],
   "source": [
    "labels"
   ]
  },
  {
   "cell_type": "code",
   "execution_count": 20,
   "metadata": {},
   "outputs": [],
   "source": [
    "nmf = load_data(uoinmf=True)"
   ]
  },
  {
   "cell_type": "code",
   "execution_count": 21,
   "metadata": {},
   "outputs": [],
   "source": [
    "nmf_bm = nmfdata.biomarkers"
   ]
  },
  {
   "cell_type": "code",
   "execution_count": 34,
   "metadata": {},
   "outputs": [
    {
     "name": "stderr",
     "output_type": "stream",
     "text": [
      "/Users/ahyeon/anaconda3/envs/activ/lib/python3.6/site-packages/sklearn/utils/validation.py:578: DataConversionWarning: A column-vector y was passed when a 1d array was expected. Please change the shape of y to (n_samples, ), for example using ravel().\n",
      "  y = column_or_1d(y, warn=True)\n"
     ]
    }
   ],
   "source": [
    "logreg = LogisticRegression()\n",
    "y_pred = logreg.fit(nmf_bm, labels).coef_"
   ]
  },
  {
   "cell_type": "code",
   "execution_count": 39,
   "metadata": {},
   "outputs": [
    {
     "ename": "TypeError",
     "evalue": "'NoneType' object is not iterable",
     "output_type": "error",
     "traceback": [
      "\u001b[0;31m---------------------------------------------------------------------------\u001b[0m",
      "\u001b[0;31mTypeError\u001b[0m                                 Traceback (most recent call last)",
      "\u001b[0;32m<ipython-input-39-8bb3fcc764d7>\u001b[0m in \u001b[0;36m<module>\u001b[0;34m()\u001b[0m\n\u001b[0;32m----> 1\u001b[0;31m \u001b[0mheatmap\u001b[0m\u001b[0;34m(\u001b[0m\u001b[0my_pred\u001b[0m\u001b[0;34m,\u001b[0m \u001b[0mrow_labels\u001b[0m\u001b[0;34m=\u001b[0m \u001b[0;32mNone\u001b[0m\u001b[0;34m,\u001b[0m \u001b[0mcol_labels\u001b[0m \u001b[0;34m=\u001b[0m \u001b[0;32mNone\u001b[0m\u001b[0;34m)\u001b[0m\u001b[0;34m\u001b[0m\u001b[0m\n\u001b[0m",
      "\u001b[0;32m~/Desktop/activ/activ/analytics.py\u001b[0m in \u001b[0;36mheatmap\u001b[0;34m(data, row_labels, col_labels, ax, cbar_kw, cbarlabel, xlab, ylab, title, **kwargs)\u001b[0m\n\u001b[1;32m     48\u001b[0m     \u001b[0max\u001b[0m\u001b[0;34m.\u001b[0m\u001b[0mset_yticks\u001b[0m\u001b[0;34m(\u001b[0m\u001b[0mnp\u001b[0m\u001b[0;34m.\u001b[0m\u001b[0marange\u001b[0m\u001b[0;34m(\u001b[0m\u001b[0mdata\u001b[0m\u001b[0;34m.\u001b[0m\u001b[0mshape\u001b[0m\u001b[0;34m[\u001b[0m\u001b[0;36m0\u001b[0m\u001b[0;34m]\u001b[0m\u001b[0;34m)\u001b[0m\u001b[0;34m)\u001b[0m\u001b[0;34m\u001b[0m\u001b[0m\n\u001b[1;32m     49\u001b[0m     \u001b[0;31m# ... and label them with the respective list entries.\u001b[0m\u001b[0;34m\u001b[0m\u001b[0;34m\u001b[0m\u001b[0m\n\u001b[0;32m---> 50\u001b[0;31m     \u001b[0max\u001b[0m\u001b[0;34m.\u001b[0m\u001b[0mset_xticklabels\u001b[0m\u001b[0;34m(\u001b[0m\u001b[0mcol_labels\u001b[0m\u001b[0;34m)\u001b[0m\u001b[0;34m\u001b[0m\u001b[0m\n\u001b[0m\u001b[1;32m     51\u001b[0m \u001b[0;34m\u001b[0m\u001b[0m\n\u001b[1;32m     52\u001b[0m     \u001b[0max\u001b[0m\u001b[0;34m.\u001b[0m\u001b[0mset_yticklabels\u001b[0m\u001b[0;34m(\u001b[0m\u001b[0mrow_labels\u001b[0m\u001b[0;34m)\u001b[0m\u001b[0;34m\u001b[0m\u001b[0m\n",
      "\u001b[0;32m~/anaconda3/envs/activ/lib/python3.6/site-packages/matplotlib/axes/_base.py\u001b[0m in \u001b[0;36mset_xticklabels\u001b[0;34m(self, labels, fontdict, minor, **kwargs)\u001b[0m\n\u001b[1;32m   3293\u001b[0m             \u001b[0mkwargs\u001b[0m\u001b[0;34m.\u001b[0m\u001b[0mupdate\u001b[0m\u001b[0;34m(\u001b[0m\u001b[0mfontdict\u001b[0m\u001b[0;34m)\u001b[0m\u001b[0;34m\u001b[0m\u001b[0m\n\u001b[1;32m   3294\u001b[0m         ret = self.xaxis.set_ticklabels(labels,\n\u001b[0;32m-> 3295\u001b[0;31m                                         minor=minor, **kwargs)\n\u001b[0m\u001b[1;32m   3296\u001b[0m         \u001b[0mself\u001b[0m\u001b[0;34m.\u001b[0m\u001b[0mstale\u001b[0m \u001b[0;34m=\u001b[0m \u001b[0;32mTrue\u001b[0m\u001b[0;34m\u001b[0m\u001b[0m\n\u001b[1;32m   3297\u001b[0m         \u001b[0;32mreturn\u001b[0m \u001b[0mret\u001b[0m\u001b[0;34m\u001b[0m\u001b[0m\n",
      "\u001b[0;32m~/anaconda3/envs/activ/lib/python3.6/site-packages/matplotlib/axis.py\u001b[0m in \u001b[0;36mset_ticklabels\u001b[0;34m(self, ticklabels, *args, **kwargs)\u001b[0m\n\u001b[1;32m   1634\u001b[0m         \"\"\"\n\u001b[1;32m   1635\u001b[0m         \u001b[0mget_labels\u001b[0m \u001b[0;34m=\u001b[0m \u001b[0;34m[\u001b[0m\u001b[0;34m]\u001b[0m\u001b[0;34m\u001b[0m\u001b[0m\n\u001b[0;32m-> 1636\u001b[0;31m         \u001b[0;32mfor\u001b[0m \u001b[0mt\u001b[0m \u001b[0;32min\u001b[0m \u001b[0mticklabels\u001b[0m\u001b[0;34m:\u001b[0m\u001b[0;34m\u001b[0m\u001b[0m\n\u001b[0m\u001b[1;32m   1637\u001b[0m             \u001b[0;31m# try calling get_text() to check whether it is Text object\u001b[0m\u001b[0;34m\u001b[0m\u001b[0;34m\u001b[0m\u001b[0m\n\u001b[1;32m   1638\u001b[0m             \u001b[0;31m# if it is Text, get label content\u001b[0m\u001b[0;34m\u001b[0m\u001b[0;34m\u001b[0m\u001b[0m\n",
      "\u001b[0;31mTypeError\u001b[0m: 'NoneType' object is not iterable"
     ]
    },
    {
     "data": {
      "image/png": "[encoded data removed]",
      "text/plain": [
       "<Figure size 432x288 with 2 Axes>"
      ]
     },
     "metadata": {},
     "output_type": "display_data"
    }
   ],
   "source": [
    "heatmap(y_pred, row_labels= None, col_labels = None)"
   ]
  },
  {
   "cell_type": "code",
   "execution_count": null,
   "metadata": {},
   "outputs": [],
   "source": []
  }
 ],
 "metadata": {
  "kernelspec": {
   "display_name": "Python 3",
   "language": "python",
   "name": "python3"
  },
  "language_info": {
   "codemirror_mode": {
    "name": "ipython",
    "version": 3
   },
   "file_extension": ".py",
   "mimetype": "text/x-python",
   "name": "python",
   "nbconvert_exporter": "python",
   "pygments_lexer": "ipython3",
   "version": "3.6.7"
  }
 },
 "nbformat": 4,
 "nbformat_minor": 2
}

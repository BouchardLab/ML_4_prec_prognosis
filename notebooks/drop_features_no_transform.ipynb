{
 "cells": [
  {
   "cell_type": "code",
   "execution_count": 1,
   "metadata": {},
   "outputs": [
    {
     "name": "stderr",
     "output_type": "stream",
     "text": [
      "/Users/ahyeon/anaconda3/envs/activ/lib/python3.6/site-packages/sklearn/ensemble/weight_boosting.py:29: DeprecationWarning: numpy.core.umath_tests is an internal NumPy module and should not be imported. It will be removed in a future NumPy release.\n",
      "  from numpy.core.umath_tests import inner1d\n"
     ]
    }
   ],
   "source": [
    "from activ import load_data, data_normalization\n",
    "import os\n",
    "from activ.readfile import TrackTBIFile\n",
    "%matplotlib inline\n",
    "import matplotlib.pyplot as plt\n",
    "import h5py\n",
    "import numpy as np\n",
    "from activ.analytics import heatmap, nmf_bases_heatmap\n",
    "from activ.clustering import UmapClusteringResults\n",
    "from os.path import dirname, join\n",
    "from matplotlib.backends.backend_pdf import PdfPages\n",
    "from IPython.display import display, Latex, Markdown\n",
    "from pylatex import Document, Section, Subsection, Command\n",
    "from pylatex import Document, Section, Figure, SubFigure, NoEscape\n",
    "from pylatex.utils import italic, NoEscape\n",
    "from scipy.stats import norm, sem"
   ]
  },
  {
   "cell_type": "code",
   "execution_count": 15,
   "metadata": {},
   "outputs": [],
   "source": [
    "nmfdata = load_data(uoinmf=True)\n",
    "\n",
    "raw = load_data()\n",
    "rawbm = raw.biomarkers #(247,235)\n",
    "rawoc = raw.outcomes\n",
    "oc_feature_names = raw.outcome_features\n",
    "bm_feature_names = raw.biomarker_features\n",
    "\n"
   ]
  },
  {
   "cell_type": "code",
   "execution_count": 16,
   "metadata": {},
   "outputs": [],
   "source": [
    "def drop_x_percent(A,w,h,feature_names,percent):\n",
    "    total_features = h.shape[1]\n",
    "    num_features_to_drop = np.round(total_features*percent//100)\n",
    "    h_sum = np.sum(h, axis=0)\n",
    "    h_sum_sorted = np.argsort(h_sum)\n",
    "    indices_lowest_values = h_sum_sorted[:num_features_to_drop]\n",
    "    dropped_features = sorted(feature_names[indices_lowest_values])\n",
    "    h_new = np.delete(h, indices_lowest_values, axis=1)\n",
    "    A_new = np.delete(A, indices_lowest_values, axis=1) \n",
    "    return A_new, h_new, dropped_features"
   ]
  },
  {
   "cell_type": "code",
   "execution_count": 17,
   "metadata": {},
   "outputs": [],
   "source": [
    "# drop outcomes\n",
    "A_oc = data_normalization.data_normalization(rawoc, 'positive') #(247,177)\n",
    "w_oc = nmfdata.outcomes #(247,6)\n",
    "h_oc = nmfdata.outcome_bases #(6,177)\n",
    "\n",
    "percent = [0,10,20,30,40,50,60,70,80,90]\n",
    "for p in percent:\n",
    "    A_oc_features_dropped, h_new, dropped_features = drop_x_percent(A_oc, w_oc, h_oc, oc_feature_names, p)\n",
    "    fname = '/Users/ahyeon/data/activ/no_transform/oc_features_dropped_{}.h5'.format(p)\n",
    "    TrackTBIFile.write(fname, rawbm, A_oc_features_dropped)"
   ]
  },
  {
   "cell_type": "code",
   "execution_count": 18,
   "metadata": {},
   "outputs": [],
   "source": [
    "# drop biomarkers\n",
    "A_bm = data_normalization.data_normalization(rawbm, 'positive') #(247,177)\n",
    "w_bm = nmfdata.biomarkers #(247,6)\n",
    "h_bm = nmfdata.biomarker_bases #(6,177)\n",
    "\n",
    "percent = [0,10,20,30,40,50,60,70,80,90]\n",
    "for p in percent:\n",
    "    A_bm_features_dropped, h_new, dropped_features = drop_x_percent(A_bm, w_bm, h_bm, bm_feature_names, p)\n",
    "    fname = '/Users/ahyeon/data/activ/no_transform/bm_features_dropped_{}.h5'.format(p)\n",
    "    TrackTBIFile.write(fname, A_bm_features_dropped, rawoc)"
   ]
  },
  {
   "cell_type": "code",
   "execution_count": null,
   "metadata": {},
   "outputs": [],
   "source": []
  }
 ],
 "metadata": {
  "kernelspec": {
   "display_name": "Python 3",
   "language": "python",
   "name": "python3"
  },
  "language_info": {
   "codemirror_mode": {
    "name": "ipython",
    "version": 3
   },
   "file_extension": ".py",
   "mimetype": "text/x-python",
   "name": "python",
   "nbconvert_exporter": "python",
   "pygments_lexer": "ipython3",
   "version": "3.6.2"
  }
 },
 "nbformat": 4,
 "nbformat_minor": 2
}

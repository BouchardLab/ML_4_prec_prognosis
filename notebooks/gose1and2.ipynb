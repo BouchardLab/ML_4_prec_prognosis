{
 "cells": [
  {
   "cell_type": "code",
   "execution_count": 2,
   "metadata": {},
   "outputs": [],
   "source": [
    "import numpy as np\n",
    "import scipy\n",
    "from activ import load_data\n",
    "from activ.readfile import load_preprocessed, TrackTBIFile, encode\n",
    "from activ.data_normalization import data_normalization\n",
    "import pandas as pd\n",
    "from sklearn import preprocessing\n",
    "from collections import Counter\n",
    "import h5py"
   ]
  },
  {
   "cell_type": "code",
   "execution_count": 4,
   "metadata": {},
   "outputs": [],
   "source": [
    "subdata = load_data()\n",
    "subdata_oc = subdata.outcomes\n",
    "subdata_bm = subdata.biomarkers\n",
    "oc_features = subdata.outcome_features\n",
    "bm_features = subdata.biomarker_features\n",
    "sub_features = np.hstack((subdata.biomarker_features, subdata.outcome_features))\n",
    "ids = subdata.patient_ids"
   ]
  },
  {
   "cell_type": "code",
   "execution_count": 5,
   "metadata": {},
   "outputs": [
    {
     "data": {
      "text/plain": [
       "(586, 918)"
      ]
     },
     "execution_count": 5,
     "metadata": {},
     "output_type": "execute_result"
    }
   ],
   "source": [
    "fulldata = load_preprocessed()\n",
    "fulldata.shape        "
   ]
  },
  {
   "cell_type": "code",
   "execution_count": 47,
   "metadata": {},
   "outputs": [],
   "source": [
    "gose12 = fulldata[np.logical_or(fulldata.GOSE_OverallScore6M == 1.0, fulldata.GOSE_OverallScore6M == 2.0)]"
   ]
  },
  {
   "cell_type": "code",
   "execution_count": 150,
   "metadata": {},
   "outputs": [],
   "source": [
    "gose12_ids = gose12.index"
   ]
  },
  {
   "cell_type": "code",
   "execution_count": 115,
   "metadata": {},
   "outputs": [
    {
     "name": "stderr",
     "output_type": "stream",
     "text": [
      "/Users/ahyeon/anaconda3/envs/activ/lib/python3.7/site-packages/ipykernel_launcher.py:1: SettingWithCopyWarning: \n",
      "A value is trying to be set on a copy of a slice from a DataFrame.\n",
      "Try using .loc[row_indexer,col_indexer] = value instead\n",
      "\n",
      "See the caveats in the documentation: http://pandas.pydata.org/pandas-docs/stable/indexing.html#indexing-view-versus-copy\n",
      "  \"\"\"Entry point for launching an IPython kernel.\n",
      "/Users/ahyeon/anaconda3/envs/activ/lib/python3.7/site-packages/ipykernel_launcher.py:2: SettingWithCopyWarning: \n",
      "A value is trying to be set on a copy of a slice from a DataFrame.\n",
      "Try using .loc[row_indexer,col_indexer] = value instead\n",
      "\n",
      "See the caveats in the documentation: http://pandas.pydata.org/pandas-docs/stable/indexing.html#indexing-view-versus-copy\n",
      "  \n"
     ]
    }
   ],
   "source": [
    "# one-hot encoding oc\n",
    "gose12['GOSE_Reponder6M_Patient.alone'] = np.zeros(29)\n",
    "gose12['GOSE_Reponder6M_Patient.plus.relative'] = [0,0,0,0,1,0,0,0,0,0,0,0,0,0,0,0,0,0,0,0,0,0,0,0,0,0,0,0,0]\n"
   ]
  },
  {
   "cell_type": "code",
   "execution_count": 281,
   "metadata": {},
   "outputs": [
    {
     "data": {
      "text/plain": [
       "array(['BR-1004', 'BR-1008', 'BR-1013', 'BR-1015', 'BR-1016', 'BR-1024',\n",
       "       'BR-1025', 'BR-1031', 'BR-1032', 'BR-1037', 'BR-1041', 'BR-1048',\n",
       "       'BR-1052', 'BR-1053', 'BR-1054', 'BR-1079', 'BR-1084', 'PI-1004',\n",
       "       'PI-1008', 'PI-1009', 'PI-1011', 'PI-1013', 'PI-1015', 'PI-1019',\n",
       "       'PI-1021', 'PI-1024', 'PI-1026', 'PI-1029', 'PI-1031', 'PI-1032',\n",
       "       'PI-1033', 'PI-1034', 'PI-1039', 'PI-1042', 'PI-1043', 'PI-1044',\n",
       "       'PI-1054', 'PI-1055', 'PI-1057', 'PI-1072', 'PI-1073', 'PI-1076',\n",
       "       'PI-1077', 'PI-1079', 'PI-1080', 'PI-1081', 'PI-1084', 'PI-1086',\n",
       "       'PI-1088', 'PI-1089', 'PI-1090', 'PI-1093', 'PI-1094', 'PI-1096',\n",
       "       'PI-1105', 'PI-1107', 'PI-1108', 'PI-1109', 'PI-1111', 'PI-1112',\n",
       "       'PI-1117', 'PI-1119', 'PI-1121', 'PI-1126', 'PI-1128', 'PI-1130',\n",
       "       'PI-1132', 'PI-1143', 'PI-1144', 'PI-1154', 'PI-1155', 'PI-1156',\n",
       "       'PI-1158', 'PI-1159', 'PI-1160', 'PI-1162', 'PI-1164', 'PI-1166',\n",
       "       'PI-1180', 'SF-1002', 'SF-1010', 'SF-1011', 'SF-1015', 'SF-1016',\n",
       "       'SF-1018', 'SF-1020', 'SF-1023', 'SF-1024', 'SF-1025', 'SF-1026',\n",
       "       'SF-1028', 'SF-1030', 'SF-1031', 'SF-1034', 'SF-1036', 'SF-1037',\n",
       "       'SF-1043', 'SF-1045', 'SF-1054', 'SF-1056', 'SF-1057', 'SF-1058',\n",
       "       'SF-1059', 'SF-1060', 'SF-1065', 'SF-1066', 'SF-1068', 'SF-1071',\n",
       "       'SF-1072', 'SF-1075', 'SF-1079', 'SF-1080', 'SF-1081', 'SF-1082',\n",
       "       'SF-1087', 'SF-1088', 'SF-1089', 'SF-1091', 'SF-1092', 'SF-1093',\n",
       "       'SF-1094', 'SF-1095', 'SF-1096', 'SF-1100', 'SF-1101', 'SF-1105',\n",
       "       'SF-1108', 'SF-1110', 'SF-1111', 'SF-1113', 'SF-1117', 'SF-1119',\n",
       "       'SF-1120', 'SF-1123', 'SF-1124', 'SF-1125', 'SF-1126', 'SF-1131',\n",
       "       'SF-1132', 'SF-1133', 'SF-1134', 'SF-1135', 'SF-1137', 'SF-1138',\n",
       "       'SF-1144', 'SF-1145', 'SF-1146', 'SF-1148', 'SF-1149', 'SF-1150',\n",
       "       'SF-1152', 'SF-1153', 'SF-1154', 'SF-1155', 'SF-1156', 'SF-1157',\n",
       "       'SF-1158', 'SF-1161', 'SF-1163', 'SF-1164', 'SF-1165', 'SF-1166',\n",
       "       'SF-1170', 'SF-1175', 'SF-1176', 'SF-1178', 'SF-1179', 'SF-1180',\n",
       "       'SF-1182', 'SF-1183', 'SF-1184', 'SF-1186', 'SF-1187', 'SF-1190',\n",
       "       'SF-1191', 'SF-1193', 'SF-1194', 'SF-1196', 'SF-1197', 'SF-1198',\n",
       "       'SF-1200', 'SF-1201', 'SF-1203', 'SF-1204', 'SF-1205', 'SF-1206',\n",
       "       'SF-1207', 'SF-1208', 'SF-1214', 'SF-1219', 'SF-1221', 'SF-1223',\n",
       "       'SF-1226', 'SF-1229', 'SF-1233', 'SF-1234', 'SF-1235', 'SF-1240',\n",
       "       'SF-1241', 'SF-1245', 'SF-1246', 'SF-1250', 'SF-1252', 'SF-1255',\n",
       "       'SF-1257', 'SF-1259', 'SF-1262', 'SF-1265', 'SF-1270', 'SF-1273',\n",
       "       'SF-1275', 'SF-1276', 'SF-1277', 'SF-1281', 'SF-1282', 'SF-1284',\n",
       "       'SF-1285', 'SF-1287', 'SF-1288', 'SF-1289', 'SF-1290', 'SF-1292',\n",
       "       'SF-1294', 'SF-1296', 'SF-1300', 'SF-1305', 'SF-1306', 'SF-1308',\n",
       "       'SF-1310', 'SF-1311', 'SF-1314', 'SF-1318', 'SF-1319', 'SF-1320',\n",
       "       'SF-1322', 'SF-1324', 'SF-1325', 'SF-1326', 'SF-1328', 'SF-1332',\n",
       "       'SF-1333', 'SF-1335', 'SF-1337', 'SF-1340', 'SF-1342', 'SF-1343',\n",
       "       'SF-1345'], dtype='<U7')"
      ]
     },
     "execution_count": 281,
     "metadata": {},
     "output_type": "execute_result"
    }
   ],
   "source": [
    "ids"
   ]
  },
  {
   "cell_type": "code",
   "execution_count": 441,
   "metadata": {},
   "outputs": [
    {
     "name": "stdout",
     "output_type": "stream",
     "text": [
      "WAIS_PSI_SumOfScaled_6mo\n",
      "WAIS_PSI_Composite_6mo\n",
      "WAIS_PSI_Percentile_6mo\n",
      "WAISSumOfScaledScores_12mo\n",
      "WAIS_PSI_12mo\n",
      "WAISPSIPercentileRank_12mo\n"
     ]
    }
   ],
   "source": [
    "for ii,c in enumerate(fulldata.columns):\n",
    "    if 'WAIS' in c:\n",
    "        print(c)\n",
    "        "
   ]
  },
  {
   "cell_type": "code",
   "execution_count": 437,
   "metadata": {},
   "outputs": [
    {
     "data": {
      "text/plain": [
       "BR-1001    NaN\n",
       "BR-1003    NaN\n",
       "BR-1004     No\n",
       "BR-1006    NaN\n",
       "BR-1007    NaN\n",
       "BR-1008     No\n",
       "BR-1009    NaN\n",
       "BR-1010    NaN\n",
       "BR-1011    NaN\n",
       "BR-1012    NaN\n",
       "BR-1013     No\n",
       "BR-1014    NaN\n",
       "BR-1015     No\n",
       "BR-1016     No\n",
       "BR-1017    NaN\n",
       "BR-1018    NaN\n",
       "BR-1019    NaN\n",
       "BR-1020    NaN\n",
       "BR-1021    NaN\n",
       "BR-1023    NaN\n",
       "BR-1024    Yes\n",
       "BR-1025     No\n",
       "BR-1026    NaN\n",
       "BR-1027    NaN\n",
       "BR-1028    NaN\n",
       "BR-1029    Yes\n",
       "BR-1030    NaN\n",
       "BR-1031     No\n",
       "BR-1032     No\n",
       "BR-1033    NaN\n",
       "          ... \n",
       "SF-1315    Yes\n",
       "SF-1316    NaN\n",
       "SF-1318     No\n",
       "SF-1319     No\n",
       "SF-1320     No\n",
       "SF-1321    NaN\n",
       "SF-1322     No\n",
       "SF-1323    NaN\n",
       "SF-1324     No\n",
       "SF-1325    Yes\n",
       "SF-1326     No\n",
       "SF-1327    NaN\n",
       "SF-1328     No\n",
       "SF-1329    Yes\n",
       "SF-1330    NaN\n",
       "SF-1332    Yes\n",
       "SF-1333    Yes\n",
       "SF-1334    NaN\n",
       "SF-1335     No\n",
       "SF-1336    NaN\n",
       "SF-1337    Yes\n",
       "SF-1338    NaN\n",
       "SF-1339    NaN\n",
       "SF-1340     No\n",
       "SF-1341    NaN\n",
       "SF-1342    Yes\n",
       "SF-1343     No\n",
       "SF-1344    NaN\n",
       "SF-1345     No\n",
       "SF-1346    NaN\n",
       "Name: PTSD_6mo, Length: 586, dtype: object"
      ]
     },
     "execution_count": 437,
     "metadata": {},
     "output_type": "execute_result"
    }
   ],
   "source": [
    "fulldata.PTSD_6mo"
   ]
  },
  {
   "cell_type": "code",
   "execution_count": 445,
   "metadata": {},
   "outputs": [
    {
     "name": "stdout",
     "output_type": "stream",
     "text": [
      "CVLTTrial1RawScore_6mo 144\n",
      "CVLTTrial1StandardScore_6mo 145\n",
      "CVLTTrial2RawScore_6mo 146\n",
      "CVLTTrial2StandardScore_6mo 147\n",
      "CVLTTrial3RawScore_6mo 148\n",
      "CVLTTrial3StandardScore_6mo 149\n",
      "CVLTTrial4RawScore_6mo 150\n",
      "CVLTTrial4StandardScore_6mo 151\n",
      "CVLTTrial5RawScore_6mo 152\n",
      "CVLTTrial5StandardScore_6mo 153\n",
      "CVLTTrial1To5RawScore_6mo 154\n",
      "CVLTTrial1To5StandardScore_6mo 155\n",
      "CVLTTrialBRawScore_6mo 156\n",
      "CVLTTrialBStandardScore_6mo 157\n",
      "CVLTShortDelayFreeRecallRawScore_6mo 158\n",
      "CVLTShortDelayFreeRecallStandardScore_6mo 159\n",
      "CVLTShortDelayCuedRecallRawScore_6mo 160\n",
      "CVLTShortDelayCuedRecallStandardScore_6mo 161\n",
      "CVLTLongDelayFreeRecallRawScore_6mo 162\n",
      "CVLTLongDelayFreeRecallStandardScore_6mo 163\n",
      "CVLTLongDelayCuedRecallRawScore_6mo 164\n",
      "CVLTLongDelayCuedRecallStandardScore_6mo 165\n",
      "CVLTFreeRecallIntrusionsRaw_6mo 166\n",
      "CVLTFreeRecallIntrusionsStandard_6mo 167\n",
      "CVLTCuedRecallIntrusionsStandard_6mo 168\n",
      "CVLTTotalIntrusionsRaw_6mo 169\n",
      "CVLTTotalIntrusionsStandard_6mo 170\n",
      "CVLTTotalRepetitionsRaw_6mo 171\n",
      "CVLTTotalRepetitionsStandard_6mo 172\n",
      "CVLTTotalRecognitionHitsRawScore_6mo 173\n",
      "CVLTTotalRecognitionHitsStandardScore_6mo 174\n",
      "CVLTTotalRecognitionDiscriminabilityRawScore_6mo 175\n",
      "CVLTTotalRecognitionDiscriminabilityStandardScore_6mo 176\n"
     ]
    }
   ],
   "source": [
    "for ii,c in enumerate(oc_features):\n",
    "    if 'CVLT' in c:\n",
    "        print(c,ii)"
   ]
  },
  {
   "cell_type": "code",
   "execution_count": 408,
   "metadata": {},
   "outputs": [],
   "source": [
    "# Counter(subdata_oc[:,113])"
   ]
  },
  {
   "cell_type": "code",
   "execution_count": 474,
   "metadata": {},
   "outputs": [
    {
     "name": "stdout",
     "output_type": "stream",
     "text": [
      "3.0 [array([-1. , -1. , -1.5, -2. ])]\n",
      "4.0 [array([-1. , -3.5, -2. ])]\n",
      "5.0 [array([ 0.5, -1. , -1.5,  0.5, -1. ,  0.5,  0. , -1. ,  1.5, -1. , -1.5,\n",
      "        0.5,  1. ,  1. ,  0.5, -1. ,  0. , -1.5,  0.5,  0.5,  1.5,  0.5,\n",
      "       -0.5, -0.5,  0. , -0.5,  0. ,  1. , -1.5,  1. , -1. ,  1. ,  1.5,\n",
      "       -2. ])]\n",
      "6.0 [array([-2. ,  0.5, -0.5, -1.5, -1.5, -0.5, -0.5,  1.5,  0.5, -1.5,  1. ,\n",
      "        0.5, -1. , -1. , -1.5,  0.5, -0.5, -0.5,  1.5,  1. ,  1. ,  0.5,\n",
      "       -1. ,  1. ,  0.5, -0.5, -3.5, -0.5,  1. ,  0.5,  1. ,  1.5,  1. ,\n",
      "        1. ,  1.5,  1. ,  1. ,  0. ,  0. , -0.5,  1. ,  0. ,  1. ,  1. ,\n",
      "        1. , -1. ,  1. ])]\n",
      "7.0 [array([ 0.5,  1.5,  1. , -1. ,  1. ,  0.5,  0. , -1.5,  1. , -1. ,  1. ,\n",
      "        0. ,  0. ,  1. , -1.5, -1.5,  0. , -1. ,  0. , -1. ,  0.5, -2.5,\n",
      "        0.5,  0.5,  1. ,  1. , -0.5, -0.5,  0. ,  0. ,  1.5, -1. , -1. ,\n",
      "        0. ,  1. ,  0. , -1. ,  1. ,  1.5, -2.5,  0. ,  0. ,  1. ,  1. ,\n",
      "        0. ,  1. ,  0. ,  1. ,  0.5, -1. ,  0. ,  1. ,  1. ,  1. ,  1. ,\n",
      "       -2.5,  0.5,  1. ,  0.5,  0.5,  1. ,  1. , -0.5, -1.5, -0.5,  0. ,\n",
      "        1. , -0.5,  1. , -1. ,  0. , -1. , -1. ,  0.5,  0.5,  0.5,  1. ,\n",
      "       -1. ,  1. ])]\n",
      "8.0 [array([ 0.5,  1. ,  0.5,  0.5, -0.5, -1.5,  0. , -0.5,  0. ,  1. ,  0.5,\n",
      "       -1. , -0.5,  1. ,  0.5, -1.5, -1.5,  0. ,  0.5,  1. , -0.5, -1. ,\n",
      "       -1.5, -1. ,  0. , -0.5,  0. , -0.5,  1. ,  1.5,  0.5,  0.5, -1. ,\n",
      "       -1.5,  0. ,  0. ,  1. , -1. ,  0. ,  0. ,  0. ,  1.5,  0.5,  0.5,\n",
      "        1. ,  1. ,  1. , -0.5,  1. ,  1. , -1. ,  1. ,  2. ,  0.5,  1.5,\n",
      "        1.5,  1. , -0.5,  1. ,  1.5,  1.5, -0.5,  0. ,  0.5,  0.5,  0. ,\n",
      "        1. ,  1. ,  1. ,  0. ,  1.5,  0.5,  1. ,  1. ,  0.5,  0.5,  2. ,\n",
      "        1. ,  0.5,  1.5])]\n"
     ]
    }
   ],
   "source": [
    "scores = [3.0, 4.0, 5.0, 6.0, 7.0, 8.0]\n",
    "for i in scores: \n",
    "    idx = np.where(subdata_oc[:,32]==i)\n",
    "    print(i,[subdata_oc[:,176][i] for i in idx])\n"
   ]
  },
  {
   "cell_type": "code",
   "execution_count": 388,
   "metadata": {},
   "outputs": [
    {
     "data": {
      "text/plain": [
       "([array([2., 2., 0., 3.])],\n",
       " [array([3., 0., 3., 3., 3., 3., 0., 0., 3., 3., 3., 0., 3., 3., 3., 2., 3.,\n",
       "         3., 2., 3., 3., 3., 3., 3., 3., 3., 3., 3., 3., 3., 3., 0., 3., 3.,\n",
       "         3., 3., 3., 1., 3., 3., 0., 3., 3., 3., 3., 3., 3., 3., 3., 3., 3.,\n",
       "         3., 3., 3., 3., 3., 3., 3., 3., 3., 0., 1., 3., 3., 3., 3., 3., 3.,\n",
       "         3., 3., 3., 3., 2., 3., 3., 0., 3., 3., 3., 3.])])"
      ]
     },
     "execution_count": 388,
     "metadata": {},
     "output_type": "execute_result"
    }
   ],
   "source": [
    "[subdata_oc[:,100][i] for i in idx3], [subdata_oc[:,100][i] for i in idx8]"
   ]
  },
  {
   "cell_type": "code",
   "execution_count": 263,
   "metadata": {},
   "outputs": [
    {
     "data": {
      "text/plain": [
       "array(['GOSE_NeedAssistance3M', 'GOSE_WorkResume3M',\n",
       "       'GOSE_DisruptRelation3M', 'GOSE_OtherIssues3M',\n",
       "       'GOSE_OverallScore3M', 'NeuroPhysHeadache3mo',\n",
       "       'NeuroPhysBalanceProbl3mo', 'NeuroPhysDizziness3mo',\n",
       "       'NeuroPhysVisualProbl3mo', 'NeuroPhysFatigue3mo',\n",
       "       'NeuroPhysLightSensitivity3mo', 'NeuroPhysNoiseSensitivity3mo',\n",
       "       'NeuroPhysNumbnessTingling3mo', 'NeuroSleepDrowsiness3mo',\n",
       "       'NeuroSleepSleepingLess3mo', 'NeuroSleepSleepingMore3mo',\n",
       "       'NeuroSleepTroubleFallingAsleep3mo', 'NeuroCognitiveFoggy3mo',\n",
       "       'NeuroCognitiveSlowedDown3mo',\n",
       "       'NeuroCognitiveDiffConcentrating3mo',\n",
       "       'NeuroCognitiveDiffRemembering3mo',\n",
       "       'NeuroEmotionalMoreEmotional3mo', 'NeuroEmotionalNervousness3mo',\n",
       "       'NeuroOverallRating3mo', 'GOSE_Reponder6M_Patient.alone',\n",
       "       'GOSE_Reponder6M_Patient.plus.relative', 'GOSE_NeedAssistance6M',\n",
       "       'GOSE_Travel6M', 'GOSE_SocialResume6M', 'GOSE_OtherIssues6M',\n",
       "       'GOSE_Epilepsy6M', 'GOSE_EpilepsyRisk6M', 'GOSE_OverallScore6M',\n",
       "       'NeuroPhysHeadache6mo', 'NeuroPhysNausea6mo',\n",
       "       'NeuroPhysVomiting6mo', 'NeuroPhysBalanceProbl6mo',\n",
       "       'NeuroPhysDizziness6mo', 'NeuroPhysVisualProbl6mo',\n",
       "       'NeuroPhysFatigue6mo', 'NeuroPhysLightSensitivity6mo',\n",
       "       'NeuroPhysNoiseSensitivity6mo', 'NeuroSleepDrowsiness6mo',\n",
       "       'NeuroSleepSleepingLess6mo', 'NeuroSleepSleepingMore6mo',\n",
       "       'NeuroSleepTroubleFallingAsleep6mo', 'NeuroCognitiveFoggy6mo',\n",
       "       'NeuroCognitiveSlowedDown6mo',\n",
       "       'NeuroCognitiveDiffConcentrating6mo',\n",
       "       'NeuroCognitiveDiffRemembering6mo',\n",
       "       'NeuroEmotionalIrritability6mo', 'NeuroEmotionalSadness6mo',\n",
       "       'NeuroEmotionalMoreEmotional6mo', 'NeuroEmotionalNervousness6mo',\n",
       "       'NeuroWorsenPhysActivity6mo', 'NeuroWorsenCognitiveActivity6mo',\n",
       "       'NeuroOverallRating6mo', 'BSI18SomT_6mo', 'BSI18DeprT_6mo',\n",
       "       'BSI18AnxT_6mo', 'BSI18GSIT_6mo', 'RPQHeadaches_6mo',\n",
       "       'RPQDizziness_6mo', 'RPQNausea_6mo', 'RPQNoiseSensitivity_6mo',\n",
       "       'RPQSleepDisturbance_6mo', 'RPQFatigue_6mo', 'RPQIrritable_6mo',\n",
       "       'RPQDepressed_6mo', 'RPQFrustrated_6mo', 'RPQForgetful_6mo',\n",
       "       'RPQPoorConcentration_6mo', 'RPQLongerToThink_6mo',\n",
       "       'RPQBlurredVision_6mo', 'RPQLightSensitivity_6mo',\n",
       "       'RPQDoubleVision_6mo', 'RPQRestless_6mo', 'RPQHeadaches_6mo_R',\n",
       "       'RPQDizziness_6mo_R', 'RPQNausea_6mo_R',\n",
       "       'RPQNoiseSensitivity_6mo_R', 'RPQSleepDisturbance_6mo_R',\n",
       "       'RPQFatigue_6mo_R', 'RPQIrritable_6mo_R', 'RPQDepressed_6mo_R',\n",
       "       'RPQFrustrated_6mo_R', 'RPQForgetful_6mo_R',\n",
       "       'RPQPoorConcentration_6mo_R', 'RPQLongerToThink_6mo_R',\n",
       "       'RPQBlurredVision_6mo_R', 'RPQLightSensitivity_6mo_R',\n",
       "       'RPQDoubleVision_6mo_R', 'RPQRestless_6mo_R', 'RPQ3_6mo_R',\n",
       "       'RPQ13_6mo_R', 'CHARTSFAssistUnpaidHours_6mo',\n",
       "       'CHARTSFInHomeAssistTime_6mo', 'CHARTSFOutHomeAssistTime_6mo',\n",
       "       'CHARTSFOutOfBedHours_6mo', 'CHARTSFOutOfHouseDays_6mo',\n",
       "       'CHARTSFAwayFromHomeNights_6mo', 'CHARTSFStudyHours_6mo',\n",
       "       'CHARTSFHomemakingHours_6mo', 'CHARTSFMaintenanceHours_6mo',\n",
       "       'CHARTSFLiveWith_6mo', 'CHARTSFContactAssociates_6mo',\n",
       "       'CHARTSFContactFriends_6mo', 'CHARTSFContactStrangers_6mo',\n",
       "       'CHARTSFPhysicalTotal_6mo', 'CHARTSFCognitiveTotal_6mo',\n",
       "       'CHARTSFMobilityTotal_6mo', 'CHARTSFOccupationTotal_6mo',\n",
       "       'CHARTSFSocialIntegrationTotal_6mo', 'TMTPartATime_6mo',\n",
       "       'TMTPartAErrors_6mo', 'TMTPartBTime_6mo', 'TMTPartBErrors_6mo',\n",
       "       'TMTBminusA_6mo', 'TMTBdividedbyA_6mo', 'PCLImages_6mo',\n",
       "       'PCLDreams_6mo', 'PCLFeeling_6mo', 'PCLVeryUpset_6mo',\n",
       "       'PCLPhysicalReactions_6mo', 'PCLThinking_6mo', 'PCLActivities_6mo',\n",
       "       'PCLRemembering_6mo', 'PCLLossOfInterest_6mo', 'PCLDistant_6mo',\n",
       "       'PCLEmotionallyNumb_6mo', 'PCLFuture_6mo', 'PCLAsleep_6mo',\n",
       "       'PCLIrritable_6mo', 'PCLConcentrating_6mo', 'PCLSuperAlert_6mo',\n",
       "       'PCLJumpy_6mo', 'PTSD_Reexperience_Sum_6mo',\n",
       "       'PTSD_Avoidance_Sum_6mo', 'PTSD_Hypervigilance_Sum_6mo',\n",
       "       'PTSD_6mo', 'PCLTotalScore_6mo', 'WAIS_PSI_SumOfScaled_6mo',\n",
       "       'WAIS_PSI_Composite_6mo', 'WAIS_PSI_Percentile_6mo',\n",
       "       'CVLTTrial1RawScore_6mo', 'CVLTTrial1StandardScore_6mo',\n",
       "       'CVLTTrial2RawScore_6mo', 'CVLTTrial2StandardScore_6mo',\n",
       "       'CVLTTrial3RawScore_6mo', 'CVLTTrial3StandardScore_6mo',\n",
       "       'CVLTTrial4RawScore_6mo', 'CVLTTrial4StandardScore_6mo',\n",
       "       'CVLTTrial5RawScore_6mo', 'CVLTTrial5StandardScore_6mo',\n",
       "       'CVLTTrial1To5RawScore_6mo', 'CVLTTrial1To5StandardScore_6mo',\n",
       "       'CVLTTrialBRawScore_6mo', 'CVLTTrialBStandardScore_6mo',\n",
       "       'CVLTShortDelayFreeRecallRawScore_6mo',\n",
       "       'CVLTShortDelayFreeRecallStandardScore_6mo',\n",
       "       'CVLTShortDelayCuedRecallRawScore_6mo',\n",
       "       'CVLTShortDelayCuedRecallStandardScore_6mo',\n",
       "       'CVLTLongDelayFreeRecallRawScore_6mo',\n",
       "       'CVLTLongDelayFreeRecallStandardScore_6mo',\n",
       "       'CVLTLongDelayCuedRecallRawScore_6mo',\n",
       "       'CVLTLongDelayCuedRecallStandardScore_6mo',\n",
       "       'CVLTFreeRecallIntrusionsRaw_6mo',\n",
       "       'CVLTFreeRecallIntrusionsStandard_6mo',\n",
       "       'CVLTCuedRecallIntrusionsStandard_6mo',\n",
       "       'CVLTTotalIntrusionsRaw_6mo', 'CVLTTotalIntrusionsStandard_6mo',\n",
       "       'CVLTTotalRepetitionsRaw_6mo', 'CVLTTotalRepetitionsStandard_6mo',\n",
       "       'CVLTTotalRecognitionHitsRawScore_6mo',\n",
       "       'CVLTTotalRecognitionHitsStandardScore_6mo',\n",
       "       'CVLTTotalRecognitionDiscriminabilityRawScore_6mo',\n",
       "       'CVLTTotalRecognitionDiscriminabilityStandardScore_6mo'],\n",
       "      dtype='<U53')"
      ]
     },
     "execution_count": 263,
     "metadata": {},
     "output_type": "execute_result"
    }
   ],
   "source": [
    "oc_features"
   ]
  },
  {
   "cell_type": "code",
   "execution_count": 147,
   "metadata": {},
   "outputs": [
    {
     "data": {
      "text/plain": [
       "389"
      ]
     },
     "execution_count": 147,
     "metadata": {},
     "output_type": "execute_result"
    }
   ],
   "source": [
    "len(keep_cols)"
   ]
  },
  {
   "cell_type": "code",
   "execution_count": 143,
   "metadata": {},
   "outputs": [],
   "source": [
    "bm_diff = sorted(list(set(bm_features).difference(keep_bm)))"
   ]
  },
  {
   "cell_type": "code",
   "execution_count": 144,
   "metadata": {},
   "outputs": [
    {
     "data": {
      "text/plain": [
       "['DispER_Discharge.Home',\n",
       " 'DispER_ICU.Admit',\n",
       " 'DispER_Operating.Room',\n",
       " 'DispER_Stepdown.Admit',\n",
       " 'DispER_Ward Admit',\n",
       " 'PatientTypeCoded_ED.Discharge',\n",
       " 'PatientTypeCoded_ICU.Admit',\n",
       " 'PatientTypeCoded_Ward.Admit',\n",
       " 'PresArrivalMethod_Ambulance',\n",
       " 'PresArrivalMethod_Helicopter',\n",
       " 'PresArrivalMethod_Walk.in',\n",
       " 'RACE_3CAT_Black',\n",
       " 'RACE_3CAT_Other',\n",
       " 'RACE_3CAT_White',\n",
       " 'cause_Assault',\n",
       " 'cause_Fall',\n",
       " 'cause_MV.car.',\n",
       " 'cause_MV.cyclist.ped.',\n",
       " 'cause_MV.motorcycle.',\n",
       " 'cause_Other',\n",
       " 'cause_Struck.By',\n",
       " 'injurytype_Closed',\n",
       " 'injurytype_Penetrating']"
      ]
     },
     "execution_count": 144,
     "metadata": {},
     "output_type": "execute_result"
    }
   ],
   "source": [
    "bm_diff"
   ]
  },
  {
   "cell_type": "code",
   "execution_count": 184,
   "metadata": {},
   "outputs": [
    {
     "name": "stdout",
     "output_type": "stream",
     "text": [
      "RACE_3CAT\n"
     ]
    }
   ],
   "source": [
    "for c in fulldata.columns:\n",
    "    if 'RACE' in c:\n",
    "        print(c)"
   ]
  },
  {
   "cell_type": "code",
   "execution_count": 187,
   "metadata": {},
   "outputs": [
    {
     "data": {
      "text/plain": [
       "Counter({'Closed': 578, 'Blast': 1, 'Penetrating': 5, nan: 2})"
      ]
     },
     "execution_count": 187,
     "metadata": {},
     "output_type": "execute_result"
    }
   ],
   "source": [
    "Counter(fulldata.injurytype)"
   ]
  },
  {
   "cell_type": "code",
   "execution_count": 188,
   "metadata": {},
   "outputs": [
    {
     "data": {
      "text/plain": [
       "BR-1043         Closed\n",
       "BR-1078         Closed\n",
       "PI-1014         Closed\n",
       "PI-1020         Closed\n",
       "PI-1046         Closed\n",
       "PI-1051         Closed\n",
       "PI-1052         Closed\n",
       "PI-1053         Closed\n",
       "PI-1061         Closed\n",
       "PI-1065         Closed\n",
       "PI-1091         Closed\n",
       "PI-1098         Closed\n",
       "PI-1113         Closed\n",
       "PI-1131         Closed\n",
       "PI-1137         Closed\n",
       "PI-1145         Closed\n",
       "PI-1161         Closed\n",
       "PI-1175         Closed\n",
       "SF-1009         Closed\n",
       "SF-1073         Closed\n",
       "SF-1118         Closed\n",
       "SF-1129    Penetrating\n",
       "SF-1130         Closed\n",
       "SF-1162         Closed\n",
       "SF-1168         Closed\n",
       "SF-1211         Closed\n",
       "SF-1267         Closed\n",
       "SF-1271         Closed\n",
       "SF-1316         Closed\n",
       "Name: injurytype, dtype: object"
      ]
     },
     "execution_count": 188,
     "metadata": {},
     "output_type": "execute_result"
    }
   ],
   "source": [
    "gose12.injurytype"
   ]
  },
  {
   "cell_type": "code",
   "execution_count": 190,
   "metadata": {},
   "outputs": [
    {
     "data": {
      "text/plain": [
       "(array([21]),)"
      ]
     },
     "execution_count": 190,
     "metadata": {},
     "output_type": "execute_result"
    }
   ],
   "source": [
    "np.where(gose12.injurytype == 'Penetrating')"
   ]
  },
  {
   "cell_type": "code",
   "execution_count": 191,
   "metadata": {},
   "outputs": [
    {
     "name": "stderr",
     "output_type": "stream",
     "text": [
      "/Users/ahyeon/anaconda3/envs/activ/lib/python3.7/site-packages/ipykernel_launcher.py:3: SettingWithCopyWarning: \n",
      "A value is trying to be set on a copy of a slice from a DataFrame.\n",
      "Try using .loc[row_indexer,col_indexer] = value instead\n",
      "\n",
      "See the caveats in the documentation: http://pandas.pydata.org/pandas-docs/stable/indexing.html#indexing-view-versus-copy\n",
      "  This is separate from the ipykernel package so we can avoid doing imports until\n",
      "/Users/ahyeon/anaconda3/envs/activ/lib/python3.7/site-packages/ipykernel_launcher.py:4: SettingWithCopyWarning: \n",
      "A value is trying to be set on a copy of a slice from a DataFrame.\n",
      "Try using .loc[row_indexer,col_indexer] = value instead\n",
      "\n",
      "See the caveats in the documentation: http://pandas.pydata.org/pandas-docs/stable/indexing.html#indexing-view-versus-copy\n",
      "  after removing the cwd from sys.path.\n",
      "/Users/ahyeon/anaconda3/envs/activ/lib/python3.7/site-packages/ipykernel_launcher.py:5: SettingWithCopyWarning: \n",
      "A value is trying to be set on a copy of a slice from a DataFrame.\n",
      "Try using .loc[row_indexer,col_indexer] = value instead\n",
      "\n",
      "See the caveats in the documentation: http://pandas.pydata.org/pandas-docs/stable/indexing.html#indexing-view-versus-copy\n",
      "  \"\"\"\n",
      "/Users/ahyeon/anaconda3/envs/activ/lib/python3.7/site-packages/ipykernel_launcher.py:6: SettingWithCopyWarning: \n",
      "A value is trying to be set on a copy of a slice from a DataFrame.\n",
      "Try using .loc[row_indexer,col_indexer] = value instead\n",
      "\n",
      "See the caveats in the documentation: http://pandas.pydata.org/pandas-docs/stable/indexing.html#indexing-view-versus-copy\n",
      "  \n",
      "/Users/ahyeon/anaconda3/envs/activ/lib/python3.7/site-packages/ipykernel_launcher.py:7: SettingWithCopyWarning: \n",
      "A value is trying to be set on a copy of a slice from a DataFrame.\n",
      "Try using .loc[row_indexer,col_indexer] = value instead\n",
      "\n",
      "See the caveats in the documentation: http://pandas.pydata.org/pandas-docs/stable/indexing.html#indexing-view-versus-copy\n",
      "  import sys\n",
      "/Users/ahyeon/anaconda3/envs/activ/lib/python3.7/site-packages/ipykernel_launcher.py:8: SettingWithCopyWarning: \n",
      "A value is trying to be set on a copy of a slice from a DataFrame.\n",
      "Try using .loc[row_indexer,col_indexer] = value instead\n",
      "\n",
      "See the caveats in the documentation: http://pandas.pydata.org/pandas-docs/stable/indexing.html#indexing-view-versus-copy\n",
      "  \n",
      "/Users/ahyeon/anaconda3/envs/activ/lib/python3.7/site-packages/ipykernel_launcher.py:9: SettingWithCopyWarning: \n",
      "A value is trying to be set on a copy of a slice from a DataFrame.\n",
      "Try using .loc[row_indexer,col_indexer] = value instead\n",
      "\n",
      "See the caveats in the documentation: http://pandas.pydata.org/pandas-docs/stable/indexing.html#indexing-view-versus-copy\n",
      "  if __name__ == '__main__':\n",
      "/Users/ahyeon/anaconda3/envs/activ/lib/python3.7/site-packages/ipykernel_launcher.py:10: SettingWithCopyWarning: \n",
      "A value is trying to be set on a copy of a slice from a DataFrame.\n",
      "Try using .loc[row_indexer,col_indexer] = value instead\n",
      "\n",
      "See the caveats in the documentation: http://pandas.pydata.org/pandas-docs/stable/indexing.html#indexing-view-versus-copy\n",
      "  # Remove the CWD from sys.path while we load stuff.\n",
      "/Users/ahyeon/anaconda3/envs/activ/lib/python3.7/site-packages/ipykernel_launcher.py:11: SettingWithCopyWarning: \n",
      "A value is trying to be set on a copy of a slice from a DataFrame.\n",
      "Try using .loc[row_indexer,col_indexer] = value instead\n",
      "\n",
      "See the caveats in the documentation: http://pandas.pydata.org/pandas-docs/stable/indexing.html#indexing-view-versus-copy\n",
      "  # This is added back by InteractiveShellApp.init_path()\n",
      "/Users/ahyeon/anaconda3/envs/activ/lib/python3.7/site-packages/ipykernel_launcher.py:12: SettingWithCopyWarning: \n",
      "A value is trying to be set on a copy of a slice from a DataFrame.\n",
      "Try using .loc[row_indexer,col_indexer] = value instead\n",
      "\n",
      "See the caveats in the documentation: http://pandas.pydata.org/pandas-docs/stable/indexing.html#indexing-view-versus-copy\n",
      "  if sys.path[0] == '':\n",
      "/Users/ahyeon/anaconda3/envs/activ/lib/python3.7/site-packages/ipykernel_launcher.py:13: SettingWithCopyWarning: \n",
      "A value is trying to be set on a copy of a slice from a DataFrame.\n",
      "Try using .loc[row_indexer,col_indexer] = value instead\n",
      "\n",
      "See the caveats in the documentation: http://pandas.pydata.org/pandas-docs/stable/indexing.html#indexing-view-versus-copy\n",
      "  del sys.path[0]\n",
      "/Users/ahyeon/anaconda3/envs/activ/lib/python3.7/site-packages/ipykernel_launcher.py:14: SettingWithCopyWarning: \n",
      "A value is trying to be set on a copy of a slice from a DataFrame.\n",
      "Try using .loc[row_indexer,col_indexer] = value instead\n",
      "\n",
      "See the caveats in the documentation: http://pandas.pydata.org/pandas-docs/stable/indexing.html#indexing-view-versus-copy\n",
      "  \n",
      "/Users/ahyeon/anaconda3/envs/activ/lib/python3.7/site-packages/ipykernel_launcher.py:15: SettingWithCopyWarning: \n",
      "A value is trying to be set on a copy of a slice from a DataFrame.\n",
      "Try using .loc[row_indexer,col_indexer] = value instead\n",
      "\n",
      "See the caveats in the documentation: http://pandas.pydata.org/pandas-docs/stable/indexing.html#indexing-view-versus-copy\n",
      "  from ipykernel import kernelapp as app\n",
      "/Users/ahyeon/anaconda3/envs/activ/lib/python3.7/site-packages/ipykernel_launcher.py:16: SettingWithCopyWarning: \n",
      "A value is trying to be set on a copy of a slice from a DataFrame.\n",
      "Try using .loc[row_indexer,col_indexer] = value instead\n",
      "\n",
      "See the caveats in the documentation: http://pandas.pydata.org/pandas-docs/stable/indexing.html#indexing-view-versus-copy\n",
      "  app.launch_new_instance()\n",
      "/Users/ahyeon/anaconda3/envs/activ/lib/python3.7/site-packages/ipykernel_launcher.py:17: SettingWithCopyWarning: \n",
      "A value is trying to be set on a copy of a slice from a DataFrame.\n",
      "Try using .loc[row_indexer,col_indexer] = value instead\n",
      "\n",
      "See the caveats in the documentation: http://pandas.pydata.org/pandas-docs/stable/indexing.html#indexing-view-versus-copy\n",
      "/Users/ahyeon/anaconda3/envs/activ/lib/python3.7/site-packages/ipykernel_launcher.py:18: SettingWithCopyWarning: \n",
      "A value is trying to be set on a copy of a slice from a DataFrame.\n",
      "Try using .loc[row_indexer,col_indexer] = value instead\n",
      "\n",
      "See the caveats in the documentation: http://pandas.pydata.org/pandas-docs/stable/indexing.html#indexing-view-versus-copy\n",
      "/Users/ahyeon/anaconda3/envs/activ/lib/python3.7/site-packages/ipykernel_launcher.py:19: SettingWithCopyWarning: \n",
      "A value is trying to be set on a copy of a slice from a DataFrame.\n",
      "Try using .loc[row_indexer,col_indexer] = value instead\n",
      "\n",
      "See the caveats in the documentation: http://pandas.pydata.org/pandas-docs/stable/indexing.html#indexing-view-versus-copy\n",
      "/Users/ahyeon/anaconda3/envs/activ/lib/python3.7/site-packages/ipykernel_launcher.py:20: SettingWithCopyWarning: \n",
      "A value is trying to be set on a copy of a slice from a DataFrame.\n",
      "Try using .loc[row_indexer,col_indexer] = value instead\n",
      "\n",
      "See the caveats in the documentation: http://pandas.pydata.org/pandas-docs/stable/indexing.html#indexing-view-versus-copy\n",
      "/Users/ahyeon/anaconda3/envs/activ/lib/python3.7/site-packages/ipykernel_launcher.py:21: SettingWithCopyWarning: \n",
      "A value is trying to be set on a copy of a slice from a DataFrame.\n",
      "Try using .loc[row_indexer,col_indexer] = value instead\n",
      "\n",
      "See the caveats in the documentation: http://pandas.pydata.org/pandas-docs/stable/indexing.html#indexing-view-versus-copy\n",
      "/Users/ahyeon/anaconda3/envs/activ/lib/python3.7/site-packages/ipykernel_launcher.py:22: SettingWithCopyWarning: \n",
      "A value is trying to be set on a copy of a slice from a DataFrame.\n",
      "Try using .loc[row_indexer,col_indexer] = value instead\n",
      "\n",
      "See the caveats in the documentation: http://pandas.pydata.org/pandas-docs/stable/indexing.html#indexing-view-versus-copy\n",
      "/Users/ahyeon/anaconda3/envs/activ/lib/python3.7/site-packages/ipykernel_launcher.py:23: SettingWithCopyWarning: \n",
      "A value is trying to be set on a copy of a slice from a DataFrame.\n",
      "Try using .loc[row_indexer,col_indexer] = value instead\n",
      "\n",
      "See the caveats in the documentation: http://pandas.pydata.org/pandas-docs/stable/indexing.html#indexing-view-versus-copy\n",
      "/Users/ahyeon/anaconda3/envs/activ/lib/python3.7/site-packages/ipykernel_launcher.py:24: SettingWithCopyWarning: \n",
      "A value is trying to be set on a copy of a slice from a DataFrame.\n",
      "Try using .loc[row_indexer,col_indexer] = value instead\n",
      "\n",
      "See the caveats in the documentation: http://pandas.pydata.org/pandas-docs/stable/indexing.html#indexing-view-versus-copy\n",
      "/Users/ahyeon/anaconda3/envs/activ/lib/python3.7/site-packages/ipykernel_launcher.py:25: SettingWithCopyWarning: \n",
      "A value is trying to be set on a copy of a slice from a DataFrame.\n",
      "Try using .loc[row_indexer,col_indexer] = value instead\n",
      "\n",
      "See the caveats in the documentation: http://pandas.pydata.org/pandas-docs/stable/indexing.html#indexing-view-versus-copy\n"
     ]
    }
   ],
   "source": [
    "# one-hot encoding bm\n",
    "\n",
    "gose12['cause_Assault'] = [0,0,0,0,0,0,1,0,0,0,0,1,0,0,0,0,0,0,0,0,0,0,0,1,0,1,0,0,0]\n",
    "gose12['cause_Fall'] = [1,1,1,1,0,1,1,0,1,1,0,1,0,1,1,1,1,1,1,0,1,1,1,1,0,0,0,1,0]\n",
    "gose12['cause_MV.car.'] = [0,0,0,0,1,0,0,0,0,0,0,0,0,0,0,0,0,0,0,1,0,0,0,0,0,0,0,0,1]\n",
    "gose12['cause_MV.cyclist.ped.'] = [0,0,0,0,0,0,0,0,0,0,1,0,0,0,0,0,0,0,0,0,0,0,0,0,0,1,0,0,0]\n",
    "gose12['cause_MV.motorcycle.'] = np.zeros(29)\n",
    "gose12['cause_Other'] = np.zeros(29)\n",
    "gose12['cause_Struck.By'] = np.zeros(29)\n",
    "gose12['DispER_Discharge.Home'] = [0,0,0,0,0,0,0,0,0,0,0,0,0,0,0,0,0,0,0,0,0,0,0,0,0,0,0,0,1]\n",
    "gose12['DispER_ICU.Admit'] = [0,1,0,1,1,0,1,0,1,1,1,1,0,1,0,0,1,1,0,1,1,1,0,1,0,0,0,0,0]\n",
    "gose12['DispER_Operating.Room'] = [0,0,1,0,0,1,0,1,0,0,0,0,1,0,1,1,0,0,0,0,0,0,1,0,0,0,0,0,0]\n",
    "gose12['DispER_Stepdown.Admit'] = [0,0,0,0,0,0,0,0,0,0,0,0,0,0,0,0,0,0,0,0,0,0,0,0,0,1,0,1,0]\n",
    "gose12['DispER_Ward Admit'] = [1,0,0,0,0,0,0,0,0,0,0,0,0,0,0,0,0,0,1,0,0,0,0,0,1,0,1,0,0]\n",
    "gose12['PatientTypeCoded_ED.Discharge'] = [0,0,0,0,0,0,0,0,0,0,0,0,0,0,0,0,0,0,0,0,0,0,0,0,0,0,0,0,1]\n",
    "gose12['PatientTypeCoded_ICU.Admit'] = [0,1,1,1,1,1,1,1,1,1,1,1,1,1,1,1,1,1,1,1,1,1,1,1,0,0,0,0,0]\n",
    "gose12['PatientTypeCoded_Ward.Admit'] = [1,0,0,0,0,0,0,0,0,0,0,0,0,0,0,0,0,0,0,0,0,0,0,0,1,1,1,1,0]\n",
    "gose12['PresArrivalMethod_Ambulance'] = [1,0,1,0,0,1,1,0,0,0,0,0,1,0,0,0,0,0,1,1,1,1,1,1,1,1,1,1,1]\n",
    "gose12['PresArrivalMethod_Helicopter'] = [0,1,0,1,1,0,0,1,1,1,1,1,0,1,1,1,1,1,0,0,0,0,0,0,0,0,0,0,0]\n",
    "gose12['PresArrivalMethod_Walk.in'] = np.zeros(29)\n",
    "gose12['RACE_3CAT_Black'] = np.zeros(29)\n",
    "gose12['RACE_3CAT_Other'] = np.zeros(29)\n",
    "gose12['RACE_3CAT_White'] = np.ones(29)\n",
    "gose12['injurytype_Closed'] = [1,1,1,1,1,1,1,1,1,1,1,1,1,1,1,1,1,1,1,1,1,0,1,1,1,1,1,1,1]\n",
    "gose12['injurytype_Penetrating'] = [0,0,0,0,0,0,0,0,0,0,0,0,0,0,0,0,0,0,0,0,0,1,0,0,0,0,0,0,0]\n"
   ]
  },
  {
   "cell_type": "code",
   "execution_count": 225,
   "metadata": {},
   "outputs": [],
   "source": [
    "keep_cols = np.asarray(list(set(sub_features).intersection(gose12.columns)))\n",
    "gose12_oc_features = np.asarray(list(set(keep_cols).intersection(oc_features)))\n",
    "gose12_bm_features = np.asarray(list(set(keep_cols).intersection(bm_features)))"
   ]
  },
  {
   "cell_type": "code",
   "execution_count": 226,
   "metadata": {},
   "outputs": [
    {
     "data": {
      "text/plain": [
       "(177, 235)"
      ]
     },
     "execution_count": 226,
     "metadata": {},
     "output_type": "execute_result"
    }
   ],
   "source": [
    "len(gose12_oc_features), len(gose12_bm_features)"
   ]
  },
  {
   "cell_type": "code",
   "execution_count": 204,
   "metadata": {},
   "outputs": [],
   "source": [
    "drop_cols = list(set(gose12.columns).difference(keep_cols))"
   ]
  },
  {
   "cell_type": "code",
   "execution_count": 208,
   "metadata": {},
   "outputs": [
    {
     "data": {
      "text/plain": [
       "(943,)"
      ]
     },
     "execution_count": 208,
     "metadata": {},
     "output_type": "execute_result"
    }
   ],
   "source": [
    "gose12.columns.shape"
   ]
  },
  {
   "cell_type": "code",
   "execution_count": 223,
   "metadata": {},
   "outputs": [],
   "source": [
    "gose12 = gose12.drop(columns = drop_cols)"
   ]
  },
  {
   "cell_type": "code",
   "execution_count": 228,
   "metadata": {},
   "outputs": [],
   "source": [
    "gose12.shape\n",
    "gose12_bm = gose12.drop(columns = gose12_oc_features)\n",
    "gose12_oc = gose12.drop(columns = gose12_bm_features)"
   ]
  },
  {
   "cell_type": "code",
   "execution_count": 229,
   "metadata": {},
   "outputs": [
    {
     "data": {
      "text/plain": [
       "((29, 235), (29, 177))"
      ]
     },
     "execution_count": 229,
     "metadata": {},
     "output_type": "execute_result"
    }
   ],
   "source": [
    "gose12_bm.shape, gose12_oc.shape"
   ]
  },
  {
   "cell_type": "code",
   "execution_count": 256,
   "metadata": {},
   "outputs": [],
   "source": [
    "pd.DataFrame(gose12_bm).to_csv(\"/Users/ahyeon/Desktop/activ misc/gose12_bm.csv\")"
   ]
  },
  {
   "cell_type": "code",
   "execution_count": 250,
   "metadata": {},
   "outputs": [],
   "source": [
    "gose12_bm_encode = encode_bm(gose12_bm)\n",
    "gose12_oc_encode = encode_oc(gose12_oc)"
   ]
  },
  {
   "cell_type": "code",
   "execution_count": 257,
   "metadata": {},
   "outputs": [],
   "source": [
    "pd.DataFrame(gose12_bm_encode).to_csv(\"/Users/ahyeon/Desktop/activ misc/gose12_bm_encode.csv\")"
   ]
  },
  {
   "cell_type": "code",
   "execution_count": 262,
   "metadata": {},
   "outputs": [],
   "source": [
    "pd.DataFrame(gose12_oc).to_csv(\"/Users/ahyeon/Desktop/activ misc/gose12_oc.csv\")\n",
    "pd.DataFrame(gose12_oc_encode).to_csv(\"/Users/ahyeon/Desktop/activ misc/gose12_oc_encode.csv\")"
   ]
  },
  {
   "cell_type": "code",
   "execution_count": 522,
   "metadata": {},
   "outputs": [],
   "source": [
    "gose12_oc_imputed = pd.read_csv('/Users/ahyeon/Desktop/activ misc/gose12_oc.csv')"
   ]
  },
  {
   "cell_type": "code",
   "execution_count": 523,
   "metadata": {},
   "outputs": [],
   "source": [
    "gose12_oc_imputed = encode_oc(gose12_oc_imputed)"
   ]
  },
  {
   "cell_type": "code",
   "execution_count": 532,
   "metadata": {},
   "outputs": [
    {
     "data": {
      "text/plain": [
       "79"
      ]
     },
     "execution_count": 532,
     "metadata": {},
     "output_type": "execute_result"
    }
   ],
   "source": [
    "np.isnan(gose12_bm_encode).sum().sum()"
   ]
  },
  {
   "cell_type": "code",
   "execution_count": 524,
   "metadata": {},
   "outputs": [],
   "source": [
    "new = np.asarray(gose12_oc_imputed)\n"
   ]
  },
  {
   "cell_type": "code",
   "execution_count": 566,
   "metadata": {},
   "outputs": [],
   "source": [
    "gose12_oc_plain = pd.read_csv('/Users/ahyeon/Desktop/activ misc/gose12_oc.csv')\n",
    "gose12_bm_plain = pd.read_csv('/Users/ahyeon/Desktop/activ misc/gose12_bm.csv')"
   ]
  },
  {
   "cell_type": "code",
   "execution_count": 569,
   "metadata": {},
   "outputs": [
    {
     "data": {
      "text/plain": [
       "(28, 236)"
      ]
     },
     "execution_count": 569,
     "metadata": {},
     "output_type": "execute_result"
    }
   ],
   "source": [
    "gose12_bm_plain.shape"
   ]
  },
  {
   "cell_type": "code",
   "execution_count": 564,
   "metadata": {},
   "outputs": [],
   "source": [
    "gose12_oc_plain = np.asarray(gose12_oc_plain)"
   ]
  },
  {
   "cell_type": "code",
   "execution_count": 560,
   "metadata": {},
   "outputs": [],
   "source": [
    "gose12_bm_plain = gose12_oc_plain[:,1:]"
   ]
  },
  {
   "cell_type": "code",
   "execution_count": 570,
   "metadata": {},
   "outputs": [],
   "source": [
    "gose12_bm_encode = encode_oc(gose12_bm_plain)"
   ]
  },
  {
   "cell_type": "code",
   "execution_count": 574,
   "metadata": {},
   "outputs": [],
   "source": [
    "gose12_bm_encode = np.asarray(gose12_bm_encode)"
   ]
  },
  {
   "cell_type": "code",
   "execution_count": 575,
   "metadata": {},
   "outputs": [],
   "source": [
    "gose12_bm_encode = gose12_bm_encode[:,1:]"
   ]
  },
  {
   "cell_type": "code",
   "execution_count": 578,
   "metadata": {},
   "outputs": [
    {
     "data": {
      "text/plain": [
       "0"
      ]
     },
     "execution_count": 578,
     "metadata": {},
     "output_type": "execute_result"
    }
   ],
   "source": [
    "gose12_bm_encode"
   ]
  },
  {
   "cell_type": "code",
   "execution_count": 579,
   "metadata": {},
   "outputs": [],
   "source": [
    "gose12_oc_encode = encode_oc(gose12_oc_plain)\n"
   ]
  },
  {
   "cell_type": "code",
   "execution_count": 580,
   "metadata": {},
   "outputs": [],
   "source": [
    "gose12_oc_encode = np.asarray(gose12_oc_encode)"
   ]
  },
  {
   "cell_type": "code",
   "execution_count": 581,
   "metadata": {},
   "outputs": [],
   "source": [
    "gose12_oc_encode = gose12_oc_encode[:,1:]"
   ]
  },
  {
   "cell_type": "code",
   "execution_count": 2,
   "metadata": {},
   "outputs": [
    {
     "ename": "NameError",
     "evalue": "name 'np' is not defined",
     "output_type": "error",
     "traceback": [
      "\u001b[0;31m---------------------------------------------------------------------------\u001b[0m",
      "\u001b[0;31mNameError\u001b[0m                                 Traceback (most recent call last)",
      "\u001b[0;32m<ipython-input-2-ad7cef1a7fff>\u001b[0m in \u001b[0;36m<module>\u001b[0;34m\u001b[0m\n\u001b[0;32m----> 1\u001b[0;31m \u001b[0madded_oc\u001b[0m \u001b[0;34m=\u001b[0m \u001b[0mnp\u001b[0m\u001b[0;34m.\u001b[0m\u001b[0mvstack\u001b[0m\u001b[0;34m(\u001b[0m\u001b[0;34m(\u001b[0m\u001b[0msubdata_oc\u001b[0m\u001b[0;34m,\u001b[0m \u001b[0mgose12_oc_encode\u001b[0m\u001b[0;34m)\u001b[0m\u001b[0;34m)\u001b[0m\u001b[0;34m\u001b[0m\u001b[0;34m\u001b[0m\u001b[0m\n\u001b[0m",
      "\u001b[0;31mNameError\u001b[0m: name 'np' is not defined"
     ]
    }
   ],
   "source": [
    "added_oc = np.vstack((subdata_oc, gose12_oc_encode))"
   ]
  },
  {
   "cell_type": "code",
   "execution_count": 1,
   "metadata": {},
   "outputs": [
    {
     "ename": "NameError",
     "evalue": "name 'added_oc' is not defined",
     "output_type": "error",
     "traceback": [
      "\u001b[0;31m---------------------------------------------------------------------------\u001b[0m",
      "\u001b[0;31mNameError\u001b[0m                                 Traceback (most recent call last)",
      "\u001b[0;32m<ipython-input-1-27c67a6af8dc>\u001b[0m in \u001b[0;36m<module>\u001b[0;34m\u001b[0m\n\u001b[0;32m----> 1\u001b[0;31m \u001b[0madded_oc\u001b[0m\u001b[0;34m\u001b[0m\u001b[0;34m\u001b[0m\u001b[0m\n\u001b[0m",
      "\u001b[0;31mNameError\u001b[0m: name 'added_oc' is not defined"
     ]
    }
   ],
   "source": [
    "added_oc"
   ]
  },
  {
   "cell_type": "code",
   "execution_count": 589,
   "metadata": {},
   "outputs": [],
   "source": [
    "added_bm = np.vstack((subdata_bm, gose12_bm_encode))"
   ]
  },
  {
   "cell_type": "code",
   "execution_count": 590,
   "metadata": {},
   "outputs": [
    {
     "data": {
      "text/plain": [
       "(275, 235)"
      ]
     },
     "execution_count": 590,
     "metadata": {},
     "output_type": "execute_result"
    }
   ],
   "source": [
    "added_bm.shape"
   ]
  },
  {
   "cell_type": "code",
   "execution_count": 602,
   "metadata": {},
   "outputs": [],
   "source": [
    "gose12_ids = gose12_bm_plain.iloc[:,0].values"
   ]
  },
  {
   "cell_type": "code",
   "execution_count": 604,
   "metadata": {},
   "outputs": [],
   "source": [
    "added_ids = np.hstack((ids, gose12_ids))"
   ]
  },
  {
   "cell_type": "code",
   "execution_count": 608,
   "metadata": {},
   "outputs": [],
   "source": [
    "fname = '/Users/ahyeon/data/activ/gose1and2.h5'\n",
    "TrackTBIFile.write(fname, added_bm, added_oc, biomarker_features = gose12_bm_features, outcome_features = gose12_oc_features, patient_ids=added_ids)"
   ]
  },
  {
   "cell_type": "code",
   "execution_count": 5,
   "metadata": {},
   "outputs": [
    {
     "data": {
      "text/plain": [
       "918"
      ]
     },
     "execution_count": 5,
     "metadata": {},
     "output_type": "execute_result"
    }
   ],
   "source": [
    "mask = pd.read_csv('/Users/ahyeon/Desktop/TBIanalysis/data/mask_feature_outcome.txt', header=None)\n",
    "mask = mask.values\n",
    "len(mask)"
   ]
  },
  {
   "cell_type": "code",
   "execution_count": 6,
   "metadata": {},
   "outputs": [],
   "source": [
    "bm_mask = np.where(mask==0)[0]\n",
    "oc_mask = np.where(mask==1)[0]"
   ]
  },
  {
   "cell_type": "code",
   "execution_count": 7,
   "metadata": {},
   "outputs": [
    {
     "data": {
      "text/plain": [
       "array([329, 330, 331, 332, 333, 334, 335, 336, 337, 338, 339, 340, 341,\n",
       "       342, 343, 344, 345, 346, 347, 348, 349, 350, 351, 352, 353, 354,\n",
       "       355, 356, 357, 358, 359, 360, 361, 362, 363, 364, 365, 366, 367,\n",
       "       368, 369, 370, 371, 372, 373, 374, 375, 376, 377, 378, 379, 380,\n",
       "       381, 382, 383, 384, 385, 386, 387, 388, 389, 390, 391, 392, 393,\n",
       "       394, 395, 396, 397, 398, 399, 400, 401, 402, 403, 404, 405, 406,\n",
       "       407, 408, 409, 410, 411, 412, 413, 414, 415, 416, 417, 418, 419,\n",
       "       420, 421, 422, 423, 424, 425, 426, 427, 428, 429, 430, 431, 432,\n",
       "       433, 434, 435, 436, 437, 438, 439, 440, 441, 442, 443, 444, 445,\n",
       "       446, 447, 448, 449, 450, 451, 452, 453, 454, 455, 456, 457, 458,\n",
       "       459, 460, 461, 462, 463, 464, 465, 466, 467, 468, 469, 470, 471,\n",
       "       472, 473, 474, 475, 476, 477, 478, 479, 480, 481, 482, 483, 484,\n",
       "       485, 486, 487, 488, 489, 490, 491, 492, 493, 494, 495, 496, 497,\n",
       "       498, 499, 500, 501, 502, 503, 504, 505, 506, 507, 508, 509, 510,\n",
       "       511, 512, 513, 514, 515, 516, 517, 518, 519, 520, 521, 522, 523,\n",
       "       524, 525, 526, 527, 528, 529, 530, 531, 532, 533, 534, 535, 536,\n",
       "       537, 538, 539, 540, 541, 542, 543, 544, 545, 546, 547, 548, 549,\n",
       "       550, 551, 552, 553, 554, 555, 556, 557, 558, 559, 560, 561, 562,\n",
       "       563, 564, 565, 566, 567, 568, 569, 570, 571, 572, 573, 574, 575,\n",
       "       576, 577, 578, 579, 580, 581, 582, 583, 584, 585, 586, 587, 588,\n",
       "       589, 590, 591, 592, 593, 594, 595, 596, 597, 598, 599, 600, 601,\n",
       "       602, 603, 604, 605, 606, 607, 608, 609, 610, 611, 612, 613, 614,\n",
       "       615, 616, 617, 618, 619, 620, 621, 622, 623, 624, 625, 626, 627,\n",
       "       628, 629, 630, 631, 632, 633, 634, 635, 636, 637, 638, 639, 640,\n",
       "       641, 642, 643, 644, 645, 646, 647, 648, 649, 650, 651, 652, 653,\n",
       "       654, 655, 656, 657, 658, 659, 660, 661, 662, 663, 664, 665, 666,\n",
       "       667, 668, 669, 670, 671, 672, 673, 674, 675, 676, 677, 678, 679,\n",
       "       680, 681, 682, 683, 684, 685, 686, 687, 688, 689, 690, 691, 692,\n",
       "       693, 694, 695, 696, 697, 698, 699, 700, 701, 702, 703, 704, 705,\n",
       "       706, 707, 708, 709, 710, 711, 712, 713, 714, 715, 716, 717, 718,\n",
       "       719, 720, 721, 722])"
      ]
     },
     "execution_count": 7,
     "metadata": {},
     "output_type": "execute_result"
    }
   ],
   "source": [
    "oc_mask"
   ]
  },
  {
   "cell_type": "code",
   "execution_count": 8,
   "metadata": {},
   "outputs": [
    {
     "data": {
      "text/plain": [
       "(586, 918)"
      ]
     },
     "execution_count": 8,
     "metadata": {},
     "output_type": "execute_result"
    }
   ],
   "source": [
    "data = load_preprocessed()\n",
    "data.shape"
   ]
  },
  {
   "cell_type": "code",
   "execution_count": 9,
   "metadata": {},
   "outputs": [
    {
     "data": {
      "text/plain": [
       "(524, 394)"
      ]
     },
     "execution_count": 9,
     "metadata": {},
     "output_type": "execute_result"
    }
   ],
   "source": [
    "full_bm = np.asarray(data.columns[bm_mask])\n",
    "full_oc = np.asarray(data.columns[oc_mask])\n",
    "len(full_bm), len(full_oc)"
   ]
  },
  {
   "cell_type": "code",
   "execution_count": null,
   "metadata": {},
   "outputs": [],
   "source": []
  },
  {
   "cell_type": "code",
   "execution_count": 140,
   "metadata": {},
   "outputs": [],
   "source": [
    "idx = [i for i, x in enumerate(data.columns) if 'GOSE_Overall' in x]"
   ]
  },
  {
   "cell_type": "code",
   "execution_count": 141,
   "metadata": {},
   "outputs": [
    {
     "data": {
      "text/html": [
       "<div>\n",
       "<style scoped>\n",
       "    .dataframe tbody tr th:only-of-type {\n",
       "        vertical-align: middle;\n",
       "    }\n",
       "\n",
       "    .dataframe tbody tr th {\n",
       "        vertical-align: top;\n",
       "    }\n",
       "\n",
       "    .dataframe thead th {\n",
       "        text-align: right;\n",
       "    }\n",
       "</style>\n",
       "<table border=\"1\" class=\"dataframe\">\n",
       "  <thead>\n",
       "    <tr style=\"text-align: right;\">\n",
       "      <th></th>\n",
       "      <th>GOSE_OverallScore3M</th>\n",
       "      <th>GOSE_OverallScore6M</th>\n",
       "      <th>GOSE_OverallScore12M</th>\n",
       "    </tr>\n",
       "  </thead>\n",
       "  <tbody>\n",
       "    <tr>\n",
       "      <th>BR-1001</th>\n",
       "      <td>NaN</td>\n",
       "      <td>NaN</td>\n",
       "      <td>NaN</td>\n",
       "    </tr>\n",
       "    <tr>\n",
       "      <th>BR-1003</th>\n",
       "      <td>NaN</td>\n",
       "      <td>NaN</td>\n",
       "      <td>NaN</td>\n",
       "    </tr>\n",
       "    <tr>\n",
       "      <th>BR-1004</th>\n",
       "      <td>8.0</td>\n",
       "      <td>8.0</td>\n",
       "      <td>NaN</td>\n",
       "    </tr>\n",
       "    <tr>\n",
       "      <th>BR-1006</th>\n",
       "      <td>NaN</td>\n",
       "      <td>NaN</td>\n",
       "      <td>NaN</td>\n",
       "    </tr>\n",
       "    <tr>\n",
       "      <th>BR-1007</th>\n",
       "      <td>NaN</td>\n",
       "      <td>NaN</td>\n",
       "      <td>NaN</td>\n",
       "    </tr>\n",
       "    <tr>\n",
       "      <th>BR-1008</th>\n",
       "      <td>6.0</td>\n",
       "      <td>5.0</td>\n",
       "      <td>4.0</td>\n",
       "    </tr>\n",
       "    <tr>\n",
       "      <th>BR-1009</th>\n",
       "      <td>7.0</td>\n",
       "      <td>NaN</td>\n",
       "      <td>NaN</td>\n",
       "    </tr>\n",
       "    <tr>\n",
       "      <th>BR-1010</th>\n",
       "      <td>NaN</td>\n",
       "      <td>NaN</td>\n",
       "      <td>6.0</td>\n",
       "    </tr>\n",
       "    <tr>\n",
       "      <th>BR-1011</th>\n",
       "      <td>NaN</td>\n",
       "      <td>NaN</td>\n",
       "      <td>NaN</td>\n",
       "    </tr>\n",
       "    <tr>\n",
       "      <th>BR-1012</th>\n",
       "      <td>5.0</td>\n",
       "      <td>NaN</td>\n",
       "      <td>NaN</td>\n",
       "    </tr>\n",
       "    <tr>\n",
       "      <th>BR-1013</th>\n",
       "      <td>8.0</td>\n",
       "      <td>8.0</td>\n",
       "      <td>NaN</td>\n",
       "    </tr>\n",
       "    <tr>\n",
       "      <th>BR-1014</th>\n",
       "      <td>NaN</td>\n",
       "      <td>NaN</td>\n",
       "      <td>NaN</td>\n",
       "    </tr>\n",
       "    <tr>\n",
       "      <th>BR-1015</th>\n",
       "      <td>8.0</td>\n",
       "      <td>8.0</td>\n",
       "      <td>8.0</td>\n",
       "    </tr>\n",
       "    <tr>\n",
       "      <th>BR-1016</th>\n",
       "      <td>8.0</td>\n",
       "      <td>8.0</td>\n",
       "      <td>8.0</td>\n",
       "    </tr>\n",
       "    <tr>\n",
       "      <th>BR-1017</th>\n",
       "      <td>7.0</td>\n",
       "      <td>NaN</td>\n",
       "      <td>NaN</td>\n",
       "    </tr>\n",
       "    <tr>\n",
       "      <th>BR-1018</th>\n",
       "      <td>7.0</td>\n",
       "      <td>7.0</td>\n",
       "      <td>NaN</td>\n",
       "    </tr>\n",
       "    <tr>\n",
       "      <th>BR-1019</th>\n",
       "      <td>7.0</td>\n",
       "      <td>NaN</td>\n",
       "      <td>NaN</td>\n",
       "    </tr>\n",
       "    <tr>\n",
       "      <th>BR-1020</th>\n",
       "      <td>6.0</td>\n",
       "      <td>NaN</td>\n",
       "      <td>NaN</td>\n",
       "    </tr>\n",
       "    <tr>\n",
       "      <th>BR-1021</th>\n",
       "      <td>4.0</td>\n",
       "      <td>NaN</td>\n",
       "      <td>NaN</td>\n",
       "    </tr>\n",
       "    <tr>\n",
       "      <th>BR-1023</th>\n",
       "      <td>NaN</td>\n",
       "      <td>NaN</td>\n",
       "      <td>8.0</td>\n",
       "    </tr>\n",
       "    <tr>\n",
       "      <th>BR-1024</th>\n",
       "      <td>6.0</td>\n",
       "      <td>7.0</td>\n",
       "      <td>8.0</td>\n",
       "    </tr>\n",
       "    <tr>\n",
       "      <th>BR-1025</th>\n",
       "      <td>5.0</td>\n",
       "      <td>8.0</td>\n",
       "      <td>6.0</td>\n",
       "    </tr>\n",
       "    <tr>\n",
       "      <th>BR-1026</th>\n",
       "      <td>NaN</td>\n",
       "      <td>NaN</td>\n",
       "      <td>NaN</td>\n",
       "    </tr>\n",
       "    <tr>\n",
       "      <th>BR-1027</th>\n",
       "      <td>NaN</td>\n",
       "      <td>NaN</td>\n",
       "      <td>8.0</td>\n",
       "    </tr>\n",
       "    <tr>\n",
       "      <th>BR-1028</th>\n",
       "      <td>3.0</td>\n",
       "      <td>NaN</td>\n",
       "      <td>NaN</td>\n",
       "    </tr>\n",
       "    <tr>\n",
       "      <th>BR-1029</th>\n",
       "      <td>4.0</td>\n",
       "      <td>5.0</td>\n",
       "      <td>5.0</td>\n",
       "    </tr>\n",
       "    <tr>\n",
       "      <th>BR-1030</th>\n",
       "      <td>NaN</td>\n",
       "      <td>NaN</td>\n",
       "      <td>NaN</td>\n",
       "    </tr>\n",
       "    <tr>\n",
       "      <th>BR-1031</th>\n",
       "      <td>8.0</td>\n",
       "      <td>8.0</td>\n",
       "      <td>NaN</td>\n",
       "    </tr>\n",
       "    <tr>\n",
       "      <th>BR-1032</th>\n",
       "      <td>4.0</td>\n",
       "      <td>4.0</td>\n",
       "      <td>NaN</td>\n",
       "    </tr>\n",
       "    <tr>\n",
       "      <th>BR-1033</th>\n",
       "      <td>5.0</td>\n",
       "      <td>NaN</td>\n",
       "      <td>NaN</td>\n",
       "    </tr>\n",
       "    <tr>\n",
       "      <th>...</th>\n",
       "      <td>...</td>\n",
       "      <td>...</td>\n",
       "      <td>...</td>\n",
       "    </tr>\n",
       "    <tr>\n",
       "      <th>SF-1315</th>\n",
       "      <td>3.0</td>\n",
       "      <td>5.0</td>\n",
       "      <td>NaN</td>\n",
       "    </tr>\n",
       "    <tr>\n",
       "      <th>SF-1316</th>\n",
       "      <td>1.0</td>\n",
       "      <td>1.0</td>\n",
       "      <td>NaN</td>\n",
       "    </tr>\n",
       "    <tr>\n",
       "      <th>SF-1318</th>\n",
       "      <td>8.0</td>\n",
       "      <td>7.0</td>\n",
       "      <td>NaN</td>\n",
       "    </tr>\n",
       "    <tr>\n",
       "      <th>SF-1319</th>\n",
       "      <td>8.0</td>\n",
       "      <td>8.0</td>\n",
       "      <td>NaN</td>\n",
       "    </tr>\n",
       "    <tr>\n",
       "      <th>SF-1320</th>\n",
       "      <td>8.0</td>\n",
       "      <td>8.0</td>\n",
       "      <td>8.0</td>\n",
       "    </tr>\n",
       "    <tr>\n",
       "      <th>SF-1321</th>\n",
       "      <td>8.0</td>\n",
       "      <td>NaN</td>\n",
       "      <td>NaN</td>\n",
       "    </tr>\n",
       "    <tr>\n",
       "      <th>SF-1322</th>\n",
       "      <td>8.0</td>\n",
       "      <td>8.0</td>\n",
       "      <td>NaN</td>\n",
       "    </tr>\n",
       "    <tr>\n",
       "      <th>SF-1323</th>\n",
       "      <td>8.0</td>\n",
       "      <td>NaN</td>\n",
       "      <td>NaN</td>\n",
       "    </tr>\n",
       "    <tr>\n",
       "      <th>SF-1324</th>\n",
       "      <td>7.0</td>\n",
       "      <td>7.0</td>\n",
       "      <td>NaN</td>\n",
       "    </tr>\n",
       "    <tr>\n",
       "      <th>SF-1325</th>\n",
       "      <td>6.0</td>\n",
       "      <td>5.0</td>\n",
       "      <td>7.0</td>\n",
       "    </tr>\n",
       "    <tr>\n",
       "      <th>SF-1326</th>\n",
       "      <td>5.0</td>\n",
       "      <td>6.0</td>\n",
       "      <td>7.0</td>\n",
       "    </tr>\n",
       "    <tr>\n",
       "      <th>SF-1327</th>\n",
       "      <td>7.0</td>\n",
       "      <td>NaN</td>\n",
       "      <td>NaN</td>\n",
       "    </tr>\n",
       "    <tr>\n",
       "      <th>SF-1328</th>\n",
       "      <td>7.0</td>\n",
       "      <td>8.0</td>\n",
       "      <td>8.0</td>\n",
       "    </tr>\n",
       "    <tr>\n",
       "      <th>SF-1329</th>\n",
       "      <td>NaN</td>\n",
       "      <td>6.0</td>\n",
       "      <td>NaN</td>\n",
       "    </tr>\n",
       "    <tr>\n",
       "      <th>SF-1330</th>\n",
       "      <td>8.0</td>\n",
       "      <td>NaN</td>\n",
       "      <td>NaN</td>\n",
       "    </tr>\n",
       "    <tr>\n",
       "      <th>SF-1332</th>\n",
       "      <td>6.0</td>\n",
       "      <td>6.0</td>\n",
       "      <td>6.0</td>\n",
       "    </tr>\n",
       "    <tr>\n",
       "      <th>SF-1333</th>\n",
       "      <td>6.0</td>\n",
       "      <td>7.0</td>\n",
       "      <td>7.0</td>\n",
       "    </tr>\n",
       "    <tr>\n",
       "      <th>SF-1334</th>\n",
       "      <td>6.0</td>\n",
       "      <td>7.0</td>\n",
       "      <td>NaN</td>\n",
       "    </tr>\n",
       "    <tr>\n",
       "      <th>SF-1335</th>\n",
       "      <td>8.0</td>\n",
       "      <td>8.0</td>\n",
       "      <td>8.0</td>\n",
       "    </tr>\n",
       "    <tr>\n",
       "      <th>SF-1336</th>\n",
       "      <td>8.0</td>\n",
       "      <td>NaN</td>\n",
       "      <td>NaN</td>\n",
       "    </tr>\n",
       "    <tr>\n",
       "      <th>SF-1337</th>\n",
       "      <td>5.0</td>\n",
       "      <td>5.0</td>\n",
       "      <td>NaN</td>\n",
       "    </tr>\n",
       "    <tr>\n",
       "      <th>SF-1338</th>\n",
       "      <td>NaN</td>\n",
       "      <td>NaN</td>\n",
       "      <td>NaN</td>\n",
       "    </tr>\n",
       "    <tr>\n",
       "      <th>SF-1339</th>\n",
       "      <td>7.0</td>\n",
       "      <td>NaN</td>\n",
       "      <td>8.0</td>\n",
       "    </tr>\n",
       "    <tr>\n",
       "      <th>SF-1340</th>\n",
       "      <td>8.0</td>\n",
       "      <td>8.0</td>\n",
       "      <td>NaN</td>\n",
       "    </tr>\n",
       "    <tr>\n",
       "      <th>SF-1341</th>\n",
       "      <td>6.0</td>\n",
       "      <td>NaN</td>\n",
       "      <td>NaN</td>\n",
       "    </tr>\n",
       "    <tr>\n",
       "      <th>SF-1342</th>\n",
       "      <td>6.0</td>\n",
       "      <td>7.0</td>\n",
       "      <td>6.0</td>\n",
       "    </tr>\n",
       "    <tr>\n",
       "      <th>SF-1343</th>\n",
       "      <td>8.0</td>\n",
       "      <td>8.0</td>\n",
       "      <td>NaN</td>\n",
       "    </tr>\n",
       "    <tr>\n",
       "      <th>SF-1344</th>\n",
       "      <td>NaN</td>\n",
       "      <td>NaN</td>\n",
       "      <td>NaN</td>\n",
       "    </tr>\n",
       "    <tr>\n",
       "      <th>SF-1345</th>\n",
       "      <td>7.0</td>\n",
       "      <td>6.0</td>\n",
       "      <td>7.0</td>\n",
       "    </tr>\n",
       "    <tr>\n",
       "      <th>SF-1346</th>\n",
       "      <td>8.0</td>\n",
       "      <td>8.0</td>\n",
       "      <td>8.0</td>\n",
       "    </tr>\n",
       "  </tbody>\n",
       "</table>\n",
       "<p>586 rows × 3 columns</p>\n",
       "</div>"
      ],
      "text/plain": [
       "         GOSE_OverallScore3M  GOSE_OverallScore6M  GOSE_OverallScore12M\n",
       "BR-1001                  NaN                  NaN                   NaN\n",
       "BR-1003                  NaN                  NaN                   NaN\n",
       "BR-1004                  8.0                  8.0                   NaN\n",
       "BR-1006                  NaN                  NaN                   NaN\n",
       "BR-1007                  NaN                  NaN                   NaN\n",
       "BR-1008                  6.0                  5.0                   4.0\n",
       "BR-1009                  7.0                  NaN                   NaN\n",
       "BR-1010                  NaN                  NaN                   6.0\n",
       "BR-1011                  NaN                  NaN                   NaN\n",
       "BR-1012                  5.0                  NaN                   NaN\n",
       "BR-1013                  8.0                  8.0                   NaN\n",
       "BR-1014                  NaN                  NaN                   NaN\n",
       "BR-1015                  8.0                  8.0                   8.0\n",
       "BR-1016                  8.0                  8.0                   8.0\n",
       "BR-1017                  7.0                  NaN                   NaN\n",
       "BR-1018                  7.0                  7.0                   NaN\n",
       "BR-1019                  7.0                  NaN                   NaN\n",
       "BR-1020                  6.0                  NaN                   NaN\n",
       "BR-1021                  4.0                  NaN                   NaN\n",
       "BR-1023                  NaN                  NaN                   8.0\n",
       "BR-1024                  6.0                  7.0                   8.0\n",
       "BR-1025                  5.0                  8.0                   6.0\n",
       "BR-1026                  NaN                  NaN                   NaN\n",
       "BR-1027                  NaN                  NaN                   8.0\n",
       "BR-1028                  3.0                  NaN                   NaN\n",
       "BR-1029                  4.0                  5.0                   5.0\n",
       "BR-1030                  NaN                  NaN                   NaN\n",
       "BR-1031                  8.0                  8.0                   NaN\n",
       "BR-1032                  4.0                  4.0                   NaN\n",
       "BR-1033                  5.0                  NaN                   NaN\n",
       "...                      ...                  ...                   ...\n",
       "SF-1315                  3.0                  5.0                   NaN\n",
       "SF-1316                  1.0                  1.0                   NaN\n",
       "SF-1318                  8.0                  7.0                   NaN\n",
       "SF-1319                  8.0                  8.0                   NaN\n",
       "SF-1320                  8.0                  8.0                   8.0\n",
       "SF-1321                  8.0                  NaN                   NaN\n",
       "SF-1322                  8.0                  8.0                   NaN\n",
       "SF-1323                  8.0                  NaN                   NaN\n",
       "SF-1324                  7.0                  7.0                   NaN\n",
       "SF-1325                  6.0                  5.0                   7.0\n",
       "SF-1326                  5.0                  6.0                   7.0\n",
       "SF-1327                  7.0                  NaN                   NaN\n",
       "SF-1328                  7.0                  8.0                   8.0\n",
       "SF-1329                  NaN                  6.0                   NaN\n",
       "SF-1330                  8.0                  NaN                   NaN\n",
       "SF-1332                  6.0                  6.0                   6.0\n",
       "SF-1333                  6.0                  7.0                   7.0\n",
       "SF-1334                  6.0                  7.0                   NaN\n",
       "SF-1335                  8.0                  8.0                   8.0\n",
       "SF-1336                  8.0                  NaN                   NaN\n",
       "SF-1337                  5.0                  5.0                   NaN\n",
       "SF-1338                  NaN                  NaN                   NaN\n",
       "SF-1339                  7.0                  NaN                   8.0\n",
       "SF-1340                  8.0                  8.0                   NaN\n",
       "SF-1341                  6.0                  NaN                   NaN\n",
       "SF-1342                  6.0                  7.0                   6.0\n",
       "SF-1343                  8.0                  8.0                   NaN\n",
       "SF-1344                  NaN                  NaN                   NaN\n",
       "SF-1345                  7.0                  6.0                   7.0\n",
       "SF-1346                  8.0                  8.0                   8.0\n",
       "\n",
       "[586 rows x 3 columns]"
      ]
     },
     "execution_count": 141,
     "metadata": {},
     "output_type": "execute_result"
    }
   ],
   "source": [
    "data.iloc[:, idx]"
   ]
  },
  {
   "cell_type": "code",
   "execution_count": 167,
   "metadata": {},
   "outputs": [
    {
     "data": {
      "text/plain": [
       "0.9738672682835119"
      ]
     },
     "execution_count": 167,
     "metadata": {},
     "output_type": "execute_result"
    }
   ],
   "source": [
    "temp = data[np.logical_or(data['GOSE_OverallScore3M']==1.0, data['GOSE_OverallScore3M']==2.0)].iloc[:,oc_mask]\n",
    "\n",
    "temp.isnull().sum().sum()/np.product(temp.shape)"
   ]
  },
  {
   "cell_type": "code",
   "execution_count": 10,
   "metadata": {},
   "outputs": [
    {
     "data": {
      "text/plain": [
       "(586, 524)"
      ]
     },
     "execution_count": 10,
     "metadata": {},
     "output_type": "execute_result"
    }
   ],
   "source": [
    "data_bm = data[full_bm]\n",
    "data_oc = data[full_oc]\n",
    "data_bm.shape"
   ]
  },
  {
   "cell_type": "code",
   "execution_count": 233,
   "metadata": {},
   "outputs": [],
   "source": [
    "def encode_bm(df, get_binvars=False):\n",
    "    import pandas as pd\n",
    "    from sklearn.preprocessing import LabelEncoder, LabelBinarizer\n",
    "    cols = dict()\n",
    "    enc = LabelEncoder()\n",
    "    lb = LabelBinarizer()\n",
    "    binvars = dict()\n",
    "    for colname, coltype in df.dtypes.items():\n",
    "        if coltype == object:\n",
    "            newcol = enc.fit_transform(df[colname].astype(str))\n",
    "            if len(enc.classes_) > 2:\n",
    "                newcols = lb.fit_transform(newcol)\n",
    "                for i, c in enumerate(newcols.T):\n",
    "                    name = \"%s=%s\" % (colname, enc.classes_[lb.classes_[i]])\n",
    "                    cols[name] = c\n",
    "            else:\n",
    "                cols[colname] = newcol\n",
    "                binvars[colname] = enc.classes_\n",
    "        else:\n",
    "            cols[colname] = df[colname]\n",
    "    newdf = pd.DataFrame(cols, index=df.index)\n",
    "    if get_binvars:\n",
    "        return newdf, binvars\n",
    "    else:\n",
    "        return newdf"
   ]
  },
  {
   "cell_type": "code",
   "execution_count": 249,
   "metadata": {},
   "outputs": [],
   "source": [
    "def encode_oc(df, get_binvars=False):\n",
    "    import pandas as pd\n",
    "    from sklearn.preprocessing import LabelEncoder, LabelBinarizer\n",
    "    cols = dict()\n",
    "    enc = LabelEncoder()\n",
    "    lb = LabelBinarizer()\n",
    "    binvars = dict()\n",
    "    for colname, coltype in df.dtypes.items():\n",
    "        if coltype == object:\n",
    "            newcol = enc.fit_transform(df[colname].astype(str))\n",
    "            cols[colname] = newcol\n",
    "            binvars[colname] = enc.classes_\n",
    "        else:\n",
    "            cols[colname] = df[colname]\n",
    "    newdf = pd.DataFrame(cols, index=df.index)\n",
    "    if get_binvars:\n",
    "        return newdf, binvars\n",
    "    else:\n",
    "        return newdf"
   ]
  },
  {
   "cell_type": "code",
   "execution_count": 92,
   "metadata": {},
   "outputs": [],
   "source": [
    "newdata_bm = encode_bm(data_bm)"
   ]
  },
  {
   "cell_type": "code",
   "execution_count": 4,
   "metadata": {},
   "outputs": [
    {
     "ename": "NameError",
     "evalue": "name 'newdata_bm' is not defined",
     "output_type": "error",
     "traceback": [
      "\u001b[0;31m---------------------------------------------------------------------------\u001b[0m",
      "\u001b[0;31mNameError\u001b[0m                                 Traceback (most recent call last)",
      "\u001b[0;32m<ipython-input-4-309ccafdc148>\u001b[0m in \u001b[0;36m<module>\u001b[0;34m\u001b[0m\n\u001b[0;32m----> 1\u001b[0;31m \u001b[0mnewdata_bm\u001b[0m\u001b[0;34m.\u001b[0m\u001b[0mshape\u001b[0m\u001b[0;34m\u001b[0m\u001b[0;34m\u001b[0m\u001b[0m\n\u001b[0m",
      "\u001b[0;31mNameError\u001b[0m: name 'newdata_bm' is not defined"
     ]
    }
   ],
   "source": [
    "newdata_bm.shape"
   ]
  },
  {
   "cell_type": "code",
   "execution_count": 93,
   "metadata": {},
   "outputs": [],
   "source": [
    "newdata_oc = encode_oc(data_oc)"
   ]
  },
  {
   "cell_type": "code",
   "execution_count": 94,
   "metadata": {},
   "outputs": [
    {
     "data": {
      "text/plain": [
       "(830, 394)"
      ]
     },
     "execution_count": 94,
     "metadata": {},
     "output_type": "execute_result"
    }
   ],
   "source": [
    "len(newdata_bm.columns), len(newdata_oc.columns)"
   ]
  },
  {
   "cell_type": "code",
   "execution_count": 96,
   "metadata": {},
   "outputs": [],
   "source": [
    "TrackTBIFile.write('/Users/ahyeon/Desktop/TBIanalysis/data/fulldata.h5', newdata_bm, newdata_oc, biomarker_features=newdata_bm.columns, outcome_features=newdata_oc.columns)"
   ]
  },
  {
   "cell_type": "code",
   "execution_count": 97,
   "metadata": {},
   "outputs": [
    {
     "name": "stdout",
     "output_type": "stream",
     "text": [
      "GOSE_OverallScore3M 24\n",
      "GOSE_OverallScore6M 77\n",
      "GOSE_OverallScore12M 287\n"
     ]
    }
   ],
   "source": [
    "for ii,c in enumerate(newdata_oc.columns):\n",
    "    if 'GOSE_Overall' in c:\n",
    "        print(c,ii)"
   ]
  },
  {
   "cell_type": "code",
   "execution_count": 114,
   "metadata": {},
   "outputs": [],
   "source": [
    "gose3m = newdata_oc.iloc[:,24].fillna(0).values.astype(int)\n",
    "gose6m = newdata_oc.iloc[:,77].fillna(0).values.astype(int)\n",
    "gose12m = newdata_oc.iloc[:,287].fillna(0).values.astype(int)"
   ]
  },
  {
   "cell_type": "code",
   "execution_count": 125,
   "metadata": {},
   "outputs": [
    {
     "data": {
      "text/plain": [
       "Counter({0: 130, 8: 129, 6: 72, 7: 133, 5: 53, 4: 20, 3: 22, 1: 25, 2: 2})"
      ]
     },
     "execution_count": 125,
     "metadata": {},
     "output_type": "execute_result"
    }
   ],
   "source": [
    "from collections import Counter\n",
    "Counter(gose3m)\n",
    "\n"
   ]
  },
  {
   "cell_type": "code",
   "execution_count": 126,
   "metadata": {},
   "outputs": [
    {
     "data": {
      "text/html": [
       "<div>\n",
       "<style scoped>\n",
       "    .dataframe tbody tr th:only-of-type {\n",
       "        vertical-align: middle;\n",
       "    }\n",
       "\n",
       "    .dataframe tbody tr th {\n",
       "        vertical-align: top;\n",
       "    }\n",
       "\n",
       "    .dataframe thead th {\n",
       "        text-align: right;\n",
       "    }\n",
       "</style>\n",
       "<table border=\"1\" class=\"dataframe\">\n",
       "  <thead>\n",
       "    <tr style=\"text-align: right;\">\n",
       "      <th></th>\n",
       "      <th>MR_result</th>\n",
       "      <th>GOSE_Responder3M</th>\n",
       "      <th>GOSE_SimpleCommand3M</th>\n",
       "      <th>GOSE_NeedAssistance3M</th>\n",
       "      <th>GOSE_NeedFreqHelp3M</th>\n",
       "      <th>GOSE_AssistanceBaseline3M</th>\n",
       "      <th>GOSE_Shop3M</th>\n",
       "      <th>GOSE_ShopBaseline3M</th>\n",
       "      <th>GOSE_Travel3M</th>\n",
       "      <th>GOSE_TravelBaseline3M</th>\n",
       "      <th>...</th>\n",
       "      <th>CVLTFreeRecallIntrusionsStandard_12mo</th>\n",
       "      <th>CVLTCuedRecallIntrusionsRaw_12mo</th>\n",
       "      <th>CVLTCuedRecallIntrusionsStandard_12mo</th>\n",
       "      <th>CVLTTotalIntrusionsRaw_12mo</th>\n",
       "      <th>CVLTTotalIntrusionsStandard_12mo</th>\n",
       "      <th>CVLTTotalRepetitionsRaw_12mo</th>\n",
       "      <th>CVLTTotalRepetitionsStandard_12mo</th>\n",
       "      <th>CVLTTotalRecognitionHitsRawScore_12mo</th>\n",
       "      <th>CVLTTotalRecognitionHitsStandardScore_12mo</th>\n",
       "      <th>CVLTTotalRecognitionDiscriminabilityRawScore_12mo</th>\n",
       "    </tr>\n",
       "  </thead>\n",
       "  <tbody>\n",
       "    <tr>\n",
       "      <th>BR-1043</th>\n",
       "      <td>NaN</td>\n",
       "      <td>3</td>\n",
       "      <td>2</td>\n",
       "      <td>2</td>\n",
       "      <td>2</td>\n",
       "      <td>2</td>\n",
       "      <td>2</td>\n",
       "      <td>2</td>\n",
       "      <td>2</td>\n",
       "      <td>2</td>\n",
       "      <td>...</td>\n",
       "      <td>NaN</td>\n",
       "      <td>NaN</td>\n",
       "      <td>NaN</td>\n",
       "      <td>NaN</td>\n",
       "      <td>NaN</td>\n",
       "      <td>NaN</td>\n",
       "      <td>NaN</td>\n",
       "      <td>NaN</td>\n",
       "      <td>NaN</td>\n",
       "      <td>NaN</td>\n",
       "    </tr>\n",
       "    <tr>\n",
       "      <th>BR-1078</th>\n",
       "      <td>NaN</td>\n",
       "      <td>3</td>\n",
       "      <td>2</td>\n",
       "      <td>2</td>\n",
       "      <td>2</td>\n",
       "      <td>2</td>\n",
       "      <td>2</td>\n",
       "      <td>2</td>\n",
       "      <td>2</td>\n",
       "      <td>2</td>\n",
       "      <td>...</td>\n",
       "      <td>NaN</td>\n",
       "      <td>NaN</td>\n",
       "      <td>NaN</td>\n",
       "      <td>NaN</td>\n",
       "      <td>NaN</td>\n",
       "      <td>NaN</td>\n",
       "      <td>NaN</td>\n",
       "      <td>NaN</td>\n",
       "      <td>NaN</td>\n",
       "      <td>NaN</td>\n",
       "    </tr>\n",
       "    <tr>\n",
       "      <th>PI-1014</th>\n",
       "      <td>NaN</td>\n",
       "      <td>3</td>\n",
       "      <td>2</td>\n",
       "      <td>2</td>\n",
       "      <td>2</td>\n",
       "      <td>2</td>\n",
       "      <td>2</td>\n",
       "      <td>2</td>\n",
       "      <td>2</td>\n",
       "      <td>2</td>\n",
       "      <td>...</td>\n",
       "      <td>NaN</td>\n",
       "      <td>NaN</td>\n",
       "      <td>NaN</td>\n",
       "      <td>NaN</td>\n",
       "      <td>NaN</td>\n",
       "      <td>NaN</td>\n",
       "      <td>NaN</td>\n",
       "      <td>NaN</td>\n",
       "      <td>NaN</td>\n",
       "      <td>NaN</td>\n",
       "    </tr>\n",
       "    <tr>\n",
       "      <th>PI-1020</th>\n",
       "      <td>NaN</td>\n",
       "      <td>3</td>\n",
       "      <td>2</td>\n",
       "      <td>2</td>\n",
       "      <td>2</td>\n",
       "      <td>2</td>\n",
       "      <td>2</td>\n",
       "      <td>2</td>\n",
       "      <td>2</td>\n",
       "      <td>2</td>\n",
       "      <td>...</td>\n",
       "      <td>NaN</td>\n",
       "      <td>NaN</td>\n",
       "      <td>NaN</td>\n",
       "      <td>NaN</td>\n",
       "      <td>NaN</td>\n",
       "      <td>NaN</td>\n",
       "      <td>NaN</td>\n",
       "      <td>NaN</td>\n",
       "      <td>NaN</td>\n",
       "      <td>NaN</td>\n",
       "    </tr>\n",
       "    <tr>\n",
       "      <th>PI-1051</th>\n",
       "      <td>NaN</td>\n",
       "      <td>3</td>\n",
       "      <td>2</td>\n",
       "      <td>2</td>\n",
       "      <td>2</td>\n",
       "      <td>2</td>\n",
       "      <td>2</td>\n",
       "      <td>2</td>\n",
       "      <td>2</td>\n",
       "      <td>2</td>\n",
       "      <td>...</td>\n",
       "      <td>NaN</td>\n",
       "      <td>NaN</td>\n",
       "      <td>NaN</td>\n",
       "      <td>NaN</td>\n",
       "      <td>NaN</td>\n",
       "      <td>NaN</td>\n",
       "      <td>NaN</td>\n",
       "      <td>NaN</td>\n",
       "      <td>NaN</td>\n",
       "      <td>NaN</td>\n",
       "    </tr>\n",
       "    <tr>\n",
       "      <th>PI-1052</th>\n",
       "      <td>NaN</td>\n",
       "      <td>3</td>\n",
       "      <td>2</td>\n",
       "      <td>2</td>\n",
       "      <td>2</td>\n",
       "      <td>2</td>\n",
       "      <td>2</td>\n",
       "      <td>2</td>\n",
       "      <td>2</td>\n",
       "      <td>2</td>\n",
       "      <td>...</td>\n",
       "      <td>NaN</td>\n",
       "      <td>NaN</td>\n",
       "      <td>NaN</td>\n",
       "      <td>NaN</td>\n",
       "      <td>NaN</td>\n",
       "      <td>NaN</td>\n",
       "      <td>NaN</td>\n",
       "      <td>NaN</td>\n",
       "      <td>NaN</td>\n",
       "      <td>NaN</td>\n",
       "    </tr>\n",
       "    <tr>\n",
       "      <th>PI-1053</th>\n",
       "      <td>1.0</td>\n",
       "      <td>3</td>\n",
       "      <td>2</td>\n",
       "      <td>2</td>\n",
       "      <td>2</td>\n",
       "      <td>2</td>\n",
       "      <td>2</td>\n",
       "      <td>2</td>\n",
       "      <td>2</td>\n",
       "      <td>2</td>\n",
       "      <td>...</td>\n",
       "      <td>NaN</td>\n",
       "      <td>NaN</td>\n",
       "      <td>NaN</td>\n",
       "      <td>NaN</td>\n",
       "      <td>NaN</td>\n",
       "      <td>NaN</td>\n",
       "      <td>NaN</td>\n",
       "      <td>NaN</td>\n",
       "      <td>NaN</td>\n",
       "      <td>NaN</td>\n",
       "    </tr>\n",
       "    <tr>\n",
       "      <th>PI-1061</th>\n",
       "      <td>NaN</td>\n",
       "      <td>3</td>\n",
       "      <td>2</td>\n",
       "      <td>2</td>\n",
       "      <td>2</td>\n",
       "      <td>2</td>\n",
       "      <td>2</td>\n",
       "      <td>2</td>\n",
       "      <td>2</td>\n",
       "      <td>2</td>\n",
       "      <td>...</td>\n",
       "      <td>NaN</td>\n",
       "      <td>NaN</td>\n",
       "      <td>NaN</td>\n",
       "      <td>NaN</td>\n",
       "      <td>NaN</td>\n",
       "      <td>NaN</td>\n",
       "      <td>NaN</td>\n",
       "      <td>NaN</td>\n",
       "      <td>NaN</td>\n",
       "      <td>NaN</td>\n",
       "    </tr>\n",
       "    <tr>\n",
       "      <th>PI-1065</th>\n",
       "      <td>NaN</td>\n",
       "      <td>3</td>\n",
       "      <td>2</td>\n",
       "      <td>2</td>\n",
       "      <td>2</td>\n",
       "      <td>2</td>\n",
       "      <td>2</td>\n",
       "      <td>2</td>\n",
       "      <td>2</td>\n",
       "      <td>2</td>\n",
       "      <td>...</td>\n",
       "      <td>4.0</td>\n",
       "      <td>16.0</td>\n",
       "      <td>5.0</td>\n",
       "      <td>28.0</td>\n",
       "      <td>5.0</td>\n",
       "      <td>1.0</td>\n",
       "      <td>-1.0</td>\n",
       "      <td>15.0</td>\n",
       "      <td>0.0</td>\n",
       "      <td>1.0</td>\n",
       "    </tr>\n",
       "    <tr>\n",
       "      <th>PI-1091</th>\n",
       "      <td>1.0</td>\n",
       "      <td>3</td>\n",
       "      <td>2</td>\n",
       "      <td>2</td>\n",
       "      <td>2</td>\n",
       "      <td>2</td>\n",
       "      <td>2</td>\n",
       "      <td>2</td>\n",
       "      <td>2</td>\n",
       "      <td>2</td>\n",
       "      <td>...</td>\n",
       "      <td>NaN</td>\n",
       "      <td>NaN</td>\n",
       "      <td>NaN</td>\n",
       "      <td>NaN</td>\n",
       "      <td>NaN</td>\n",
       "      <td>NaN</td>\n",
       "      <td>NaN</td>\n",
       "      <td>NaN</td>\n",
       "      <td>NaN</td>\n",
       "      <td>NaN</td>\n",
       "    </tr>\n",
       "    <tr>\n",
       "      <th>PI-1098</th>\n",
       "      <td>1.0</td>\n",
       "      <td>3</td>\n",
       "      <td>2</td>\n",
       "      <td>2</td>\n",
       "      <td>2</td>\n",
       "      <td>2</td>\n",
       "      <td>2</td>\n",
       "      <td>2</td>\n",
       "      <td>2</td>\n",
       "      <td>2</td>\n",
       "      <td>...</td>\n",
       "      <td>NaN</td>\n",
       "      <td>NaN</td>\n",
       "      <td>NaN</td>\n",
       "      <td>NaN</td>\n",
       "      <td>NaN</td>\n",
       "      <td>NaN</td>\n",
       "      <td>NaN</td>\n",
       "      <td>NaN</td>\n",
       "      <td>NaN</td>\n",
       "      <td>NaN</td>\n",
       "    </tr>\n",
       "    <tr>\n",
       "      <th>PI-1113</th>\n",
       "      <td>NaN</td>\n",
       "      <td>3</td>\n",
       "      <td>2</td>\n",
       "      <td>2</td>\n",
       "      <td>2</td>\n",
       "      <td>2</td>\n",
       "      <td>2</td>\n",
       "      <td>2</td>\n",
       "      <td>2</td>\n",
       "      <td>2</td>\n",
       "      <td>...</td>\n",
       "      <td>NaN</td>\n",
       "      <td>NaN</td>\n",
       "      <td>NaN</td>\n",
       "      <td>NaN</td>\n",
       "      <td>NaN</td>\n",
       "      <td>NaN</td>\n",
       "      <td>NaN</td>\n",
       "      <td>NaN</td>\n",
       "      <td>NaN</td>\n",
       "      <td>NaN</td>\n",
       "    </tr>\n",
       "    <tr>\n",
       "      <th>PI-1131</th>\n",
       "      <td>NaN</td>\n",
       "      <td>3</td>\n",
       "      <td>2</td>\n",
       "      <td>2</td>\n",
       "      <td>2</td>\n",
       "      <td>2</td>\n",
       "      <td>2</td>\n",
       "      <td>2</td>\n",
       "      <td>2</td>\n",
       "      <td>2</td>\n",
       "      <td>...</td>\n",
       "      <td>NaN</td>\n",
       "      <td>NaN</td>\n",
       "      <td>NaN</td>\n",
       "      <td>NaN</td>\n",
       "      <td>NaN</td>\n",
       "      <td>NaN</td>\n",
       "      <td>NaN</td>\n",
       "      <td>NaN</td>\n",
       "      <td>NaN</td>\n",
       "      <td>NaN</td>\n",
       "    </tr>\n",
       "    <tr>\n",
       "      <th>PI-1137</th>\n",
       "      <td>NaN</td>\n",
       "      <td>3</td>\n",
       "      <td>2</td>\n",
       "      <td>2</td>\n",
       "      <td>2</td>\n",
       "      <td>2</td>\n",
       "      <td>2</td>\n",
       "      <td>2</td>\n",
       "      <td>2</td>\n",
       "      <td>2</td>\n",
       "      <td>...</td>\n",
       "      <td>NaN</td>\n",
       "      <td>NaN</td>\n",
       "      <td>NaN</td>\n",
       "      <td>NaN</td>\n",
       "      <td>NaN</td>\n",
       "      <td>NaN</td>\n",
       "      <td>NaN</td>\n",
       "      <td>NaN</td>\n",
       "      <td>NaN</td>\n",
       "      <td>NaN</td>\n",
       "    </tr>\n",
       "    <tr>\n",
       "      <th>PI-1145</th>\n",
       "      <td>NaN</td>\n",
       "      <td>3</td>\n",
       "      <td>2</td>\n",
       "      <td>2</td>\n",
       "      <td>2</td>\n",
       "      <td>2</td>\n",
       "      <td>2</td>\n",
       "      <td>2</td>\n",
       "      <td>2</td>\n",
       "      <td>2</td>\n",
       "      <td>...</td>\n",
       "      <td>NaN</td>\n",
       "      <td>NaN</td>\n",
       "      <td>NaN</td>\n",
       "      <td>NaN</td>\n",
       "      <td>NaN</td>\n",
       "      <td>NaN</td>\n",
       "      <td>NaN</td>\n",
       "      <td>NaN</td>\n",
       "      <td>NaN</td>\n",
       "      <td>NaN</td>\n",
       "    </tr>\n",
       "    <tr>\n",
       "      <th>PI-1161</th>\n",
       "      <td>NaN</td>\n",
       "      <td>3</td>\n",
       "      <td>2</td>\n",
       "      <td>2</td>\n",
       "      <td>2</td>\n",
       "      <td>2</td>\n",
       "      <td>2</td>\n",
       "      <td>2</td>\n",
       "      <td>2</td>\n",
       "      <td>2</td>\n",
       "      <td>...</td>\n",
       "      <td>NaN</td>\n",
       "      <td>NaN</td>\n",
       "      <td>NaN</td>\n",
       "      <td>NaN</td>\n",
       "      <td>NaN</td>\n",
       "      <td>NaN</td>\n",
       "      <td>NaN</td>\n",
       "      <td>NaN</td>\n",
       "      <td>NaN</td>\n",
       "      <td>NaN</td>\n",
       "    </tr>\n",
       "    <tr>\n",
       "      <th>PI-1175</th>\n",
       "      <td>NaN</td>\n",
       "      <td>3</td>\n",
       "      <td>2</td>\n",
       "      <td>2</td>\n",
       "      <td>2</td>\n",
       "      <td>2</td>\n",
       "      <td>2</td>\n",
       "      <td>2</td>\n",
       "      <td>2</td>\n",
       "      <td>2</td>\n",
       "      <td>...</td>\n",
       "      <td>NaN</td>\n",
       "      <td>NaN</td>\n",
       "      <td>NaN</td>\n",
       "      <td>NaN</td>\n",
       "      <td>NaN</td>\n",
       "      <td>NaN</td>\n",
       "      <td>NaN</td>\n",
       "      <td>NaN</td>\n",
       "      <td>NaN</td>\n",
       "      <td>NaN</td>\n",
       "    </tr>\n",
       "    <tr>\n",
       "      <th>SF-1009</th>\n",
       "      <td>NaN</td>\n",
       "      <td>3</td>\n",
       "      <td>2</td>\n",
       "      <td>2</td>\n",
       "      <td>2</td>\n",
       "      <td>2</td>\n",
       "      <td>2</td>\n",
       "      <td>2</td>\n",
       "      <td>2</td>\n",
       "      <td>2</td>\n",
       "      <td>...</td>\n",
       "      <td>NaN</td>\n",
       "      <td>NaN</td>\n",
       "      <td>NaN</td>\n",
       "      <td>NaN</td>\n",
       "      <td>NaN</td>\n",
       "      <td>NaN</td>\n",
       "      <td>NaN</td>\n",
       "      <td>NaN</td>\n",
       "      <td>NaN</td>\n",
       "      <td>NaN</td>\n",
       "    </tr>\n",
       "    <tr>\n",
       "      <th>SF-1073</th>\n",
       "      <td>NaN</td>\n",
       "      <td>3</td>\n",
       "      <td>2</td>\n",
       "      <td>2</td>\n",
       "      <td>2</td>\n",
       "      <td>2</td>\n",
       "      <td>2</td>\n",
       "      <td>2</td>\n",
       "      <td>2</td>\n",
       "      <td>2</td>\n",
       "      <td>...</td>\n",
       "      <td>NaN</td>\n",
       "      <td>NaN</td>\n",
       "      <td>NaN</td>\n",
       "      <td>NaN</td>\n",
       "      <td>NaN</td>\n",
       "      <td>NaN</td>\n",
       "      <td>NaN</td>\n",
       "      <td>NaN</td>\n",
       "      <td>NaN</td>\n",
       "      <td>NaN</td>\n",
       "    </tr>\n",
       "    <tr>\n",
       "      <th>SF-1118</th>\n",
       "      <td>NaN</td>\n",
       "      <td>3</td>\n",
       "      <td>2</td>\n",
       "      <td>2</td>\n",
       "      <td>2</td>\n",
       "      <td>2</td>\n",
       "      <td>2</td>\n",
       "      <td>2</td>\n",
       "      <td>2</td>\n",
       "      <td>2</td>\n",
       "      <td>...</td>\n",
       "      <td>NaN</td>\n",
       "      <td>NaN</td>\n",
       "      <td>NaN</td>\n",
       "      <td>NaN</td>\n",
       "      <td>NaN</td>\n",
       "      <td>NaN</td>\n",
       "      <td>NaN</td>\n",
       "      <td>NaN</td>\n",
       "      <td>NaN</td>\n",
       "      <td>NaN</td>\n",
       "    </tr>\n",
       "    <tr>\n",
       "      <th>SF-1129</th>\n",
       "      <td>NaN</td>\n",
       "      <td>3</td>\n",
       "      <td>2</td>\n",
       "      <td>2</td>\n",
       "      <td>2</td>\n",
       "      <td>2</td>\n",
       "      <td>2</td>\n",
       "      <td>2</td>\n",
       "      <td>2</td>\n",
       "      <td>2</td>\n",
       "      <td>...</td>\n",
       "      <td>NaN</td>\n",
       "      <td>NaN</td>\n",
       "      <td>NaN</td>\n",
       "      <td>NaN</td>\n",
       "      <td>NaN</td>\n",
       "      <td>NaN</td>\n",
       "      <td>NaN</td>\n",
       "      <td>NaN</td>\n",
       "      <td>NaN</td>\n",
       "      <td>NaN</td>\n",
       "    </tr>\n",
       "    <tr>\n",
       "      <th>SF-1130</th>\n",
       "      <td>NaN</td>\n",
       "      <td>3</td>\n",
       "      <td>2</td>\n",
       "      <td>2</td>\n",
       "      <td>2</td>\n",
       "      <td>2</td>\n",
       "      <td>2</td>\n",
       "      <td>2</td>\n",
       "      <td>2</td>\n",
       "      <td>2</td>\n",
       "      <td>...</td>\n",
       "      <td>NaN</td>\n",
       "      <td>NaN</td>\n",
       "      <td>NaN</td>\n",
       "      <td>NaN</td>\n",
       "      <td>NaN</td>\n",
       "      <td>NaN</td>\n",
       "      <td>NaN</td>\n",
       "      <td>NaN</td>\n",
       "      <td>NaN</td>\n",
       "      <td>NaN</td>\n",
       "    </tr>\n",
       "    <tr>\n",
       "      <th>SF-1162</th>\n",
       "      <td>NaN</td>\n",
       "      <td>3</td>\n",
       "      <td>2</td>\n",
       "      <td>2</td>\n",
       "      <td>2</td>\n",
       "      <td>2</td>\n",
       "      <td>2</td>\n",
       "      <td>2</td>\n",
       "      <td>2</td>\n",
       "      <td>2</td>\n",
       "      <td>...</td>\n",
       "      <td>NaN</td>\n",
       "      <td>NaN</td>\n",
       "      <td>NaN</td>\n",
       "      <td>NaN</td>\n",
       "      <td>NaN</td>\n",
       "      <td>NaN</td>\n",
       "      <td>NaN</td>\n",
       "      <td>NaN</td>\n",
       "      <td>NaN</td>\n",
       "      <td>NaN</td>\n",
       "    </tr>\n",
       "    <tr>\n",
       "      <th>SF-1267</th>\n",
       "      <td>1.0</td>\n",
       "      <td>3</td>\n",
       "      <td>2</td>\n",
       "      <td>2</td>\n",
       "      <td>2</td>\n",
       "      <td>2</td>\n",
       "      <td>2</td>\n",
       "      <td>2</td>\n",
       "      <td>2</td>\n",
       "      <td>2</td>\n",
       "      <td>...</td>\n",
       "      <td>NaN</td>\n",
       "      <td>NaN</td>\n",
       "      <td>NaN</td>\n",
       "      <td>NaN</td>\n",
       "      <td>NaN</td>\n",
       "      <td>NaN</td>\n",
       "      <td>NaN</td>\n",
       "      <td>NaN</td>\n",
       "      <td>NaN</td>\n",
       "      <td>NaN</td>\n",
       "    </tr>\n",
       "    <tr>\n",
       "      <th>SF-1316</th>\n",
       "      <td>NaN</td>\n",
       "      <td>3</td>\n",
       "      <td>2</td>\n",
       "      <td>2</td>\n",
       "      <td>2</td>\n",
       "      <td>2</td>\n",
       "      <td>2</td>\n",
       "      <td>2</td>\n",
       "      <td>2</td>\n",
       "      <td>2</td>\n",
       "      <td>...</td>\n",
       "      <td>NaN</td>\n",
       "      <td>NaN</td>\n",
       "      <td>NaN</td>\n",
       "      <td>NaN</td>\n",
       "      <td>NaN</td>\n",
       "      <td>NaN</td>\n",
       "      <td>NaN</td>\n",
       "      <td>NaN</td>\n",
       "      <td>NaN</td>\n",
       "      <td>NaN</td>\n",
       "    </tr>\n",
       "  </tbody>\n",
       "</table>\n",
       "<p>25 rows × 394 columns</p>\n",
       "</div>"
      ],
      "text/plain": [
       "         MR_result  GOSE_Responder3M  GOSE_SimpleCommand3M  \\\n",
       "BR-1043        NaN                 3                     2   \n",
       "BR-1078        NaN                 3                     2   \n",
       "PI-1014        NaN                 3                     2   \n",
       "PI-1020        NaN                 3                     2   \n",
       "PI-1051        NaN                 3                     2   \n",
       "PI-1052        NaN                 3                     2   \n",
       "PI-1053        1.0                 3                     2   \n",
       "PI-1061        NaN                 3                     2   \n",
       "PI-1065        NaN                 3                     2   \n",
       "PI-1091        1.0                 3                     2   \n",
       "PI-1098        1.0                 3                     2   \n",
       "PI-1113        NaN                 3                     2   \n",
       "PI-1131        NaN                 3                     2   \n",
       "PI-1137        NaN                 3                     2   \n",
       "PI-1145        NaN                 3                     2   \n",
       "PI-1161        NaN                 3                     2   \n",
       "PI-1175        NaN                 3                     2   \n",
       "SF-1009        NaN                 3                     2   \n",
       "SF-1073        NaN                 3                     2   \n",
       "SF-1118        NaN                 3                     2   \n",
       "SF-1129        NaN                 3                     2   \n",
       "SF-1130        NaN                 3                     2   \n",
       "SF-1162        NaN                 3                     2   \n",
       "SF-1267        1.0                 3                     2   \n",
       "SF-1316        NaN                 3                     2   \n",
       "\n",
       "         GOSE_NeedAssistance3M  GOSE_NeedFreqHelp3M  \\\n",
       "BR-1043                      2                    2   \n",
       "BR-1078                      2                    2   \n",
       "PI-1014                      2                    2   \n",
       "PI-1020                      2                    2   \n",
       "PI-1051                      2                    2   \n",
       "PI-1052                      2                    2   \n",
       "PI-1053                      2                    2   \n",
       "PI-1061                      2                    2   \n",
       "PI-1065                      2                    2   \n",
       "PI-1091                      2                    2   \n",
       "PI-1098                      2                    2   \n",
       "PI-1113                      2                    2   \n",
       "PI-1131                      2                    2   \n",
       "PI-1137                      2                    2   \n",
       "PI-1145                      2                    2   \n",
       "PI-1161                      2                    2   \n",
       "PI-1175                      2                    2   \n",
       "SF-1009                      2                    2   \n",
       "SF-1073                      2                    2   \n",
       "SF-1118                      2                    2   \n",
       "SF-1129                      2                    2   \n",
       "SF-1130                      2                    2   \n",
       "SF-1162                      2                    2   \n",
       "SF-1267                      2                    2   \n",
       "SF-1316                      2                    2   \n",
       "\n",
       "         GOSE_AssistanceBaseline3M  GOSE_Shop3M  GOSE_ShopBaseline3M  \\\n",
       "BR-1043                          2            2                    2   \n",
       "BR-1078                          2            2                    2   \n",
       "PI-1014                          2            2                    2   \n",
       "PI-1020                          2            2                    2   \n",
       "PI-1051                          2            2                    2   \n",
       "PI-1052                          2            2                    2   \n",
       "PI-1053                          2            2                    2   \n",
       "PI-1061                          2            2                    2   \n",
       "PI-1065                          2            2                    2   \n",
       "PI-1091                          2            2                    2   \n",
       "PI-1098                          2            2                    2   \n",
       "PI-1113                          2            2                    2   \n",
       "PI-1131                          2            2                    2   \n",
       "PI-1137                          2            2                    2   \n",
       "PI-1145                          2            2                    2   \n",
       "PI-1161                          2            2                    2   \n",
       "PI-1175                          2            2                    2   \n",
       "SF-1009                          2            2                    2   \n",
       "SF-1073                          2            2                    2   \n",
       "SF-1118                          2            2                    2   \n",
       "SF-1129                          2            2                    2   \n",
       "SF-1130                          2            2                    2   \n",
       "SF-1162                          2            2                    2   \n",
       "SF-1267                          2            2                    2   \n",
       "SF-1316                          2            2                    2   \n",
       "\n",
       "         GOSE_Travel3M  GOSE_TravelBaseline3M  ...  \\\n",
       "BR-1043              2                      2  ...   \n",
       "BR-1078              2                      2  ...   \n",
       "PI-1014              2                      2  ...   \n",
       "PI-1020              2                      2  ...   \n",
       "PI-1051              2                      2  ...   \n",
       "PI-1052              2                      2  ...   \n",
       "PI-1053              2                      2  ...   \n",
       "PI-1061              2                      2  ...   \n",
       "PI-1065              2                      2  ...   \n",
       "PI-1091              2                      2  ...   \n",
       "PI-1098              2                      2  ...   \n",
       "PI-1113              2                      2  ...   \n",
       "PI-1131              2                      2  ...   \n",
       "PI-1137              2                      2  ...   \n",
       "PI-1145              2                      2  ...   \n",
       "PI-1161              2                      2  ...   \n",
       "PI-1175              2                      2  ...   \n",
       "SF-1009              2                      2  ...   \n",
       "SF-1073              2                      2  ...   \n",
       "SF-1118              2                      2  ...   \n",
       "SF-1129              2                      2  ...   \n",
       "SF-1130              2                      2  ...   \n",
       "SF-1162              2                      2  ...   \n",
       "SF-1267              2                      2  ...   \n",
       "SF-1316              2                      2  ...   \n",
       "\n",
       "         CVLTFreeRecallIntrusionsStandard_12mo  \\\n",
       "BR-1043                                    NaN   \n",
       "BR-1078                                    NaN   \n",
       "PI-1014                                    NaN   \n",
       "PI-1020                                    NaN   \n",
       "PI-1051                                    NaN   \n",
       "PI-1052                                    NaN   \n",
       "PI-1053                                    NaN   \n",
       "PI-1061                                    NaN   \n",
       "PI-1065                                    4.0   \n",
       "PI-1091                                    NaN   \n",
       "PI-1098                                    NaN   \n",
       "PI-1113                                    NaN   \n",
       "PI-1131                                    NaN   \n",
       "PI-1137                                    NaN   \n",
       "PI-1145                                    NaN   \n",
       "PI-1161                                    NaN   \n",
       "PI-1175                                    NaN   \n",
       "SF-1009                                    NaN   \n",
       "SF-1073                                    NaN   \n",
       "SF-1118                                    NaN   \n",
       "SF-1129                                    NaN   \n",
       "SF-1130                                    NaN   \n",
       "SF-1162                                    NaN   \n",
       "SF-1267                                    NaN   \n",
       "SF-1316                                    NaN   \n",
       "\n",
       "         CVLTCuedRecallIntrusionsRaw_12mo  \\\n",
       "BR-1043                               NaN   \n",
       "BR-1078                               NaN   \n",
       "PI-1014                               NaN   \n",
       "PI-1020                               NaN   \n",
       "PI-1051                               NaN   \n",
       "PI-1052                               NaN   \n",
       "PI-1053                               NaN   \n",
       "PI-1061                               NaN   \n",
       "PI-1065                              16.0   \n",
       "PI-1091                               NaN   \n",
       "PI-1098                               NaN   \n",
       "PI-1113                               NaN   \n",
       "PI-1131                               NaN   \n",
       "PI-1137                               NaN   \n",
       "PI-1145                               NaN   \n",
       "PI-1161                               NaN   \n",
       "PI-1175                               NaN   \n",
       "SF-1009                               NaN   \n",
       "SF-1073                               NaN   \n",
       "SF-1118                               NaN   \n",
       "SF-1129                               NaN   \n",
       "SF-1130                               NaN   \n",
       "SF-1162                               NaN   \n",
       "SF-1267                               NaN   \n",
       "SF-1316                               NaN   \n",
       "\n",
       "         CVLTCuedRecallIntrusionsStandard_12mo  CVLTTotalIntrusionsRaw_12mo  \\\n",
       "BR-1043                                    NaN                          NaN   \n",
       "BR-1078                                    NaN                          NaN   \n",
       "PI-1014                                    NaN                          NaN   \n",
       "PI-1020                                    NaN                          NaN   \n",
       "PI-1051                                    NaN                          NaN   \n",
       "PI-1052                                    NaN                          NaN   \n",
       "PI-1053                                    NaN                          NaN   \n",
       "PI-1061                                    NaN                          NaN   \n",
       "PI-1065                                    5.0                         28.0   \n",
       "PI-1091                                    NaN                          NaN   \n",
       "PI-1098                                    NaN                          NaN   \n",
       "PI-1113                                    NaN                          NaN   \n",
       "PI-1131                                    NaN                          NaN   \n",
       "PI-1137                                    NaN                          NaN   \n",
       "PI-1145                                    NaN                          NaN   \n",
       "PI-1161                                    NaN                          NaN   \n",
       "PI-1175                                    NaN                          NaN   \n",
       "SF-1009                                    NaN                          NaN   \n",
       "SF-1073                                    NaN                          NaN   \n",
       "SF-1118                                    NaN                          NaN   \n",
       "SF-1129                                    NaN                          NaN   \n",
       "SF-1130                                    NaN                          NaN   \n",
       "SF-1162                                    NaN                          NaN   \n",
       "SF-1267                                    NaN                          NaN   \n",
       "SF-1316                                    NaN                          NaN   \n",
       "\n",
       "         CVLTTotalIntrusionsStandard_12mo  CVLTTotalRepetitionsRaw_12mo  \\\n",
       "BR-1043                               NaN                           NaN   \n",
       "BR-1078                               NaN                           NaN   \n",
       "PI-1014                               NaN                           NaN   \n",
       "PI-1020                               NaN                           NaN   \n",
       "PI-1051                               NaN                           NaN   \n",
       "PI-1052                               NaN                           NaN   \n",
       "PI-1053                               NaN                           NaN   \n",
       "PI-1061                               NaN                           NaN   \n",
       "PI-1065                               5.0                           1.0   \n",
       "PI-1091                               NaN                           NaN   \n",
       "PI-1098                               NaN                           NaN   \n",
       "PI-1113                               NaN                           NaN   \n",
       "PI-1131                               NaN                           NaN   \n",
       "PI-1137                               NaN                           NaN   \n",
       "PI-1145                               NaN                           NaN   \n",
       "PI-1161                               NaN                           NaN   \n",
       "PI-1175                               NaN                           NaN   \n",
       "SF-1009                               NaN                           NaN   \n",
       "SF-1073                               NaN                           NaN   \n",
       "SF-1118                               NaN                           NaN   \n",
       "SF-1129                               NaN                           NaN   \n",
       "SF-1130                               NaN                           NaN   \n",
       "SF-1162                               NaN                           NaN   \n",
       "SF-1267                               NaN                           NaN   \n",
       "SF-1316                               NaN                           NaN   \n",
       "\n",
       "         CVLTTotalRepetitionsStandard_12mo  \\\n",
       "BR-1043                                NaN   \n",
       "BR-1078                                NaN   \n",
       "PI-1014                                NaN   \n",
       "PI-1020                                NaN   \n",
       "PI-1051                                NaN   \n",
       "PI-1052                                NaN   \n",
       "PI-1053                                NaN   \n",
       "PI-1061                                NaN   \n",
       "PI-1065                               -1.0   \n",
       "PI-1091                                NaN   \n",
       "PI-1098                                NaN   \n",
       "PI-1113                                NaN   \n",
       "PI-1131                                NaN   \n",
       "PI-1137                                NaN   \n",
       "PI-1145                                NaN   \n",
       "PI-1161                                NaN   \n",
       "PI-1175                                NaN   \n",
       "SF-1009                                NaN   \n",
       "SF-1073                                NaN   \n",
       "SF-1118                                NaN   \n",
       "SF-1129                                NaN   \n",
       "SF-1130                                NaN   \n",
       "SF-1162                                NaN   \n",
       "SF-1267                                NaN   \n",
       "SF-1316                                NaN   \n",
       "\n",
       "         CVLTTotalRecognitionHitsRawScore_12mo  \\\n",
       "BR-1043                                    NaN   \n",
       "BR-1078                                    NaN   \n",
       "PI-1014                                    NaN   \n",
       "PI-1020                                    NaN   \n",
       "PI-1051                                    NaN   \n",
       "PI-1052                                    NaN   \n",
       "PI-1053                                    NaN   \n",
       "PI-1061                                    NaN   \n",
       "PI-1065                                   15.0   \n",
       "PI-1091                                    NaN   \n",
       "PI-1098                                    NaN   \n",
       "PI-1113                                    NaN   \n",
       "PI-1131                                    NaN   \n",
       "PI-1137                                    NaN   \n",
       "PI-1145                                    NaN   \n",
       "PI-1161                                    NaN   \n",
       "PI-1175                                    NaN   \n",
       "SF-1009                                    NaN   \n",
       "SF-1073                                    NaN   \n",
       "SF-1118                                    NaN   \n",
       "SF-1129                                    NaN   \n",
       "SF-1130                                    NaN   \n",
       "SF-1162                                    NaN   \n",
       "SF-1267                                    NaN   \n",
       "SF-1316                                    NaN   \n",
       "\n",
       "         CVLTTotalRecognitionHitsStandardScore_12mo  \\\n",
       "BR-1043                                         NaN   \n",
       "BR-1078                                         NaN   \n",
       "PI-1014                                         NaN   \n",
       "PI-1020                                         NaN   \n",
       "PI-1051                                         NaN   \n",
       "PI-1052                                         NaN   \n",
       "PI-1053                                         NaN   \n",
       "PI-1061                                         NaN   \n",
       "PI-1065                                         0.0   \n",
       "PI-1091                                         NaN   \n",
       "PI-1098                                         NaN   \n",
       "PI-1113                                         NaN   \n",
       "PI-1131                                         NaN   \n",
       "PI-1137                                         NaN   \n",
       "PI-1145                                         NaN   \n",
       "PI-1161                                         NaN   \n",
       "PI-1175                                         NaN   \n",
       "SF-1009                                         NaN   \n",
       "SF-1073                                         NaN   \n",
       "SF-1118                                         NaN   \n",
       "SF-1129                                         NaN   \n",
       "SF-1130                                         NaN   \n",
       "SF-1162                                         NaN   \n",
       "SF-1267                                         NaN   \n",
       "SF-1316                                         NaN   \n",
       "\n",
       "         CVLTTotalRecognitionDiscriminabilityRawScore_12mo  \n",
       "BR-1043                                                NaN  \n",
       "BR-1078                                                NaN  \n",
       "PI-1014                                                NaN  \n",
       "PI-1020                                                NaN  \n",
       "PI-1051                                                NaN  \n",
       "PI-1052                                                NaN  \n",
       "PI-1053                                                NaN  \n",
       "PI-1061                                                NaN  \n",
       "PI-1065                                                1.0  \n",
       "PI-1091                                                NaN  \n",
       "PI-1098                                                NaN  \n",
       "PI-1113                                                NaN  \n",
       "PI-1131                                                NaN  \n",
       "PI-1137                                                NaN  \n",
       "PI-1145                                                NaN  \n",
       "PI-1161                                                NaN  \n",
       "PI-1175                                                NaN  \n",
       "SF-1009                                                NaN  \n",
       "SF-1073                                                NaN  \n",
       "SF-1118                                                NaN  \n",
       "SF-1129                                                NaN  \n",
       "SF-1130                                                NaN  \n",
       "SF-1162                                                NaN  \n",
       "SF-1267                                                NaN  \n",
       "SF-1316                                                NaN  \n",
       "\n",
       "[25 rows x 394 columns]"
      ]
     },
     "execution_count": 126,
     "metadata": {},
     "output_type": "execute_result"
    }
   ],
   "source": [
    "newdata_oc[gose3m==1]"
   ]
  },
  {
   "cell_type": "code",
   "execution_count": 120,
   "metadata": {},
   "outputs": [
    {
     "name": "stdout",
     "output_type": "stream",
     "text": [
      "27\n",
      "(27, 830)\n",
      "(27, 394)\n"
     ]
    }
   ],
   "source": [
    "count=0\n",
    "patients3m = []\n",
    "patients6m = []\n",
    "patients1 = []\n",
    "patients2 = []\n",
    "\n",
    "for i in range(586):\n",
    "    if gose3m[i] == 1 or gose3m[i] == 2:\n",
    "        patients3m.append(i)\n",
    "    if gose3m[i] ==1:\n",
    "        patients1.append(i)\n",
    "    if gose3m[i]==2:\n",
    "        patients2.append(i)\n",
    "    count+=1\n",
    "print(len(patients3m))\n",
    "bm_gose3m = np.zeros((len(patients3m), newdata_bm.shape[1]))\n",
    "oc_gose3m = np.zeros((len(patients3m), newdata_oc.shape[1]))\n",
    "for ii,p in enumerate(patients3m):\n",
    "    bm_gose3m[ii,:] = newdata_bm.iloc[p,:]\n",
    "    oc_gose3m[ii,:] = newdata_oc.iloc[p,:]\n",
    "print(bm_gose3m.shape)\n",
    "print(oc_gose3m.shape)"
   ]
  },
  {
   "cell_type": "code",
   "execution_count": 121,
   "metadata": {},
   "outputs": [],
   "source": [
    "fname = '/Users/ahyeon/data/activ/gose1and2.h5'\n",
    "TrackTBIFile.write(fname, bm_gose3m, oc_gose3m)"
   ]
  },
  {
   "cell_type": "code",
   "execution_count": 1,
   "metadata": {},
   "outputs": [
    {
     "data": {
      "text/plain": [
       "274"
      ]
     },
     "execution_count": 1,
     "metadata": {},
     "output_type": "execute_result"
    }
   ],
   "source": [
    "247+27"
   ]
  },
  {
   "cell_type": "code",
   "execution_count": 78,
   "metadata": {},
   "outputs": [],
   "source": [
    "## shuffle data\n",
    "\n",
    "fname = '/Users/ahyeon/data/activ/gose1and2.h5'\n",
    "f = h5py.File(fname, 'r')\n",
    "bm = f['biomarkers'][:]\n",
    "bm_names = f['biomarker_features'][:].astype(str)\n",
    "oc = f['outcomes'][:]\n",
    "oc_names = f['outcome_features'][:].astype(str)\n",
    "ids = f['patient_ids'][:].astype(str)"
   ]
  },
  {
   "cell_type": "code",
   "execution_count": 73,
   "metadata": {},
   "outputs": [],
   "source": [
    "from sklearn.utils import shuffle"
   ]
  },
  {
   "cell_type": "code",
   "execution_count": 74,
   "metadata": {},
   "outputs": [],
   "source": [
    "bm_shuffle, oc_shuffle, id_shuffle = shuffle(bm,oc,ids)"
   ]
  },
  {
   "cell_type": "code",
   "execution_count": 81,
   "metadata": {},
   "outputs": [],
   "source": [
    "fname_shuffled = '/Users/ahyeon/data/activ/gose1and2_shuffled.h5'\n",
    "TrackTBIFile.write(fname_shuffled, bm_shuffle, oc_shuffle, biomarker_features = bm_names, outcome_features=oc_names, patient_ids=id_shuffle)"
   ]
  },
  {
   "cell_type": "markdown",
   "metadata": {},
   "source": [
    "## GOSE 1 and 2 Addition Accuracy Plots"
   ]
  },
  {
   "cell_type": "code",
   "execution_count": 3,
   "metadata": {},
   "outputs": [],
   "source": [
    "from activ import load_data, data_normalization\n",
    "%matplotlib inline\n",
    "import matplotlib.pyplot as plt\n",
    "from activ.analytics import heatmap, nmf_bases_heatmap\n",
    "from matplotlib.backends.backend_pdf import PdfPages\n",
    "from IPython.display import display, Latex, Markdown\n",
    "from scipy.stats import norm, sem\n",
    "from scipy.stats import iqr\n",
    "from scipy import interpolate"
   ]
  },
  {
   "cell_type": "code",
   "execution_count": 4,
   "metadata": {},
   "outputs": [],
   "source": [
    "def conf_alliter(size, predicted, actual):\n",
    "    confalliter = []\n",
    "    for j in range(50):\n",
    "        conf = np.zeros((size,size))\n",
    "        labs = list(map(int, actual[j][size-2]))\n",
    "        preds = list(map(int, predicted[j][size-2]))\n",
    "        for l, p in zip(labs, preds):\n",
    "            conf[l,p] += 1\n",
    "        confalliter.append(conf)\n",
    "    return confalliter\n",
    "\n",
    "def accuracy(mat):\n",
    "    return mat.trace()/mat.sum()"
   ]
  },
  {
   "cell_type": "code",
   "execution_count": 95,
   "metadata": {},
   "outputs": [
    {
     "name": "stdout",
     "output_type": "stream",
     "text": [
      "(50, 49, 275)\n",
      "(2, 2)\n",
      "(3, 3)\n",
      "(4, 4)\n",
      "(5, 5)\n",
      "(6, 6)\n",
      "(7, 7)\n",
      "(8, 8)\n",
      "(9, 9)\n",
      "(10, 10)\n",
      "(11, 11)\n",
      "(12, 12)\n",
      "(13, 13)\n",
      "(14, 14)\n",
      "(15, 15)\n",
      "(16, 16)\n",
      "(17, 17)\n",
      "(18, 18)\n",
      "(19, 19)\n",
      "(20, 20)\n",
      "(21, 21)\n",
      "(22, 22)\n",
      "(23, 23)\n",
      "(24, 24)\n",
      "(25, 25)\n",
      "(26, 26)\n",
      "(27, 27)\n",
      "(28, 28)\n",
      "(29, 29)\n",
      "(30, 30)\n",
      "(31, 31)\n",
      "(32, 32)\n",
      "(33, 33)\n",
      "(34, 34)\n",
      "(35, 35)\n",
      "(36, 36)\n",
      "(37, 37)\n",
      "(38, 38)\n",
      "(39, 39)\n",
      "(40, 40)\n",
      "(41, 41)\n",
      "(42, 42)\n",
      "(43, 43)\n",
      "(44, 44)\n",
      "(45, 45)\n",
      "(46, 46)\n",
      "(47, 47)\n",
      "(48, 48)\n",
      "(49, 49)\n",
      "(50, 50)\n"
     ]
    }
   ],
   "source": [
    "# all outcomes and biomarkers\n",
    "\n",
    "\n",
    "path = '/Users/ahyeon/Desktop/activ misc/gose1and2_results.h5'\n",
    "f = h5py.File(path, 'r')\n",
    "predictions = np.squeeze(f['score'][:], axis=1)\n",
    "norm_predictions = np.squeeze(f['norm_score'][:], axis=1)\n",
    "print(predictions.shape)\n",
    "cluster_sizes = f['cluster_sizes'][:]\n",
    "labels = np.squeeze(f['clusters'][:], axis=1)\n",
    "fold_over_chance = np.zeros((len(cluster_sizes), 50))\n",
    "raw_acc = np.zeros((len(cluster_sizes), 50))\n",
    "normalized_acc = np.zeros((len(cluster_sizes), 50))\n",
    "for jj,c in enumerate(cluster_sizes):\n",
    "    all50mat = conf_alliter(c, predictions, labels)\n",
    "    norm_all50mat = conf_alliter(c, norm_predictions, labels)\n",
    "    print(norm_all50mat[0].shape)\n",
    "    acc = [accuracy(i) for i in all50mat]\n",
    "    norm_acc = [accuracy(i) for i in norm_all50mat]\n",
    "    foc = [float(x/y) for x, y in zip(acc, norm_acc)]\n",
    "    fold_over_chance[jj,:] = foc\n",
    "    raw_acc[jj,:] = acc\n",
    "    normalized_acc[jj,:] = norm_acc\n",
    "\n",
    "\n",
    "# plt.rcParams[\"figure.figsize\"] = [10,10]\n",
    "# cmap = plt.get_cmap(\"tab10\")\n",
    "# lower = [np.percentile(fold_over_chance[i,:], 25) for i in range(49)]\n",
    "# upper = [np.percentile(fold_over_chance[i,:], 75) for i in range(49)]\n",
    "# med = np.median(fold_over_chance, axis=1)\n",
    "# raw_med = np.median(raw_acc, axis=1)\n",
    "# raw_lower = [np.percentile(raw_acc[i,:], 25) for i in range(49)]\n",
    "# raw_upper = [np.percentile(raw_acc[i,:], 75) for i in range(49)]\n",
    "# norm_med = np.median(normalized_acc, axis=1)\n",
    "# norm_lower = [np.percentile(normalized_acc[i,:], 25) for i in range(49)]\n",
    "# norm_upper = [np.percentile(normalized_acc[i,:], 75) for i in range(49)]\n",
    "\n",
    "# # plt.ylim((1, 4.5))\n",
    "# plt.errorbar(cluster_sizes, med, yerr=[med-lower,upper-med], color = 'red',fmt='-o', label='Fold over chance')\n",
    "# plt.errorbar(cluster_sizes, raw_med, yerr=[raw_med-raw_lower,raw_upper-raw_med], color='black',fmt='-o', label='Raw accuracy')\n",
    "# plt.errorbar(cluster_sizes, norm_med, yerr=[norm_med-norm_lower, norm_upper-norm_med], color='grey',fmt='-o', label='Chance accuracy')\n",
    "\n",
    "\n",
    "# plt.title(\"GOSE 1 and 2 Patients Included (275 Patients Total)\\nFold over Chance by cluster size across all iterations\\nNo Features Dropped\")\n",
    "# plt.xlabel(\"Cluster sizes\")\n",
    "# plt.ylabel(\"Fold over chance\")\n",
    "# plt.legend()\n",
    "\n",
    "# # plt.savefig('/Users/ahyeon/Desktop/activ misc/no_transform_foc_error_bars.pdf')"
   ]
  },
  {
   "cell_type": "code",
   "execution_count": 10,
   "metadata": {},
   "outputs": [
    {
     "name": "stderr",
     "output_type": "stream",
     "text": [
      "/Users/ahyeon/anaconda3/envs/activ/lib/python3.7/site-packages/ipykernel_launcher.py:18: RuntimeWarning: divide by zero encountered in double_scalars\n"
     ]
    },
    {
     "data": {
      "image/png": "[encoded data removed]",
      "text/plain": [
       "<Figure size 720x720 with 1 Axes>"
      ]
     },
     "metadata": {
      "needs_background": "light"
     },
     "output_type": "display_data"
    }
   ],
   "source": [
    "# all outcomes and biomarkers\n",
    "\n",
    "\n",
    "path = '/Users/ahyeon/Desktop/activ misc/gose1and2_shuffled_results.h5'\n",
    "f = h5py.File(path, 'r')\n",
    "predictions = np.squeeze(f['score'][:], axis=1)\n",
    "norm_predictions = np.squeeze(f['norm_score'][:], axis=1)\n",
    "cluster_sizes = f['cluster_sizes'][:]\n",
    "labels = np.squeeze(f['clusters'][:], axis=1)\n",
    "fold_over_chance = np.zeros((len(cluster_sizes), 50))\n",
    "raw_acc = np.zeros((len(cluster_sizes), 50))\n",
    "normalized_acc = np.zeros((len(cluster_sizes), 50))\n",
    "for jj,c in enumerate(cluster_sizes):\n",
    "    all50mat = conf_alliter(c, predictions, labels)\n",
    "    norm_all50mat = conf_alliter(c, norm_predictions, labels)\n",
    "    acc = [accuracy(i) for i in all50mat]\n",
    "    norm_acc = [accuracy(i) for i in norm_all50mat]\n",
    "    foc = [float(x/y) for x, y in zip(acc, norm_acc)]\n",
    "    fold_over_chance[jj,:] = foc\n",
    "    raw_acc[jj,:] = acc\n",
    "    normalized_acc[jj,:] = norm_acc\n",
    "\n",
    "\n",
    "plt.rcParams[\"figure.figsize\"] = [10,10]\n",
    "cmap = plt.get_cmap(\"tab10\")\n",
    "lower = np.asarray([np.percentile(fold_over_chance[i,:], 25) for i in range(49)])\n",
    "upper = np.asarray([np.percentile(fold_over_chance[i,:], 75) for i in range(49)])\n",
    "med = np.median(fold_over_chance, axis=1)\n",
    "raw_med = np.median(raw_acc, axis=1)\n",
    "raw_lower = [np.percentile(raw_acc[i,:], 25) for i in range(49)]\n",
    "raw_upper = [np.percentile(raw_acc[i,:], 75) for i in range(49)]\n",
    "norm_med = np.median(normalized_acc, axis=1)\n",
    "norm_lower = [np.percentile(normalized_acc[i,:], 25) for i in range(49)]\n",
    "norm_upper = [np.percentile(normalized_acc[i,:], 75) for i in range(49)]\n",
    "yerr = upper-lower\n",
    "rel_iqr = yerr/med\n",
    "\n",
    "# plt.ylim((1, 4.5))\n",
    "plt.errorbar(cluster_sizes, med, yerr=[med-lower,upper-med], color = 'red',fmt='-o', label='Fold over chance')\n",
    "# plt.errorbar(cluster_sizes, raw_med, yerr=[raw_med-raw_lower,raw_upper-raw_med], color='black',fmt='-o', label='Raw accuracy')\n",
    "# plt.errorbar(cluster_sizes, norm_med, yerr=[norm_med-norm_lower, norm_upper-norm_med], color='grey',fmt='-o', label='Chance accuracy')\n",
    "\n",
    "\n",
    "# plt.title(\"GOSE 1 and 2 Patients Included and Shuffled\\n275 Patients Total\\nFold over Chance by cluster size across all iterations\", fontsize=20)\n",
    "plt.xlabel(\"Cluster sizes\")\n",
    "plt.ylabel(\"Fold over chance\")\n",
    "\n",
    "plt.savefig('/Users/ahyeon/Desktop/activ misc/gose12_foc.pdf')"
   ]
  },
  {
   "cell_type": "code",
   "execution_count": 6,
   "metadata": {},
   "outputs": [
    {
     "name": "stderr",
     "output_type": "stream",
     "text": [
      "/Users/ahyeon/anaconda3/envs/activ/lib/python3.7/site-packages/ipykernel_launcher.py:18: RuntimeWarning: divide by zero encountered in double_scalars\n"
     ]
    },
    {
     "data": {
      "image/png": "[encoded data removed]",
      "text/plain": [
       "<Figure size 720x720 with 1 Axes>"
      ]
     },
     "metadata": {
      "needs_background": "light"
     },
     "output_type": "display_data"
    }
   ],
   "source": [
    "# all outcomes and biomarkers\n",
    "\n",
    "\n",
    "path = '/Users/ahyeon/Desktop/activ misc/gose1and2_shuffled_results.h5'\n",
    "f = h5py.File(path, 'r')\n",
    "predictions = np.squeeze(f['score'][:], axis=1)\n",
    "norm_predictions = np.squeeze(f['norm_score'][:], axis=1)\n",
    "cluster_sizes = f['cluster_sizes'][:]\n",
    "labels = np.squeeze(f['clusters'][:], axis=1)\n",
    "fold_over_chance = np.zeros((len(cluster_sizes), 50))\n",
    "raw_acc = np.zeros((len(cluster_sizes), 50))\n",
    "normalized_acc = np.zeros((len(cluster_sizes), 50))\n",
    "for jj,c in enumerate(cluster_sizes):\n",
    "    all50mat = conf_alliter(c, predictions, labels)\n",
    "    norm_all50mat = conf_alliter(c, norm_predictions, labels)\n",
    "    acc = [accuracy(i) for i in all50mat]\n",
    "    norm_acc = [accuracy(i) for i in norm_all50mat]\n",
    "    foc = [float(x/y) for x, y in zip(acc, norm_acc)]\n",
    "    fold_over_chance[jj,:] = foc\n",
    "    raw_acc[jj,:] = acc\n",
    "    normalized_acc[jj,:] = norm_acc\n",
    "\n",
    "\n",
    "plt.rcParams[\"figure.figsize\"] = [10,10]\n",
    "cmap = plt.get_cmap(\"tab10\")\n",
    "lower = np.asarray([np.percentile(fold_over_chance[i,:], 25) for i in range(49)])\n",
    "upper = np.asarray([np.percentile(fold_over_chance[i,:], 75) for i in range(49)])\n",
    "med = np.median(fold_over_chance, axis=1)\n",
    "raw_med = np.median(raw_acc, axis=1)\n",
    "raw_lower = [np.percentile(raw_acc[i,:], 25) for i in range(49)]\n",
    "raw_upper = [np.percentile(raw_acc[i,:], 75) for i in range(49)]\n",
    "norm_med = np.median(normalized_acc, axis=1)\n",
    "norm_lower = [np.percentile(normalized_acc[i,:], 25) for i in range(49)]\n",
    "norm_upper = [np.percentile(normalized_acc[i,:], 75) for i in range(49)]\n",
    "yerr = upper-lower\n",
    "\n",
    "plt.errorbar(cluster_sizes, raw_med, yerr=[raw_med-raw_lower,raw_upper-raw_med], color='black',fmt='-o', label='Raw accuracy')\n",
    "plt.errorbar(cluster_sizes, norm_med, yerr=[norm_med-norm_lower, norm_upper-norm_med], color='grey',fmt='-o', label='Chance accuracy')\n",
    "\n",
    "\n",
    "# plt.title(\"GOSE 1 and 2 Patients Included and Shuffled\\n275 Patients Total\\nFold over Chance by cluster size across all iterations\", fontsize=20)\n",
    "plt.xlabel(\"Cluster sizes\")\n",
    "plt.ylabel(\"Fold over chance\")\n",
    "plt.legend()\n",
    "\n",
    "plt.savefig('/Users/ahyeon/Desktop/activ misc/gose12_raw_chance.pdf')"
   ]
  },
  {
   "cell_type": "code",
   "execution_count": 11,
   "metadata": {},
   "outputs": [
    {
     "data": {
      "image/png": "[encoded data removed]",
      "text/plain": [
       "<Figure size 720x720 with 1 Axes>"
      ]
     },
     "metadata": {
      "needs_background": "light"
     },
     "output_type": "display_data"
    }
   ],
   "source": [
    "plt.plot(cluster_sizes, rel_iqr, '-o', color='black')\n",
    "plt.title(\"Normalized IQR of Fold over Chance\\n275 Patients Total\", fontsize=20)\n",
    "plt.xlabel(\"Cluster sizes\", fontsize=20)\n",
    "plt.ylabel(\"Normalized IQR\", fontsize=20)\n",
    "plt.savefig('/Users/ahyeon/Desktop/activ misc/IQR_gose1and2_shuffled.pdf')"
   ]
  },
  {
   "cell_type": "code",
   "execution_count": 9,
   "metadata": {},
   "outputs": [
    {
     "data": {
      "text/plain": [
       "28"
      ]
     },
     "execution_count": 9,
     "metadata": {},
     "output_type": "execute_result"
    }
   ],
   "source": [
    "275-247"
   ]
  },
  {
   "cell_type": "code",
   "execution_count": null,
   "metadata": {},
   "outputs": [],
   "source": []
  }
 ],
 "metadata": {
  "kernelspec": {
   "display_name": "Python [conda env:activ]",
   "language": "python",
   "name": "conda-env-activ-py"
  },
  "language_info": {
   "codemirror_mode": {
    "name": "ipython",
    "version": 3
   },
   "file_extension": ".py",
   "mimetype": "text/x-python",
   "name": "python",
   "nbconvert_exporter": "python",
   "pygments_lexer": "ipython3",
   "version": "3.7.2"
  }
 },
 "nbformat": 4,
 "nbformat_minor": 2
}

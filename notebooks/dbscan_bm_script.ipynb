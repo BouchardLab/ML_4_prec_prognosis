{
 "cells": [
  {
   "cell_type": "code",
   "execution_count": 4,
   "metadata": {},
   "outputs": [],
   "source": [
    "import numpy as np\n",
    "import matplotlib.pyplot as plt\n",
    "import scipy\n",
    "from activ import load_data\n",
    "from PyUoI.UoINMF import UoINMF\n",
    "from sklearn.model_selection import train_test_split\n",
    "from sklearn.cluster import DBSCAN\n",
    "from activ.data_normalization import data_normalization\n",
    "from scipy.spatial.distance import pdist\n",
    "from sklearn.model_selection import KFold\n",
    "import h5py"
   ]
  },
  {
   "cell_type": "code",
   "execution_count": 13,
   "metadata": {},
   "outputs": [],
   "source": [
    "data = load_data()\n",
    "data_bm = data_normalization(data.biomarkers, 'positive')\n",
    "knum = 2\n",
    "kf = KFold(n_splits=knum)\n",
    "# eps = [0.2, 0.3, 0.4, 0.5, 0.6, 0.7, 0.8]\n",
    "eps = [0.2]\n",
    "# minsamples = np.arange(20,80,5)\n",
    "minsamples = np.arange(20,30,5)\n",
    "error_mat = np.zeros((len(eps), len(minsamples), knum))\n",
    "k_mat = np.zeros((len(eps), len(minsamples), knum))\n",
    "W_mat = np.zeros((len(eps), len(minsamples), knum))"
   ]
  },
  {
   "cell_type": "code",
   "execution_count": 20,
   "metadata": {},
   "outputs": [
    {
     "name": "stdout",
     "output_type": "stream",
     "text": [
      "(123, 1)\n",
      "(123, 1)\n",
      "(124, 1)\n",
      "(124, 1)\n"
     ]
    }
   ],
   "source": [
    "for cv, (train_index, test_index) in enumerate(kf.split(data_bm)):\n",
    "    train, test = data_bm[train_index], data_bm[test_index]\n",
    "    train_bm = train\n",
    "    test_bm = test\n",
    "    for ii,e in enumerate(eps):\n",
    "        for jj,m in enumerate(minsamples):\n",
    "            db = DBSCAN(eps=e, min_samples=m)\n",
    "            uoinmf = UoINMF(ranks=list(range(2,20)),dbscan=db)\n",
    "            decomp = uoinmf.fit(train_bm)\n",
    "            weight = uoinmf.fit_transform(train_bm)\n",
    "            print(weight.shape)\n",
    "            H = decomp.components_\n",
    "            k = H.shape[0]\n",
    "            W = decomp.transform(test_bm, reconstruction_err=True)\n",
    "            error = np.linalg.norm(test_bm-W@H)\n",
    "            error_mat[ii,jj,cv] = error\n",
    "            k_mat[ii,jj,cv] = k\n",
    "#             plt.figure()\n",
    "#             plt.matshow(weight, cmap='gray_r')\n"
   ]
  },
  {
   "cell_type": "code",
   "execution_count": 32,
   "metadata": {},
   "outputs": [],
   "source": [
    "f = h5py.File('optimize_k_mat_bm_prac.h5', 'w')\n",
    "f.create_dataset('error', data=error_mat)\n",
    "f.create_dataset('k', data=k_mat)\n",
    "f.create_dataset('eps', data=eps)\n",
    "f.create_dataset('minsamples', data=minsamples)\n",
    "f.create_dataset('W', data=W_mat)\n",
    "f.close()"
   ]
  },
  {
   "cell_type": "code",
   "execution_count": null,
   "metadata": {},
   "outputs": [],
   "source": []
  }
 ],
 "metadata": {
  "kernelspec": {
   "display_name": "Python [conda env:activ]",
   "language": "python",
   "name": "conda-env-activ-py"
  },
  "language_info": {
   "codemirror_mode": {
    "name": "ipython",
    "version": 3
   },
   "file_extension": ".py",
   "mimetype": "text/x-python",
   "name": "python",
   "nbconvert_exporter": "python",
   "pygments_lexer": "ipython3",
   "version": "3.6.2"
  }
 },
 "nbformat": 4,
 "nbformat_minor": 2
}

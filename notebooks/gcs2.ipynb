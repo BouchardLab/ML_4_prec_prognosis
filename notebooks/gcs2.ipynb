{
 "cells": [
  {
   "cell_type": "code",
   "execution_count": 2,
   "metadata": {},
   "outputs": [],
   "source": [
    "import numpy as np\n",
    "import matplotlib.pyplot as plt\n",
    "import scipy\n",
    "import h5py\n",
    "from scipy.stats import entropy\n",
    "from collections import Counter\n",
    "from activ import load_data\n",
    "import pandas as pd\n",
    "from matplotlib.backends.backend_pdf import PdfPages"
   ]
  },
  {
   "cell_type": "code",
   "execution_count": 3,
   "metadata": {},
   "outputs": [
    {
     "data": {
      "text/plain": [
       "(586, 919)"
      ]
     },
     "execution_count": 3,
     "metadata": {},
     "output_type": "execute_result"
    }
   ],
   "source": [
    "fulldata = pd.read_csv('/Users/ahyeon/Desktop/TBIanalysis/data/preprocessed_data_matrix.csv', encoding = \"ISO-8859-1\")\n",
    "fulldata.shape"
   ]
  },
  {
   "cell_type": "code",
   "execution_count": 4,
   "metadata": {},
   "outputs": [],
   "source": [
    "subdata = load_data()\n",
    "nmfdata = load_data(uoinmf=True)\n",
    "sub_oc_features = subdata.outcome_features\n",
    "sub_bm_features = subdata.biomarker_features\n",
    "oc_bases = nmfdata.outcome_bases\n",
    "sub_oc = subdata.outcomes\n",
    "sub_bm = subdata.biomarkers"
   ]
  },
  {
   "cell_type": "code",
   "execution_count": 5,
   "metadata": {},
   "outputs": [
    {
     "name": "stdout",
     "output_type": "stream",
     "text": [
      "133 GcsPreHospScoreTimeSinceInj\n",
      "134 GcsPreHospScore\n",
      "156 GcsEDArrScoreTimeSinceInj\n",
      "157 GcsEDArrAssmtCond\n",
      "158 admGCSeyes\n",
      "159 admGCSeyes.t\n",
      "160 admGCSverb\n",
      "161 admGCSverb.t\n",
      "162 admGCSmotor\n",
      "163 admGCSmotor.t\n",
      "164 GcsEDArrScore\n",
      "165 admGCSuntest\n",
      "166 admGCS\n",
      "167 GCSMildModSevereRaw\n",
      "168 GCSMildModSevereRecode\n",
      "169 GcsEDArrPupils\n",
      "170 GcsEDPupilSizeR\n",
      "171 GcsEDArrPupilReactR\n",
      "172 GcsEDPupilSizeL\n",
      "173 GcsEDArrPupilReactL\n",
      "181 GcsEDDischEyes\n",
      "182 GcsEDDischVerbal\n",
      "183 GcsEDDischMotor\n",
      "184 GcsEDDischPupils\n",
      "185 GcsEDDischScore\n",
      "186 GcsEDDischScoreTimeSinceInj\n",
      "187 GcsEDDischAssmtCond\n",
      "749 GranulocyteColonyStimulatingFactorGCSFpgml\n"
     ]
    }
   ],
   "source": [
    "for ii,c in enumerate(fulldata.columns):\n",
    "    if 'Gcs' in c or 'GCS' in c:\n",
    "        print(ii,c)"
   ]
  },
  {
   "cell_type": "code",
   "execution_count": 10,
   "metadata": {},
   "outputs": [
    {
     "name": "stdout",
     "output_type": "stream",
     "text": [
      "106 admGCSeyes\n",
      "107 admGCSeyes.t\n",
      "108 admGCSverb\n",
      "109 admGCSverb.t\n",
      "110 admGCSmotor\n",
      "111 admGCSmotor.t\n",
      "112 admGCSuntest\n",
      "113 admGCS\n",
      "114 GCSMildModSevereRecode\n"
     ]
    }
   ],
   "source": [
    "for ii,c in enumerate(sub_bm_features):\n",
    "    if 'Gcs' in c or 'GCS' in c:\n",
    "        print(ii,c)"
   ]
  },
  {
   "cell_type": "code",
   "execution_count": 12,
   "metadata": {},
   "outputs": [
    {
     "data": {
      "text/plain": [
       "<activ.readfile.TrackTBIFile at 0x11d670198>"
      ]
     },
     "execution_count": 12,
     "metadata": {},
     "output_type": "execute_result"
    }
   ],
   "source": [
    "subdata"
   ]
  },
  {
   "cell_type": "code",
   "execution_count": 13,
   "metadata": {},
   "outputs": [
    {
     "data": {
      "text/plain": [
       "array([4., 4., 4., 4., 4., 4., 4., 4., 1., 4., 4., 4., 4., 4., 4., 4., 4.,\n",
       "       4., 1., 4., 4., 4., 1., 4., 4., 4., 4., 1., 1., 4., 4., 4., 4., 1.,\n",
       "       4., 4., 4., 4., 4., 4., 4., 1., 0., 4., 4., 1., 4., 1., 1., 4., 4.,\n",
       "       1., 4., 4., 4., 4., 4., 4., 4., 4., 4., 0., 4., 1., 0., 1., 4., 4.,\n",
       "       1., 1., 4., 3., 4., 4., 4., 4., 4., 4., 4., 4., 2., 4., 4., 4., 4.,\n",
       "       4., 4., 4., 4., 4., 3., 2., 4., 4., 4., 4., 4., 4., 4., 4., 4., 4.,\n",
       "       4., 4., 4., 4., 4., 4., 4., 4., 4., 4., 4., 4., 4., 3., 4., 4., 4.,\n",
       "       4., 4., 4., 4., 4., 4., 4., 4., 4., 4., 4., 4., 4., 4., 4., 4., 2.,\n",
       "       0., 4., 4., 4., 4., 2., 4., 4., 4., 4., 4., 4., 4., 2., 1., 4., 1.,\n",
       "       4., 4., 4., 4., 4., 4., 4., 4., 2., 4., 4., 4., 4., 4., 4., 4., 4.,\n",
       "       4., 4., 4., 4., 4., 4., 4., 4., 4., 4., 1., 4., 4., 4., 4., 4., 1.,\n",
       "       4., 4., 4., 4., 4., 4., 4., 3., 4., 4., 3., 4., 4., 4., 4., 4., 4.,\n",
       "       4., 4., 4., 4., 4., 4., 4., 4., 1., 4., 4., 4., 4., 4., 4., 4., 4.,\n",
       "       4., 4., 4., 3., 4., 4., 4., 4., 1., 2., 4., 4., 4., 4., 4., 3., 4.,\n",
       "       4., 4., 4., 4., 4., 4., 4., 4., 4.])"
      ]
     },
     "execution_count": 13,
     "metadata": {},
     "output_type": "execute_result"
    }
   ],
   "source": [
    "sub_bm[:,106]"
   ]
  },
  {
   "cell_type": "code",
   "execution_count": 8,
   "metadata": {},
   "outputs": [
    {
     "name": "stdout",
     "output_type": "stream",
     "text": [
      "5\n",
      "5\n",
      "5\n"
     ]
    },
    {
     "data": {
      "image/png": "[encoded data removed]",
      "text/plain": [
       "<Figure size 360x1080 with 3 Axes>"
      ]
     },
     "metadata": {},
     "output_type": "display_data"
    }
   ],
   "source": [
    "sub = [106,108,110]\n",
    "full = [158,160,162]\n",
    "\n",
    "names = ['admGCSeyes', 'admGCSverb', 'admGCSmotor', 'admGCSuntest', 'admGCS', 'GCSMildModSevereRecode']\n",
    "\n",
    "fig, ax = plt.subplots(3,1,sharey=True,figsize=(5,15))\n",
    "ax = ax.flatten()\n",
    "count=0\n",
    "\n",
    "for x, y, name in zip(sub, full, names):\n",
    "    sub = sub_bm[:,x]\n",
    "    full = fulldata.iloc[:,y]\n",
    "    dat = sub\n",
    "    dat2 = full\n",
    "    \n",
    "    num_na2 = dat2.isna().sum()\n",
    "    print(num_na2)\n",
    "    nonresponsive = 29+13\n",
    "#     nonresponsive2 = 13\n",
    "\n",
    "    dat2_dropna = dat2.dropna()\n",
    "    counts, bins, bars = ax[count].hist([sub, dat2_dropna], align='left', label=['sub','full'], \n",
    "                     color=['red','black'], bins=np.arange(1,6))\n",
    "    length = (bins[1]-bins[0])/4\n",
    "    \n",
    "    mx = max(dat2_dropna)\n",
    "    na_index = -mx*(1+1/5) \n",
    "    na_index2 = -mx*(1+2/5)\n",
    "        \n",
    "    ax[count].bar(na_index, nonresponsive, color='pink', label='nonresponsive for 6M and 12M', width=length)\n",
    "    ax[count].legend()\n",
    "    \n",
    "    ax[count].set_title('{}'.format(name))\n",
    "    ax[count].legend()\n",
    "    count += 1\n",
    "plt.savefig('/Users/ahyeon/Desktop/activ misc/gcs2.pdf')"
   ]
  },
  {
   "cell_type": "code",
   "execution_count": null,
   "metadata": {},
   "outputs": [],
   "source": []
  }
 ],
 "metadata": {
  "kernelspec": {
   "display_name": "Python 3",
   "language": "python",
   "name": "python3"
  },
  "language_info": {
   "codemirror_mode": {
    "name": "ipython",
    "version": 3
   },
   "file_extension": ".py",
   "mimetype": "text/x-python",
   "name": "python",
   "nbconvert_exporter": "python",
   "pygments_lexer": "ipython3",
   "version": "3.6.2"
  }
 },
 "nbformat": 4,
 "nbformat_minor": 2
}

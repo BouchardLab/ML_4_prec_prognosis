{
 "cells": [
  {
   "cell_type": "code",
   "execution_count": 2,
   "metadata": {},
   "outputs": [],
   "source": [
    "import numpy as np\n",
    "import matplotlib.pyplot as plt\n",
    "import scipy\n",
    "import h5py\n",
    "from scipy.stats import entropy\n",
    "from collections import Counter\n",
    "from activ import load_data\n",
    "import pandas as pd\n",
    "from matplotlib.backends.backend_pdf import PdfPages"
   ]
  },
  {
   "cell_type": "code",
   "execution_count": 3,
   "metadata": {},
   "outputs": [
    {
     "data": {
      "text/plain": [
       "(586, 919)"
      ]
     },
     "execution_count": 3,
     "metadata": {},
     "output_type": "execute_result"
    }
   ],
   "source": [
    "fulldata = pd.read_csv('/Users/ahyeon/Desktop/TBIanalysis/data/preprocessed_data_matrix.csv', encoding = \"ISO-8859-1\")\n",
    "fulldata.shape"
   ]
  },
  {
   "cell_type": "code",
   "execution_count": 4,
   "metadata": {},
   "outputs": [
    {
     "data": {
      "text/plain": [
       "array(['Age', 'Sex', 'RaceAmericanIndian', 'RaceAmAl', 'RaceAsian',\n",
       "       'RaceBlack', 'RaceHAPI', 'RaceWhite', 'RACE_3CAT_Black',\n",
       "       'RACE_3CAT_Other', 'RACE_3CAT_White', 'PMH_Cardiac_ANY',\n",
       "       'PMH_Cardiac_CHD', 'PMH_Cardiac_Arrythmia',\n",
       "       'PMH_Cardiac_IschemicHD', 'PMH_Cardiac_ValvularHD',\n",
       "       'PMH_Cardiac_HTN', 'PMH_Cardiac_Thromboembolic', 'PMH_Cardiac_PVD',\n",
       "       'PMH_Cardiac_Other', 'PMH_Endocrine_ANY', 'PMH_Endocrine_Thyroid',\n",
       "       'PMH_Endocrine_DiabetesIDDM', 'PMH_Endocrine_DiabetesNIDDM',\n",
       "       'PMH_Endocrine_Other', 'PMH_EENT_ANY', 'PMH_EENT_Sinusitis',\n",
       "       'PMH_EENT_Vision', 'PMH_EENT_Hearing', 'PMH_EENT_Other',\n",
       "       'PMH_GI_ANY', 'PMH_GI_GERD', 'PMH_GI_Bleed', 'PMH_GI_IBS',\n",
       "       'PMH_GI_Other', 'PMH_Hema_ANY', 'PMH_Hema_Anemia', 'PMH_Hema_HIV',\n",
       "       'PMH_Hema_AIDS', 'PMH_Hema_Other', 'PMH_Hepatic_ANY',\n",
       "       'PMH_Hepatic_Hepatitis', 'PMH_Hepatic_Cirrhosis',\n",
       "       'PMH_Hepatic_Other', 'PMH_MSK_ANY', 'PMH_MSK_Arthritis',\n",
       "       'PMH_MSK_Other', 'PMH_Neuro_SCI', 'PMH_Neuro_VertebralInjury',\n",
       "       'PMH_Neuro_BrainTumor', 'PMH_Neuro_CVAccident', 'PMH_Neuro_TIA',\n",
       "       'PMH_Neuro_SZ', 'PMH_Neuro_SZfebrile', 'PMH_Neuro_SZposttraumatic',\n",
       "       'PMH_Neuro_SZidiopathic', 'PMH_Neuro_SZalcohol',\n",
       "       'PMH_Neuro_EpilepsyPartial', 'PMH_Neuro_EpilepsyOther',\n",
       "       'PMH_Neuro_Headache', 'PMH_Neuro_Migraine', 'PMH_Neuro_Other',\n",
       "       'PMH_Pulm_ANY', 'PMH_Pulm_COPD', 'PMH_Pulm_Asthma',\n",
       "       'PMH_Pulm_Pneumonia', 'PMH_Pulm_TB', 'PMH_Pulm_Other',\n",
       "       'PMH_Psych_ANY', 'PMH_Psych_Anxiety', 'PMH_Psych_Depression',\n",
       "       'PMH_Psych_SleepDx', 'PMH_Psych_Bipolar', 'PMH_Psych_Schizo',\n",
       "       'PMH_Psych_Other', 'PMH_Renal_ANY', 'PMH_Renal_Failure',\n",
       "       'PMH_Renal_UTIs', 'PMH_Renal_Other', 'SHX_Tobacco', 'SHX_Alcohol',\n",
       "       'SHX_IllicitDrugs', 'SHX_Other', 'PMH_Developmental_ANY',\n",
       "       'PMH_LearningDisability', 'PMH_ADHD', 'PMH_DevelopmentalDelay',\n",
       "       'PMH_Developmental_Other', 'MEDS_Anticoagulants',\n",
       "       'PatientTypeCoded_ED.Discharge', 'PatientTypeCoded_ICU.Admit',\n",
       "       'PatientTypeCoded_Ward.Admit', 'injurytype_Closed',\n",
       "       'injurytype_Penetrating', 'cause_Assault', 'cause_Fall',\n",
       "       'cause_MV.car.', 'cause_MV.cyclist.ped.', 'cause_MV.motorcycle.',\n",
       "       'cause_Other', 'cause_Struck.By', 'PresArrivalMethod_Ambulance',\n",
       "       'PresArrivalMethod_Helicopter', 'PresArrivalMethod_Walk.in',\n",
       "       'EDIntubation', 'EDArrRespRateType', 'admGCSeyes', 'admGCSeyes.t',\n",
       "       'admGCSverb', 'admGCSverb.t', 'admGCSmotor', 'admGCSmotor.t',\n",
       "       'admGCSuntest', 'admGCS', 'GCSMildModSevereRecode',\n",
       "       'EDDrugScreenOpioids', 'EDDrugScreenBenzo', 'EDDrugScreenCannabis',\n",
       "       'EDDrugScreenAmph', 'EDDrugScreenCocaine', 'EDDrugScreenMethadone',\n",
       "       'EDDrugScreenOther', 'EDDrugScreenAnyDrugPresent', 'EDIVNone',\n",
       "       'EDIVCrystalloids', 'EDIVSaline', 'EDIVBlood', 'ED_hypoten',\n",
       "       'DispER_Discharge.Home', 'DispER_ICU.Admit',\n",
       "       'DispER_Operating.Room', 'DispER_Stepdown.Admit',\n",
       "       'DispER_Ward Admit', 'hypotension', 'CT_Marshall', 'CT_Rotterdam',\n",
       "       'CT_Intracraniallesion_FIN', 'CT_Skullfracture_FIN', 'CT_EDH_FIN',\n",
       "       'CT_SDH_FIN', 'CT_SAH_FIN', 'CT_Contusion_FIN', 'CT_ICH_FIN',\n",
       "       'CT_IVH_FIN', 'CT_DAI_FIN', 'CT_Brainswelling_FIN',\n",
       "       'CT_CerebralEdema_FIN', 'CT_MidlineShift_FIN',\n",
       "       'CT_Cisternalcompression_FIN', 'CT_Hydrocephalus_FIN',\n",
       "       'NeuromonitoringYesNo', 'ICPMonitorYesNo', 'MonLicoxUsed',\n",
       "       'MonJugularSatUsed', 'HighestAIS_AbdPelvis',\n",
       "       'HighestAIS_ChestThorax', 'HighestAIS_External',\n",
       "       'HighestAIS_LimbsPelvGirdle', 'HighestAIS_Face',\n",
       "       'HighestAIS_HeadNeck', 'AIS_HeadNeckMoreThan2', 'ISSScore',\n",
       "       'ISS_Score_MoreThan15', 'POLYTRAUMA_AIS3_FIN', 'MRIDone',\n",
       "       'skullfxfrontalright', 'skullfxfrontalleft', 'skullfxparietalright',\n",
       "       'skullfxparietalleft', 'skullfxtemporalright',\n",
       "       'skullfxtemporalleft', 'skullfxoccipitalright',\n",
       "       'skullfxoccipitallet', 'skullbaseright', 'skullbaseleft',\n",
       "       'skullbaseanteriofossa', 'skullbasemiddlefossa',\n",
       "       'skullbaseposteriorfossa', 'linear', 'depressed', 'comminuted',\n",
       "       'diastatic', 'probablefx', 'pneumocephalus', 'EDHfrontalright',\n",
       "       'EDHfrontalleft', 'EDHparietalright', 'EDHparietalleft',\n",
       "       'EDHtemporalreight', 'EDHtemporalleft', 'EDHoccipitalleft',\n",
       "       'EDHposteriorfossaright', 'EDHposteriorfossaleft', 'likelyarterial',\n",
       "       'likelyvenous', 'SDHfrontalright', 'SDHfrontalleft',\n",
       "       'SDHparietalright', 'SDHparietalleft', 'SDHtemporalright',\n",
       "       'SDHtemporalleft', 'SDHoccipitalright', 'SDHoccipitalleft',\n",
       "       'SDHinterhemianterior', 'DHinterhemiposterior', 'SDHtentorialright',\n",
       "       'SDHtentorialleft', 'SDHposteriorfossaright',\n",
       "       'SDHposteriorfossaleft', 'SAHfrontalright', 'SAHfrontalleft',\n",
       "       'SAHparietalright', 'SAHparietalleft', 'SAHtermporalright',\n",
       "       'SAHtemporalleft', 'SAHoccipitalright', 'SAHoccipitalleft',\n",
       "       'SAHinterhemiAnterior', 'tSAHinterhiPosterior',\n",
       "       'tSAHtentorailright', 'SAHtentorailleft', 'SAHposteriorfossaright',\n",
       "       'SAHperimesencephalic', 'contusionfrontalright',\n",
       "       'contusionfrontalleft', 'contusionparietalright',\n",
       "       'contusionparietalleft', 'contusiontemporalright',\n",
       "       'contusiontemporalleft', 'contusionmidbrainleft',\n",
       "       'ICHoccipitalright', 'MidlineShiftmm',\n",
       "       'cisternalcompressionSeverity', 'Fourthventricleshift',\n",
       "       'Thirdventricleobliteration'],\n",
       "      dtype='<U29')"
      ]
     },
     "execution_count": 4,
     "metadata": {},
     "output_type": "execute_result"
    }
   ],
   "source": [
    "subdata = load_data()\n",
    "nmfdata = load_data(uoinmf=True)\n",
    "sub_oc_features = subdata.outcome_features\n",
    "sub_bm_features = subdata.biomarker_features\n",
    "oc_bases = nmfdata.outcome_bases\n",
    "sub_oc = subdata.outcomes\n",
    "sub_bm = subdata.biomarkers\n",
    "sub_bm_features"
   ]
  },
  {
   "cell_type": "code",
   "execution_count": 5,
   "metadata": {},
   "outputs": [
    {
     "name": "stdout",
     "output_type": "stream",
     "text": [
      "133 GcsPreHospScoreTimeSinceInj\n",
      "134 GcsPreHospScore\n",
      "156 GcsEDArrScoreTimeSinceInj\n",
      "157 GcsEDArrAssmtCond\n",
      "158 admGCSeyes\n",
      "159 admGCSeyes.t\n",
      "160 admGCSverb\n",
      "161 admGCSverb.t\n",
      "162 admGCSmotor\n",
      "163 admGCSmotor.t\n",
      "164 GcsEDArrScore\n",
      "165 admGCSuntest\n",
      "166 admGCS\n",
      "167 GCSMildModSevereRaw\n",
      "168 GCSMildModSevereRecode\n",
      "169 GcsEDArrPupils\n",
      "170 GcsEDPupilSizeR\n",
      "171 GcsEDArrPupilReactR\n",
      "172 GcsEDPupilSizeL\n",
      "173 GcsEDArrPupilReactL\n",
      "181 GcsEDDischEyes\n",
      "182 GcsEDDischVerbal\n",
      "183 GcsEDDischMotor\n",
      "184 GcsEDDischPupils\n",
      "185 GcsEDDischScore\n",
      "186 GcsEDDischScoreTimeSinceInj\n",
      "187 GcsEDDischAssmtCond\n",
      "749 GranulocyteColonyStimulatingFactorGCSFpgml\n"
     ]
    }
   ],
   "source": [
    "for ii,c in enumerate(fulldata.columns):\n",
    "    if 'Gcs' in c or 'GCS' in c:\n",
    "        print(ii,c)"
   ]
  },
  {
   "cell_type": "code",
   "execution_count": 11,
   "metadata": {},
   "outputs": [
    {
     "name": "stdout",
     "output_type": "stream",
     "text": [
      "106 admGCSeyes\n",
      "107 admGCSeyes.t\n",
      "108 admGCSverb\n",
      "109 admGCSverb.t\n",
      "110 admGCSmotor\n",
      "111 admGCSmotor.t\n",
      "112 admGCSuntest\n",
      "113 admGCS\n",
      "114 GCSMildModSevereRecode\n"
     ]
    }
   ],
   "source": [
    "for ii,c in enumerate(sub_bm_features):\n",
    "    if 'Gcs' in c or 'GCS' in c:\n",
    "        print(ii,c)"
   ]
  },
  {
   "cell_type": "code",
   "execution_count": 50,
   "metadata": {},
   "outputs": [
    {
     "data": {
      "text/plain": [
       "0      6.0\n",
       "1      6.0\n",
       "2      6.0\n",
       "3      6.0\n",
       "4      6.0\n",
       "5      6.0\n",
       "6      6.0\n",
       "7      6.0\n",
       "8      6.0\n",
       "9      6.0\n",
       "10     6.0\n",
       "11     6.0\n",
       "12     6.0\n",
       "13     6.0\n",
       "14     6.0\n",
       "15     6.0\n",
       "16     6.0\n",
       "17     6.0\n",
       "18     6.0\n",
       "19     6.0\n",
       "20     6.0\n",
       "21     6.0\n",
       "22     6.0\n",
       "23     6.0\n",
       "24     6.0\n",
       "25     6.0\n",
       "26     6.0\n",
       "27     6.0\n",
       "28     4.0\n",
       "29     6.0\n",
       "      ... \n",
       "556    6.0\n",
       "557    6.0\n",
       "558    6.0\n",
       "559    6.0\n",
       "560    6.0\n",
       "561    6.0\n",
       "562    6.0\n",
       "563    6.0\n",
       "564    6.0\n",
       "565    6.0\n",
       "566    6.0\n",
       "567    5.0\n",
       "568    6.0\n",
       "569    6.0\n",
       "570    6.0\n",
       "571    6.0\n",
       "572    6.0\n",
       "573    6.0\n",
       "574    6.0\n",
       "575    6.0\n",
       "576    6.0\n",
       "577    6.0\n",
       "578    6.0\n",
       "579    6.0\n",
       "580    6.0\n",
       "581    6.0\n",
       "582    6.0\n",
       "583    6.0\n",
       "584    6.0\n",
       "585    6.0\n",
       "Name: admGCSmotor, Length: 586, dtype: float64"
      ]
     },
     "execution_count": 50,
     "metadata": {},
     "output_type": "execute_result"
    }
   ],
   "source": [
    "fulldata.iloc[:,162]"
   ]
  },
  {
   "cell_type": "code",
   "execution_count": 59,
   "metadata": {},
   "outputs": [
    {
     "name": "stdout",
     "output_type": "stream",
     "text": [
      "5\n",
      "5\n",
      "5\n"
     ]
    },
    {
     "data": {
      "image/png": "[encoded data removed]",
      "text/plain": [
       "<Figure size 360x1080 with 3 Axes>"
      ]
     },
     "metadata": {},
     "output_type": "display_data"
    }
   ],
   "source": [
    "sub = [106,108,110]\n",
    "full = [158,160,162]\n",
    "\n",
    "names = ['admGCSeyes', 'admGCSverb', 'admGCSmotor', 'admGCSuntest', 'admGCS', 'GCSMildModSevereRecode']\n",
    "\n",
    "fig, ax = plt.subplots(3,1,sharey=True,figsize=(5,15))\n",
    "ax = ax.flatten()\n",
    "count=0\n",
    "\n",
    "for x, y, name in zip(sub, full, names):\n",
    "    sub = sub_bm[:,x]\n",
    "    full = fulldata.iloc[:,y]\n",
    "    dat = sub\n",
    "    dat2 = full\n",
    "    \n",
    "    num_na2 = dat2.isna().sum()\n",
    "    print(num_na2)\n",
    "    nonresponsive = 29\n",
    "    nonresponsive2 = 13\n",
    "\n",
    "    dat2_dropna = dat2.dropna()\n",
    "    counts, bins, bars = ax[count].hist([sub, dat2_dropna], align='left', label=['sub','full'], \n",
    "                     color=['red','black'], bins=np.arange(1,6))\n",
    "    length = (bins[1]-bins[0])/4\n",
    "    \n",
    "    mx = max(dat2_dropna)\n",
    "    na_index = -mx*(1+1/5) \n",
    "    na_index2 = -mx*(1+2/5)\n",
    "        \n",
    "    ax[count].bar(na_index, nonresponsive, color='pink', label='nonresponsive', width=length)\n",
    "    ax[count].bar(na_index2, nonresponsive2, color='pink', width=length)\n",
    "    ax[count].legend()\n",
    "    \n",
    "    ax[count].set_title('{}'.format(name))\n",
    "    ax[count].legend()\n",
    "    count += 1\n",
    "plt.savefig('/Users/ahyeon/Desktop/activ misc/gcs2.pdf')"
   ]
  },
  {
   "cell_type": "code",
   "execution_count": null,
   "metadata": {},
   "outputs": [],
   "source": []
  }
 ],
 "metadata": {
  "kernelspec": {
   "display_name": "Python 3",
   "language": "python",
   "name": "python3"
  },
  "language_info": {
   "codemirror_mode": {
    "name": "ipython",
    "version": 3
   },
   "file_extension": ".py",
   "mimetype": "text/x-python",
   "name": "python",
   "nbconvert_exporter": "python",
   "pygments_lexer": "ipython3",
   "version": "3.6.2"
  }
 },
 "nbformat": 4,
 "nbformat_minor": 2
}

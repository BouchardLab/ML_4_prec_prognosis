{
 "cells": [
  {
   "cell_type": "code",
   "execution_count": 1,
   "metadata": {},
   "outputs": [],
   "source": [
    "from activ import load_data, data_normalization\n",
    "import os\n",
    "from activ.readfile import TrackTBIFile\n",
    "%matplotlib inline\n",
    "import matplotlib.pyplot as plt\n",
    "import h5py\n",
    "import numpy as np\n",
    "from activ.analytics import heatmap, nmf_bases_heatmap\n",
    "from activ.clustering import UmapClusteringResults\n",
    "from os.path import dirname, join\n",
    "from matplotlib.backends.backend_pdf import PdfPages"
   ]
  },
  {
   "cell_type": "code",
   "execution_count": 2,
   "metadata": {},
   "outputs": [
    {
     "data": {
      "text/plain": [
       "(247,)"
      ]
     },
     "execution_count": 2,
     "metadata": {},
     "output_type": "execute_result"
    }
   ],
   "source": [
    "raw = load_data()\n",
    "labels = raw.outcome_features\n",
    "nmfdata = load_data(uoinmf=True)\n",
    "rawbm = raw.biomarkers #(247,235)\n",
    "\n",
    "feature_names = raw.outcome_features\n",
    "A = data_normalization.data_normalization(raw.outcomes, 'positive') #(247,177)\n",
    "w = nmfdata.outcomes #(247,6)\n",
    "h = nmfdata.outcome_bases #(6,177)\n",
    "\n",
    "w = w.sum(axis=1)\n",
    "w.shape"
   ]
  },
  {
   "cell_type": "code",
   "execution_count": 74,
   "metadata": {},
   "outputs": [
    {
     "name": "stdout",
     "output_type": "stream",
     "text": [
      "(50, 247)\n"
     ]
    }
   ],
   "source": [
    "percent = [0,10,20,30,40,50,60,70,80,90]\n",
    "for p in [percent[0]]:\n",
    "    file = \"/Users/ahyeon/Desktop/activ/results/features_dropped/bm_features_dropped/euclidean/bm_features_dropped_result_{}.h5\".format(p)\n",
    "    f = h5py.File(file, 'r')\n",
    "    clusters = f['clusters'][:]\n",
    "    cluster_sizes = f['cluster_sizes'][:]\n",
    "    clusters_28 = clusters[:,27,:]\n",
    "    print(clusters_28.shape)\n",
    "    sorted_labels = sorted(clusters_28[0])"
   ]
  },
  {
   "cell_type": "code",
   "execution_count": 75,
   "metadata": {},
   "outputs": [
    {
     "data": {
      "text/plain": [
       "(28, 50)"
      ]
     },
     "execution_count": 75,
     "metadata": {},
     "output_type": "execute_result"
    }
   ],
   "source": [
    "all_avg = np.zeros((28,50))\n",
    "for j in range(50):\n",
    "    for k in range(28):\n",
    "        indices = []\n",
    "        for i in range(clusters_28.shape[1]):\n",
    "            if clusters_28[j][i] == k:\n",
    "                indices.append(i)\n",
    "        values = []\n",
    "        for x in indices:\n",
    "            val = w[x]\n",
    "            values.append(val)\n",
    "        avg = sum(values)/len(values)\n",
    "        all_avg[k,j] = avg\n",
    "all_avg.shape"
   ]
  },
  {
   "cell_type": "code",
   "execution_count": 76,
   "metadata": {},
   "outputs": [
    {
     "data": {
      "text/plain": [
       "<matplotlib.image.AxesImage at 0x112464128>"
      ]
     },
     "execution_count": 76,
     "metadata": {},
     "output_type": "execute_result"
    },
    {
     "data": {
      "text/plain": [
       "<Figure size 432x288 with 0 Axes>"
      ]
     },
     "metadata": {},
     "output_type": "display_data"
    },
    {
     "data": {
      "image/png": "[encoded data removed]",
      "text/plain": [
       "<Figure size 514.286x288 with 1 Axes>"
      ]
     },
     "metadata": {},
     "output_type": "display_data"
    }
   ],
   "source": [
    "plt.figure()\n",
    "plt.matshow(all_avg, cmap = 'gray_r')"
   ]
  },
  {
   "cell_type": "code",
   "execution_count": 8,
   "metadata": {},
   "outputs": [
    {
     "data": {
      "text/plain": [
       "<matplotlib.image.AxesImage at 0x118ba5588>"
      ]
     },
     "execution_count": 8,
     "metadata": {},
     "output_type": "execute_result"
    },
    {
     "data": {
      "text/plain": [
       "<Figure size 432x288 with 0 Axes>"
      ]
     },
     "metadata": {},
     "output_type": "display_data"
    },
    {
     "data": {
      "image/png": "[encoded data removed]",
      "text/plain": [
       "<Figure size 1152x144 with 1 Axes>"
      ]
     },
     "metadata": {},
     "output_type": "display_data"
    }
   ],
   "source": [
    "plt.figure()\n",
    "plt.matshow(h)"
   ]
  },
  {
   "cell_type": "code",
   "execution_count": null,
   "metadata": {},
   "outputs": [],
   "source": []
  }
 ],
 "metadata": {
  "kernelspec": {
   "display_name": "Python 3",
   "language": "python",
   "name": "python3"
  },
  "language_info": {
   "codemirror_mode": {
    "name": "ipython",
    "version": 3
   },
   "file_extension": ".py",
   "mimetype": "text/x-python",
   "name": "python",
   "nbconvert_exporter": "python",
   "pygments_lexer": "ipython3",
   "version": "3.6.2"
  }
 },
 "nbformat": 4,
 "nbformat_minor": 2
}

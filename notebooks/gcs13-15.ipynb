{
 "cells": [
  {
   "cell_type": "code",
   "execution_count": 33,
   "metadata": {},
   "outputs": [],
   "source": [
    "import numpy as np\n",
    "import matplotlib.pyplot as plt\n",
    "import scipy\n",
    "from activ import load_data\n",
    "from PyUoI.UoINMF import UoINMF\n",
    "from sklearn.model_selection import train_test_split\n",
    "from sklearn.cluster import DBSCAN\n",
    "from activ.data_normalization import data_normalization\n",
    "from scipy.spatial.distance import pdist\n",
    "from sklearn.model_selection import KFold\n",
    "import pandas as pd\n",
    "from activ.readfile import TrackTBIFile"
   ]
  },
  {
   "cell_type": "code",
   "execution_count": 34,
   "metadata": {},
   "outputs": [
    {
     "data": {
      "text/plain": [
       "(586, 919)"
      ]
     },
     "execution_count": 34,
     "metadata": {},
     "output_type": "execute_result"
    }
   ],
   "source": [
    "fulldata = pd.read_csv('/Users/ahyeon/Desktop/TBIanalysis/data/preprocessed_data_matrix.csv', encoding = \"ISO-8859-1\")\n",
    "fulldata.shape"
   ]
  },
  {
   "cell_type": "code",
   "execution_count": 37,
   "metadata": {},
   "outputs": [],
   "source": [
    "subdata = load_data()\n",
    "sub_oc_features = subdata.outcome_features\n",
    "sub_bm_features = subdata.biomarker_features\n",
    "oc_bases = nmfdata.outcome_bases\n",
    "sub_oc = subdata.outcomes\n",
    "sub_bm = subdata.biomarkers"
   ]
  },
  {
   "cell_type": "code",
   "execution_count": 36,
   "metadata": {},
   "outputs": [
    {
     "data": {
      "text/plain": [
       "(247, 235)"
      ]
     },
     "execution_count": 36,
     "metadata": {},
     "output_type": "execute_result"
    }
   ],
   "source": [
    "sub_bm.shape"
   ]
  },
  {
   "cell_type": "code",
   "execution_count": 38,
   "metadata": {},
   "outputs": [
    {
     "name": "stdout",
     "output_type": "stream",
     "text": [
      "(210, 235)\n",
      "(210, 177)\n"
     ]
    }
   ],
   "source": [
    "sub = [106,108,110]\n",
    "\n",
    "names = ['admGCSeyes', 'admGCSverb', 'admGCSmotor']\n",
    "\n",
    "eyes = sub_bm[:,106]\n",
    "verb = sub_bm[:,108]\n",
    "motor = sub_bm[:,110]\n",
    "\n",
    "count=0\n",
    "patients = []\n",
    "\n",
    "for i in range(247):\n",
    "    score = eyes[i]+verb[i]+motor[i]\n",
    "    if score >= 13 and score <= 15:\n",
    "        patients.append(i)\n",
    "        count+=1\n",
    "\n",
    "bm_gcs = np.zeros((len(patients), sub_bm.shape[1]))\n",
    "oc_gcs = np.zeros((len(patients), sub_oc.shape[1]))\n",
    "for ii,p in enumerate(patients):\n",
    "    bm_gcs[ii,:] = sub_bm[p,:]\n",
    "    oc_gcs[ii,:] = sub_oc[p,:]\n",
    "print(bm_gcs.shape)\n",
    "print(oc_gcs.shape)"
   ]
  },
  {
   "cell_type": "code",
   "execution_count": 40,
   "metadata": {},
   "outputs": [],
   "source": [
    "fname = '/Users/ahyeon/data/activ/gcs13-15/bm_gcs_13-15.h5'\n",
    "TrackTBIFile.write(fname, bm_gcs, oc_gcs)"
   ]
  },
  {
   "cell_type": "code",
   "execution_count": null,
   "metadata": {},
   "outputs": [],
   "source": [
    "raw = load_data()\n",
    "labels = raw.outcome_features\n",
    "nmfdata = load_data(uoinmf=True)\n",
    "rawbm = raw.biomarkers #(247,235)\n",
    "feature_names = raw.outcome_features\n",
    "A = data_normalization.data_normalization(raw.outcomes, 'positive') #(247,177)\n",
    "w = nmfdata.outcomes #(247,6)\n",
    "h = nmfdata.outcome_bases #(6,177)"
   ]
  },
  {
   "cell_type": "code",
   "execution_count": null,
   "metadata": {},
   "outputs": [],
   "source": [
    "def drop_x_percent(A,w,h,feature_names,percent):\n",
    "    total_features = h.shape[1]\n",
    "    num_features_to_drop = np.round(total_features*percent//100)\n",
    "    h_sum = np.sum(h, axis=0)\n",
    "    h_sum_sorted = np.argsort(h_sum)\n",
    "    indices_lowest_values = h_sum_sorted[:num_features_to_drop]\n",
    "    dropped_features = sorted(feature_names[indices_lowest_values])\n",
    "    h_new = np.delete(h, indices_lowest_values, axis=1)\n",
    "    A_new = np.delete(A, indices_lowest_values, axis=1) \n",
    "    return A_new, h_new, dropped_features"
   ]
  },
  {
   "cell_type": "code",
   "execution_count": null,
   "metadata": {},
   "outputs": [],
   "source": [
    "percent = [0,10,20,30,40,50,60,70,80,90]\n",
    "for p in percent:\n",
    "    A_features_dropped,h_new, dropped_features = drop_x_percent(A,w,h,feature_names,p)\n",
    "    fname = '/Users/ahyeon/data/activ/gcs13-15/bm_gcs_13-15.h5'.format(p)\n",
    "    TrackTBIFile.write(fname, sub_bm, A_features_dropped)"
   ]
  },
  {
   "cell_type": "code",
   "execution_count": 23,
   "metadata": {},
   "outputs": [
    {
     "name": "stdout",
     "output_type": "stream",
     "text": [
      "Help on class TrackTBIFile in module activ.readfile:\n",
      "\n",
      "class TrackTBIFile(builtins.object)\n",
      " |  Methods defined here:\n",
      " |  \n",
      " |  __init__(self, filename)\n",
      " |      Initialize self.  See help(type(self)) for accurate signature.\n",
      " |  \n",
      " |  ----------------------------------------------------------------------\n",
      " |  Class methods defined here:\n",
      " |  \n",
      " |  write(dest, biomarkers, outcomes, biomarker_features=None, outcome_features=None, patient_ids=None) from builtins.type\n",
      " |      Write biomarkers and outcomes to an HDF5 file\n",
      " |      \n",
      " |      Args:\n",
      " |          dest                : the path to an HDF5 file or the :class:`h5py.Group` to write to\n",
      " |          biomarkers          : the biomarker data with shape (n_samples, n_features)\n",
      " |          outcomes            : the outcomes data with shape (n_samples, n_features)\n",
      " |          biomarker_features  : the names of the biomarker features (optional)\n",
      " |          outcome_features    : the names of the outcome features (optional)\n",
      " |          patient_ids         : the patient IDs (optional)\n",
      " |      \n",
      " |      If biomarker_features, outcome_features, or patient_ids are provided, they will be\n",
      " |      added as dimension scales to the appropriate dimension of their respective datasets.\n",
      " |  \n",
      " |  ----------------------------------------------------------------------\n",
      " |  Data descriptors defined here:\n",
      " |  \n",
      " |  __dict__\n",
      " |      dictionary for instance variables (if defined)\n",
      " |  \n",
      " |  __weakref__\n",
      " |      list of weak references to the object (if defined)\n",
      "\n"
     ]
    }
   ],
   "source": [
    "help(TrackTBIFile)"
   ]
  },
  {
   "cell_type": "code",
   "execution_count": null,
   "metadata": {},
   "outputs": [],
   "source": []
  }
 ],
 "metadata": {
  "kernelspec": {
   "display_name": "Python 3",
   "language": "python",
   "name": "python3"
  },
  "language_info": {
   "codemirror_mode": {
    "name": "ipython",
    "version": 3
   },
   "file_extension": ".py",
   "mimetype": "text/x-python",
   "name": "python",
   "nbconvert_exporter": "python",
   "pygments_lexer": "ipython3",
   "version": "3.6.2"
  }
 },
 "nbformat": 4,
 "nbformat_minor": 2
}

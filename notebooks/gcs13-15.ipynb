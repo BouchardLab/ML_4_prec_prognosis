{
 "cells": [
  {
   "cell_type": "code",
   "execution_count": 1,
   "metadata": {},
   "outputs": [
    {
     "name": "stderr",
     "output_type": "stream",
     "text": [
      "/Users/ahyeon/anaconda3/lib/python3.6/site-packages/h5py/__init__.py:34: FutureWarning: Conversion of the second argument of issubdtype from `float` to `np.floating` is deprecated. In future, it will be treated as `np.float64 == np.dtype(float).type`.\n",
      "  from ._conv import register_converters as _register_converters\n"
     ]
    }
   ],
   "source": [
    "import numpy as np\n",
    "import matplotlib.pyplot as plt\n",
    "import scipy\n",
    "from activ import load_data\n",
    "from sklearn.model_selection import train_test_split\n",
    "from sklearn.cluster import DBSCAN\n",
    "from activ.data_normalization import data_normalization\n",
    "from scipy.spatial.distance import pdist\n",
    "from sklearn.model_selection import KFold\n",
    "import pandas as pd\n",
    "from activ.readfile import TrackTBIFile"
   ]
  },
  {
   "cell_type": "code",
   "execution_count": 2,
   "metadata": {},
   "outputs": [],
   "source": [
    "subdata = load_data()\n",
    "sub_oc_features = subdata.outcome_features\n",
    "sub_bm_features = subdata.biomarker_features\n",
    "sub_oc = subdata.outcomes\n",
    "sub_bm = subdata.biomarkers"
   ]
  },
  {
   "cell_type": "code",
   "execution_count": 14,
   "metadata": {},
   "outputs": [],
   "source": [
    "fname = '/Users/ahyeon/data/activ/rawdata.h5'\n",
    "TrackTBIFile.write(fname, sub_bm, sub_oc)"
   ]
  },
  {
   "cell_type": "code",
   "execution_count": 7,
   "metadata": {},
   "outputs": [
    {
     "data": {
      "text/plain": [
       "array([15., 14., 15., 15., 15., 15., 15., 15.,  7., 15., 15., 14., 15.,\n",
       "       15., 15., 14., 15., 14.,  3., 15., 15., 15.,  3., 15., 15., 15.,\n",
       "       15.,  3.,  3., 15., 15., 15., 14.,  3., 15., 15., 15., 15., 15.,\n",
       "       15., 15.,  3.,  3., 15., 15.,  3., 15.,  3.,  3., 15., 15.,  3.,\n",
       "       11., 15., 15., 15., 15., 15., 15., 15., 15.,  3., 15.,  3.,  3.,\n",
       "        3., 15., 15.,  3.,  3., 15.,  9., 15., 15., 15., 15., 15., 15.,\n",
       "       15., 15., 11., 14., 15., 15., 14., 14., 15., 15., 15., 15., 13.,\n",
       "       12., 15., 15., 15., 15., 15., 15., 15., 15., 15., 14., 15., 14.,\n",
       "       14., 14., 15., 14., 15., 15., 15., 15., 14., 15., 15., 13., 15.,\n",
       "       14., 15., 14., 15., 14., 15., 15., 15., 14., 15., 15., 15., 13.,\n",
       "       14., 15., 14., 15., 15., 11.,  3., 15., 15., 15., 15.,  9., 15.,\n",
       "       14., 15., 14., 15., 15., 15.,  9.,  6., 15.,  7., 15., 14., 15.,\n",
       "       14., 15., 15., 15., 14., 11., 15., 14., 14., 15., 15., 14., 11.,\n",
       "       15., 15., 15., 15., 15., 15., 15., 15., 14., 15., 15.,  9., 15.,\n",
       "       14., 15., 15., 15.,  8., 14., 14., 15., 14., 15., 15., 13., 12.,\n",
       "       15., 15., 13., 11., 15., 15., 15., 15., 14., 15., 14., 15., 15.,\n",
       "       15., 15., 15., 15.,  7., 15., 15., 15., 15., 15., 15., 14., 15.,\n",
       "       14., 15., 15., 13., 15., 15., 14., 15.,  5., 10., 15., 15., 14.,\n",
       "       14., 15., 14., 14., 15., 15., 15., 14., 14., 15., 15., 15., 15.])"
      ]
     },
     "execution_count": 7,
     "metadata": {},
     "output_type": "execute_result"
    }
   ],
   "source": [
    "sub_bm[:,113]"
   ]
  },
  {
   "cell_type": "code",
   "execution_count": 3,
   "metadata": {},
   "outputs": [
    {
     "name": "stdout",
     "output_type": "stream",
     "text": [
      "(210, 235)\n",
      "(210, 177)\n"
     ]
    }
   ],
   "source": [
    "# mild\n",
    "count = 0\n",
    "patients = []\n",
    "for i in range(247):\n",
    "    if sub_bm[:,113][i] >= 13.0 and sub_bm[:,113][i] <= 15.0:\n",
    "        patients.append(i)\n",
    "        count+=1\n",
    "        \n",
    "bm_gcs = np.zeros((len(patients), sub_bm.shape[1]))\n",
    "oc_gcs = np.zeros((len(patients), sub_oc.shape[1]))\n",
    "for ii,p in enumerate(patients):\n",
    "    bm_gcs[ii,:] = sub_bm[p,:]\n",
    "    oc_gcs[ii,:] = sub_oc[p,:]\n",
    "print(bm_gcs.shape)\n",
    "print(oc_gcs.shape)"
   ]
  },
  {
   "cell_type": "code",
   "execution_count": 4,
   "metadata": {},
   "outputs": [
    {
     "data": {
      "text/plain": [
       "array([15., 14., 15., 15., 15., 15., 15., 15., 15., 15., 14., 15., 15.,\n",
       "       15., 14., 15., 14., 15., 15., 15., 15., 15., 15., 15., 15., 15.,\n",
       "       15., 14., 15., 15., 15., 15., 15., 15., 15., 15., 15., 15., 15.,\n",
       "       15., 15., 15., 15., 15., 15., 15., 15., 15., 15., 15., 15., 15.,\n",
       "       15., 15., 15., 15., 15., 15., 15., 15., 14., 15., 15., 14., 14.,\n",
       "       15., 15., 15., 15., 13., 15., 15., 15., 15., 15., 15., 15., 15.,\n",
       "       15., 14., 15., 14., 14., 14., 15., 14., 15., 15., 15., 15., 14.,\n",
       "       15., 15., 13., 15., 14., 15., 14., 15., 14., 15., 15., 15., 14.,\n",
       "       15., 15., 15., 13., 14., 15., 14., 15., 15., 15., 15., 15., 15.,\n",
       "       15., 14., 15., 14., 15., 15., 15., 15., 15., 14., 15., 14., 15.,\n",
       "       15., 15., 14., 15., 14., 14., 15., 15., 14., 15., 15., 15., 15.,\n",
       "       15., 15., 15., 15., 14., 15., 15., 15., 14., 15., 15., 15., 14.,\n",
       "       14., 15., 14., 15., 15., 13., 15., 15., 13., 15., 15., 15., 15.,\n",
       "       14., 15., 14., 15., 15., 15., 15., 15., 15., 15., 15., 15., 15.,\n",
       "       15., 15., 14., 15., 14., 15., 15., 13., 15., 15., 14., 15., 15.,\n",
       "       15., 14., 14., 15., 14., 14., 15., 15., 15., 14., 14., 15., 15.,\n",
       "       15., 15.])"
      ]
     },
     "execution_count": 4,
     "metadata": {},
     "output_type": "execute_result"
    }
   ],
   "source": [
    "bm_gcs[:,113]"
   ]
  },
  {
   "cell_type": "code",
   "execution_count": 9,
   "metadata": {},
   "outputs": [
    {
     "name": "stdout",
     "output_type": "stream",
     "text": [
      "(13, 235)\n",
      "(13, 177)\n"
     ]
    }
   ],
   "source": [
    "# moderate\n",
    "count = 0\n",
    "patients = []\n",
    "for i in range(247):\n",
    "    if sub_bm[:,113][i] >= 9.0 and sub_bm[:,113][i] <= 12.0:\n",
    "        patients.append(i)\n",
    "        count+=1\n",
    "        \n",
    "bm_gcs_mod = np.zeros((len(patients), sub_bm.shape[1]))\n",
    "oc_gcs_mod = np.zeros((len(patients), sub_oc.shape[1]))\n",
    "for ii,p in enumerate(patients):\n",
    "    bm_gcs_mod[ii,:] = sub_bm[p,:]\n",
    "    oc_gcs_mod[ii,:] = sub_oc[p,:]\n",
    "print(bm_gcs_mod.shape)\n",
    "print(oc_gcs_mod.shape)\n",
    "\n",
    "TrackTBIFile.write('/Users/ahyeon/data/activ/gcs_mod.h5', bm_gcs_mod, oc_gcs_mod)"
   ]
  },
  {
   "cell_type": "code",
   "execution_count": 7,
   "metadata": {},
   "outputs": [
    {
     "data": {
      "text/plain": [
       "247"
      ]
     },
     "execution_count": 7,
     "metadata": {},
     "output_type": "execute_result"
    }
   ],
   "source": []
  },
  {
   "cell_type": "code",
   "execution_count": 10,
   "metadata": {},
   "outputs": [],
   "source": [
    "# severe\n",
    "count = 0\n",
    "patients = []\n",
    "for i in range(247):\n",
    "    if sub_bm[:,113][i] <= 8.0:\n",
    "        patients.append(i)\n",
    "        count+=1\n",
    "        \n",
    "bm_gcs_sev = np.zeros((len(patients), sub_bm.shape[1]))\n",
    "oc_gcs_sev = np.zeros((len(patients), sub_oc.shape[1]))\n",
    "for ii,p in enumerate(patients):\n",
    "    bm_gcs[ii,:] = sub_bm[p,:]\n",
    "    oc_gcs[ii,:] = sub_oc[p,:]\n",
    "\n",
    "TrackTBIFile.write('/Users/ahyeon/data/activ/gcs_sev.h5', bm_gcs_sev, oc_gcs_sev)"
   ]
  },
  {
   "cell_type": "code",
   "execution_count": 12,
   "metadata": {},
   "outputs": [],
   "source": [
    "fname = '/Users/ahyeon/data/activ/gcs13-15/gcs_13-15.h5'\n",
    "TrackTBIFile.write(fname, bm_gcs, oc_gcs)"
   ]
  },
  {
   "cell_type": "code",
   "execution_count": null,
   "metadata": {},
   "outputs": [],
   "source": [
    "raw = load_data()\n",
    "labels = raw.outcome_features\n",
    "nmfdata = load_data(uoinmf=True)\n",
    "rawbm = raw.biomarkers #(247,235)\n",
    "feature_names = raw.outcome_features\n",
    "A = data_normalization.data_normalization(raw.outcomes, 'positive') #(247,177)\n",
    "w = nmfdata.outcomes #(247,6)\n",
    "h = nmfdata.outcome_bases #(6,177)"
   ]
  },
  {
   "cell_type": "code",
   "execution_count": null,
   "metadata": {},
   "outputs": [],
   "source": [
    "def drop_x_percent(A,w,h,feature_names,percent):\n",
    "    total_features = h.shape[1]\n",
    "    num_features_to_drop = np.round(total_features*percent//100)\n",
    "    h_sum = np.sum(h, axis=0)\n",
    "    h_sum_sorted = np.argsort(h_sum)\n",
    "    indices_lowest_values = h_sum_sorted[:num_features_to_drop]\n",
    "    dropped_features = sorted(feature_names[indices_lowest_values])\n",
    "    h_new = np.delete(h, indices_lowest_values, axis=1)\n",
    "    A_new = np.delete(A, indices_lowest_values, axis=1) \n",
    "    return A_new, h_new, dropped_features"
   ]
  },
  {
   "cell_type": "code",
   "execution_count": null,
   "metadata": {},
   "outputs": [],
   "source": [
    "percent = [0,10,20,30,40,50,60,70,80,90]\n",
    "for p in percent:\n",
    "    A_features_dropped,h_new, dropped_features = drop_x_percent(A,w,h,feature_names,p)\n",
    "    fname = '/Users/ahyeon/data/activ/gcs13-15/bm_gcs_13-15.h5'.format(p)\n",
    "    TrackTBIFile.write(fname, sub_bm, A_features_dropped)"
   ]
  },
  {
   "cell_type": "code",
   "execution_count": 23,
   "metadata": {},
   "outputs": [
    {
     "name": "stdout",
     "output_type": "stream",
     "text": [
      "Help on class TrackTBIFile in module activ.readfile:\n",
      "\n",
      "class TrackTBIFile(builtins.object)\n",
      " |  Methods defined here:\n",
      " |  \n",
      " |  __init__(self, filename)\n",
      " |      Initialize self.  See help(type(self)) for accurate signature.\n",
      " |  \n",
      " |  ----------------------------------------------------------------------\n",
      " |  Class methods defined here:\n",
      " |  \n",
      " |  write(dest, biomarkers, outcomes, biomarker_features=None, outcome_features=None, patient_ids=None) from builtins.type\n",
      " |      Write biomarkers and outcomes to an HDF5 file\n",
      " |      \n",
      " |      Args:\n",
      " |          dest                : the path to an HDF5 file or the :class:`h5py.Group` to write to\n",
      " |          biomarkers          : the biomarker data with shape (n_samples, n_features)\n",
      " |          outcomes            : the outcomes data with shape (n_samples, n_features)\n",
      " |          biomarker_features  : the names of the biomarker features (optional)\n",
      " |          outcome_features    : the names of the outcome features (optional)\n",
      " |          patient_ids         : the patient IDs (optional)\n",
      " |      \n",
      " |      If biomarker_features, outcome_features, or patient_ids are provided, they will be\n",
      " |      added as dimension scales to the appropriate dimension of their respective datasets.\n",
      " |  \n",
      " |  ----------------------------------------------------------------------\n",
      " |  Data descriptors defined here:\n",
      " |  \n",
      " |  __dict__\n",
      " |      dictionary for instance variables (if defined)\n",
      " |  \n",
      " |  __weakref__\n",
      " |      list of weak references to the object (if defined)\n",
      "\n"
     ]
    }
   ],
   "source": [
    "help(TrackTBIFile)"
   ]
  },
  {
   "cell_type": "code",
   "execution_count": null,
   "metadata": {},
   "outputs": [],
   "source": []
  }
 ],
 "metadata": {
  "kernelspec": {
   "display_name": "Python 3",
   "language": "python",
   "name": "python3"
  },
  "language_info": {
   "codemirror_mode": {
    "name": "ipython",
    "version": 3
   },
   "file_extension": ".py",
   "mimetype": "text/x-python",
   "name": "python",
   "nbconvert_exporter": "python",
   "pygments_lexer": "ipython3",
   "version": "3.6.7"
  }
 },
 "nbformat": 4,
 "nbformat_minor": 2
}

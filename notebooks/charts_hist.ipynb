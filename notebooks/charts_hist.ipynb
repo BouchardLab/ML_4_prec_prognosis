{
 "cells": [
  {
   "cell_type": "code",
   "execution_count": 2,
   "metadata": {},
   "outputs": [],
   "source": [
    "import numpy as np\n",
    "import matplotlib.pyplot as plt\n",
    "import scipy\n",
    "import h5py\n",
    "from activ import load_data\n",
    "import pandas as pd\n",
    "from activ.analytics import outcomes_histogram\n",
    "from matplotlib.backends.backend_pdf import PdfPages\n"
   ]
  },
  {
   "cell_type": "code",
   "execution_count": 14,
   "metadata": {},
   "outputs": [
    {
     "data": {
      "text/plain": [
       "(586, 919)"
      ]
     },
     "execution_count": 14,
     "metadata": {},
     "output_type": "execute_result"
    }
   ],
   "source": [
    "fulldata = pd.read_csv('/Users/ahyeon/Desktop/TBIanalysis/data/preprocessed_data_matrix.csv', encoding = \"ISO-8859-1\")\n",
    "fulldata.shape"
   ]
  },
  {
   "cell_type": "code",
   "execution_count": 4,
   "metadata": {},
   "outputs": [],
   "source": [
    "subdata = load_data()\n",
    "nmfdata = load_data(uoinmf=True)\n",
    "sub_oc_features = subdata.outcome_features\n",
    "sub_bm_features = subdata.biomarker_features\n",
    "oc_bases = nmfdata.outcome_bases\n",
    "sub_oc = subdata.outcomes\n",
    "sub_bm = subdata.biomarkers"
   ]
  },
  {
   "cell_type": "code",
   "execution_count": 5,
   "metadata": {},
   "outputs": [
    {
     "name": "stdout",
     "output_type": "stream",
     "text": [
      "95 CHARTSFAssistUnpaidHours_6mo\n",
      "96 CHARTSFInHomeAssistTime_6mo\n",
      "97 CHARTSFOutHomeAssistTime_6mo\n",
      "98 CHARTSFOutOfBedHours_6mo\n",
      "99 CHARTSFOutOfHouseDays_6mo\n",
      "100 CHARTSFAwayFromHomeNights_6mo\n",
      "101 CHARTSFStudyHours_6mo\n",
      "102 CHARTSFHomemakingHours_6mo\n",
      "103 CHARTSFMaintenanceHours_6mo\n",
      "104 CHARTSFLiveWith_6mo\n",
      "105 CHARTSFContactAssociates_6mo\n",
      "106 CHARTSFContactFriends_6mo\n",
      "107 CHARTSFContactStrangers_6mo\n",
      "108 CHARTSFPhysicalTotal_6mo\n",
      "109 CHARTSFCognitiveTotal_6mo\n",
      "110 CHARTSFMobilityTotal_6mo\n",
      "111 CHARTSFOccupationTotal_6mo\n",
      "112 CHARTSFSocialIntegrationTotal_6mo\n"
     ]
    }
   ],
   "source": [
    "for ii,o in enumerate(sub_oc_features):\n",
    "    if 'CHARTS' in o:\n",
    "        print(ii,o)\n",
    "        "
   ]
  },
  {
   "cell_type": "code",
   "execution_count": 6,
   "metadata": {},
   "outputs": [
    {
     "name": "stdout",
     "output_type": "stream",
     "text": [
      "480 CHARTSFAssistPaidHours_6mo\n",
      "481 CHARTSFAssistUnpaidHours_6mo\n",
      "482 CHARTSFInHomeAssistTime_6mo\n",
      "483 CHARTSFOutHomeAssistTime_6mo\n",
      "484 CHARTSFOutOfBedHours_6mo\n",
      "485 CHARTSFOutOfHouseDays_6mo\n",
      "486 CHARTSFAwayFromHomeNights_6mo\n",
      "487 CHARTSFPaidJobHours_6mo\n",
      "488 CHARTSFStudyHours_6mo\n",
      "489 CHARTSFHomemakingHours_6mo\n",
      "490 CHARTSFMaintenanceHours_6mo\n",
      "491 CHARTSFRecreationHours_6mo\n",
      "492 CHARTSFLiveWith_6mo\n",
      "493 CHARTSFSpouse_6mo\n",
      "494 CHARTSFRelatives_6mo\n",
      "495 CHARTSFContactAssociates_6mo\n",
      "496 CHARTSFContactFriends_6mo\n",
      "497 CHARTSFContactStrangers_6mo\n",
      "498 CHARTSFIncome_6mo\n",
      "499 CHARTSFMedicalCareExpenses_6mo\n",
      "500 CHARTSFPhysicalTotal_6mo\n",
      "501 CHARTSFCognitiveTotal_6mo\n",
      "502 CHARTSFMobilityTotal_6mo\n",
      "503 CHARTSFOccupationTotal_6mo\n",
      "504 CHARTSFSocialIntegrationTotal_6mo\n",
      "505 CHARTSFSelfSufficientTotal_6mo\n",
      "671 CHARTSFPhysicalTotal_12mo\n",
      "672 CHARTSFCognitiveTotal_12mo\n",
      "673 CHARTSFMobilityTotal_12mo\n",
      "674 CHARTSFOccupationTotal_12mo\n",
      "675 CHARTSFSocialIntegrationTotal_12mo\n",
      "676 CHARTSFSelfSufficientTotal_12mo\n"
     ]
    }
   ],
   "source": [
    "for ii,o in enumerate(fulldata.columns):\n",
    "    if 'CHARTS' in o:\n",
    "        print(ii,o)\n",
    "        "
   ]
  },
  {
   "cell_type": "code",
   "execution_count": 7,
   "metadata": {},
   "outputs": [
    {
     "data": {
      "text/plain": [
       "array([ 100. ,   94. ,  100. ,  100. ,  100. ,  100. ,  100. ,  100. ,\n",
       "         95. ,  100. ,  100. ,   23. ,  100. ,  100. ,  100. ,  100. ,\n",
       "        100. ,   39. ,  100. ,  100. ,  100. ,   97. ,  100. ,  100. ,\n",
       "        100. ,  100. ,  100. ,   79.5,  100. ,  100. ,  100. ,  100. ,\n",
       "        100. ,   93. ,  100. ,    6. ,   83.5,  100. ,   73. ,  100. ,\n",
       "        100. ,  100. ,   94. ,  100. ,  100. ,  100. ,  100. ,   70. ,\n",
       "        100. ,   99. ,  100. ,  100. ,  100. ,  100. ,  100. ,    0. ,\n",
       "        100. ,   68. ,  100. ,   93. ,  100. ,  100. ,  100. ,  100. ,\n",
       "         92. ,  100. ,   68. ,   92. ,  100. ,   87.5,  100. ,  100. ,\n",
       "        100. ,  100. ,  100. ,  100. ,   97. ,   68. ,   59. ,   79. ,\n",
       "        100. ,  100. ,  100. ,  100. ,   87. ,  100. ,  100. ,  100. ,\n",
       "         41. ,  100. ,  100. ,  100. ,  100. ,  100. ,  100. ,   66.5,\n",
       "        100. ,  100. ,  100. ,  100. ,  100. ,  100. ,  100. ,   79.5,\n",
       "        100. ,  100. ,   51.5,   66. ,   94. ,  100. ,  100. ,  100. ,\n",
       "         44. ,  100. ,  100. ,  100. ,  100. ,  100. ,   91. ,  100. ,\n",
       "        100. ,  100. ,  100. ,   96. ,   81. ,   94. ,  100. ,  100. ,\n",
       "         49. ,   15. ,  100. ,   69. ,   64.5,   82.5,  100. ,  100. ,\n",
       "        100. ,  100. ,   66. ,   95. ,  100. ,  100. ,  100. ,  100. ,\n",
       "        100. ,  100. ,  100. ,   99. ,  100. ,  100. ,   80. ,  100. ,\n",
       "         95. ,  100. ,  100. ,  100. ,  100. ,  100. ,  100. ,  100. ,\n",
       "        100. ,   94. ,  100. ,  100. ,   55. ,  100. ,  100. ,   95. ,\n",
       "         95. ,   68.5,  100. ,  100. ,  100. ,   95. ,   90. ,  100. ,\n",
       "        100. ,  100. ,  100. ,   62. ,   99.5,  100. ,  100. ,  100. ,\n",
       "        100. ,  100. ,  100. ,   75. ,  100. ,  100. ,  100. ,  100. ,\n",
       "         58.5,   13. ,  100. ,   43. ,  100. ,  100. ,  100. ,  100. ,\n",
       "        100. ,   68. ,  100. ,   97. ,  100. ,  100. ,  100. ,  100. ,\n",
       "        100. ,  100. ,   60. ,    0. ,  100. ,  100. ,  100. ,  100. ,\n",
       "        100. ,  100. ,   67.5,  100. ,  100. ,  100. ,  100. ,  100. ,\n",
       "        100. ,  100. ,  100. ,  100. ,  100. ,  100. ,  100. ,  100. ,\n",
       "        100. ,  100. ,  100. ,  100. ,   74. ,  100. ,  100. ,   62. ,\n",
       "         95. ,  100. ,   38. ,  100. ,  100. ,  100. ,  100. ])"
      ]
     },
     "execution_count": 7,
     "metadata": {},
     "output_type": "execute_result"
    }
   ],
   "source": [
    "sub_oc[:,112]"
   ]
  },
  {
   "cell_type": "code",
   "execution_count": 17,
   "metadata": {},
   "outputs": [
    {
     "data": {
      "image/png": "[encoded data removed]",
      "text/plain": [
       "<Figure size 720x1080 with 6 Axes>"
      ]
     },
     "metadata": {},
     "output_type": "display_data"
    }
   ],
   "source": [
    "sub6mo = [108,109,110,111,112]\n",
    "full6mo = [500,501,502,503,504]\n",
    "full12mo = [671,672,673,674,675]\n",
    "fig, ax = plt.subplots(3,2,sharey=True,figsize=(10,15))\n",
    "ax = ax.flatten()\n",
    "count = 0\n",
    "names = ['CHARTSFPhysicalTotal','CHARTSFCognitiveTotal',\n",
    "        'CHARTSFMobilityTotal','CHARTSFOccupationTotal','CHARTSFSocialIntegrationTotal']\n",
    "for x, y, z, name in zip(sub6mo, full6mo, full12mo, names):\n",
    "    sub = sub_oc[:,x]\n",
    "    full6 = fulldata.iloc[:,y]\n",
    "    full12 = fulldata.iloc[:,z]\n",
    "\n",
    "    dat = full6\n",
    "    dat2 = full12\n",
    "    \n",
    "    num_na = dat.isna().sum()\n",
    "    num_na2 = dat2.isna().sum()\n",
    "    nonresponsive = 29\n",
    "    nonresponsive2 = 13\n",
    "\n",
    "    dat_dropna = dat.dropna()\n",
    "    dat2_dropna = dat2.dropna()\n",
    "    \n",
    "    counts, bins, bars = ax[count].hist([sub, dat_dropna, dat2_dropna], color=['red','grey','black'], label=['sub6mo', 'full6mo', 'full12mo'], rwidth=0.8)\n",
    "    length = (bins[1]-bins[0])/4\n",
    "    ax[count].set_title('{}'.format(name))\n",
    "    ax[count].legend()\n",
    "    \n",
    "    mx = max(max(dat_dropna),max(dat2_dropna))\n",
    "    \n",
    "    na_index = mx*(1+1/5) \n",
    "    na_index2 = mx*(1+2/5)\n",
    " \n",
    "    ax[count].bar(na_index, nonresponsive, color='pink', label='nonresponsive', width=length)\n",
    "    ax[count].bar(na_index, num_na-nonresponsive, color='grey', bottom = nonresponsive, width=length)\n",
    "    ax[count].bar(na_index2, nonresponsive2, color='pink', width=length)\n",
    "    ax[count].bar(na_index2, num_na2-nonresponsive2, color='black', bottom = nonresponsive2, width=length)\n",
    "    ax[count].legend()\n",
    "    count += 1\n",
    "plt.savefig('/Users/ahyeon/Desktop/activ misc/charts_hist.pdf')"
   ]
  },
  {
   "cell_type": "code",
   "execution_count": null,
   "metadata": {},
   "outputs": [],
   "source": []
  }
 ],
 "metadata": {
  "kernelspec": {
   "display_name": "Python 3",
   "language": "python",
   "name": "python3"
  },
  "language_info": {
   "codemirror_mode": {
    "name": "ipython",
    "version": 3
   },
   "file_extension": ".py",
   "mimetype": "text/x-python",
   "name": "python",
   "nbconvert_exporter": "python",
   "pygments_lexer": "ipython3",
   "version": "3.6.1"
  }
 },
 "nbformat": 4,
 "nbformat_minor": 2
}

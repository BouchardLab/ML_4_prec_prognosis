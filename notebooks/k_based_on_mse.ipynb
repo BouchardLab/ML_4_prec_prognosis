{
 "cells": [
  {
   "cell_type": "code",
   "execution_count": 72,
   "metadata": {},
   "outputs": [],
   "source": [
    "import numpy as np\n",
    "import matplotlib.pyplot as plt\n",
    "import scipy\n",
    "from activ import load_data\n",
    "from PyUoI.UoINMF import UoINMF\n",
    "from sklearn.model_selection import train_test_split\n",
    "from sklearn.cluster import DBSCAN\n",
    "from activ.data_normalization import data_normalization\n",
    "from scipy.spatial.distance import pdist\n",
    "from sklearn.model_selection import KFold\n",
    "from sklearn.decomposition import PCA\n",
    "import h5py\n",
    "from sklearn.ensemble import RandomForestRegressor\n",
    "from sklearn.model_selection import cross_val_score, cross_val_predict\n",
    "from sklearn import metrics\n",
    "from sklearn import linear_model"
   ]
  },
  {
   "cell_type": "code",
   "execution_count": 53,
   "metadata": {},
   "outputs": [],
   "source": [
    "nmfdata = load_data(uoinmf=True)\n",
    "rawdata = load_data(uoinmf=False)\n",
    "raw_oc = rawdata.outcomes\n",
    "raw_bm = rawdata.biomarkers\n",
    "nmf_bm = nmfdata.biomarkers"
   ]
  },
  {
   "cell_type": "code",
   "execution_count": 42,
   "metadata": {},
   "outputs": [
    {
     "data": {
      "text/plain": [
       "(247, 6)"
      ]
     },
     "execution_count": 42,
     "metadata": {},
     "output_type": "execute_result"
    }
   ],
   "source": [
    "nmf_bm.shape"
   ]
  },
  {
   "cell_type": "code",
   "execution_count": 44,
   "metadata": {},
   "outputs": [
    {
     "data": {
      "text/plain": [
       "(247,)"
      ]
     },
     "execution_count": 44,
     "metadata": {},
     "output_type": "execute_result"
    }
   ],
   "source": [
    "transformed_oc = PCA(n_components=1).fit_transform(raw_oc)\n",
    "transformed_oc[:,0].shape"
   ]
  },
  {
   "cell_type": "code",
   "execution_count": 45,
   "metadata": {},
   "outputs": [
    {
     "name": "stdout",
     "output_type": "stream",
     "text": [
      "(247, 6)\n",
      "[-0.0241171  -0.06520387 -0.05721301  0.06576183 -0.00619574]\n"
     ]
    },
    {
     "name": "stderr",
     "output_type": "stream",
     "text": [
      "/Users/ahyeon/anaconda3/envs/activ/lib/python3.6/site-packages/ipykernel_launcher.py:4: DataConversionWarning: A column-vector y was passed when a 1d array was expected. Please change the shape of y to (n_samples,), for example using ravel().\n",
      "  after removing the cwd from sys.path.\n",
      "/Users/ahyeon/anaconda3/envs/activ/lib/python3.6/site-packages/sklearn/model_selection/_validation.py:458: DataConversionWarning: A column-vector y was passed when a 1d array was expected. Please change the shape of y to (n_samples,), for example using ravel().\n",
      "  estimator.fit(X_train, y_train, **fit_params)\n",
      "/Users/ahyeon/anaconda3/envs/activ/lib/python3.6/site-packages/sklearn/model_selection/_validation.py:458: DataConversionWarning: A column-vector y was passed when a 1d array was expected. Please change the shape of y to (n_samples,), for example using ravel().\n",
      "  estimator.fit(X_train, y_train, **fit_params)\n",
      "/Users/ahyeon/anaconda3/envs/activ/lib/python3.6/site-packages/sklearn/model_selection/_validation.py:458: DataConversionWarning: A column-vector y was passed when a 1d array was expected. Please change the shape of y to (n_samples,), for example using ravel().\n",
      "  estimator.fit(X_train, y_train, **fit_params)\n",
      "/Users/ahyeon/anaconda3/envs/activ/lib/python3.6/site-packages/sklearn/model_selection/_validation.py:458: DataConversionWarning: A column-vector y was passed when a 1d array was expected. Please change the shape of y to (n_samples,), for example using ravel().\n",
      "  estimator.fit(X_train, y_train, **fit_params)\n",
      "/Users/ahyeon/anaconda3/envs/activ/lib/python3.6/site-packages/sklearn/model_selection/_validation.py:458: DataConversionWarning: A column-vector y was passed when a 1d array was expected. Please change the shape of y to (n_samples,), for example using ravel().\n",
      "  estimator.fit(X_train, y_train, **fit_params)\n"
     ]
    }
   ],
   "source": [
    "rf = RandomForestRegressor(max_depth=2)\n",
    "rf.fit(nmf_bm, transformed_oc)\n",
    "acc = cross_val_score(rf, nmf_bm, transformed_oc, cv=5, scoring=metrics.make_scorer(metrics.r2_score))\n",
    "print(nmf_bm.shape)\n",
    "print(acc)\n"
   ]
  },
  {
   "cell_type": "code",
   "execution_count": null,
   "metadata": {},
   "outputs": [],
   "source": [
    "cca = CCA(n_components=1)\n"
   ]
  },
  {
   "cell_type": "code",
   "execution_count": 51,
   "metadata": {},
   "outputs": [
    {
     "name": "stdout",
     "output_type": "stream",
     "text": [
      "[0.46330926 0.12544439 0.08504871 0.06573994 0.05823823 0.04913848\n",
      " 0.02514921 0.02249134 0.0210888  0.01514242]\n"
     ]
    },
    {
     "data": {
      "image/png": "[encoded data removed]",
      "text/plain": [
       "<Figure size 432x288 with 1 Axes>"
      ]
     },
     "metadata": {},
     "output_type": "display_data"
    }
   ],
   "source": [
    "pca = PCA(n_components=40)\n",
    "pca.fit_transform(raw_oc)\n",
    "plt.plot(np.arange(40)+1, pca.explained_variance_ratio_)\n",
    "plt.plot(np.arange(40)+1, np.cumsum(pca.explained_variance_ratio_))\n",
    "print(pca.explained_variance_ratio_[0:10])"
   ]
  },
  {
   "cell_type": "code",
   "execution_count": 85,
   "metadata": {},
   "outputs": [
    {
     "name": "stdout",
     "output_type": "stream",
     "text": [
      "solving NMF with k = 2\n",
      "0.053340639583547955\n",
      "solving NMF with k = 3\n",
      "0.053714149790757726\n",
      "solving NMF with k = 4\n",
      "0.06275588314983116\n",
      "solving NMF with k = 5\n",
      "0.05776767549863837\n",
      "solving NMF with k = 6\n",
      "0.060060616066130224\n",
      "solving NMF with k = 7\n",
      "0.060308267882875244\n",
      "solving NMF with k = 8\n",
      "0.06398206361294212\n",
      "solving NMF with k = 9\n",
      "0.06725183561510562\n",
      "solving NMF with k = 10\n",
      "0.03895398416695317\n",
      "solving NMF with k = 11\n",
      "-0.033947015943614156\n",
      "solving NMF with k = 12\n",
      "-0.004819614496396563\n",
      "solving NMF with k = 13\n",
      "0.0072792385344501165\n",
      "solving NMF with k = 14\n",
      "-0.1441022068348925\n",
      "solving NMF with k = 15\n",
      "-0.10786684590963014\n",
      "solving NMF with k = 16\n",
      "-0.018601114239489513\n",
      "solving NMF with k = 17\n",
      "0.005746762419145179\n",
      "solving NMF with k = 18\n",
      "-0.35389861171041903\n",
      "solving NMF with k = 19\n",
      "-4.044000502147845\n"
     ]
    }
   ],
   "source": [
    "knum = 5\n",
    "kf = KFold(n_splits=knum)\n",
    "eps = [0.2, 0.3, 0.4, 0.5, 0.6, 0.7, 0.8]\n",
    "minsamples = np.arange(20,80,5)\n",
    "transformed_oc = PCA(n_components=1).fit_transform(raw_oc)\n",
    "\n",
    "r2s = list()\n",
    "for k in range(2,20):\n",
    "    db = DBSCAN(eps=0.5, min_samples=5)\n",
    "    print(\"solving NMF with k = %d\" % k)\n",
    "    uoinmf = UoINMF(ranks=k, dbscan=db)\n",
    "    uoinmf.nmf.set_params(max_iter=1000)\n",
    "    weight = uoinmf.fit_transform(raw_bm)\n",
    "    H = uoinmf.components_\n",
    "    k = H.shape[0]\n",
    "    regr = linear_model.LinearRegression()\n",
    "    regr.fit(weight, transformed_oc[:,0])\n",
    "    pred = cross_val_predict(regr, weight, transformed_oc[:,0], cv=5)\n",
    "    r2 = metrics.r2_score(transformed_oc[:,0], pred)\n",
    "    print(r2)\n",
    "    r2s.append(r2)"
   ]
  },
  {
   "cell_type": "code",
   "execution_count": 88,
   "metadata": {},
   "outputs": [
    {
     "data": {
      "text/plain": [
       "[0.053340639583547955,\n",
       " 0.053714149790757726,\n",
       " 0.06275588314983116,\n",
       " 0.05776767549863837,\n",
       " 0.060060616066130224,\n",
       " 0.060308267882875244,\n",
       " 0.06398206361294212,\n",
       " 0.06725183561510562,\n",
       " 0.03895398416695317,\n",
       " -0.033947015943614156,\n",
       " -0.004819614496396563,\n",
       " 0.0072792385344501165,\n",
       " -0.1441022068348925,\n",
       " -0.10786684590963014,\n",
       " -0.018601114239489513,\n",
       " 0.005746762419145179,\n",
       " -0.35389861171041903,\n",
       " -4.044000502147845]"
      ]
     },
     "execution_count": 88,
     "metadata": {},
     "output_type": "execute_result"
    }
   ],
   "source": [
    "r2s"
   ]
  },
  {
   "cell_type": "code",
   "execution_count": 87,
   "metadata": {},
   "outputs": [
    {
     "name": "stdout",
     "output_type": "stream",
     "text": [
      "[0.053340639583547955, 0.053714149790757726, 0.06275588314983116, 0.05776767549863837, 0.060060616066130224, 0.060308267882875244, 0.06398206361294212, 0.06725183561510562, 0.03895398416695317, -0.033947015943614156, -0.004819614496396563, 0.0072792385344501165, -0.1441022068348925, -0.10786684590963014, -0.018601114239489513, 0.005746762419145179, -0.35389861171041903, -4.044000502147845]\n"
     ]
    },
    {
     "data": {
      "text/plain": [
       "Text(0,0.5,'r2')"
      ]
     },
     "execution_count": 87,
     "metadata": {},
     "output_type": "execute_result"
    },
    {
     "data": {
      "image/png": "[encoded data removed]",
      "text/plain": [
       "<Figure size 432x432 with 1 Axes>"
      ]
     },
     "metadata": {},
     "output_type": "display_data"
    }
   ],
   "source": [
    "print(r2s)\n",
    "plt.figure(figsize=(6,6))\n",
    "plt.plot(np.arange(2,20), r2s)\n",
    "plt.xticks(np.arange(2,20))\n",
    "plt.xlabel('k')\n",
    "plt.ylabel('r2')\n",
    "# plt.savefig('/Users/ahyeon/Desktop/activ misc/k_19_mse.pdf')"
   ]
  },
  {
   "cell_type": "code",
   "execution_count": 98,
   "metadata": {},
   "outputs": [
    {
     "name": "stdout",
     "output_type": "stream",
     "text": [
      "solving NMF with k = 2\n",
      "solving NMF with k = 3\n",
      "solving NMF with k = 4\n",
      "solving NMF with k = 5\n",
      "solving NMF with k = 6\n",
      "solving NMF with k = 7\n",
      "solving NMF with k = 8\n",
      "solving NMF with k = 9\n",
      "solving NMF with k = 10\n",
      "solving NMF with k = 11\n",
      "solving NMF with k = 12\n",
      "solving NMF with k = 13\n",
      "solving NMF with k = 14\n",
      "solving NMF with k = 15\n",
      "solving NMF with k = 16\n",
      "solving NMF with k = 17\n",
      "solving NMF with k = 18\n",
      "solving NMF with k = 19\n"
     ]
    }
   ],
   "source": [
    "knum = 5\n",
    "kf = KFold(n_splits=knum)\n",
    "eps = [0.2, 0.3, 0.4, 0.5, 0.6, 0.7, 0.8]\n",
    "minsamples = np.arange(20,80,5)\n",
    "transformed_oc = PCA(n_components=1).fit_transform(raw_oc)\n",
    "\n",
    "ocpc = transformed_oc[:,0]\n",
    "\n",
    "accs = list()\n",
    "lrr2 = list()\n",
    "for k in range(2,20):\n",
    "    db = DBSCAN(eps=0.5, min_samples=5)\n",
    "    print(\"solving NMF with k = %d\" % k)\n",
    "    uoinmf = UoINMF(ranks=k, dbscan=db)\n",
    "    uoinmf.nmf.set_params(max_iter=1000)\n",
    "    weight = uoinmf.fit_transform(raw_bm)\n",
    "    H = uoinmf.components_\n",
    "    k = H.shape[0]\n",
    "    rf = RandomForestRegressor()\n",
    "    rf.fit(weight, transformed_oc[:,0])\n",
    "    pred = cross_val_predict(rf, weight, ocpc, cv=5)\n",
    "    acc = metrics.mean_squared_error(pred, ocpc)\n",
    "    accs.append(acc)\n",
    "    lrr2.append(metrics.r2_score(ocpc, linear_model.LinearRegression().fit(weight, ocpc).predict(weight)))"
   ]
  },
  {
   "cell_type": "code",
   "execution_count": 99,
   "metadata": {},
   "outputs": [
    {
     "data": {
      "text/plain": [
       "Text(0,0.5,'r2')"
      ]
     },
     "execution_count": 99,
     "metadata": {},
     "output_type": "execute_result"
    },
    {
     "data": {
      "image/png": "[encoded data removed]",
      "text/plain": [
       "<Figure size 432x432 with 1 Axes>"
      ]
     },
     "metadata": {},
     "output_type": "display_data"
    }
   ],
   "source": [
    "plt.figure(figsize=(6,6))\n",
    "plt.plot(np.arange(2,20), lrr2)\n",
    "plt.xticks(np.arange(2,20))\n",
    "plt.xlabel('k')\n",
    "plt.ylabel('r2')"
   ]
  },
  {
   "cell_type": "code",
   "execution_count": 100,
   "metadata": {},
   "outputs": [
    {
     "data": {
      "text/plain": [
       "Text(0,0.5,'mse')"
      ]
     },
     "execution_count": 100,
     "metadata": {},
     "output_type": "execute_result"
    },
    {
     "data": {
      "image/png": "[encoded data removed]",
      "text/plain": [
       "<Figure size 432x432 with 1 Axes>"
      ]
     },
     "metadata": {},
     "output_type": "display_data"
    }
   ],
   "source": [
    "plt.figure(figsize=(6,6))\n",
    "plt.plot(np.arange(2,20), accs)\n",
    "plt.xticks(np.arange(2,20))\n",
    "plt.xlabel('k')\n",
    "plt.ylabel('mse')"
   ]
  },
  {
   "cell_type": "code",
   "execution_count": 101,
   "metadata": {},
   "outputs": [
    {
     "data": {
      "text/plain": [
       "513.7519066104398"
      ]
     },
     "execution_count": 101,
     "metadata": {},
     "output_type": "execute_result"
    }
   ],
   "source": [
    "np.std(accs)"
   ]
  },
  {
   "cell_type": "code",
   "execution_count": 102,
   "metadata": {},
   "outputs": [
    {
     "data": {
      "text/plain": [
       "6449.769999984798"
      ]
     },
     "execution_count": 102,
     "metadata": {},
     "output_type": "execute_result"
    }
   ],
   "source": [
    "np.mean(accs)"
   ]
  },
  {
   "cell_type": "code",
   "execution_count": 97,
   "metadata": {},
   "outputs": [
    {
     "data": {
      "text/plain": [
       "(array([1., 0., 4., 3., 4., 3., 1., 0., 1., 1.]),\n",
       " array([4914.98989667, 4991.39061208, 5067.79132749, 5144.1920429 ,\n",
       "        5220.59275831, 5296.99347372, 5373.39418914, 5449.79490455,\n",
       "        5526.19561996, 5602.59633537, 5678.99705078]),\n",
       " <a list of 10 Patch objects>)"
      ]
     },
     "execution_count": 97,
     "metadata": {},
     "output_type": "execute_result"
    },
    {
     "data": {
      "image/png": "[encoded data removed]",
      "text/plain": [
       "<Figure size 432x288 with 1 Axes>"
      ]
     },
     "metadata": {},
     "output_type": "display_data"
    }
   ],
   "source": [
    "plt.hist(accs)"
   ]
  },
  {
   "cell_type": "code",
   "execution_count": null,
   "metadata": {},
   "outputs": [],
   "source": []
  }
 ],
 "metadata": {
  "kernelspec": {
   "display_name": "Python 3",
   "language": "python",
   "name": "python3"
  },
  "language_info": {
   "codemirror_mode": {
    "name": "ipython",
    "version": 3
   },
   "file_extension": ".py",
   "mimetype": "text/x-python",
   "name": "python",
   "nbconvert_exporter": "python",
   "pygments_lexer": "ipython3",
   "version": "3.6.2"
  }
 },
 "nbformat": 4,
 "nbformat_minor": 2
}

{
 "cells": [
  {
   "cell_type": "code",
   "execution_count": 1,
   "metadata": {},
   "outputs": [],
   "source": [
    "%matplotlib inline\n",
    "import matplotlib.pyplot as plt\n",
    "import h5py\n",
    "import numpy as np\n",
    "from activ.analytics import heatmap\n",
    "from activ.clustering import UmapClusteringResults\n",
    "from os.path import dirname, join\n",
    "from sklearn.metrics import accuracy_score\n",
    "from sklearn.preprocessing import label_binarize"
   ]
  },
  {
   "cell_type": "code",
   "execution_count": 2,
   "metadata": {},
   "outputs": [],
   "source": [
    "f = h5py.File('/Users/ahyeon/Desktop/activ misc/predict_scores2.h5', 'r')"
   ]
  },
  {
   "cell_type": "code",
   "execution_count": 3,
   "metadata": {},
   "outputs": [],
   "source": [
    "predictions = f['score'][:]\n",
    "norm_predictions = f['norm_score'][:]\n",
    "labels = f['clusters'][:]\n",
    "umap_dims = f['umap_dimensions'][:]\n",
    "cluster_sizes = f['cluster_sizes'][:]"
   ]
  },
  {
   "cell_type": "code",
   "execution_count": 4,
   "metadata": {},
   "outputs": [],
   "source": [
    "def conf_alliter(size, predicted, actual):\n",
    "    confalliter = []\n",
    "    for j in range(5):\n",
    "        conf = np.zeros((size,size))\n",
    "        labs = list(map(int, actual[j][size-2]))\n",
    "        preds = list(map(int, predicted[j][size-2]))\n",
    "        for l, p in zip(labs, preds):\n",
    "            conf[l,p] += 1\n",
    "        denom = conf.sum(axis=0)\n",
    "        new_conf = conf/denom\n",
    "        plt.matshow(new_conf, cmap='gray_r')\n",
    "        confalliter.append(new_conf)\n",
    "    return confalliter"
   ]
  },
  {
   "cell_type": "code",
   "execution_count": 5,
   "metadata": {},
   "outputs": [
    {
     "data": {
      "image/png": "[encoded data removed]",
      "text/plain": [
       "<Figure size 288x288 with 1 Axes>"
      ]
     },
     "metadata": {},
     "output_type": "display_data"
    },
    {
     "data": {
      "image/png": "[encoded data removed]",
      "text/plain": [
       "<Figure size 288x288 with 1 Axes>"
      ]
     },
     "metadata": {},
     "output_type": "display_data"
    },
    {
     "data": {
      "image/png": "[encoded data removed]",
      "text/plain": [
       "<Figure size 288x288 with 1 Axes>"
      ]
     },
     "metadata": {},
     "output_type": "display_data"
    },
    {
     "data": {
      "image/png": "[encoded data removed]",
      "text/plain": [
       "<Figure size 288x288 with 1 Axes>"
      ]
     },
     "metadata": {},
     "output_type": "display_data"
    },
    {
     "data": {
      "image/png": "[encoded data removed]",
      "text/plain": [
       "<Figure size 288x288 with 1 Axes>"
      ]
     },
     "metadata": {},
     "output_type": "display_data"
    }
   ],
   "source": [
    "confalliter = conf_alliter(2, predictions, labels)"
   ]
  },
  {
   "cell_type": "code",
   "execution_count": 15,
   "metadata": {},
   "outputs": [],
   "source": [
    "def foobar(mat):\n",
    "    print(mat.shape[0])\n",
    "    tps = []\n",
    "    tns = []\n",
    "    fps = []\n",
    "    fns = []\n",
    "    for i in range(mat.shape[0]):\n",
    "        tp = mat[i,i]\n",
    "        tn = mat.sum() - mat[i,:].sum() - mat[:,i].sum()\n",
    "        fp = mat[:,i].sum() - mat[i,i]\n",
    "        fn = mat[i,:].sum() - mat[i,i]\n",
    "        tps.append(tp)\n",
    "        tns.append(tn)\n",
    "        fps.append(fp)\n",
    "        fns.append(fns)\n",
    "    avg_tps = np.mean(tps)\n",
    "    avg_tns = np.mean(tns)\n",
    "    avg_fps = np.mean(fps)\n",
    "    avg_fns = np.mean(fns)\n",
    "    return avg_tps, avg_tns, avg_fps, avg_fns"
   ]
  },
  {
   "cell_type": "code",
   "execution_count": 16,
   "metadata": {},
   "outputs": [
    {
     "data": {
      "text/plain": [
       "matrix([[1, 2],\n",
       "        [3, 4]])"
      ]
     },
     "execution_count": 16,
     "metadata": {},
     "output_type": "execute_result"
    }
   ],
   "source": [
    "x = [[1,2],[3,4]]\n",
    "new = np.matrix(x)\n",
    "new"
   ]
  },
  {
   "cell_type": "code",
   "execution_count": null,
   "metadata": {},
   "outputs": [],
   "source": [
    "a,b,c,d = foobar(new)"
   ]
  },
  {
   "cell_type": "code",
   "execution_count": null,
   "metadata": {},
   "outputs": [],
   "source": []
  }
 ],
 "metadata": {
  "kernelspec": {
   "display_name": "Python 3",
   "language": "python",
   "name": "python3"
  },
  "language_info": {
   "codemirror_mode": {
    "name": "ipython",
    "version": 3
   },
   "file_extension": ".py",
   "mimetype": "text/x-python",
   "name": "python",
   "nbconvert_exporter": "python",
   "pygments_lexer": "ipython3",
   "version": "3.6.2"
  }
 },
 "nbformat": 4,
 "nbformat_minor": 2
}

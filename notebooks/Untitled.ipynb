{
 "cells": [
  {
   "cell_type": "code",
   "execution_count": 1,
   "metadata": {},
   "outputs": [],
   "source": [
    "%matplotlib inline\n",
    "import matplotlib.pyplot as plt\n",
    "import h5py\n",
    "import numpy as np\n",
    "from activ.analytics import heatmap\n",
    "from activ.clustering import UmapClusteringResults\n",
    "from os.path import dirname, join\n",
    "from sklearn.metrics import accuracy_score\n",
    "from sklearn.preprocessing import label_binarize"
   ]
  },
  {
   "cell_type": "code",
   "execution_count": 2,
   "metadata": {},
   "outputs": [],
   "source": [
    "f = h5py.File('/Users/ahyeon/Desktop/activ misc/predict_scores2.h5', 'r')"
   ]
  },
  {
   "cell_type": "code",
   "execution_count": 3,
   "metadata": {},
   "outputs": [],
   "source": [
    "predictions = f['score'][:]\n",
    "norm_predictions = f['norm_score'][:]\n",
    "labels = f['clusters'][:]\n",
    "umap_dims = f['umap_dimensions'][:]\n",
    "cluster_sizes = f['cluster_sizes'][:]"
   ]
  },
  {
   "cell_type": "code",
   "execution_count": null,
   "metadata": {},
   "outputs": [],
   "source": [
    "def accuracy(predicted, actual):\n",
    "    correct = predicted-actual == 0\n",
    "    tn_tp = len(np.where(correct))\n",
    "    tn_tp_fn_fp = len(predicted)\n",
    "    return tn_tp/tn_tp_fn_fp"
   ]
  },
  {
   "cell_type": "code",
   "execution_count": null,
   "metadata": {},
   "outputs": [],
   "source": [
    "# specificity\n",
    "iter_size = 50\n",
    "allsens = np.zeros((len(cluster_sizes), iter_size))\n",
    "allspec = np.zeros((len(cluster_sizes), iter_size))\n",
    "allfscore = np.zeros((len(cluster_sizes), iter_size))\n",
    "allacc = np.zeros((len(cluster_sizes), iter_size))\n",
    "for ii,c in enumerate(cluster_sizes):\n",
    "    all50mats = conf_alliter(c, norm_predictions, labels)\n",
    "    sensitivities = []\n",
    "    for iteration in range(iter_size):\n",
    "        tps, tns, fps, fns = statistics(all50mats[iteration])\n",
    "        \n",
    "        tp_class = tps[ii]\n",
    "        tn_class = tns[ii]\n",
    "        fp_class = fps[ii]\n",
    "        fn_class = fns[ii]\n",
    "        \n",
    "        sens = true_pos_rate(tp_class, fn_class)\n",
    "        sensitivities.append(sens)\n",
    "    allsens[ii] = sensitivities"
   ]
  }
 ],
 "metadata": {
  "kernelspec": {
   "display_name": "Python 3",
   "language": "python",
   "name": "python3"
  },
  "language_info": {
   "codemirror_mode": {
    "name": "ipython",
    "version": 3
   },
   "file_extension": ".py",
   "mimetype": "text/x-python",
   "name": "python",
   "nbconvert_exporter": "python",
   "pygments_lexer": "ipython3",
   "version": "3.6.2"
  }
 },
 "nbformat": 4,
 "nbformat_minor": 2
}

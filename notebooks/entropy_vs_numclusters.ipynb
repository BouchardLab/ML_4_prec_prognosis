{
 "cells": [
  {
   "cell_type": "code",
   "execution_count": 55,
   "metadata": {},
   "outputs": [],
   "source": [
    "import numpy as np\n",
    "from sklearn.metrics import mean_squared_error, r2_score\n",
    "from activ.pipeline import score_clusters\n",
    "import matplotlib.pyplot as plt\n",
    "import scipy\n",
    "import h5py\n",
    "from scipy.stats import entropy\n",
    "from scipy.spatial.distance import pdist, squareform\n",
    "import scipy.cluster.hierarchy as _sch\n",
    "from collections import Counter\n",
    "from activ import load_data"
   ]
  },
  {
   "cell_type": "code",
   "execution_count": 56,
   "metadata": {},
   "outputs": [
    {
     "data": {
      "text/plain": [
       "(247, 177)"
      ]
     },
     "execution_count": 56,
     "metadata": {},
     "output_type": "execute_result"
    }
   ],
   "source": [
    "data = load_data()\n",
    "oc_features = data.outcome_features\n",
    "oc = data.outcomes\n",
    "oc.shape"
   ]
  },
  {
   "cell_type": "code",
   "execution_count": 57,
   "metadata": {},
   "outputs": [],
   "source": [
    "# GOSE scores\n",
    "gose_overallscore_3m = oc[:,4]\n",
    "gose_overallscore_6m = oc[:,32]\n",
    "gose_otherissues_6m = oc[:,29]\n",
    "gose_otherissues_3m = oc[:,3]\n",
    "gose_Reponder6M_Patient_alone = oc[:,24]\n",
    "gose_Travel6M = oc[:,27]"
   ]
  },
  {
   "cell_type": "code",
   "execution_count": 137,
   "metadata": {},
   "outputs": [
    {
     "data": {
      "image/png": "[encoded data removed]",
      "text/plain": [
       "<Figure size 432x432 with 1 Axes>"
      ]
     },
     "metadata": {},
     "output_type": "display_data"
    }
   ],
   "source": [
    "plt.figure(figsize=(6,6))\n",
    "plt.hist([gose_overallscore_3m, gose_overallscore_6m], align='left', bins=np.arange(1,9,0.5), label=['3M','6M'], color=['red','blue'])\n",
    "plt.title('Histogram of GOSE Overall Score')\n",
    "plt.xlabel('GOSE Score')\n",
    "plt.ylabel('Frequency')\n",
    "plt.legend()\n",
    "plt.savefig('/Users/ahyeon/Desktop/activ misc/hist_gose.pdf')"
   ]
  },
  {
   "cell_type": "code",
   "execution_count": 85,
   "metadata": {},
   "outputs": [
    {
     "data": {
      "text/plain": [
       "Text(0,0.5,'Count')"
      ]
     },
     "execution_count": 85,
     "metadata": {},
     "output_type": "execute_result"
    },
    {
     "data": {
      "image/png": "[encoded data removed]",
      "text/plain": [
       "<Figure size 432x288 with 1 Axes>"
      ]
     },
     "metadata": {},
     "output_type": "display_data"
    }
   ],
   "source": [
    "plt.hist(gose_overallscore_6m, align='left', bins=np.arange(1,9,0.5))\n",
    "plt.title('Histogram of GOSE Overallscore 6M')\n",
    "plt.xlabel('GOSE Score')\n",
    "plt.ylabel('Count')"
   ]
  },
  {
   "cell_type": "code",
   "execution_count": 81,
   "metadata": {},
   "outputs": [
    {
     "data": {
      "text/plain": [
       "(array([ 1.,  0.,  1.,  0.,  1.,  0.,  1.]),\n",
       " array([ 1. ,  1.5,  2. ,  2.5,  3. ,  3.5,  4. ,  4.5]),\n",
       " <a list of 7 Patch objects>)"
      ]
     },
     "execution_count": 81,
     "metadata": {},
     "output_type": "execute_result"
    },
    {
     "data": {
      "image/png": "[encoded data removed]",
      "text/plain": [
       "<Figure size 432x288 with 1 Axes>"
      ]
     },
     "metadata": {},
     "output_type": "display_data"
    }
   ],
   "source": [
    "x = [1,2,3,4]\n",
    "ticks = np.arange(1,5,0.5)\n",
    "plt.hist(x, align='left', bins=ticks)"
   ]
  },
  {
   "cell_type": "code",
   "execution_count": 46,
   "metadata": {},
   "outputs": [],
   "source": [
    "file = '/Users/ahyeon/Desktop/activ misc/sweep_u2-10_c2-50_i50_raw-oc-cluster_uoinmf-bm-predict/umap_clustering_sweep.h5'"
   ]
  },
  {
   "cell_type": "code",
   "execution_count": 47,
   "metadata": {},
   "outputs": [],
   "source": [
    "f = h5py.File(file, 'r')"
   ]
  },
  {
   "cell_type": "code",
   "execution_count": 48,
   "metadata": {},
   "outputs": [],
   "source": [
    "umap_dims = f['umap_dimensions'][:]\n",
    "score = f['score'][:]\n",
    "norm_score = f['norm_score'][:]\n",
    "clusters = f['clusters'][:]\n",
    "cluster_sizes = f['cluster_sizes'][:]"
   ]
  },
  {
   "cell_type": "code",
   "execution_count": 49,
   "metadata": {},
   "outputs": [],
   "source": [
    "emb = f['umap_embeddings'][:]\n",
    "scale = f['umap_embeddings_dimscale'][:][:54]"
   ]
  },
  {
   "cell_type": "code",
   "execution_count": 50,
   "metadata": {},
   "outputs": [
    {
     "data": {
      "text/plain": [
       "(30381,)"
      ]
     },
     "execution_count": 50,
     "metadata": {},
     "output_type": "execute_result"
    }
   ],
   "source": [
    "for dim in umap_dims:\n",
    "    all_dmat = np.zeros((30381,50))\n",
    "    for x in range(emb.shape[0]):\n",
    "        dmat = pdist(emb[x][:,scale==dim], metric='mahalanobis')\n",
    "        all_dmat[:,x] = dmat\n",
    "    mean = all_dmat.mean(axis=1)\n",
    "mean.shape"
   ]
  },
  {
   "cell_type": "code",
   "execution_count": 12,
   "metadata": {},
   "outputs": [],
   "source": [
    "def calc_entropy(gose_scores):\n",
    "    probs = np.array(list(Counter(gose_scores).values()))/len(gose_scores)\n",
    "    return entropy(probs, base=2.0)"
   ]
  },
  {
   "cell_type": "code",
   "execution_count": 52,
   "metadata": {},
   "outputs": [],
   "source": [
    "def entropy_across_clusters(cluster_sizes, data):\n",
    "    values = []\n",
    "    tree = _sch.linkage(mean, method='ward')\n",
    "    labels = _sch.cut_tree(tree, cluster_sizes)\n",
    "\n",
    "    for ii,c in enumerate(cluster_sizes):\n",
    "        entropies = []\n",
    "        for label in np.unique(labels[:,ii]):\n",
    "            scores = data[labels[:,ii]==label]\n",
    "            ent = calc_entropy(scores)\n",
    "            entropies.append(ent)\n",
    "        v = np.mean(entropies)\n",
    "        values.append(v)\n",
    "    return values"
   ]
  },
  {
   "cell_type": "code",
   "execution_count": 138,
   "metadata": {},
   "outputs": [
    {
     "data": {
      "image/png": "[encoded data removed]",
      "text/plain": [
       "<Figure size 432x432 with 1 Axes>"
      ]
     },
     "metadata": {},
     "output_type": "display_data"
    }
   ],
   "source": [
    "plt.figure(figsize=(6,6))\n",
    "plt.plot(cluster_sizes, entropy_across_clusters(cluster_sizes, gose_overallscore_3m), '.', label='GOSE OverallScore 3M')\n",
    "plt.plot(cluster_sizes, entropy_across_clusters(cluster_sizes, gose_overallscore_6m), '.', label='GOSE OverallScore 6M')\n",
    "plt.xlabel('Number of Clusters')\n",
    "plt.ylabel('Entropy')\n",
    "plt.title('Num Clusters vs Entropy for Different GOSE Scores')\n",
    "plt.legend() \n",
    "plt.savefig('/Users/ahyeon/Desktop/activ misc/gose_entropy.pdf')"
   ]
  },
  {
   "cell_type": "code",
   "execution_count": null,
   "metadata": {},
   "outputs": [],
   "source": []
  }
 ],
 "metadata": {
  "kernelspec": {
   "display_name": "Python 3",
   "language": "python",
   "name": "python3"
  },
  "language_info": {
   "codemirror_mode": {
    "name": "ipython",
    "version": 3
   },
   "file_extension": ".py",
   "mimetype": "text/x-python",
   "name": "python",
   "nbconvert_exporter": "python",
   "pygments_lexer": "ipython3",
   "version": "3.6.2"
  }
 },
 "nbformat": 4,
 "nbformat_minor": 2
}

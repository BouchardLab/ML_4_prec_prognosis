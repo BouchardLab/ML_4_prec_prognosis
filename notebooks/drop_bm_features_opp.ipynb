{
 "cells": [
  {
   "cell_type": "code",
   "execution_count": 7,
   "metadata": {},
   "outputs": [],
   "source": [
    "from PyUoI.UoINMF import UoINMF\n",
    "from activ import load_data, data_normalization\n",
    "import os\n",
    "from activ.readfile import TrackTBIFile\n",
    "%matplotlib inline\n",
    "import matplotlib.pyplot as plt\n",
    "import h5py\n",
    "import numpy as np\n",
    "from activ.analytics import heatmap, nmf_bases_heatmap\n",
    "from activ.clustering import UmapClusteringResults\n",
    "from os.path import dirname, join\n",
    "from scipy.optimize import curve_fit\n",
    "from scipy.stats import norm, sem\n",
    "from matplotlib.backends.backend_pdf import PdfPages\n",
    "from IPython.display import display, Latex, Markdown\n",
    "from pylatex import Document, Section, Subsection, Command\n",
    "from pylatex import Document, Section, Figure, SubFigure, NoEscape\n",
    "from pylatex.utils import italic, NoEscape\n",
    "from scipy.stats import norm, sem"
   ]
  },
  {
   "cell_type": "code",
   "execution_count": 8,
   "metadata": {},
   "outputs": [
    {
     "data": {
      "text/plain": [
       "(6, 235)"
      ]
     },
     "execution_count": 8,
     "metadata": {},
     "output_type": "execute_result"
    }
   ],
   "source": [
    "nmfdata = load_data(uoinmf=True)\n",
    "orig = load_data(uoinmf=False)\n",
    "origoc = orig.outcomes\n",
    "feature_names = nmfdata.biomarker_features\n",
    "bmbases = nmfdata.biomarker_bases\n",
    "bmbases.shape"
   ]
  },
  {
   "cell_type": "code",
   "execution_count": 9,
   "metadata": {},
   "outputs": [],
   "source": [
    "def drop_x_percent(A,h,feature_names,percent):\n",
    "    total_features = h.shape[1]\n",
    "    num_features_to_drop = np.round(total_features * percent//100)\n",
    "    h_sum = np.sum(h, axis=0)\n",
    "    h_sum_sorted = np.argsort(h_sum)[::-1]\n",
    "    indices_highest_values = h_sum_sorted[:num_features_to_drop]\n",
    "    dropped_features = sorted(feature_names[indices_highest_values])\n",
    "    h_new = np.delete(h, indices_highest_values, axis=1)\n",
    "    A_new = np.delete(A, indices_highest_values, axis=1)    \n",
    "    return A_new, h_new, dropped_features"
   ]
  },
  {
   "cell_type": "code",
   "execution_count": 10,
   "metadata": {},
   "outputs": [],
   "source": [
    "def get_biomarker_transformed_weight(dropped_bases,A):\n",
    "    uoinmf = UoINMF()\n",
    "    uoinmf.components_ = dropped_bases\n",
    "    data = data_normalization.data_normalization(A, 'positive')\n",
    "    W = uoinmf.transform(data)\n",
    "    return W"
   ]
  },
  {
   "cell_type": "code",
   "execution_count": 11,
   "metadata": {},
   "outputs": [
    {
     "name": "stdout",
     "output_type": "stream",
     "text": [
      "(247, 235) (6, 235) (247, 6)\n",
      "(247, 212) (6, 212) (247, 6)\n",
      "(247, 188) (6, 188) (247, 6)\n",
      "(247, 165) (6, 165) (247, 6)\n",
      "(247, 141) (6, 141) (247, 6)\n",
      "(247, 118) (6, 118) (247, 6)\n",
      "(247, 94) (6, 94) (247, 6)\n",
      "(247, 71) (6, 71) (247, 6)\n",
      "(247, 47) (6, 47) (247, 6)\n",
      "(247, 24) (6, 24) (247, 6)\n"
     ]
    }
   ],
   "source": [
    "percent = [0,10,20,30,40,50,60,70,80,90]\n",
    "for p in percent:\n",
    "    A_features_dropped, features_dropped, dropped_feature_names = drop_x_percent(orig.biomarkers,bmbases,feature_names,p)\n",
    "    w = get_biomarker_transformed_weight(features_dropped, A_features_dropped)\n",
    "    print(A_features_dropped.shape, features_dropped.shape, w.shape)\n",
    "    fname = '/Users/ahyeon/data/activ/bm_features_dropped/bm_features_dropped_opp_{}.h5'.format(p)\n",
    "    TrackTBIFile.write(fname, w, origoc)\n",
    "    "
   ]
  },
  {
   "cell_type": "code",
   "execution_count": null,
   "metadata": {},
   "outputs": [],
   "source": []
  },
  {
   "cell_type": "code",
   "execution_count": null,
   "metadata": {},
   "outputs": [],
   "source": []
  }
 ],
 "metadata": {
  "kernelspec": {
   "display_name": "Python 3",
   "language": "python",
   "name": "python3"
  },
  "language_info": {
   "codemirror_mode": {
    "name": "ipython",
    "version": 3
   },
   "file_extension": ".py",
   "mimetype": "text/x-python",
   "name": "python",
   "nbconvert_exporter": "python",
   "pygments_lexer": "ipython3",
   "version": "3.6.2"
  }
 },
 "nbformat": 4,
 "nbformat_minor": 2
}

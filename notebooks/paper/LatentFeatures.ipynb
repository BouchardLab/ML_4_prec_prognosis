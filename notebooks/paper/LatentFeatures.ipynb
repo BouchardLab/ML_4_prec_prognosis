{
 "cells": [
  {
   "cell_type": "code",
   "execution_count": 1,
   "metadata": {},
   "outputs": [
    {
     "name": "stderr",
     "output_type": "stream",
     "text": [
      "/Users/ajtritt/anaconda/envs/activ_37/lib/python3.7/site-packages/sklearn/utils/deprecation.py:143: FutureWarning: The sklearn.linear_model.base module is  deprecated in version 0.22 and will be removed in version 0.24. The corresponding classes / functions should instead be imported from sklearn.linear_model. Anything that cannot be imported from sklearn.linear_model is now part of the private API.\n",
      "  warnings.warn(message, FutureWarning)\n",
      "/Users/ajtritt/anaconda/envs/activ_37/lib/python3.7/site-packages/sklearn/utils/deprecation.py:143: FutureWarning: The sklearn.linear_model.coordinate_descent module is  deprecated in version 0.22 and will be removed in version 0.24. The corresponding classes / functions should instead be imported from sklearn.linear_model. Anything that cannot be imported from sklearn.linear_model is now part of the private API.\n",
      "  warnings.warn(message, FutureWarning)\n",
      "/Users/ajtritt/anaconda/envs/activ_37/lib/python3.7/site-packages/sklearn/utils/deprecation.py:143: FutureWarning: The sklearn.linear_model.logistic module is  deprecated in version 0.22 and will be removed in version 0.24. The corresponding classes / functions should instead be imported from sklearn.linear_model. Anything that cannot be imported from sklearn.linear_model is now part of the private API.\n",
      "  warnings.warn(message, FutureWarning)\n"
     ]
    }
   ],
   "source": [
    "from sklearn.preprocessing import minmax_scale\n",
    "\n",
    "from activ.readfile import TrackTBIFile\n",
    "from activ.nmf import run_nmf\n",
    "import h5py"
   ]
  },
  {
   "cell_type": "code",
   "execution_count": 2,
   "metadata": {},
   "outputs": [],
   "source": [
    "tbifile = TrackTBIFile('tracktbi.scalar.h5')"
   ]
  },
  {
   "cell_type": "code",
   "execution_count": 3,
   "metadata": {},
   "outputs": [],
   "source": [
    "bm_nmf, bm_weights, bm_bases = run_nmf(minmax_scale(tbifile.biomarkers), 5, 0.5, 1.0, 6538)"
   ]
  },
  {
   "cell_type": "code",
   "execution_count": 4,
   "metadata": {},
   "outputs": [],
   "source": [
    "oc_nmf, oc_weights, oc_bases = run_nmf(minmax_scale(tbifile.outcomes), 8, 0.1, 0.5, 562)"
   ]
  },
  {
   "cell_type": "code",
   "execution_count": 5,
   "metadata": {},
   "outputs": [],
   "source": [
    "with h5py.File('tracktbi.reg_nmf.h5', 'w') as f:\n",
    "    TrackTBIFile.write(f, tbifile.biomarkers, tbifile.outcomes, tbifile.biomarker_features, tbifile.outcome_features, tbifile.patient_ids)\n",
    "    TrackTBIFile.write_nmf(f, bm_weights, oc_weights, bm_bases, oc_bases) "
   ]
  }
 ],
 "metadata": {
  "kernelspec": {
   "display_name": "activ_37",
   "language": "python",
   "name": "activ_37"
  },
  "language_info": {
   "codemirror_mode": {
    "name": "ipython",
    "version": 3
   },
   "file_extension": ".py",
   "mimetype": "text/x-python",
   "name": "python",
   "nbconvert_exporter": "python",
   "pygments_lexer": "ipython3",
   "version": "3.7.4"
  }
 },
 "nbformat": 4,
 "nbformat_minor": 4
}

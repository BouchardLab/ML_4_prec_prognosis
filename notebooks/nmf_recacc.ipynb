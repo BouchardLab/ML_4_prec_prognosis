{
 "cells": [
  {
   "cell_type": "code",
   "execution_count": 2,
   "metadata": {},
   "outputs": [],
   "source": [
    "import numpy as np\n",
    "import scipy\n",
    "from activ import load_data\n",
    "from sklearn.model_selection import train_test_split\n",
    "from sklearn.cluster import DBSCAN\n",
    "from activ.data_normalization import data_normalization\n",
    "from scipy.spatial.distance import pdist\n",
    "from sklearn.model_selection import KFold, StratifiedKFold\n",
    "from sklearn.decomposition import NMF\n",
    "from sklearn.metrics import mean_squared_error\n",
    "import h5py\n",
    "import matplotlib.pyplot as plt\n",
    "from sklearn.preprocessing import MinMaxScaler\n",
    "from PyUoI.UoINMF import UoINMF"
   ]
  },
  {
   "cell_type": "code",
   "execution_count": 3,
   "metadata": {},
   "outputs": [],
   "source": [
    "rawdata = load_data(uoinmf=False)\n",
    "raw_bm = rawdata.biomarkers\n",
    "raw_oc = rawdata.outcomes\n",
    "\n",
    "knum = 5\n",
    "kf = StratifiedKFold(n_splits=knum)"
   ]
  },
  {
   "cell_type": "code",
   "execution_count": 4,
   "metadata": {},
   "outputs": [],
   "source": [
    "for f in rawdata.biomarker_features:\n",
    "    if 'hypoxia' in f:\n",
    "        print(f)"
   ]
  },
  {
   "cell_type": "code",
   "execution_count": 61,
   "metadata": {},
   "outputs": [
    {
     "name": "stderr",
     "output_type": "stream",
     "text": [
      "/Users/ahyeon/anaconda3/envs/activ/lib/python3.7/site-packages/scikit_learn-0.20.2-py3.7-macosx-10.7-x86_64.egg/sklearn/model_selection/_split.py:652: Warning: The least populated class in y has only 3 members, which is too few. The minimum number of members in any class cannot be less than n_splits=5.\n",
      "  % (min_groups, self.n_splits)), Warning)\n"
     ]
    }
   ],
   "source": [
    "bm_input = raw_bm\n",
    "ks = list(range(2,20))\n",
    "recon = np.zeros((len(ks), raw_bm.shape[0], raw_bm.shape[1]))\n",
    "\n",
    "recon_err = np.zeros(len(ks))\n",
    "\n",
    "for cv, (train_index, test_index) in enumerate(kf.split(bm_input, raw_oc[:,32])):\n",
    "    train, test = bm_input[train_index], bm_input[test_index]\n",
    "    train_bm = train\n",
    "    test_bm = test\n",
    "    for ii,k in enumerate(ks):\n",
    "        nmf = NMF(n_components = k, beta_loss='kullback-leibler', solver='mu', max_iter=1000, init='random')\n",
    "        W_fit = nmf.fit(train_bm)\n",
    "        transform = nmf.transform(test_bm)\n",
    "        inv_transform = nmf.inverse_transform(transform)\n",
    "        recon[ii,test_index] = inv_transform"
   ]
  },
  {
   "cell_type": "code",
   "execution_count": 26,
   "metadata": {},
   "outputs": [
    {
     "data": {
      "text/plain": [
       "((18, 247, 235), (18,))"
      ]
     },
     "execution_count": 26,
     "metadata": {},
     "output_type": "execute_result"
    }
   ],
   "source": [
    "recon.shape, recon_err.shape"
   ]
  },
  {
   "cell_type": "code",
   "execution_count": 62,
   "metadata": {},
   "outputs": [],
   "source": [
    "\n",
    "for ii,k in enumerate(ks):\n",
    "    recon_err[ii] = np.linalg.norm(recon[ii]-raw_bm)\n"
   ]
  },
  {
   "cell_type": "code",
   "execution_count": 63,
   "metadata": {},
   "outputs": [
    {
     "data": {
      "image/png": "[encoded data removed]",
      "text/plain": [
       "<Figure size 432x432 with 1 Axes>"
      ]
     },
     "metadata": {
      "needs_background": "light"
     },
     "output_type": "display_data"
    }
   ],
   "source": [
    "plt.figure(figsize=(6,6))\n",
    "plt.plot(ks, recon_err, '-o', color='black')\n",
    "plt.xticks(ks)\n",
    "plt.xlabel('Number of nmf bases', fontsize=20)\n",
    "plt.ylabel('Reconstruction error', fontsize=20)\n",
    "plt.title('Raw Biomarkers Reconstruction Error', fontsize=20)\n",
    "plt.savefig('/Users/ahyeon/Desktop/activ misc/raw_bm_recon.pdf')"
   ]
  },
  {
   "cell_type": "code",
   "execution_count": 13,
   "metadata": {},
   "outputs": [
    {
     "data": {
      "text/plain": [
       "array(['CVLTTrial1StandardScore_6mo', 'CVLTTrial2StandardScore_6mo',\n",
       "       'CVLTTrial3StandardScore_6mo', 'CVLTTrial4StandardScore_6mo',\n",
       "       'CVLTTrial5StandardScore_6mo', 'CVLTTrialBStandardScore_6mo',\n",
       "       'CVLTShortDelayFreeRecallStandardScore_6mo',\n",
       "       'CVLTShortDelayCuedRecallStandardScore_6mo',\n",
       "       'CVLTLongDelayFreeRecallStandardScore_6mo',\n",
       "       'CVLTLongDelayCuedRecallStandardScore_6mo',\n",
       "       'CVLTFreeRecallIntrusionsStandard_6mo',\n",
       "       'CVLTCuedRecallIntrusionsStandard_6mo',\n",
       "       'CVLTTotalIntrusionsStandard_6mo',\n",
       "       'CVLTTotalRepetitionsStandard_6mo',\n",
       "       'CVLTTotalRecognitionHitsStandardScore_6mo',\n",
       "       'CVLTTotalRecognitionDiscriminabilityStandardScore_6mo'],\n",
       "      dtype='<U53')"
      ]
     },
     "execution_count": 13,
     "metadata": {},
     "output_type": "execute_result"
    }
   ],
   "source": [
    "rawdata.outcome_features[np.where(np.min(raw_oc, axis=0) < 0)[0]]"
   ]
  },
  {
   "cell_type": "code",
   "execution_count": 42,
   "metadata": {},
   "outputs": [
    {
     "data": {
      "text/plain": [
       "(247, 177)"
      ]
     },
     "execution_count": 42,
     "metadata": {},
     "output_type": "execute_result"
    }
   ],
   "source": [
    "# scale outcomes \n",
    "scaler = MinMaxScaler()\n",
    "transformed_raw_oc = scaler.fit_transform(raw_oc)\n",
    "transformed_raw_oc.shape"
   ]
  },
  {
   "cell_type": "code",
   "execution_count": 47,
   "metadata": {},
   "outputs": [],
   "source": [
    "transformed_raw_oc = raw_oc - np.min(raw_oc, axis=0)"
   ]
  },
  {
   "cell_type": "code",
   "execution_count": 54,
   "metadata": {},
   "outputs": [
    {
     "name": "stderr",
     "output_type": "stream",
     "text": [
      "/Users/ahyeon/anaconda3/envs/activ/lib/python3.7/site-packages/scikit_learn-0.20.2-py3.7-macosx-10.7-x86_64.egg/sklearn/model_selection/_split.py:652: Warning: The least populated class in y has only 3 members, which is too few. The minimum number of members in any class cannot be less than n_splits=5.\n",
      "  % (min_groups, self.n_splits)), Warning)\n"
     ]
    }
   ],
   "source": [
    "\n",
    "ks = list(range(2,20))\n",
    "recon_oc = np.zeros((len(ks), transformed_raw_oc.shape[0], transformed_raw_oc.shape[1]))\n",
    "\n",
    "recon_err_oc = np.zeros(len(ks))\n",
    "\n",
    "for cv, (train_index, test_index) in enumerate(kf.split(transformed_raw_oc, raw_oc[:,32])):\n",
    "    train, test = transformed_raw_oc[train_index], transformed_raw_oc[test_index]\n",
    "    train_oc = train\n",
    "    test_oc = test\n",
    "    for ii,k in enumerate(ks):\n",
    "        nmf = NMF(n_components = k, beta_loss='kullback-leibler', solver='mu', max_iter=1000, init='random')\n",
    "        W_fit = nmf.fit(train_oc)\n",
    "        transform = nmf.transform(test_oc)\n",
    "        inv_transform = nmf.inverse_transform(transform)\n",
    "        recon_oc[ii,test_index] = inv_transform\n",
    "        \n",
    "for ii,k in enumerate(ks):\n",
    "    recon_err_oc[ii] = np.linalg.norm(recon_oc[ii]-transformed_raw_oc)"
   ]
  },
  {
   "cell_type": "code",
   "execution_count": 55,
   "metadata": {},
   "outputs": [
    {
     "data": {
      "image/png": "[encoded data removed]",
      "text/plain": [
       "<Figure size 432x432 with 1 Axes>"
      ]
     },
     "metadata": {
      "needs_background": "light"
     },
     "output_type": "display_data"
    }
   ],
   "source": [
    "plt.figure(figsize=(6,6))\n",
    "plt.plot(ks, recon_err_oc, '-o', color='black')\n",
    "plt.xticks(ks)\n",
    "plt.xlabel('Number of nmf bases', fontsize=20)\n",
    "plt.ylabel('Reconstruction error', fontsize=20)\n",
    "plt.title('Raw Outcomes Reconstruction Error', fontsize=20)\n",
    "plt.savefig('/Users/ahyeon/Desktop/activ misc/raw_oc_recon.pdf')"
   ]
  },
  {
   "cell_type": "code",
   "execution_count": 59,
   "metadata": {},
   "outputs": [
    {
     "name": "stderr",
     "output_type": "stream",
     "text": [
      "/Users/ahyeon/anaconda3/envs/activ/lib/python3.7/site-packages/scikit_learn-0.20.2-py3.7-macosx-10.7-x86_64.egg/sklearn/model_selection/_split.py:652: Warning: The least populated class in y has only 3 members, which is too few. The minimum number of members in any class cannot be less than n_splits=5.\n",
      "  % (min_groups, self.n_splits)), Warning)\n"
     ]
    },
    {
     "data": {
      "text/plain": [
       "Text(0.5, 1.0, 'Raw Outcomes Reconstruction Error')"
      ]
     },
     "execution_count": 59,
     "metadata": {},
     "output_type": "execute_result"
    },
    {
     "data": {
      "image/png": "[encoded data removed]",
      "text/plain": [
       "<Figure size 432x432 with 1 Axes>"
      ]
     },
     "metadata": {
      "needs_background": "light"
     },
     "output_type": "display_data"
    }
   ],
   "source": [
    "# scale outcomes \n",
    "scaler = MinMaxScaler()\n",
    "transformed_raw_oc = scaler.fit_transform(raw_oc)\n",
    "transformed_raw_oc.shape\n",
    "\n",
    "ks = list(range(2,40))\n",
    "recon_oc = np.zeros((len(ks), transformed_raw_oc.shape[0], transformed_raw_oc.shape[1]))\n",
    "\n",
    "recon_err_oc = np.zeros(len(ks))\n",
    "\n",
    "for cv, (train_index, test_index) in enumerate(kf.split(transformed_raw_oc, raw_oc[:,32])):\n",
    "    train, test = transformed_raw_oc[train_index], transformed_raw_oc[test_index]\n",
    "    train_oc = train\n",
    "    test_oc = test\n",
    "    for ii,k in enumerate(ks):\n",
    "        nmf = NMF(n_components = k, beta_loss='kullback-leibler', solver='mu', max_iter=1000, init='random')\n",
    "        W_fit = nmf.fit(train_oc)\n",
    "        transform = nmf.transform(test_oc)\n",
    "        inv_transform = nmf.inverse_transform(transform)\n",
    "        recon_oc[ii,test_index] = inv_transform\n",
    "        \n",
    "div = np.linalg.norm(transformed_raw_oc)\n",
    "for ii,k in enumerate(ks):\n",
    "    recon_err_oc[ii] = np.linalg.norm(recon_oc[ii]-transformed_raw_oc)/div\n",
    "\n",
    "plt.figure(figsize=(6,6))\n",
    "plt.plot(ks, recon_err_oc, '-o', color='black')\n",
    "plt.xticks(ks)\n",
    "plt.xlabel('Number of nmf bases', fontsize=20)\n",
    "plt.ylabel('Reconstruction error', fontsize=20)\n",
    "plt.title('Raw Outcomes Reconstruction Error', fontsize=20)"
   ]
  },
  {
   "cell_type": "code",
   "execution_count": 10,
   "metadata": {},
   "outputs": [],
   "source": [
    "# uoinmf on outcomes\n",
    "\n",
    "transformed_raw_oc = raw_oc - np.min(raw_oc, axis=0)\n",
    "oc_input = transformed_raw_oc\n",
    "\n",
    "\n",
    "eps = [0.2, 0.3, 0.4, 0.5, 0.6, 0.7, 0.8]\n",
    "minsamples = np.arange(20,80,5)\n",
    "kf = StratifiedKFold(n_splits=5)"
   ]
  },
  {
   "cell_type": "code",
   "execution_count": 11,
   "metadata": {},
   "outputs": [
    {
     "name": "stderr",
     "output_type": "stream",
     "text": [
      "/Users/ahyeon/anaconda3/envs/activ/lib/python3.7/site-packages/scikit_learn-0.20.2-py3.7-macosx-10.7-x86_64.egg/sklearn/model_selection/_split.py:652: Warning: The least populated class in y has only 3 members, which is too few. The minimum number of members in any class cannot be less than n_splits=5.\n",
      "  % (min_groups, self.n_splits)), Warning)\n"
     ]
    },
    {
     "name": "stdout",
     "output_type": "stream",
     "text": [
      "eps 0.2 minsamples 20\n",
      "eps 0.2 minsamples 25\n",
      "eps 0.2 minsamples 30\n"
     ]
    },
    {
     "name": "stderr",
     "output_type": "stream",
     "text": [
      "/Users/ahyeon/anaconda3/envs/activ/lib/python3.7/site-packages/scikit_learn-0.20.2-py3.7-macosx-10.7-x86_64.egg/sklearn/decomposition/nmf.py:1050: ConvergenceWarning: Maximum number of iteration 400 reached. Increase it to improve convergence.\n",
      "  \" improve convergence.\" % max_iter, ConvergenceWarning)\n"
     ]
    },
    {
     "name": "stdout",
     "output_type": "stream",
     "text": [
      "eps 0.2 minsamples 35\n",
      "eps 0.2 minsamples 40\n",
      "eps 0.2 minsamples 45\n",
      "eps 0.2 minsamples 50\n"
     ]
    },
    {
     "name": "stderr",
     "output_type": "stream",
     "text": [
      "/Users/ahyeon/anaconda3/envs/activ/lib/python3.7/site-packages/scikit_learn-0.20.2-py3.7-macosx-10.7-x86_64.egg/sklearn/decomposition/nmf.py:1050: ConvergenceWarning: Maximum number of iteration 400 reached. Increase it to improve convergence.\n",
      "  \" improve convergence.\" % max_iter, ConvergenceWarning)\n"
     ]
    },
    {
     "name": "stdout",
     "output_type": "stream",
     "text": [
      "eps 0.2 minsamples 55\n"
     ]
    },
    {
     "name": "stderr",
     "output_type": "stream",
     "text": [
      "/Users/ahyeon/anaconda3/envs/activ/lib/python3.7/site-packages/scikit_learn-0.20.2-py3.7-macosx-10.7-x86_64.egg/sklearn/decomposition/nmf.py:1050: ConvergenceWarning: Maximum number of iteration 400 reached. Increase it to improve convergence.\n",
      "  \" improve convergence.\" % max_iter, ConvergenceWarning)\n"
     ]
    },
    {
     "name": "stdout",
     "output_type": "stream",
     "text": [
      "eps 0.2 minsamples 60\n",
      "eps 0.2 minsamples 65\n",
      "eps 0.2 minsamples 70\n",
      "eps 0.2 minsamples 75\n"
     ]
    },
    {
     "name": "stderr",
     "output_type": "stream",
     "text": [
      "/Users/ahyeon/anaconda3/envs/activ/lib/python3.7/site-packages/scikit_learn-0.20.2-py3.7-macosx-10.7-x86_64.egg/sklearn/decomposition/nmf.py:1050: ConvergenceWarning: Maximum number of iteration 400 reached. Increase it to improve convergence.\n",
      "  \" improve convergence.\" % max_iter, ConvergenceWarning)\n",
      "/Users/ahyeon/anaconda3/envs/activ/lib/python3.7/site-packages/scikit_learn-0.20.2-py3.7-macosx-10.7-x86_64.egg/sklearn/decomposition/nmf.py:1050: ConvergenceWarning: Maximum number of iteration 400 reached. Increase it to improve convergence.\n",
      "  \" improve convergence.\" % max_iter, ConvergenceWarning)\n"
     ]
    },
    {
     "name": "stdout",
     "output_type": "stream",
     "text": [
      "eps 0.3 minsamples 20\n",
      "eps 0.3 minsamples 25\n"
     ]
    },
    {
     "name": "stderr",
     "output_type": "stream",
     "text": [
      "/Users/ahyeon/anaconda3/envs/activ/lib/python3.7/site-packages/scikit_learn-0.20.2-py3.7-macosx-10.7-x86_64.egg/sklearn/decomposition/nmf.py:1050: ConvergenceWarning: Maximum number of iteration 400 reached. Increase it to improve convergence.\n",
      "  \" improve convergence.\" % max_iter, ConvergenceWarning)\n"
     ]
    },
    {
     "name": "stdout",
     "output_type": "stream",
     "text": [
      "eps 0.3 minsamples 30\n",
      "eps 0.3 minsamples 35\n",
      "eps 0.3 minsamples 40\n",
      "eps 0.3 minsamples 45\n"
     ]
    },
    {
     "name": "stderr",
     "output_type": "stream",
     "text": [
      "/Users/ahyeon/anaconda3/envs/activ/lib/python3.7/site-packages/scikit_learn-0.20.2-py3.7-macosx-10.7-x86_64.egg/sklearn/decomposition/nmf.py:1050: ConvergenceWarning: Maximum number of iteration 400 reached. Increase it to improve convergence.\n",
      "  \" improve convergence.\" % max_iter, ConvergenceWarning)\n",
      "/Users/ahyeon/anaconda3/envs/activ/lib/python3.7/site-packages/scikit_learn-0.20.2-py3.7-macosx-10.7-x86_64.egg/sklearn/decomposition/nmf.py:1050: ConvergenceWarning: Maximum number of iteration 400 reached. Increase it to improve convergence.\n",
      "  \" improve convergence.\" % max_iter, ConvergenceWarning)\n"
     ]
    },
    {
     "name": "stdout",
     "output_type": "stream",
     "text": [
      "eps 0.3 minsamples 50\n",
      "eps 0.3 minsamples 55\n",
      "eps 0.3 minsamples 60\n"
     ]
    },
    {
     "name": "stderr",
     "output_type": "stream",
     "text": [
      "/Users/ahyeon/anaconda3/envs/activ/lib/python3.7/site-packages/scikit_learn-0.20.2-py3.7-macosx-10.7-x86_64.egg/sklearn/decomposition/nmf.py:1050: ConvergenceWarning: Maximum number of iteration 400 reached. Increase it to improve convergence.\n",
      "  \" improve convergence.\" % max_iter, ConvergenceWarning)\n",
      "/Users/ahyeon/anaconda3/envs/activ/lib/python3.7/site-packages/scikit_learn-0.20.2-py3.7-macosx-10.7-x86_64.egg/sklearn/decomposition/nmf.py:1050: ConvergenceWarning: Maximum number of iteration 400 reached. Increase it to improve convergence.\n",
      "  \" improve convergence.\" % max_iter, ConvergenceWarning)\n"
     ]
    },
    {
     "name": "stdout",
     "output_type": "stream",
     "text": [
      "eps 0.3 minsamples 65\n",
      "eps 0.3 minsamples 70\n"
     ]
    },
    {
     "name": "stderr",
     "output_type": "stream",
     "text": [
      "/Users/ahyeon/anaconda3/envs/activ/lib/python3.7/site-packages/scikit_learn-0.20.2-py3.7-macosx-10.7-x86_64.egg/sklearn/decomposition/nmf.py:1050: ConvergenceWarning: Maximum number of iteration 400 reached. Increase it to improve convergence.\n",
      "  \" improve convergence.\" % max_iter, ConvergenceWarning)\n"
     ]
    },
    {
     "name": "stdout",
     "output_type": "stream",
     "text": [
      "eps 0.3 minsamples 75\n"
     ]
    },
    {
     "name": "stderr",
     "output_type": "stream",
     "text": [
      "/Users/ahyeon/anaconda3/envs/activ/lib/python3.7/site-packages/scikit_learn-0.20.2-py3.7-macosx-10.7-x86_64.egg/sklearn/decomposition/nmf.py:1050: ConvergenceWarning: Maximum number of iteration 400 reached. Increase it to improve convergence.\n",
      "  \" improve convergence.\" % max_iter, ConvergenceWarning)\n"
     ]
    },
    {
     "name": "stdout",
     "output_type": "stream",
     "text": [
      "eps 0.4 minsamples 20\n",
      "eps 0.4 minsamples 25\n",
      "eps 0.4 minsamples 30\n",
      "eps 0.4 minsamples 35\n",
      "eps 0.4 minsamples 40\n",
      "eps 0.4 minsamples 45\n",
      "eps 0.4 minsamples 50\n",
      "eps 0.4 minsamples 55\n",
      "eps 0.4 minsamples 60\n",
      "eps 0.4 minsamples 65\n",
      "eps 0.4 minsamples 70\n",
      "eps 0.4 minsamples 75\n",
      "eps 0.5 minsamples 20\n"
     ]
    },
    {
     "name": "stderr",
     "output_type": "stream",
     "text": [
      "/Users/ahyeon/anaconda3/envs/activ/lib/python3.7/site-packages/scikit_learn-0.20.2-py3.7-macosx-10.7-x86_64.egg/sklearn/decomposition/nmf.py:1050: ConvergenceWarning: Maximum number of iteration 400 reached. Increase it to improve convergence.\n",
      "  \" improve convergence.\" % max_iter, ConvergenceWarning)\n"
     ]
    },
    {
     "name": "stdout",
     "output_type": "stream",
     "text": [
      "eps 0.5 minsamples 25\n",
      "eps 0.5 minsamples 30\n"
     ]
    },
    {
     "name": "stderr",
     "output_type": "stream",
     "text": [
      "/Users/ahyeon/anaconda3/envs/activ/lib/python3.7/site-packages/scikit_learn-0.20.2-py3.7-macosx-10.7-x86_64.egg/sklearn/decomposition/nmf.py:1050: ConvergenceWarning: Maximum number of iteration 400 reached. Increase it to improve convergence.\n",
      "  \" improve convergence.\" % max_iter, ConvergenceWarning)\n"
     ]
    },
    {
     "name": "stdout",
     "output_type": "stream",
     "text": [
      "eps 0.5 minsamples 35\n",
      "eps 0.5 minsamples 40\n",
      "eps 0.5 minsamples 45\n",
      "eps 0.5 minsamples 50\n",
      "eps 0.5 minsamples 55\n",
      "eps 0.5 minsamples 60\n",
      "eps 0.5 minsamples 65\n",
      "eps 0.5 minsamples 70\n",
      "eps 0.5 minsamples 75\n",
      "eps 0.6 minsamples 20\n",
      "eps 0.6 minsamples 25\n"
     ]
    },
    {
     "name": "stderr",
     "output_type": "stream",
     "text": [
      "/Users/ahyeon/anaconda3/envs/activ/lib/python3.7/site-packages/scikit_learn-0.20.2-py3.7-macosx-10.7-x86_64.egg/sklearn/decomposition/nmf.py:1050: ConvergenceWarning: Maximum number of iteration 400 reached. Increase it to improve convergence.\n",
      "  \" improve convergence.\" % max_iter, ConvergenceWarning)\n"
     ]
    },
    {
     "name": "stdout",
     "output_type": "stream",
     "text": [
      "eps 0.6 minsamples 30\n",
      "eps 0.6 minsamples 35\n",
      "eps 0.6 minsamples 40\n",
      "eps 0.6 minsamples 45\n",
      "eps 0.6 minsamples 50\n",
      "eps 0.6 minsamples 55\n",
      "eps 0.6 minsamples 60\n"
     ]
    },
    {
     "name": "stderr",
     "output_type": "stream",
     "text": [
      "/Users/ahyeon/anaconda3/envs/activ/lib/python3.7/site-packages/scikit_learn-0.20.2-py3.7-macosx-10.7-x86_64.egg/sklearn/decomposition/nmf.py:1050: ConvergenceWarning: Maximum number of iteration 400 reached. Increase it to improve convergence.\n",
      "  \" improve convergence.\" % max_iter, ConvergenceWarning)\n"
     ]
    },
    {
     "name": "stdout",
     "output_type": "stream",
     "text": [
      "eps 0.6 minsamples 65\n",
      "eps 0.6 minsamples 70\n",
      "eps 0.6 minsamples 75\n",
      "eps 0.7 minsamples 20\n",
      "eps 0.7 minsamples 25\n",
      "eps 0.7 minsamples 30\n",
      "eps 0.7 minsamples 35\n",
      "eps 0.7 minsamples 40\n",
      "eps 0.7 minsamples 45\n",
      "eps 0.7 minsamples 50\n",
      "eps 0.7 minsamples 55\n"
     ]
    },
    {
     "name": "stderr",
     "output_type": "stream",
     "text": [
      "/Users/ahyeon/anaconda3/envs/activ/lib/python3.7/site-packages/scikit_learn-0.20.2-py3.7-macosx-10.7-x86_64.egg/sklearn/decomposition/nmf.py:1050: ConvergenceWarning: Maximum number of iteration 400 reached. Increase it to improve convergence.\n",
      "  \" improve convergence.\" % max_iter, ConvergenceWarning)\n"
     ]
    },
    {
     "name": "stdout",
     "output_type": "stream",
     "text": [
      "eps 0.7 minsamples 60\n",
      "eps 0.7 minsamples 65\n",
      "eps 0.7 minsamples 70\n",
      "eps 0.7 minsamples 75\n"
     ]
    },
    {
     "name": "stderr",
     "output_type": "stream",
     "text": [
      "/Users/ahyeon/anaconda3/envs/activ/lib/python3.7/site-packages/scikit_learn-0.20.2-py3.7-macosx-10.7-x86_64.egg/sklearn/decomposition/nmf.py:1050: ConvergenceWarning: Maximum number of iteration 400 reached. Increase it to improve convergence.\n",
      "  \" improve convergence.\" % max_iter, ConvergenceWarning)\n"
     ]
    },
    {
     "name": "stdout",
     "output_type": "stream",
     "text": [
      "eps 0.8 minsamples 20\n"
     ]
    },
    {
     "name": "stderr",
     "output_type": "stream",
     "text": [
      "/Users/ahyeon/anaconda3/envs/activ/lib/python3.7/site-packages/scikit_learn-0.20.2-py3.7-macosx-10.7-x86_64.egg/sklearn/decomposition/nmf.py:1050: ConvergenceWarning: Maximum number of iteration 400 reached. Increase it to improve convergence.\n",
      "  \" improve convergence.\" % max_iter, ConvergenceWarning)\n"
     ]
    },
    {
     "name": "stdout",
     "output_type": "stream",
     "text": [
      "eps 0.8 minsamples 25\n"
     ]
    },
    {
     "name": "stderr",
     "output_type": "stream",
     "text": [
      "/Users/ahyeon/anaconda3/envs/activ/lib/python3.7/site-packages/scikit_learn-0.20.2-py3.7-macosx-10.7-x86_64.egg/sklearn/decomposition/nmf.py:1050: ConvergenceWarning: Maximum number of iteration 400 reached. Increase it to improve convergence.\n",
      "  \" improve convergence.\" % max_iter, ConvergenceWarning)\n"
     ]
    },
    {
     "name": "stdout",
     "output_type": "stream",
     "text": [
      "eps 0.8 minsamples 30\n",
      "eps 0.8 minsamples 35\n",
      "eps 0.8 minsamples 40\n",
      "eps 0.8 minsamples 45\n",
      "eps 0.8 minsamples 50\n",
      "eps 0.8 minsamples 55\n",
      "eps 0.8 minsamples 60\n",
      "eps 0.8 minsamples 65\n",
      "eps 0.8 minsamples 70\n",
      "eps 0.8 minsamples 75\n"
     ]
    },
    {
     "name": "stderr",
     "output_type": "stream",
     "text": [
      "/Users/ahyeon/anaconda3/envs/activ/lib/python3.7/site-packages/scikit_learn-0.20.2-py3.7-macosx-10.7-x86_64.egg/sklearn/decomposition/nmf.py:1050: ConvergenceWarning: Maximum number of iteration 400 reached. Increase it to improve convergence.\n",
      "  \" improve convergence.\" % max_iter, ConvergenceWarning)\n"
     ]
    },
    {
     "name": "stdout",
     "output_type": "stream",
     "text": [
      "eps 0.2 minsamples 20\n",
      "eps 0.2 minsamples 25\n",
      "eps 0.2 minsamples 30\n",
      "eps 0.2 minsamples 35\n",
      "eps 0.2 minsamples 40\n",
      "eps 0.2 minsamples 45\n",
      "eps 0.2 minsamples 50\n",
      "eps 0.2 minsamples 55\n",
      "eps 0.2 minsamples 60\n",
      "eps 0.2 minsamples 65\n",
      "eps 0.2 minsamples 70\n",
      "eps 0.2 minsamples 75\n",
      "eps 0.3 minsamples 20\n",
      "eps 0.3 minsamples 25\n",
      "eps 0.3 minsamples 30\n",
      "eps 0.3 minsamples 35\n",
      "eps 0.3 minsamples 40\n",
      "eps 0.3 minsamples 45\n",
      "eps 0.3 minsamples 50\n",
      "eps 0.3 minsamples 55\n",
      "eps 0.3 minsamples 60\n",
      "eps 0.3 minsamples 65\n"
     ]
    },
    {
     "name": "stderr",
     "output_type": "stream",
     "text": [
      "/Users/ahyeon/anaconda3/envs/activ/lib/python3.7/site-packages/scikit_learn-0.20.2-py3.7-macosx-10.7-x86_64.egg/sklearn/decomposition/nmf.py:1050: ConvergenceWarning: Maximum number of iteration 400 reached. Increase it to improve convergence.\n",
      "  \" improve convergence.\" % max_iter, ConvergenceWarning)\n",
      "/Users/ahyeon/anaconda3/envs/activ/lib/python3.7/site-packages/scikit_learn-0.20.2-py3.7-macosx-10.7-x86_64.egg/sklearn/decomposition/nmf.py:1050: ConvergenceWarning: Maximum number of iteration 400 reached. Increase it to improve convergence.\n",
      "  \" improve convergence.\" % max_iter, ConvergenceWarning)\n"
     ]
    },
    {
     "name": "stdout",
     "output_type": "stream",
     "text": [
      "eps 0.3 minsamples 70\n",
      "eps 0.3 minsamples 75\n",
      "eps 0.4 minsamples 20\n",
      "eps 0.4 minsamples 25\n",
      "eps 0.4 minsamples 30\n",
      "eps 0.4 minsamples 35\n",
      "eps 0.4 minsamples 40\n",
      "eps 0.4 minsamples 45\n",
      "eps 0.4 minsamples 50\n",
      "eps 0.4 minsamples 55\n",
      "eps 0.4 minsamples 60\n",
      "eps 0.4 minsamples 65\n",
      "eps 0.4 minsamples 70\n"
     ]
    },
    {
     "name": "stderr",
     "output_type": "stream",
     "text": [
      "/Users/ahyeon/anaconda3/envs/activ/lib/python3.7/site-packages/scikit_learn-0.20.2-py3.7-macosx-10.7-x86_64.egg/sklearn/decomposition/nmf.py:1050: ConvergenceWarning: Maximum number of iteration 400 reached. Increase it to improve convergence.\n",
      "  \" improve convergence.\" % max_iter, ConvergenceWarning)\n"
     ]
    },
    {
     "name": "stdout",
     "output_type": "stream",
     "text": [
      "eps 0.4 minsamples 75\n",
      "eps 0.5 minsamples 20\n",
      "eps 0.5 minsamples 25\n",
      "eps 0.5 minsamples 30\n"
     ]
    },
    {
     "name": "stderr",
     "output_type": "stream",
     "text": [
      "/Users/ahyeon/anaconda3/envs/activ/lib/python3.7/site-packages/scikit_learn-0.20.2-py3.7-macosx-10.7-x86_64.egg/sklearn/decomposition/nmf.py:1050: ConvergenceWarning: Maximum number of iteration 400 reached. Increase it to improve convergence.\n",
      "  \" improve convergence.\" % max_iter, ConvergenceWarning)\n"
     ]
    },
    {
     "name": "stdout",
     "output_type": "stream",
     "text": [
      "eps 0.5 minsamples 35\n",
      "eps 0.5 minsamples 40\n",
      "eps 0.5 minsamples 45\n",
      "eps 0.5 minsamples 50\n",
      "eps 0.5 minsamples 55\n",
      "eps 0.5 minsamples 60\n"
     ]
    },
    {
     "name": "stderr",
     "output_type": "stream",
     "text": [
      "/Users/ahyeon/anaconda3/envs/activ/lib/python3.7/site-packages/scikit_learn-0.20.2-py3.7-macosx-10.7-x86_64.egg/sklearn/decomposition/nmf.py:1050: ConvergenceWarning: Maximum number of iteration 400 reached. Increase it to improve convergence.\n",
      "  \" improve convergence.\" % max_iter, ConvergenceWarning)\n",
      "/Users/ahyeon/anaconda3/envs/activ/lib/python3.7/site-packages/scikit_learn-0.20.2-py3.7-macosx-10.7-x86_64.egg/sklearn/decomposition/nmf.py:1050: ConvergenceWarning: Maximum number of iteration 400 reached. Increase it to improve convergence.\n",
      "  \" improve convergence.\" % max_iter, ConvergenceWarning)\n"
     ]
    },
    {
     "name": "stdout",
     "output_type": "stream",
     "text": [
      "eps 0.5 minsamples 65\n",
      "eps 0.5 minsamples 70\n",
      "eps 0.5 minsamples 75\n",
      "eps 0.6 minsamples 20\n",
      "eps 0.6 minsamples 25\n"
     ]
    },
    {
     "name": "stderr",
     "output_type": "stream",
     "text": [
      "/Users/ahyeon/anaconda3/envs/activ/lib/python3.7/site-packages/scikit_learn-0.20.2-py3.7-macosx-10.7-x86_64.egg/sklearn/decomposition/nmf.py:1050: ConvergenceWarning: Maximum number of iteration 400 reached. Increase it to improve convergence.\n",
      "  \" improve convergence.\" % max_iter, ConvergenceWarning)\n",
      "/Users/ahyeon/anaconda3/envs/activ/lib/python3.7/site-packages/scikit_learn-0.20.2-py3.7-macosx-10.7-x86_64.egg/sklearn/decomposition/nmf.py:1050: ConvergenceWarning: Maximum number of iteration 400 reached. Increase it to improve convergence.\n",
      "  \" improve convergence.\" % max_iter, ConvergenceWarning)\n"
     ]
    },
    {
     "name": "stdout",
     "output_type": "stream",
     "text": [
      "eps 0.6 minsamples 30\n",
      "eps 0.6 minsamples 35\n"
     ]
    },
    {
     "name": "stderr",
     "output_type": "stream",
     "text": [
      "/Users/ahyeon/anaconda3/envs/activ/lib/python3.7/site-packages/scikit_learn-0.20.2-py3.7-macosx-10.7-x86_64.egg/sklearn/decomposition/nmf.py:1050: ConvergenceWarning: Maximum number of iteration 400 reached. Increase it to improve convergence.\n",
      "  \" improve convergence.\" % max_iter, ConvergenceWarning)\n"
     ]
    },
    {
     "name": "stdout",
     "output_type": "stream",
     "text": [
      "eps 0.6 minsamples 40\n",
      "eps 0.6 minsamples 45\n",
      "eps 0.6 minsamples 50\n",
      "eps 0.6 minsamples 55\n",
      "eps 0.6 minsamples 60\n",
      "eps 0.6 minsamples 65\n",
      "eps 0.6 minsamples 70\n",
      "eps 0.6 minsamples 75\n",
      "eps 0.7 minsamples 20\n",
      "eps 0.7 minsamples 25\n",
      "eps 0.7 minsamples 30\n"
     ]
    },
    {
     "name": "stderr",
     "output_type": "stream",
     "text": [
      "/Users/ahyeon/anaconda3/envs/activ/lib/python3.7/site-packages/scikit_learn-0.20.2-py3.7-macosx-10.7-x86_64.egg/sklearn/decomposition/nmf.py:1050: ConvergenceWarning: Maximum number of iteration 400 reached. Increase it to improve convergence.\n",
      "  \" improve convergence.\" % max_iter, ConvergenceWarning)\n"
     ]
    },
    {
     "name": "stdout",
     "output_type": "stream",
     "text": [
      "eps 0.7 minsamples 35\n",
      "eps 0.7 minsamples 40\n"
     ]
    },
    {
     "name": "stderr",
     "output_type": "stream",
     "text": [
      "/Users/ahyeon/anaconda3/envs/activ/lib/python3.7/site-packages/scikit_learn-0.20.2-py3.7-macosx-10.7-x86_64.egg/sklearn/decomposition/nmf.py:1050: ConvergenceWarning: Maximum number of iteration 400 reached. Increase it to improve convergence.\n",
      "  \" improve convergence.\" % max_iter, ConvergenceWarning)\n"
     ]
    },
    {
     "name": "stdout",
     "output_type": "stream",
     "text": [
      "eps 0.7 minsamples 45\n",
      "eps 0.7 minsamples 50\n",
      "eps 0.7 minsamples 55\n",
      "eps 0.7 minsamples 60\n",
      "eps 0.7 minsamples 65\n",
      "eps 0.7 minsamples 70\n",
      "eps 0.7 minsamples 75\n",
      "eps 0.8 minsamples 20\n",
      "eps 0.8 minsamples 25\n"
     ]
    },
    {
     "name": "stderr",
     "output_type": "stream",
     "text": [
      "/Users/ahyeon/anaconda3/envs/activ/lib/python3.7/site-packages/scikit_learn-0.20.2-py3.7-macosx-10.7-x86_64.egg/sklearn/decomposition/nmf.py:1050: ConvergenceWarning: Maximum number of iteration 400 reached. Increase it to improve convergence.\n",
      "  \" improve convergence.\" % max_iter, ConvergenceWarning)\n"
     ]
    },
    {
     "name": "stdout",
     "output_type": "stream",
     "text": [
      "eps 0.8 minsamples 30\n",
      "eps 0.8 minsamples 35\n",
      "eps 0.8 minsamples 40\n",
      "eps 0.8 minsamples 45\n",
      "eps 0.8 minsamples 50\n",
      "eps 0.8 minsamples 55\n",
      "eps 0.8 minsamples 60\n",
      "eps 0.8 minsamples 65\n"
     ]
    },
    {
     "name": "stderr",
     "output_type": "stream",
     "text": [
      "/Users/ahyeon/anaconda3/envs/activ/lib/python3.7/site-packages/scikit_learn-0.20.2-py3.7-macosx-10.7-x86_64.egg/sklearn/decomposition/nmf.py:1050: ConvergenceWarning: Maximum number of iteration 400 reached. Increase it to improve convergence.\n",
      "  \" improve convergence.\" % max_iter, ConvergenceWarning)\n"
     ]
    },
    {
     "name": "stdout",
     "output_type": "stream",
     "text": [
      "eps 0.8 minsamples 70\n",
      "eps 0.8 minsamples 75\n",
      "eps 0.2 minsamples 20\n",
      "eps 0.2 minsamples 25\n",
      "eps 0.2 minsamples 30\n",
      "eps 0.2 minsamples 35\n",
      "eps 0.2 minsamples 40\n",
      "eps 0.2 minsamples 45\n",
      "eps 0.2 minsamples 50\n",
      "eps 0.2 minsamples 55\n",
      "eps 0.2 minsamples 60\n"
     ]
    },
    {
     "name": "stderr",
     "output_type": "stream",
     "text": [
      "/Users/ahyeon/anaconda3/envs/activ/lib/python3.7/site-packages/scikit_learn-0.20.2-py3.7-macosx-10.7-x86_64.egg/sklearn/decomposition/nmf.py:1050: ConvergenceWarning: Maximum number of iteration 400 reached. Increase it to improve convergence.\n",
      "  \" improve convergence.\" % max_iter, ConvergenceWarning)\n"
     ]
    },
    {
     "name": "stdout",
     "output_type": "stream",
     "text": [
      "eps 0.2 minsamples 65\n"
     ]
    },
    {
     "name": "stderr",
     "output_type": "stream",
     "text": [
      "/Users/ahyeon/anaconda3/envs/activ/lib/python3.7/site-packages/scikit_learn-0.20.2-py3.7-macosx-10.7-x86_64.egg/sklearn/decomposition/nmf.py:1050: ConvergenceWarning: Maximum number of iteration 400 reached. Increase it to improve convergence.\n",
      "  \" improve convergence.\" % max_iter, ConvergenceWarning)\n"
     ]
    },
    {
     "name": "stdout",
     "output_type": "stream",
     "text": [
      "eps 0.2 minsamples 70\n"
     ]
    },
    {
     "name": "stderr",
     "output_type": "stream",
     "text": [
      "/Users/ahyeon/anaconda3/envs/activ/lib/python3.7/site-packages/scikit_learn-0.20.2-py3.7-macosx-10.7-x86_64.egg/sklearn/decomposition/nmf.py:1050: ConvergenceWarning: Maximum number of iteration 400 reached. Increase it to improve convergence.\n",
      "  \" improve convergence.\" % max_iter, ConvergenceWarning)\n"
     ]
    },
    {
     "name": "stdout",
     "output_type": "stream",
     "text": [
      "eps 0.2 minsamples 75\n",
      "eps 0.3 minsamples 20\n",
      "eps 0.3 minsamples 25\n",
      "eps 0.3 minsamples 30\n"
     ]
    },
    {
     "name": "stderr",
     "output_type": "stream",
     "text": [
      "/Users/ahyeon/anaconda3/envs/activ/lib/python3.7/site-packages/scikit_learn-0.20.2-py3.7-macosx-10.7-x86_64.egg/sklearn/decomposition/nmf.py:1050: ConvergenceWarning: Maximum number of iteration 400 reached. Increase it to improve convergence.\n",
      "  \" improve convergence.\" % max_iter, ConvergenceWarning)\n"
     ]
    },
    {
     "name": "stdout",
     "output_type": "stream",
     "text": [
      "eps 0.3 minsamples 35\n",
      "eps 0.3 minsamples 40\n"
     ]
    },
    {
     "name": "stderr",
     "output_type": "stream",
     "text": [
      "/Users/ahyeon/anaconda3/envs/activ/lib/python3.7/site-packages/scikit_learn-0.20.2-py3.7-macosx-10.7-x86_64.egg/sklearn/decomposition/nmf.py:1050: ConvergenceWarning: Maximum number of iteration 400 reached. Increase it to improve convergence.\n",
      "  \" improve convergence.\" % max_iter, ConvergenceWarning)\n"
     ]
    },
    {
     "name": "stdout",
     "output_type": "stream",
     "text": [
      "eps 0.3 minsamples 45\n",
      "eps 0.3 minsamples 50\n"
     ]
    },
    {
     "name": "stderr",
     "output_type": "stream",
     "text": [
      "/Users/ahyeon/anaconda3/envs/activ/lib/python3.7/site-packages/scikit_learn-0.20.2-py3.7-macosx-10.7-x86_64.egg/sklearn/decomposition/nmf.py:1050: ConvergenceWarning: Maximum number of iteration 400 reached. Increase it to improve convergence.\n",
      "  \" improve convergence.\" % max_iter, ConvergenceWarning)\n"
     ]
    },
    {
     "name": "stdout",
     "output_type": "stream",
     "text": [
      "eps 0.3 minsamples 55\n"
     ]
    },
    {
     "name": "stderr",
     "output_type": "stream",
     "text": [
      "/Users/ahyeon/anaconda3/envs/activ/lib/python3.7/site-packages/scikit_learn-0.20.2-py3.7-macosx-10.7-x86_64.egg/sklearn/decomposition/nmf.py:1050: ConvergenceWarning: Maximum number of iteration 400 reached. Increase it to improve convergence.\n",
      "  \" improve convergence.\" % max_iter, ConvergenceWarning)\n",
      "/Users/ahyeon/anaconda3/envs/activ/lib/python3.7/site-packages/scikit_learn-0.20.2-py3.7-macosx-10.7-x86_64.egg/sklearn/decomposition/nmf.py:1050: ConvergenceWarning: Maximum number of iteration 400 reached. Increase it to improve convergence.\n",
      "  \" improve convergence.\" % max_iter, ConvergenceWarning)\n"
     ]
    },
    {
     "name": "stdout",
     "output_type": "stream",
     "text": [
      "eps 0.3 minsamples 60\n",
      "eps 0.3 minsamples 65\n",
      "eps 0.3 minsamples 70\n",
      "eps 0.3 minsamples 75\n",
      "eps 0.4 minsamples 20\n",
      "eps 0.4 minsamples 25\n"
     ]
    },
    {
     "name": "stderr",
     "output_type": "stream",
     "text": [
      "/Users/ahyeon/anaconda3/envs/activ/lib/python3.7/site-packages/scikit_learn-0.20.2-py3.7-macosx-10.7-x86_64.egg/sklearn/decomposition/nmf.py:1050: ConvergenceWarning: Maximum number of iteration 400 reached. Increase it to improve convergence.\n",
      "  \" improve convergence.\" % max_iter, ConvergenceWarning)\n"
     ]
    },
    {
     "name": "stdout",
     "output_type": "stream",
     "text": [
      "eps 0.4 minsamples 30\n",
      "eps 0.4 minsamples 35\n",
      "eps 0.4 minsamples 40\n",
      "eps 0.4 minsamples 45\n",
      "eps 0.4 minsamples 50\n"
     ]
    },
    {
     "name": "stderr",
     "output_type": "stream",
     "text": [
      "/Users/ahyeon/anaconda3/envs/activ/lib/python3.7/site-packages/scikit_learn-0.20.2-py3.7-macosx-10.7-x86_64.egg/sklearn/decomposition/nmf.py:1050: ConvergenceWarning: Maximum number of iteration 400 reached. Increase it to improve convergence.\n",
      "  \" improve convergence.\" % max_iter, ConvergenceWarning)\n",
      "/Users/ahyeon/anaconda3/envs/activ/lib/python3.7/site-packages/scikit_learn-0.20.2-py3.7-macosx-10.7-x86_64.egg/sklearn/decomposition/nmf.py:1050: ConvergenceWarning: Maximum number of iteration 400 reached. Increase it to improve convergence.\n",
      "  \" improve convergence.\" % max_iter, ConvergenceWarning)\n"
     ]
    },
    {
     "name": "stdout",
     "output_type": "stream",
     "text": [
      "eps 0.4 minsamples 55\n",
      "eps 0.4 minsamples 60\n",
      "eps 0.4 minsamples 65\n",
      "eps 0.4 minsamples 70\n",
      "eps 0.4 minsamples 75\n"
     ]
    },
    {
     "name": "stderr",
     "output_type": "stream",
     "text": [
      "/Users/ahyeon/anaconda3/envs/activ/lib/python3.7/site-packages/scikit_learn-0.20.2-py3.7-macosx-10.7-x86_64.egg/sklearn/decomposition/nmf.py:1050: ConvergenceWarning: Maximum number of iteration 400 reached. Increase it to improve convergence.\n",
      "  \" improve convergence.\" % max_iter, ConvergenceWarning)\n"
     ]
    },
    {
     "name": "stdout",
     "output_type": "stream",
     "text": [
      "eps 0.5 minsamples 20\n",
      "eps 0.5 minsamples 25\n",
      "eps 0.5 minsamples 30\n",
      "eps 0.5 minsamples 35\n",
      "eps 0.5 minsamples 40\n",
      "eps 0.5 minsamples 45\n",
      "eps 0.5 minsamples 50\n",
      "eps 0.5 minsamples 55\n",
      "eps 0.5 minsamples 60\n",
      "eps 0.5 minsamples 65\n",
      "eps 0.5 minsamples 70\n",
      "eps 0.5 minsamples 75\n",
      "eps 0.6 minsamples 20\n",
      "eps 0.6 minsamples 25\n",
      "eps 0.6 minsamples 30\n",
      "eps 0.6 minsamples 35\n",
      "eps 0.6 minsamples 40\n",
      "eps 0.6 minsamples 45\n",
      "eps 0.6 minsamples 50\n",
      "eps 0.6 minsamples 55\n",
      "eps 0.6 minsamples 60\n",
      "eps 0.6 minsamples 65\n",
      "eps 0.6 minsamples 70\n",
      "eps 0.6 minsamples 75\n",
      "eps 0.7 minsamples 20\n",
      "eps 0.7 minsamples 25\n"
     ]
    },
    {
     "name": "stderr",
     "output_type": "stream",
     "text": [
      "/Users/ahyeon/anaconda3/envs/activ/lib/python3.7/site-packages/scikit_learn-0.20.2-py3.7-macosx-10.7-x86_64.egg/sklearn/decomposition/nmf.py:1050: ConvergenceWarning: Maximum number of iteration 400 reached. Increase it to improve convergence.\n",
      "  \" improve convergence.\" % max_iter, ConvergenceWarning)\n"
     ]
    },
    {
     "name": "stdout",
     "output_type": "stream",
     "text": [
      "eps 0.7 minsamples 30\n",
      "eps 0.7 minsamples 35\n",
      "eps 0.7 minsamples 40\n",
      "eps 0.7 minsamples 45\n",
      "eps 0.7 minsamples 50\n",
      "eps 0.7 minsamples 55\n",
      "eps 0.7 minsamples 60\n",
      "eps 0.7 minsamples 65\n",
      "eps 0.7 minsamples 70\n",
      "eps 0.7 minsamples 75\n",
      "eps 0.8 minsamples 20\n",
      "eps 0.8 minsamples 25\n",
      "eps 0.8 minsamples 30\n",
      "eps 0.8 minsamples 35\n",
      "eps 0.8 minsamples 40\n",
      "eps 0.8 minsamples 45\n",
      "eps 0.8 minsamples 50\n",
      "eps 0.8 minsamples 55\n",
      "eps 0.8 minsamples 60\n"
     ]
    },
    {
     "name": "stderr",
     "output_type": "stream",
     "text": [
      "/Users/ahyeon/anaconda3/envs/activ/lib/python3.7/site-packages/scikit_learn-0.20.2-py3.7-macosx-10.7-x86_64.egg/sklearn/decomposition/nmf.py:1050: ConvergenceWarning: Maximum number of iteration 400 reached. Increase it to improve convergence.\n",
      "  \" improve convergence.\" % max_iter, ConvergenceWarning)\n",
      "/Users/ahyeon/anaconda3/envs/activ/lib/python3.7/site-packages/scikit_learn-0.20.2-py3.7-macosx-10.7-x86_64.egg/sklearn/decomposition/nmf.py:1050: ConvergenceWarning: Maximum number of iteration 400 reached. Increase it to improve convergence.\n",
      "  \" improve convergence.\" % max_iter, ConvergenceWarning)\n"
     ]
    },
    {
     "name": "stdout",
     "output_type": "stream",
     "text": [
      "eps 0.8 minsamples 65\n",
      "eps 0.8 minsamples 70\n",
      "eps 0.8 minsamples 75\n",
      "eps 0.2 minsamples 20\n",
      "eps 0.2 minsamples 25\n",
      "eps 0.2 minsamples 30\n",
      "eps 0.2 minsamples 35\n",
      "eps 0.2 minsamples 40\n",
      "eps 0.2 minsamples 45\n",
      "eps 0.2 minsamples 50\n",
      "eps 0.2 minsamples 55\n",
      "eps 0.2 minsamples 60\n"
     ]
    },
    {
     "name": "stderr",
     "output_type": "stream",
     "text": [
      "/Users/ahyeon/anaconda3/envs/activ/lib/python3.7/site-packages/scikit_learn-0.20.2-py3.7-macosx-10.7-x86_64.egg/sklearn/decomposition/nmf.py:1050: ConvergenceWarning: Maximum number of iteration 400 reached. Increase it to improve convergence.\n",
      "  \" improve convergence.\" % max_iter, ConvergenceWarning)\n"
     ]
    },
    {
     "name": "stdout",
     "output_type": "stream",
     "text": [
      "eps 0.2 minsamples 65\n",
      "eps 0.2 minsamples 70\n",
      "eps 0.2 minsamples 75\n",
      "eps 0.3 minsamples 20\n",
      "eps 0.3 minsamples 25\n",
      "eps 0.3 minsamples 30\n",
      "eps 0.3 minsamples 35\n",
      "eps 0.3 minsamples 40\n",
      "eps 0.3 minsamples 45\n",
      "eps 0.3 minsamples 50\n",
      "eps 0.3 minsamples 55\n",
      "eps 0.3 minsamples 60\n"
     ]
    },
    {
     "name": "stderr",
     "output_type": "stream",
     "text": [
      "/Users/ahyeon/anaconda3/envs/activ/lib/python3.7/site-packages/scikit_learn-0.20.2-py3.7-macosx-10.7-x86_64.egg/sklearn/decomposition/nmf.py:1050: ConvergenceWarning: Maximum number of iteration 400 reached. Increase it to improve convergence.\n",
      "  \" improve convergence.\" % max_iter, ConvergenceWarning)\n"
     ]
    },
    {
     "name": "stdout",
     "output_type": "stream",
     "text": [
      "eps 0.3 minsamples 65\n",
      "eps 0.3 minsamples 70\n",
      "eps 0.3 minsamples 75\n",
      "eps 0.4 minsamples 20\n",
      "eps 0.4 minsamples 25\n",
      "eps 0.4 minsamples 30\n",
      "eps 0.4 minsamples 35\n",
      "eps 0.4 minsamples 40\n",
      "eps 0.4 minsamples 45\n",
      "eps 0.4 minsamples 50\n"
     ]
    },
    {
     "name": "stderr",
     "output_type": "stream",
     "text": [
      "/Users/ahyeon/anaconda3/envs/activ/lib/python3.7/site-packages/scikit_learn-0.20.2-py3.7-macosx-10.7-x86_64.egg/sklearn/decomposition/nmf.py:1050: ConvergenceWarning: Maximum number of iteration 400 reached. Increase it to improve convergence.\n",
      "  \" improve convergence.\" % max_iter, ConvergenceWarning)\n"
     ]
    },
    {
     "name": "stdout",
     "output_type": "stream",
     "text": [
      "eps 0.4 minsamples 55\n"
     ]
    },
    {
     "name": "stderr",
     "output_type": "stream",
     "text": [
      "/Users/ahyeon/anaconda3/envs/activ/lib/python3.7/site-packages/scikit_learn-0.20.2-py3.7-macosx-10.7-x86_64.egg/sklearn/decomposition/nmf.py:1050: ConvergenceWarning: Maximum number of iteration 400 reached. Increase it to improve convergence.\n",
      "  \" improve convergence.\" % max_iter, ConvergenceWarning)\n"
     ]
    },
    {
     "name": "stdout",
     "output_type": "stream",
     "text": [
      "eps 0.4 minsamples 60\n"
     ]
    },
    {
     "name": "stderr",
     "output_type": "stream",
     "text": [
      "/Users/ahyeon/anaconda3/envs/activ/lib/python3.7/site-packages/scikit_learn-0.20.2-py3.7-macosx-10.7-x86_64.egg/sklearn/decomposition/nmf.py:1050: ConvergenceWarning: Maximum number of iteration 400 reached. Increase it to improve convergence.\n",
      "  \" improve convergence.\" % max_iter, ConvergenceWarning)\n"
     ]
    },
    {
     "name": "stdout",
     "output_type": "stream",
     "text": [
      "eps 0.4 minsamples 65\n",
      "eps 0.4 minsamples 70\n",
      "eps 0.4 minsamples 75\n",
      "eps 0.5 minsamples 20\n",
      "eps 0.5 minsamples 25\n",
      "eps 0.5 minsamples 30\n",
      "eps 0.5 minsamples 35\n",
      "eps 0.5 minsamples 40\n",
      "eps 0.5 minsamples 45\n",
      "eps 0.5 minsamples 50\n",
      "eps 0.5 minsamples 55\n",
      "eps 0.5 minsamples 60\n",
      "eps 0.5 minsamples 65\n",
      "eps 0.5 minsamples 70\n",
      "eps 0.5 minsamples 75\n",
      "eps 0.6 minsamples 20\n",
      "eps 0.6 minsamples 25\n"
     ]
    },
    {
     "name": "stderr",
     "output_type": "stream",
     "text": [
      "/Users/ahyeon/anaconda3/envs/activ/lib/python3.7/site-packages/scikit_learn-0.20.2-py3.7-macosx-10.7-x86_64.egg/sklearn/decomposition/nmf.py:1050: ConvergenceWarning: Maximum number of iteration 400 reached. Increase it to improve convergence.\n",
      "  \" improve convergence.\" % max_iter, ConvergenceWarning)\n"
     ]
    },
    {
     "name": "stdout",
     "output_type": "stream",
     "text": [
      "eps 0.6 minsamples 30\n"
     ]
    },
    {
     "name": "stderr",
     "output_type": "stream",
     "text": [
      "/Users/ahyeon/anaconda3/envs/activ/lib/python3.7/site-packages/scikit_learn-0.20.2-py3.7-macosx-10.7-x86_64.egg/sklearn/decomposition/nmf.py:1050: ConvergenceWarning: Maximum number of iteration 400 reached. Increase it to improve convergence.\n",
      "  \" improve convergence.\" % max_iter, ConvergenceWarning)\n",
      "/Users/ahyeon/anaconda3/envs/activ/lib/python3.7/site-packages/scikit_learn-0.20.2-py3.7-macosx-10.7-x86_64.egg/sklearn/decomposition/nmf.py:1050: ConvergenceWarning: Maximum number of iteration 400 reached. Increase it to improve convergence.\n",
      "  \" improve convergence.\" % max_iter, ConvergenceWarning)\n",
      "/Users/ahyeon/anaconda3/envs/activ/lib/python3.7/site-packages/scikit_learn-0.20.2-py3.7-macosx-10.7-x86_64.egg/sklearn/decomposition/nmf.py:1050: ConvergenceWarning: Maximum number of iteration 400 reached. Increase it to improve convergence.\n",
      "  \" improve convergence.\" % max_iter, ConvergenceWarning)\n",
      "/Users/ahyeon/anaconda3/envs/activ/lib/python3.7/site-packages/scikit_learn-0.20.2-py3.7-macosx-10.7-x86_64.egg/sklearn/decomposition/nmf.py:1050: ConvergenceWarning: Maximum number of iteration 400 reached. Increase it to improve convergence.\n",
      "  \" improve convergence.\" % max_iter, ConvergenceWarning)\n"
     ]
    },
    {
     "name": "stdout",
     "output_type": "stream",
     "text": [
      "eps 0.6 minsamples 35\n",
      "eps 0.6 minsamples 40\n",
      "eps 0.6 minsamples 45\n",
      "eps 0.6 minsamples 50\n"
     ]
    },
    {
     "name": "stderr",
     "output_type": "stream",
     "text": [
      "/Users/ahyeon/anaconda3/envs/activ/lib/python3.7/site-packages/scikit_learn-0.20.2-py3.7-macosx-10.7-x86_64.egg/sklearn/decomposition/nmf.py:1050: ConvergenceWarning: Maximum number of iteration 400 reached. Increase it to improve convergence.\n",
      "  \" improve convergence.\" % max_iter, ConvergenceWarning)\n",
      "/Users/ahyeon/anaconda3/envs/activ/lib/python3.7/site-packages/scikit_learn-0.20.2-py3.7-macosx-10.7-x86_64.egg/sklearn/decomposition/nmf.py:1050: ConvergenceWarning: Maximum number of iteration 400 reached. Increase it to improve convergence.\n",
      "  \" improve convergence.\" % max_iter, ConvergenceWarning)\n",
      "/Users/ahyeon/anaconda3/envs/activ/lib/python3.7/site-packages/scikit_learn-0.20.2-py3.7-macosx-10.7-x86_64.egg/sklearn/decomposition/nmf.py:1050: ConvergenceWarning: Maximum number of iteration 400 reached. Increase it to improve convergence.\n",
      "  \" improve convergence.\" % max_iter, ConvergenceWarning)\n"
     ]
    },
    {
     "name": "stdout",
     "output_type": "stream",
     "text": [
      "eps 0.6 minsamples 55\n",
      "eps 0.6 minsamples 60\n"
     ]
    },
    {
     "name": "stderr",
     "output_type": "stream",
     "text": [
      "/Users/ahyeon/anaconda3/envs/activ/lib/python3.7/site-packages/scikit_learn-0.20.2-py3.7-macosx-10.7-x86_64.egg/sklearn/decomposition/nmf.py:1050: ConvergenceWarning: Maximum number of iteration 400 reached. Increase it to improve convergence.\n",
      "  \" improve convergence.\" % max_iter, ConvergenceWarning)\n"
     ]
    },
    {
     "name": "stdout",
     "output_type": "stream",
     "text": [
      "eps 0.6 minsamples 65\n",
      "eps 0.6 minsamples 70\n",
      "eps 0.6 minsamples 75\n",
      "eps 0.7 minsamples 20\n",
      "eps 0.7 minsamples 25\n",
      "eps 0.7 minsamples 30\n",
      "eps 0.7 minsamples 35\n"
     ]
    },
    {
     "name": "stderr",
     "output_type": "stream",
     "text": [
      "/Users/ahyeon/anaconda3/envs/activ/lib/python3.7/site-packages/scikit_learn-0.20.2-py3.7-macosx-10.7-x86_64.egg/sklearn/decomposition/nmf.py:1050: ConvergenceWarning: Maximum number of iteration 400 reached. Increase it to improve convergence.\n",
      "  \" improve convergence.\" % max_iter, ConvergenceWarning)\n"
     ]
    },
    {
     "name": "stdout",
     "output_type": "stream",
     "text": [
      "eps 0.7 minsamples 40\n",
      "eps 0.7 minsamples 45\n",
      "eps 0.7 minsamples 50\n",
      "eps 0.7 minsamples 55\n",
      "eps 0.7 minsamples 60\n"
     ]
    },
    {
     "name": "stderr",
     "output_type": "stream",
     "text": [
      "/Users/ahyeon/anaconda3/envs/activ/lib/python3.7/site-packages/scikit_learn-0.20.2-py3.7-macosx-10.7-x86_64.egg/sklearn/decomposition/nmf.py:1050: ConvergenceWarning: Maximum number of iteration 400 reached. Increase it to improve convergence.\n",
      "  \" improve convergence.\" % max_iter, ConvergenceWarning)\n"
     ]
    },
    {
     "name": "stdout",
     "output_type": "stream",
     "text": [
      "eps 0.7 minsamples 65\n",
      "eps 0.7 minsamples 70\n",
      "eps 0.7 minsamples 75\n",
      "eps 0.8 minsamples 20\n",
      "eps 0.8 minsamples 25\n",
      "eps 0.8 minsamples 30\n",
      "eps 0.8 minsamples 35\n",
      "eps 0.8 minsamples 40\n"
     ]
    },
    {
     "name": "stderr",
     "output_type": "stream",
     "text": [
      "/Users/ahyeon/anaconda3/envs/activ/lib/python3.7/site-packages/scikit_learn-0.20.2-py3.7-macosx-10.7-x86_64.egg/sklearn/decomposition/nmf.py:1050: ConvergenceWarning: Maximum number of iteration 400 reached. Increase it to improve convergence.\n",
      "  \" improve convergence.\" % max_iter, ConvergenceWarning)\n"
     ]
    },
    {
     "name": "stdout",
     "output_type": "stream",
     "text": [
      "eps 0.8 minsamples 45\n",
      "eps 0.8 minsamples 50\n",
      "eps 0.8 minsamples 55\n"
     ]
    },
    {
     "name": "stderr",
     "output_type": "stream",
     "text": [
      "/Users/ahyeon/anaconda3/envs/activ/lib/python3.7/site-packages/scikit_learn-0.20.2-py3.7-macosx-10.7-x86_64.egg/sklearn/decomposition/nmf.py:1050: ConvergenceWarning: Maximum number of iteration 400 reached. Increase it to improve convergence.\n",
      "  \" improve convergence.\" % max_iter, ConvergenceWarning)\n",
      "/Users/ahyeon/anaconda3/envs/activ/lib/python3.7/site-packages/scikit_learn-0.20.2-py3.7-macosx-10.7-x86_64.egg/sklearn/decomposition/nmf.py:1050: ConvergenceWarning: Maximum number of iteration 400 reached. Increase it to improve convergence.\n",
      "  \" improve convergence.\" % max_iter, ConvergenceWarning)\n"
     ]
    },
    {
     "name": "stdout",
     "output_type": "stream",
     "text": [
      "eps 0.8 minsamples 60\n",
      "eps 0.8 minsamples 65\n",
      "eps 0.8 minsamples 70\n",
      "eps 0.8 minsamples 75\n",
      "eps 0.2 minsamples 20\n",
      "eps 0.2 minsamples 25\n",
      "eps 0.2 minsamples 30\n",
      "eps 0.2 minsamples 35\n",
      "eps 0.2 minsamples 40\n",
      "eps 0.2 minsamples 45\n",
      "eps 0.2 minsamples 50\n",
      "eps 0.2 minsamples 55\n",
      "eps 0.2 minsamples 60\n",
      "eps 0.2 minsamples 65\n"
     ]
    },
    {
     "name": "stderr",
     "output_type": "stream",
     "text": [
      "/Users/ahyeon/anaconda3/envs/activ/lib/python3.7/site-packages/scikit_learn-0.20.2-py3.7-macosx-10.7-x86_64.egg/sklearn/decomposition/nmf.py:1050: ConvergenceWarning: Maximum number of iteration 400 reached. Increase it to improve convergence.\n",
      "  \" improve convergence.\" % max_iter, ConvergenceWarning)\n"
     ]
    },
    {
     "name": "stdout",
     "output_type": "stream",
     "text": [
      "eps 0.2 minsamples 70\n",
      "eps 0.2 minsamples 75\n",
      "eps 0.3 minsamples 20\n",
      "eps 0.3 minsamples 25\n",
      "eps 0.3 minsamples 30\n"
     ]
    },
    {
     "name": "stderr",
     "output_type": "stream",
     "text": [
      "/Users/ahyeon/anaconda3/envs/activ/lib/python3.7/site-packages/scikit_learn-0.20.2-py3.7-macosx-10.7-x86_64.egg/sklearn/decomposition/nmf.py:1050: ConvergenceWarning: Maximum number of iteration 400 reached. Increase it to improve convergence.\n",
      "  \" improve convergence.\" % max_iter, ConvergenceWarning)\n"
     ]
    },
    {
     "name": "stdout",
     "output_type": "stream",
     "text": [
      "eps 0.3 minsamples 35\n"
     ]
    },
    {
     "name": "stderr",
     "output_type": "stream",
     "text": [
      "/Users/ahyeon/anaconda3/envs/activ/lib/python3.7/site-packages/scikit_learn-0.20.2-py3.7-macosx-10.7-x86_64.egg/sklearn/decomposition/nmf.py:1050: ConvergenceWarning: Maximum number of iteration 400 reached. Increase it to improve convergence.\n",
      "  \" improve convergence.\" % max_iter, ConvergenceWarning)\n"
     ]
    },
    {
     "name": "stdout",
     "output_type": "stream",
     "text": [
      "eps 0.3 minsamples 40\n"
     ]
    },
    {
     "name": "stderr",
     "output_type": "stream",
     "text": [
      "/Users/ahyeon/anaconda3/envs/activ/lib/python3.7/site-packages/scikit_learn-0.20.2-py3.7-macosx-10.7-x86_64.egg/sklearn/decomposition/nmf.py:1050: ConvergenceWarning: Maximum number of iteration 400 reached. Increase it to improve convergence.\n",
      "  \" improve convergence.\" % max_iter, ConvergenceWarning)\n"
     ]
    },
    {
     "name": "stdout",
     "output_type": "stream",
     "text": [
      "eps 0.3 minsamples 45\n",
      "eps 0.3 minsamples 50\n",
      "eps 0.3 minsamples 55\n"
     ]
    },
    {
     "name": "stderr",
     "output_type": "stream",
     "text": [
      "/Users/ahyeon/anaconda3/envs/activ/lib/python3.7/site-packages/scikit_learn-0.20.2-py3.7-macosx-10.7-x86_64.egg/sklearn/decomposition/nmf.py:1050: ConvergenceWarning: Maximum number of iteration 400 reached. Increase it to improve convergence.\n",
      "  \" improve convergence.\" % max_iter, ConvergenceWarning)\n"
     ]
    },
    {
     "name": "stdout",
     "output_type": "stream",
     "text": [
      "eps 0.3 minsamples 60\n",
      "eps 0.3 minsamples 65\n"
     ]
    },
    {
     "name": "stderr",
     "output_type": "stream",
     "text": [
      "/Users/ahyeon/anaconda3/envs/activ/lib/python3.7/site-packages/scikit_learn-0.20.2-py3.7-macosx-10.7-x86_64.egg/sklearn/decomposition/nmf.py:1050: ConvergenceWarning: Maximum number of iteration 400 reached. Increase it to improve convergence.\n",
      "  \" improve convergence.\" % max_iter, ConvergenceWarning)\n"
     ]
    },
    {
     "name": "stdout",
     "output_type": "stream",
     "text": [
      "eps 0.3 minsamples 70\n"
     ]
    },
    {
     "name": "stderr",
     "output_type": "stream",
     "text": [
      "/Users/ahyeon/anaconda3/envs/activ/lib/python3.7/site-packages/scikit_learn-0.20.2-py3.7-macosx-10.7-x86_64.egg/sklearn/decomposition/nmf.py:1050: ConvergenceWarning: Maximum number of iteration 400 reached. Increase it to improve convergence.\n",
      "  \" improve convergence.\" % max_iter, ConvergenceWarning)\n",
      "/Users/ahyeon/anaconda3/envs/activ/lib/python3.7/site-packages/scikit_learn-0.20.2-py3.7-macosx-10.7-x86_64.egg/sklearn/decomposition/nmf.py:1050: ConvergenceWarning: Maximum number of iteration 400 reached. Increase it to improve convergence.\n",
      "  \" improve convergence.\" % max_iter, ConvergenceWarning)\n"
     ]
    },
    {
     "name": "stdout",
     "output_type": "stream",
     "text": [
      "eps 0.3 minsamples 75\n",
      "eps 0.4 minsamples 20\n",
      "eps 0.4 minsamples 25\n",
      "eps 0.4 minsamples 30\n",
      "eps 0.4 minsamples 35\n",
      "eps 0.4 minsamples 40\n",
      "eps 0.4 minsamples 45\n",
      "eps 0.4 minsamples 50\n",
      "eps 0.4 minsamples 55\n",
      "eps 0.4 minsamples 60\n",
      "eps 0.4 minsamples 65\n",
      "eps 0.4 minsamples 70\n",
      "eps 0.4 minsamples 75\n",
      "eps 0.5 minsamples 20\n",
      "eps 0.5 minsamples 25\n",
      "eps 0.5 minsamples 30\n",
      "eps 0.5 minsamples 35\n",
      "eps 0.5 minsamples 40\n",
      "eps 0.5 minsamples 45\n",
      "eps 0.5 minsamples 50\n",
      "eps 0.5 minsamples 55\n",
      "eps 0.5 minsamples 60\n",
      "eps 0.5 minsamples 65\n",
      "eps 0.5 minsamples 70\n",
      "eps 0.5 minsamples 75\n",
      "eps 0.6 minsamples 20\n",
      "eps 0.6 minsamples 25\n"
     ]
    },
    {
     "name": "stderr",
     "output_type": "stream",
     "text": [
      "/Users/ahyeon/anaconda3/envs/activ/lib/python3.7/site-packages/scikit_learn-0.20.2-py3.7-macosx-10.7-x86_64.egg/sklearn/decomposition/nmf.py:1050: ConvergenceWarning: Maximum number of iteration 400 reached. Increase it to improve convergence.\n",
      "  \" improve convergence.\" % max_iter, ConvergenceWarning)\n"
     ]
    },
    {
     "name": "stdout",
     "output_type": "stream",
     "text": [
      "eps 0.6 minsamples 30\n",
      "eps 0.6 minsamples 35\n",
      "eps 0.6 minsamples 40\n",
      "eps 0.6 minsamples 45\n",
      "eps 0.6 minsamples 50\n",
      "eps 0.6 minsamples 55\n",
      "eps 0.6 minsamples 60\n",
      "eps 0.6 minsamples 65\n",
      "eps 0.6 minsamples 70\n",
      "eps 0.6 minsamples 75\n",
      "eps 0.7 minsamples 20\n",
      "eps 0.7 minsamples 25\n",
      "eps 0.7 minsamples 30\n",
      "eps 0.7 minsamples 35\n",
      "eps 0.7 minsamples 40\n",
      "eps 0.7 minsamples 45\n",
      "eps 0.7 minsamples 50\n",
      "eps 0.7 minsamples 55\n",
      "eps 0.7 minsamples 60\n",
      "eps 0.7 minsamples 65\n",
      "eps 0.7 minsamples 70\n"
     ]
    },
    {
     "name": "stderr",
     "output_type": "stream",
     "text": [
      "/Users/ahyeon/anaconda3/envs/activ/lib/python3.7/site-packages/scikit_learn-0.20.2-py3.7-macosx-10.7-x86_64.egg/sklearn/decomposition/nmf.py:1050: ConvergenceWarning: Maximum number of iteration 400 reached. Increase it to improve convergence.\n",
      "  \" improve convergence.\" % max_iter, ConvergenceWarning)\n"
     ]
    },
    {
     "name": "stdout",
     "output_type": "stream",
     "text": [
      "eps 0.7 minsamples 75\n",
      "eps 0.8 minsamples 20\n"
     ]
    },
    {
     "name": "stderr",
     "output_type": "stream",
     "text": [
      "/Users/ahyeon/anaconda3/envs/activ/lib/python3.7/site-packages/scikit_learn-0.20.2-py3.7-macosx-10.7-x86_64.egg/sklearn/decomposition/nmf.py:1050: ConvergenceWarning: Maximum number of iteration 400 reached. Increase it to improve convergence.\n",
      "  \" improve convergence.\" % max_iter, ConvergenceWarning)\n"
     ]
    },
    {
     "name": "stdout",
     "output_type": "stream",
     "text": [
      "eps 0.8 minsamples 25\n",
      "eps 0.8 minsamples 30\n",
      "eps 0.8 minsamples 35\n",
      "eps 0.8 minsamples 40\n",
      "eps 0.8 minsamples 45\n"
     ]
    },
    {
     "name": "stderr",
     "output_type": "stream",
     "text": [
      "/Users/ahyeon/anaconda3/envs/activ/lib/python3.7/site-packages/scikit_learn-0.20.2-py3.7-macosx-10.7-x86_64.egg/sklearn/decomposition/nmf.py:1050: ConvergenceWarning: Maximum number of iteration 400 reached. Increase it to improve convergence.\n",
      "  \" improve convergence.\" % max_iter, ConvergenceWarning)\n",
      "/Users/ahyeon/anaconda3/envs/activ/lib/python3.7/site-packages/scikit_learn-0.20.2-py3.7-macosx-10.7-x86_64.egg/sklearn/decomposition/nmf.py:1050: ConvergenceWarning: Maximum number of iteration 400 reached. Increase it to improve convergence.\n",
      "  \" improve convergence.\" % max_iter, ConvergenceWarning)\n"
     ]
    },
    {
     "name": "stdout",
     "output_type": "stream",
     "text": [
      "eps 0.8 minsamples 50\n",
      "eps 0.8 minsamples 55\n",
      "eps 0.8 minsamples 60\n",
      "eps 0.8 minsamples 65\n",
      "eps 0.8 minsamples 70\n",
      "eps 0.8 minsamples 75\n"
     ]
    },
    {
     "name": "stderr",
     "output_type": "stream",
     "text": [
      "/Users/ahyeon/anaconda3/envs/activ/lib/python3.7/site-packages/scikit_learn-0.20.2-py3.7-macosx-10.7-x86_64.egg/sklearn/decomposition/nmf.py:1050: ConvergenceWarning: Maximum number of iteration 400 reached. Increase it to improve convergence.\n",
      "  \" improve convergence.\" % max_iter, ConvergenceWarning)\n"
     ]
    }
   ],
   "source": [
    "error_mat = np.zeros((len(eps),len(minsamples),5))\n",
    "k_mat = np.zeros((len(eps), len(minsamples), 5))\n",
    "for cv, (train_index, test_index) in enumerate(kf.split(oc_input, raw_oc[:,32])):\n",
    "    train, test = oc_input[train_index], oc_input[test_index]\n",
    "    train_oc = train\n",
    "    test_oc = test\n",
    "    for ii,e in enumerate(eps):\n",
    "        for jj,m in enumerate(minsamples):\n",
    "            print('eps {} minsamples {}'.format(e,m))\n",
    "            db = DBSCAN(eps=e, min_samples=m)\n",
    "            uoinmf = UoINMF(ranks=list(range(2,20)),dbscan=db)\n",
    "            decomp = uoinmf.fit(train_oc)\n",
    "            H = decomp.components_\n",
    "            W = decomp.transform(test_oc, reconstruction_err=True)\n",
    "            error = np.linalg.norm(test_oc-W@H)\n",
    "            error_mat[ii,jj,cv] = error\n",
    "            k_mat[ii,jj,cv] = H.shape[0]"
   ]
  },
  {
   "cell_type": "code",
   "execution_count": 12,
   "metadata": {},
   "outputs": [],
   "source": [
    "f = h5py.File('/Users/ahyeon/data/activ/uoinmf_oc_rec.h5', 'w')"
   ]
  },
  {
   "cell_type": "code",
   "execution_count": 13,
   "metadata": {},
   "outputs": [
    {
     "data": {
      "text/plain": [
       "<HDF5 dataset \"k_mat\": shape (7, 12, 5), type \"<f8\">"
      ]
     },
     "execution_count": 13,
     "metadata": {},
     "output_type": "execute_result"
    }
   ],
   "source": [
    "f.create_dataset('error_mat', data=error_mat)\n",
    "f.create_dataset('k_mat', data=k_mat)"
   ]
  },
  {
   "cell_type": "code",
   "execution_count": 15,
   "metadata": {},
   "outputs": [
    {
     "data": {
      "text/plain": [
       "(7, 12)"
      ]
     },
     "execution_count": 15,
     "metadata": {},
     "output_type": "execute_result"
    }
   ],
   "source": [
    "len(eps), len(minsamples)"
   ]
  },
  {
   "cell_type": "code",
   "execution_count": 20,
   "metadata": {},
   "outputs": [],
   "source": [
    "error_mat_avg = np.mean(error_mat, axis=2)"
   ]
  },
  {
   "cell_type": "code",
   "execution_count": 34,
   "metadata": {},
   "outputs": [],
   "source": [
    "k_mat_avg = np.mean(k_mat, axis=2)"
   ]
  },
  {
   "cell_type": "code",
   "execution_count": 33,
   "metadata": {},
   "outputs": [
    {
     "data": {
      "text/plain": [
       "(<matplotlib.image.AxesImage at 0x126c372b0>,\n",
       " <matplotlib.colorbar.Colorbar at 0x126fc9ba8>)"
      ]
     },
     "execution_count": 33,
     "metadata": {},
     "output_type": "execute_result"
    },
    {
     "data": {
      "image/png": "[encoded data removed]",
      "text/plain": [
       "<Figure size 432x288 with 2 Axes>"
      ]
     },
     "metadata": {
      "needs_background": "light"
     },
     "output_type": "display_data"
    }
   ],
   "source": [
    "from activ.analytics import heatmap\n",
    "heatmap(error_mat_avg, eps, minsamples, xlab='Number of Samples', ylab='eps', \n",
    "        title='parameters to optimize k\\nuoinmf on raw outcomes reconstruction error')\n"
   ]
  },
  {
   "cell_type": "code",
   "execution_count": 40,
   "metadata": {},
   "outputs": [
    {
     "data": {
      "text/plain": [
       "(1, 0)"
      ]
     },
     "execution_count": 40,
     "metadata": {},
     "output_type": "execute_result"
    }
   ],
   "source": [
    "# index of lowest reconstruction error \n",
    "\n",
    "np.unravel_index(np.argmin(error_mat_avg, axis=None), error_mat_avg.shape)"
   ]
  },
  {
   "cell_type": "code",
   "execution_count": 35,
   "metadata": {},
   "outputs": [
    {
     "data": {
      "text/plain": [
       "(<matplotlib.image.AxesImage at 0x127044518>,\n",
       " <matplotlib.colorbar.Colorbar at 0x12706ae10>)"
      ]
     },
     "execution_count": 35,
     "metadata": {},
     "output_type": "execute_result"
    },
    {
     "data": {
      "image/png": "[encoded data removed]",
      "text/plain": [
       "<Figure size 432x288 with 2 Axes>"
      ]
     },
     "metadata": {
      "needs_background": "light"
     },
     "output_type": "display_data"
    }
   ],
   "source": [
    "heatmap(k_mat_avg, eps, minsamples, xlab='Number of Samples', ylab='eps', \n",
    "        title='k value across different parameters\\nuoinmf on raw outcomes reconstruction error')"
   ]
  },
  {
   "cell_type": "code",
   "execution_count": 41,
   "metadata": {},
   "outputs": [
    {
     "data": {
      "text/plain": [
       "12.6"
      ]
     },
     "execution_count": 41,
     "metadata": {},
     "output_type": "execute_result"
    }
   ],
   "source": [
    "# avg k value for lowest reconstruction error\n",
    "\n",
    "k_mat_avg[1,0]"
   ]
  },
  {
   "cell_type": "code",
   "execution_count": 43,
   "metadata": {},
   "outputs": [
    {
     "data": {
      "text/plain": [
       "array([ 9., 12., 14., 13., 15.])"
      ]
     },
     "execution_count": 43,
     "metadata": {},
     "output_type": "execute_result"
    }
   ],
   "source": [
    "k_mat[1,0]"
   ]
  },
  {
   "cell_type": "code",
   "execution_count": 44,
   "metadata": {},
   "outputs": [
    {
     "data": {
      "text/plain": [
       "8.8"
      ]
     },
     "execution_count": 44,
     "metadata": {},
     "output_type": "execute_result"
    }
   ],
   "source": [
    "k_mat_avg[3,6]"
   ]
  },
  {
   "cell_type": "code",
   "execution_count": null,
   "metadata": {},
   "outputs": [],
   "source": []
  }
 ],
 "metadata": {
  "kernelspec": {
   "display_name": "Python [conda env:activ]",
   "language": "python",
   "name": "conda-env-activ-py"
  },
  "language_info": {
   "codemirror_mode": {
    "name": "ipython",
    "version": 3
   },
   "file_extension": ".py",
   "mimetype": "text/x-python",
   "name": "python",
   "nbconvert_exporter": "python",
   "pygments_lexer": "ipython3",
   "version": "3.7.2"
  }
 },
 "nbformat": 4,
 "nbformat_minor": 2
}

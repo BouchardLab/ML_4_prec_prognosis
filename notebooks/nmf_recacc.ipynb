{
 "cells": [
  {
   "cell_type": "code",
   "execution_count": 9,
   "metadata": {},
   "outputs": [],
   "source": [
    "import numpy as np\n",
    "import scipy\n",
    "from activ import load_data\n",
    "from sklearn.model_selection import train_test_split\n",
    "from sklearn.cluster import DBSCAN\n",
    "from activ.data_normalization import data_normalization\n",
    "from scipy.spatial.distance import pdist\n",
    "from sklearn.model_selection import KFold\n",
    "from sklearn.decomposition import NMF\n",
    "from sklearn.metrics import mean_squared_error\n",
    "import h5py"
   ]
  },
  {
   "cell_type": "code",
   "execution_count": 12,
   "metadata": {},
   "outputs": [],
   "source": [
    "rawdata = load_data(uoinmf=False)\n",
    "raw_bm = rawdata.biomarkers\n",
    "raw_oc = rawdata.outcomes\n",
    "\n",
    "knum = 10\n",
    "kf = KFold(n_splits=knum)"
   ]
  },
  {
   "cell_type": "code",
   "execution_count": 14,
   "metadata": {},
   "outputs": [
    {
     "name": "stdout",
     "output_type": "stream",
     "text": [
      "(222, 235) (235, 235)\n",
      "235 0.005696885230670956\n",
      "(222, 235) (235, 235)\n",
      "235 0.005978778519043715\n",
      "(222, 235) (235, 235)\n",
      "235 0.00659917022265417\n",
      "(222, 235) (235, 235)\n",
      "235 0.006362723085176256\n",
      "(222, 235) (235, 235)\n",
      "235 0.005750333691893099\n",
      "(222, 235) (235, 235)\n",
      "235 0.005798241831244305\n",
      "(222, 235) (235, 235)\n",
      "235 0.00540097478006858\n",
      "(223, 235) (235, 235)\n",
      "235 0.006215473075091339\n",
      "(223, 235) (235, 235)\n",
      "235 0.005182909943995049\n",
      "(223, 235) (235, 235)\n",
      "235 0.0056812910078334125\n"
     ]
    }
   ],
   "source": [
    "for cv, (train_index, test_index) in enumerate(kf.split(raw_bm)):\n",
    "    train, test = raw_bm[train_index], raw_bm[test_index]\n",
    "    train_bm = train\n",
    "    test_bm = test\n",
    "    \n",
    "    nmf = NMF(beta_loss='kullback-leibler', solver='mu', max_iter=400, init='random')\n",
    "    W = nmf.fit_transform(train_bm)\n",
    "    H = nmf.components_\n",
    "    k = H.shape[0]\n",
    "    print(W.shape, H.shape)\n",
    "    mse = mean_squared_error(train_bm, W@H)\n",
    "    print(k,mse)"
   ]
  },
  {
   "cell_type": "code",
   "execution_count": null,
   "metadata": {},
   "outputs": [],
   "source": []
  }
 ],
 "metadata": {
  "kernelspec": {
   "display_name": "Python [conda env:activ]",
   "language": "python",
   "name": "conda-env-activ-py"
  },
  "language_info": {
   "codemirror_mode": {
    "name": "ipython",
    "version": 3
   },
   "file_extension": ".py",
   "mimetype": "text/x-python",
   "name": "python",
   "nbconvert_exporter": "python",
   "pygments_lexer": "ipython3",
   "version": "3.7.2"
  }
 },
 "nbformat": 4,
 "nbformat_minor": 2
}

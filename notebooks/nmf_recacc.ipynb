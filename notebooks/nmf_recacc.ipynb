{
 "cells": [
  {
   "cell_type": "code",
   "execution_count": 9,
   "metadata": {},
   "outputs": [],
   "source": [
    "import numpy as np\n",
    "import scipy\n",
    "from activ import load_data\n",
    "from sklearn.model_selection import train_test_split\n",
    "from sklearn.cluster import DBSCAN\n",
    "from activ.data_normalization import data_normalization\n",
    "from scipy.spatial.distance import pdist\n",
    "from sklearn.model_selection import KFold\n",
    "from sklearn.decomposition import NMF\n",
    "from sklearn.metrics import mean_squared_error\n",
    "import h5py"
   ]
  },
  {
   "cell_type": "code",
   "execution_count": 16,
   "metadata": {},
   "outputs": [],
   "source": [
    "rawdata = load_data(uoinmf=False)\n",
    "raw_bm = rawdata.biomarkers\n",
    "raw_oc = rawdata.outcomes\n",
    "\n",
    "knum = 5\n",
    "kf = KFold(n_splits=knum)"
   ]
  },
  {
   "cell_type": "code",
   "execution_count": 17,
   "metadata": {},
   "outputs": [
    {
     "data": {
      "text/plain": [
       "(247, 235)"
      ]
     },
     "execution_count": 17,
     "metadata": {},
     "output_type": "execute_result"
    }
   ],
   "source": [
    "raw_bm.shape"
   ]
  },
  {
   "cell_type": "code",
   "execution_count": 18,
   "metadata": {},
   "outputs": [
    {
     "name": "stdout",
     "output_type": "stream",
     "text": [
      "(197, 235)\n",
      "(197, 235) (235, 235)\n",
      "235 0.005137822047645488\n",
      "(197, 235)\n",
      "(197, 235) (235, 235)\n",
      "235 0.00530704657444009\n",
      "(198, 235)\n"
     ]
    },
    {
     "name": "stderr",
     "output_type": "stream",
     "text": [
      "/Users/ahyeon/anaconda3/envs/activ/lib/python3.7/site-packages/scikit_learn-0.20.2-py3.7-macosx-10.7-x86_64.egg/sklearn/decomposition/nmf.py:1050: ConvergenceWarning: Maximum number of iteration 400 reached. Increase it to improve convergence.\n",
      "  \" improve convergence.\" % max_iter, ConvergenceWarning)\n"
     ]
    },
    {
     "name": "stdout",
     "output_type": "stream",
     "text": [
      "(198, 235) (235, 235)\n",
      "235 0.005780329318372497\n",
      "(198, 235)\n",
      "(198, 235) (235, 235)\n",
      "235 0.005357778330617257\n",
      "(198, 235)\n",
      "(198, 235) (235, 235)\n",
      "235 0.0040615735107101215\n"
     ]
    }
   ],
   "source": [
    "for cv, (train_index, test_index) in enumerate(kf.split(raw_bm)):\n",
    "    train, test = raw_bm[train_index], raw_bm[test_index]\n",
    "    train_bm = train\n",
    "    test_bm = test\n",
    "    print(train_bm.shape)\n",
    "    nmf = NMF(beta_loss='kullback-leibler', solver='mu', max_iter=400, init='random')\n",
    "    W = nmf.fit_transform(train_bm)\n",
    "    H = nmf.components_\n",
    "    k = H.shape[0]\n",
    "    print(W.shape, H.shape)\n",
    "    mse = mean_squared_error(train_bm, W@H)\n",
    "    print(k,mse)"
   ]
  },
  {
   "cell_type": "code",
   "execution_count": 23,
   "metadata": {},
   "outputs": [],
   "source": [
    "X = np.array([[1, 1], [2, 1], [3, 1.2], [4, 1], [5, 0.8], [6, 1]])\n",
    "model = NMF(n_components=2, init='random', random_state=0)\n",
    "W = model.fit_transform(X)\n",
    "H = model.components_"
   ]
  },
  {
   "cell_type": "code",
   "execution_count": 24,
   "metadata": {},
   "outputs": [
    {
     "data": {
      "text/plain": [
       "((6, 2), (6, 2), (2, 2))"
      ]
     },
     "execution_count": 24,
     "metadata": {},
     "output_type": "execute_result"
    }
   ],
   "source": [
    "X.shape, W.shape, H.shape"
   ]
  },
  {
   "cell_type": "code",
   "execution_count": null,
   "metadata": {},
   "outputs": [],
   "source": []
  }
 ],
 "metadata": {
  "kernelspec": {
   "display_name": "Python [conda env:activ]",
   "language": "python",
   "name": "conda-env-activ-py"
  },
  "language_info": {
   "codemirror_mode": {
    "name": "ipython",
    "version": 3
   },
   "file_extension": ".py",
   "mimetype": "text/x-python",
   "name": "python",
   "nbconvert_exporter": "python",
   "pygments_lexer": "ipython3",
   "version": "3.7.2"
  }
 },
 "nbformat": 4,
 "nbformat_minor": 2
}

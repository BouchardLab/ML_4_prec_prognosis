{
 "cells": [
  {
   "cell_type": "code",
   "execution_count": 24,
   "metadata": {},
   "outputs": [],
   "source": [
    "from activ import load_data, data_normalization\n",
    "import os\n",
    "from activ.readfile import TrackTBIFile\n",
    "%matplotlib inline\n",
    "import matplotlib.pyplot as plt\n",
    "import h5py\n",
    "import numpy as np\n",
    "from activ.analytics import heatmap, nmf_bases_heatmap\n",
    "from activ.clustering import UmapClusteringResults\n",
    "from os.path import dirname, join\n",
    "from matplotlib.backends.backend_pdf import PdfPages\n",
    "from IPython.display import display, Latex, Markdown\n",
    "from pylatex import Document, Section, Subsection, Command\n",
    "from pylatex import Document, Section, Figure, SubFigure, NoEscape\n",
    "from pylatex.utils import italic, NoEscape\n",
    "from scipy.stats import norm, sem"
   ]
  },
  {
   "cell_type": "code",
   "execution_count": 25,
   "metadata": {},
   "outputs": [],
   "source": [
    "raw = load_data()\n",
    "labels = raw.outcome_features\n",
    "nmfdata = load_data(uoinmf=True)\n",
    "rawbm = raw.biomarkers #(247,235)\n",
    "feature_names = raw.outcome_features\n",
    "A = data_normalization.data_normalization(raw.outcomes, 'positive') #(247,177)\n",
    "w = nmfdata.outcomes #(247,6)\n",
    "h = nmfdata.outcome_bases #(6,177)"
   ]
  },
  {
   "cell_type": "code",
   "execution_count": 26,
   "metadata": {},
   "outputs": [],
   "source": [
    "def drop_x_percent(A,w,h,feature_names,percent):\n",
    "    total_features = h.shape[1]\n",
    "    num_features_to_drop = np.round(total_features * percent//100)\n",
    "    h_sum = np.sum(h, axis=0)\n",
    "    h_sum_sorted = np.argsort(h_sum)[::-1]\n",
    "    indices_highest_values = h_sum_sorted[:num_features_to_drop]\n",
    "    dropped_features = sorted(feature_names[indices_highest_values])\n",
    "    h_new = np.delete(h, indices_highest_values, axis=1)\n",
    "    A_new = np.delete(A, indices_highest_values, axis=1)    \n",
    "    return A_new, h_new, dropped_features"
   ]
  },
  {
   "cell_type": "code",
   "execution_count": 27,
   "metadata": {},
   "outputs": [],
   "source": [
    "percent = [0,10,20,30,40,50,60,70,80,90]\n",
    "for p in percent:\n",
    "    A_features_dropped,h_new, dropped_features = drop_x_percent(A,w,h,feature_names,p)"
   ]
  },
  {
   "cell_type": "code",
   "execution_count": 28,
   "metadata": {},
   "outputs": [],
   "source": [
    "percent = [0,10,20,30,40,50,60,70,80,90]\n",
    "for p in percent:\n",
    "    A_features_dropped, h_new, dropped_features = drop_x_percent(A,w,h,feature_names,p)\n",
    "    fname = '/Users/ahyeon/data/activ/oc_features_dropped/oc_data_features_dropped_opp_{}.h5'.format(p)\n",
    "    TrackTBIFile.write(fname, rawbm, A_features_dropped)"
   ]
  },
  {
   "cell_type": "code",
   "execution_count": 23,
   "metadata": {},
   "outputs": [
    {
     "name": "stdout",
     "output_type": "stream",
     "text": [
      "Help on class TrackTBIFile in module activ.readfile:\n",
      "\n",
      "class TrackTBIFile(builtins.object)\n",
      " |  Methods defined here:\n",
      " |  \n",
      " |  __init__(self, filename)\n",
      " |      Initialize self.  See help(type(self)) for accurate signature.\n",
      " |  \n",
      " |  ----------------------------------------------------------------------\n",
      " |  Class methods defined here:\n",
      " |  \n",
      " |  write(dest, biomarkers, outcomes, biomarker_features=None, outcome_features=None, patient_ids=None) from builtins.type\n",
      " |      Write biomarkers and outcomes to an HDF5 file\n",
      " |      \n",
      " |      Args:\n",
      " |          dest                : the path to an HDF5 file or the :class:`h5py.Group` to write to\n",
      " |          biomarkers          : the biomarker data with shape (n_samples, n_features)\n",
      " |          outcomes            : the outcomes data with shape (n_samples, n_features)\n",
      " |          biomarker_features  : the names of the biomarker features (optional)\n",
      " |          outcome_features    : the names of the outcome features (optional)\n",
      " |          patient_ids         : the patient IDs (optional)\n",
      " |      \n",
      " |      If biomarker_features, outcome_features, or patient_ids are provided, they will be\n",
      " |      added as dimension scales to the appropriate dimension of their respective datasets.\n",
      " |  \n",
      " |  ----------------------------------------------------------------------\n",
      " |  Data descriptors defined here:\n",
      " |  \n",
      " |  __dict__\n",
      " |      dictionary for instance variables (if defined)\n",
      " |  \n",
      " |  __weakref__\n",
      " |      list of weak references to the object (if defined)\n",
      "\n"
     ]
    }
   ],
   "source": [
    "help(TrackTBIFile)"
   ]
  },
  {
   "cell_type": "code",
   "execution_count": null,
   "metadata": {},
   "outputs": [],
   "source": []
  }
 ],
 "metadata": {
  "kernelspec": {
   "display_name": "Python 3",
   "language": "python",
   "name": "python3"
  },
  "language_info": {
   "codemirror_mode": {
    "name": "ipython",
    "version": 3
   },
   "file_extension": ".py",
   "mimetype": "text/x-python",
   "name": "python",
   "nbconvert_exporter": "python",
   "pygments_lexer": "ipython3",
   "version": "3.6.2"
  }
 },
 "nbformat": 4,
 "nbformat_minor": 2
}

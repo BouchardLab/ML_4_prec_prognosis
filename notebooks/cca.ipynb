{
 "cells": [
  {
   "cell_type": "code",
   "execution_count": 31,
   "metadata": {},
   "outputs": [],
   "source": [
    "import numpy as np\n",
    "import matplotlib.pyplot as plt\n",
    "import scipy\n",
    "from activ import load_data\n",
    "from PyUoI.UoINMF import UoINMF\n",
    "from sklearn.model_selection import train_test_split\n",
    "from sklearn.cluster import DBSCAN\n",
    "from activ.data_normalization import data_normalization\n",
    "from scipy.spatial.distance import pdist\n",
    "from sklearn.model_selection import KFold\n",
    "from sklearn.cross_decomposition import CCA\n",
    "from sklearn.metrics import r2_score, mean_squared_error\n",
    "from scipy.optimize import curve_fit\n",
    "from sklearn.ensemble import RandomForestRegressor\n",
    "from sklearn import metrics"
   ]
  },
  {
   "cell_type": "code",
   "execution_count": 32,
   "metadata": {},
   "outputs": [],
   "source": [
    "nmfdata = load_data(uoinmf=True)"
   ]
  },
  {
   "cell_type": "code",
   "execution_count": 33,
   "metadata": {},
   "outputs": [],
   "source": [
    "bm_factors = nmfdata.biomarkers\n",
    "oc_factors = nmfdata.outcomes"
   ]
  },
  {
   "cell_type": "code",
   "execution_count": 34,
   "metadata": {},
   "outputs": [],
   "source": [
    "cca = CCA(n_components=1)\n",
    "cca.fit(bm_factors, oc_factors)\n",
    "X_c, Y_c = cca.transform(bm_factors, oc_factors)"
   ]
  },
  {
   "cell_type": "code",
   "execution_count": 44,
   "metadata": {},
   "outputs": [
    {
     "data": {
      "text/plain": [
       "[<matplotlib.lines.Line2D at 0x118184a58>]"
      ]
     },
     "execution_count": 44,
     "metadata": {},
     "output_type": "execute_result"
    },
    {
     "data": {
      "image/png": "[encoded data removed]",
      "text/plain": [
       "<Figure size 432x432 with 1 Axes>"
      ]
     },
     "metadata": {},
     "output_type": "display_data"
    }
   ],
   "source": [
    "plt.figure(figsize=(6,6))\n",
    "plt.plot(cca.x_scores_, cca.y_scores_, '.', color='black')"
   ]
  },
  {
   "cell_type": "code",
   "execution_count": 37,
   "metadata": {},
   "outputs": [
    {
     "data": {
      "text/plain": [
       "array([[ 7.30158862e-01],\n",
       "       [ 9.77027756e-02],\n",
       "       [ 2.46296969e-01],\n",
       "       [ 1.15273450e+00],\n",
       "       [ 1.00809886e+00],\n",
       "       [ 7.75922432e-01],\n",
       "       [-3.08092502e-01],\n",
       "       [ 8.83340991e-01],\n",
       "       [-1.53910513e+00],\n",
       "       [ 1.27475435e+00],\n",
       "       [ 1.03011785e+00],\n",
       "       [-4.52911345e-01],\n",
       "       [ 8.43044590e-01],\n",
       "       [-2.52086902e-01],\n",
       "       [ 1.14244620e+00],\n",
       "       [-7.38234348e-01],\n",
       "       [ 7.91224277e-01],\n",
       "       [ 1.14473826e-01],\n",
       "       [-1.72941259e+00],\n",
       "       [-7.24188124e-01],\n",
       "       [-7.75711042e-01],\n",
       "       [-1.41506382e-01],\n",
       "       [-2.26652021e+00],\n",
       "       [-5.11596576e-01],\n",
       "       [-1.15518990e-01],\n",
       "       [-7.39264185e-02],\n",
       "       [-3.55589443e-01],\n",
       "       [-2.15817346e+00],\n",
       "       [-2.21236030e+00],\n",
       "       [-7.08781577e-01],\n",
       "       [-2.77531509e-01],\n",
       "       [-6.05508198e-01],\n",
       "       [-8.37577717e-01],\n",
       "       [-1.90877587e+00],\n",
       "       [-7.02327906e-01],\n",
       "       [-5.97798567e-01],\n",
       "       [-8.52098931e-01],\n",
       "       [-4.40200879e-01],\n",
       "       [ 1.93361270e-02],\n",
       "       [-2.40428594e-01],\n",
       "       [-2.37624318e-01],\n",
       "       [-1.92009203e+00],\n",
       "       [-2.09740460e+00],\n",
       "       [-6.20705308e-01],\n",
       "       [-4.99106073e-01],\n",
       "       [-1.75267161e+00],\n",
       "       [-1.12240252e-02],\n",
       "       [-2.18895590e+00],\n",
       "       [-1.54818282e+00],\n",
       "       [-8.05079047e-01],\n",
       "       [-6.30812323e-01],\n",
       "       [-1.89881107e+00],\n",
       "       [-9.48734286e-01],\n",
       "       [-5.06853538e-01],\n",
       "       [ 8.89911383e-02],\n",
       "       [-3.16419417e-01],\n",
       "       [-4.81162505e-01],\n",
       "       [-3.17849898e-01],\n",
       "       [-6.28566771e-01],\n",
       "       [-4.48180144e-01],\n",
       "       [-1.02929884e-01],\n",
       "       [-2.49184947e+00],\n",
       "       [-3.08522596e-01],\n",
       "       [-2.32027699e+00],\n",
       "       [-1.99903836e+00],\n",
       "       [-2.18341920e+00],\n",
       "       [-8.81719973e-01],\n",
       "       [-6.96023650e-01],\n",
       "       [-1.45627760e+00],\n",
       "       [-1.72681016e+00],\n",
       "       [-6.69221330e-01],\n",
       "       [-1.06273935e+00],\n",
       "       [-9.11488760e-01],\n",
       "       [-7.77575276e-01],\n",
       "       [-3.92176864e-01],\n",
       "       [-4.40491547e-01],\n",
       "       [-4.01951500e-01],\n",
       "       [-1.43891536e-01],\n",
       "       [-4.52759435e-01],\n",
       "       [ 1.34784186e-01],\n",
       "       [-4.79366760e-01],\n",
       "       [ 3.40517224e-01],\n",
       "       [ 1.76103456e-01],\n",
       "       [ 6.46844283e-01],\n",
       "       [-9.84095989e-02],\n",
       "       [ 4.02211767e-02],\n",
       "       [ 1.10224910e+00],\n",
       "       [ 2.44046574e-02],\n",
       "       [ 9.21861139e-01],\n",
       "       [ 1.54542643e-01],\n",
       "       [-7.41609591e-02],\n",
       "       [-5.40488287e-02],\n",
       "       [-2.17301767e-01],\n",
       "       [ 1.09820425e+00],\n",
       "       [-7.91079373e-02],\n",
       "       [ 5.91130005e-01],\n",
       "       [ 2.31009325e-01],\n",
       "       [ 3.23006961e-01],\n",
       "       [ 1.11217858e-01],\n",
       "       [ 8.19465514e-01],\n",
       "       [-3.21575723e-01],\n",
       "       [ 9.56230317e-01],\n",
       "       [ 7.48085881e-01],\n",
       "       [-5.02258166e-01],\n",
       "       [-1.74667347e-01],\n",
       "       [ 5.11251178e-02],\n",
       "       [ 1.31971626e+00],\n",
       "       [ 7.97718146e-01],\n",
       "       [ 1.03903149e+00],\n",
       "       [-2.87257077e-01],\n",
       "       [-5.59117661e-02],\n",
       "       [ 1.92900736e-01],\n",
       "       [-1.01534712e-02],\n",
       "       [ 6.08446019e-01],\n",
       "       [ 1.06291417e+00],\n",
       "       [-1.74168239e-01],\n",
       "       [ 6.28690404e-01],\n",
       "       [ 8.77549832e-01],\n",
       "       [ 1.15066305e+00],\n",
       "       [-7.48258889e-02],\n",
       "       [ 7.26752819e-01],\n",
       "       [-4.35231003e-01],\n",
       "       [ 2.80666654e-01],\n",
       "       [ 8.93969127e-01],\n",
       "       [ 2.41181993e-01],\n",
       "       [-5.91725934e-01],\n",
       "       [ 7.75748276e-01],\n",
       "       [ 1.14461630e+00],\n",
       "       [-4.56875680e-02],\n",
       "       [ 1.45818878e-01],\n",
       "       [ 2.01585225e-01],\n",
       "       [ 2.32378246e-01],\n",
       "       [ 6.37355189e-01],\n",
       "       [ 2.25339749e-01],\n",
       "       [ 1.38387156e+00],\n",
       "       [-5.04815279e-01],\n",
       "       [-1.10281011e+00],\n",
       "       [-7.17515588e-02],\n",
       "       [ 3.35380483e-02],\n",
       "       [ 1.86107839e-02],\n",
       "       [ 7.63178143e-01],\n",
       "       [-1.45947363e+00],\n",
       "       [ 9.07919928e-01],\n",
       "       [-3.02799963e-01],\n",
       "       [ 2.17590441e-02],\n",
       "       [-1.48008819e-01],\n",
       "       [ 1.85329091e-01],\n",
       "       [ 1.58650115e-01],\n",
       "       [ 8.16783414e-01],\n",
       "       [-1.33875648e+00],\n",
       "       [-1.09970683e+00],\n",
       "       [ 2.49630481e-01],\n",
       "       [-8.24688129e-01],\n",
       "       [ 8.65162278e-01],\n",
       "       [ 9.03284916e-01],\n",
       "       [ 7.86110407e-01],\n",
       "       [-1.41941412e-01],\n",
       "       [ 4.09465923e-01],\n",
       "       [ 1.23868860e+00],\n",
       "       [-3.12785513e-02],\n",
       "       [ 8.28234141e-01],\n",
       "       [-1.16833858e+00],\n",
       "       [ 9.39718019e-01],\n",
       "       [ 1.25812919e-01],\n",
       "       [ 2.91715806e-01],\n",
       "       [ 2.52045120e-01],\n",
       "       [ 1.06037247e+00],\n",
       "       [ 2.03978053e-01],\n",
       "       [-3.04746336e-02],\n",
       "       [-5.56273730e-01],\n",
       "       [ 1.17752163e+00],\n",
       "       [ 9.38554961e-02],\n",
       "       [ 1.02385873e+00],\n",
       "       [ 8.28326265e-01],\n",
       "       [ 1.06672306e+00],\n",
       "       [ 1.57521120e-01],\n",
       "       [-1.88207658e-02],\n",
       "       [ 2.24210733e-01],\n",
       "       [ 9.90186809e-01],\n",
       "       [ 1.37856928e+00],\n",
       "       [-1.77365324e+00],\n",
       "       [ 1.08155520e+00],\n",
       "       [ 7.86799283e-02],\n",
       "       [-5.23880853e-01],\n",
       "       [ 8.97338550e-01],\n",
       "       [ 1.22864828e+00],\n",
       "       [-1.44420730e+00],\n",
       "       [ 1.17721787e+00],\n",
       "       [ 8.83700559e-01],\n",
       "       [ 7.69245973e-01],\n",
       "       [ 2.01130339e-01],\n",
       "       [ 1.13383638e+00],\n",
       "       [ 2.45527382e-01],\n",
       "       [-2.87315396e-01],\n",
       "       [-1.14736597e+00],\n",
       "       [ 1.23080547e+00],\n",
       "       [-5.58371256e-01],\n",
       "       [-7.54065263e-01],\n",
       "       [-7.97111983e-01],\n",
       "       [ 7.08942580e-01],\n",
       "       [-7.27731968e-01],\n",
       "       [ 1.10107346e+00],\n",
       "       [ 6.56781927e-01],\n",
       "       [ 6.52169838e-01],\n",
       "       [ 2.66826928e-01],\n",
       "       [ 1.09602242e+00],\n",
       "       [ 8.40922347e-01],\n",
       "       [-3.48443360e-01],\n",
       "       [ 7.60133447e-01],\n",
       "       [ 6.70204242e-01],\n",
       "       [-3.83274928e-01],\n",
       "       [ 5.06602973e-01],\n",
       "       [-1.03313585e+00],\n",
       "       [ 1.30224220e+00],\n",
       "       [ 1.47281533e+00],\n",
       "       [ 6.31923141e-01],\n",
       "       [ 9.07457201e-01],\n",
       "       [ 1.16059071e+00],\n",
       "       [ 1.82384894e-01],\n",
       "       [-5.38517545e-01],\n",
       "       [-9.16839946e-03],\n",
       "       [ 3.50883681e-03],\n",
       "       [ 1.22147511e+00],\n",
       "       [ 1.94306802e-01],\n",
       "       [-7.57926581e-02],\n",
       "       [ 9.78592651e-02],\n",
       "       [ 1.17622086e-01],\n",
       "       [ 7.37948156e-01],\n",
       "       [ 8.66922466e-01],\n",
       "       [-1.34024650e+00],\n",
       "       [-1.41775827e+00],\n",
       "       [ 8.46924526e-01],\n",
       "       [ 1.01639149e+00],\n",
       "       [ 1.17323762e+00],\n",
       "       [ 1.09443441e+00],\n",
       "       [ 1.42174908e+00],\n",
       "       [ 1.03273352e+00],\n",
       "       [-7.02301003e-01],\n",
       "       [-2.10381785e-01],\n",
       "       [ 5.09737815e-04],\n",
       "       [ 7.56690469e-01],\n",
       "       [ 8.53415944e-01],\n",
       "       [ 9.49608850e-02],\n",
       "       [ 1.06536302e+00],\n",
       "       [ 2.20995693e-01],\n",
       "       [ 1.41335804e-01],\n",
       "       [-6.88403590e-01]])"
      ]
     },
     "execution_count": 37,
     "metadata": {},
     "output_type": "execute_result"
    }
   ],
   "source": [
    "X_c"
   ]
  },
  {
   "cell_type": "code",
   "execution_count": 6,
   "metadata": {},
   "outputs": [
    {
     "data": {
      "text/plain": [
       "0.09676005691361689"
      ]
     },
     "execution_count": 6,
     "metadata": {},
     "output_type": "execute_result"
    }
   ],
   "source": [
    "# R2\n",
    "r2 = r2_score(X_c, Y_c)a\n",
    "r2\n"
   ]
  },
  {
   "cell_type": "code",
   "execution_count": 7,
   "metadata": {},
   "outputs": [
    {
     "data": {
      "text/plain": [
       "(247,)"
      ]
     },
     "execution_count": 7,
     "metadata": {},
     "output_type": "execute_result"
    }
   ],
   "source": [
    "X_c = np.squeeze(X_c)\n",
    "Y_c = np.squeeze(Y_c)\n",
    "X_c.shape"
   ]
  },
  {
   "cell_type": "code",
   "execution_count": 8,
   "metadata": {},
   "outputs": [],
   "source": [
    "slope, intercept = np.polyfit(X_c, Y_c, 1)\n",
    "abline_values = [slope * i + intercept for i in X_c]\n"
   ]
  },
  {
   "cell_type": "code",
   "execution_count": 9,
   "metadata": {},
   "outputs": [
    {
     "data": {
      "image/png": "[encoded data removed]",
      "text/plain": [
       "<Figure size 432x432 with 1 Axes>"
      ]
     },
     "metadata": {},
     "output_type": "display_data"
    }
   ],
   "source": [
    "plt.figure(figsize=(6,6))\n",
    "plt.xlabel('Biomarkers')\n",
    "plt.ylabel('Outcomes')\n",
    "plt.title('Canonical Correlation Analysis\\nr2 = 0.09676')\n",
    "plt.plot(X_c, Y_c, '.', color='black')\n",
    "plt.plot(X_c, abline_values, color='red')\n",
    "plt.savefig('/Users/ahyeon/Desktop/activ misc/cca.pdf')"
   ]
  },
  {
   "cell_type": "code",
   "execution_count": 42,
   "metadata": {},
   "outputs": [],
   "source": [
    "data = load_data(uoinmf=False)\n",
    "data_oc = data.outcomes\n",
    "data_bm = data.biomarkers"
   ]
  },
  {
   "cell_type": "code",
   "execution_count": 48,
   "metadata": {},
   "outputs": [
    {
     "name": "stderr",
     "output_type": "stream",
     "text": [
      "/Users/ahyeon/anaconda3/envs/activ/lib/python3.6/site-packages/ipykernel_launcher.py:3: DataConversionWarning: A column-vector y was passed when a 1d array was expected. Please change the shape of y to (n_samples,), for example using ravel().\n",
      "  This is separate from the ipykernel package so we can avoid doing imports until\n"
     ]
    },
    {
     "data": {
      "text/plain": [
       "0.08739698510342375"
      ]
     },
     "execution_count": 48,
     "metadata": {},
     "output_type": "execute_result"
    }
   ],
   "source": [
    "rf = RandomForestRegressor(n_estimators=100)\n",
    "X_train, X_test, y_train, y_test = train_test_split(cca.x_scores_, cca.y_scores_, test_size=0.2)\n",
    "rf.fit(X_train, y_train)\n",
    "y_pred=rf.predict(X_test)\n",
    "\n",
    "r2 = r2_score(y_test, y_pred)\n",
    "r2"
   ]
  },
  {
   "cell_type": "code",
   "execution_count": null,
   "metadata": {},
   "outputs": [],
   "source": []
  },
  {
   "cell_type": "code",
   "execution_count": null,
   "metadata": {},
   "outputs": [],
   "source": []
  }
 ],
 "metadata": {
  "kernelspec": {
   "display_name": "Python 3",
   "language": "python",
   "name": "python3"
  },
  "language_info": {
   "codemirror_mode": {
    "name": "ipython",
    "version": 3
   },
   "file_extension": ".py",
   "mimetype": "text/x-python",
   "name": "python",
   "nbconvert_exporter": "python",
   "pygments_lexer": "ipython3",
   "version": "3.6.2"
  }
 },
 "nbformat": 4,
 "nbformat_minor": 2
}

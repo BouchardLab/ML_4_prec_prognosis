{
 "cells": [
  {
   "cell_type": "code",
   "execution_count": 2,
   "metadata": {},
   "outputs": [],
   "source": [
    "import h5py\n",
    "from scipy.spatial.distance import pdist,cdist, squareform\n",
    "import matplotlib.pyplot as plt\n",
    "import numpy as np\n",
    "from activ.analytics import heatmap"
   ]
  },
  {
   "cell_type": "code",
   "execution_count": 3,
   "metadata": {},
   "outputs": [],
   "source": [
    "file = '/Users/ahyeon/Desktop/activ misc/sweep_u2-10_c2-50_i50_raw-oc-cluster_uoinmf-bm-predict/umap_clustering_sweep.h5'"
   ]
  },
  {
   "cell_type": "code",
   "execution_count": 4,
   "metadata": {},
   "outputs": [],
   "source": [
    "f = h5py.File(file, 'r')"
   ]
  },
  {
   "cell_type": "code",
   "execution_count": 5,
   "metadata": {},
   "outputs": [],
   "source": [
    "umap_dims = f['umap_dimensions'][:]\n",
    "score = f['score'][:]\n",
    "norm_score = f['norm_score'][:]\n",
    "clusters = f['clusters'][:]\n",
    "cluster_sizes = f['cluster_sizes'][:]\n",
    "emb = f['umap_embeddings'][:]\n",
    "scale = f['umap_embeddings_dimscale'][:][:54]"
   ]
  },
  {
   "cell_type": "code",
   "execution_count": 6,
   "metadata": {},
   "outputs": [
    {
     "data": {
      "text/plain": [
       "array([ 2,  3,  4,  5,  6,  7,  8,  9, 10])"
      ]
     },
     "execution_count": 6,
     "metadata": {},
     "output_type": "execute_result"
    }
   ],
   "source": [
    "umap_dims"
   ]
  },
  {
   "cell_type": "code",
   "execution_count": 54,
   "metadata": {},
   "outputs": [
    {
     "data": {
      "text/plain": [
       "30381.0"
      ]
     },
     "execution_count": 54,
     "metadata": {},
     "output_type": "execute_result"
    }
   ],
   "source": [
    "(247*246)/2"
   ]
  },
  {
   "cell_type": "code",
   "execution_count": 9,
   "metadata": {},
   "outputs": [],
   "source": [
    "heatmap?"
   ]
  },
  {
   "cell_type": "code",
   "execution_count": 10,
   "metadata": {},
   "outputs": [
    {
     "name": "stdout",
     "output_type": "stream",
     "text": [
      "[ 654.76481062  620.0186653   618.04470348  614.70352208  612.7788306\n",
      "  611.20777475  618.7235553   613.50644185  613.25774845]\n",
      "[ 100627.1615271    95830.66167772   95511.9829922    95005.55692705\n",
      "   94815.09009046   94624.62691138   95632.85021963   94964.0068931\n",
      "   94918.76230566]\n"
     ]
    },
    {
     "data": {
      "image/png": "[encoded data removed]",
      "text/plain": [
       "<Figure size 432x288 with 2 Axes>"
      ]
     },
     "metadata": {},
     "output_type": "display_data"
    }
   ],
   "source": [
    "all_means = np.ones((9, 30381))\n",
    "for ii,dim in enumerate(umap_dims):\n",
    "    all_dmat = np.zeros((emb.shape[0], 30381))\n",
    "    for x in range(emb.shape[0]):\n",
    "        dmat = pdist(emb[x][:,scale==dim], metric='euclidean')\n",
    "        all_dmat[x,:] = dmat\n",
    "    mean_dmat = all_dmat.mean(axis=0)\n",
    "    all_means[ii,:] = mean_dmat.reshape(1,30381)\n",
    "    \n",
    "\n",
    "heatmap(squareform(pdist(all_means, metric='sqeuclidean')), row_labels=umap_dims, col_labels=umap_dims,\n",
    "        cmap='gray_r', title='UMAP Dimensions Distance Matrix', xlab='', ylab='')\n",
    "\n",
    "print(np.linalg.norm(all_means, axis=1))\n",
    "print(np.sum(all_means, axis=1))\n",
    "  \n",
    "plt.savefig('/Users/ahyeon/Desktop/activ misc/umap_pdist.pdf')"
   ]
  },
  {
   "cell_type": "code",
   "execution_count": null,
   "metadata": {},
   "outputs": [],
   "source": []
  }
 ],
 "metadata": {
  "kernelspec": {
   "display_name": "Python 3",
   "language": "python",
   "name": "python3"
  }
 },
 "nbformat": 4,
 "nbformat_minor": 2
}

{
 "cells": [
  {
   "cell_type": "code",
   "execution_count": 1,
   "metadata": {},
   "outputs": [],
   "source": [
    "import numpy as np\n",
    "from sklearn.metrics import mean_squared_error, r2_score\n",
    "from activ.pipeline import score_clusters\n",
    "import matplotlib.pyplot as plt\n",
    "import scipy\n",
    "from matplotlib.backends.backend_pdf import PdfPages\n",
    "import h5py\n",
    "from scipy.stats import entropy\n",
    "from scipy.spatial.distance import pdist, squareform\n",
    "import scipy.cluster.hierarchy as _sch\n",
    "from collections import Counter\n",
    "from activ import load_data\n",
    "from sklearn.decomposition import PCA"
   ]
  },
  {
   "cell_type": "code",
   "execution_count": 2,
   "metadata": {},
   "outputs": [],
   "source": [
    "data = load_data()\n",
    "nmfdata = load_data(uoinmf=True)"
   ]
  },
  {
   "cell_type": "code",
   "execution_count": 3,
   "metadata": {},
   "outputs": [],
   "source": [
    "data_oc = data.outcomes\n",
    "data_bm = data.biomarkers\n",
    "nmf_oc = nmfdata.outcome_bases\n",
    "oc_features = data.outcome_features"
   ]
  },
  {
   "cell_type": "code",
   "execution_count": 32,
   "metadata": {},
   "outputs": [],
   "source": [
    "pca = PCA(n_components=6)\n",
    "pca.fit(data_oc)\n",
    "pca_oc = pca.components_\n",
    "pca_abs = np.abs(pca_oc)"
   ]
  },
  {
   "cell_type": "code",
   "execution_count": 33,
   "metadata": {},
   "outputs": [],
   "source": [
    "def rank_features(data):\n",
    "    values = sorted(data.sum(axis=0))[::-1]\n",
    "    return values"
   ]
  },
  {
   "cell_type": "code",
   "execution_count": 34,
   "metadata": {},
   "outputs": [
    {
     "data": {
      "text/plain": [
       "(177, 177)"
      ]
     },
     "execution_count": 34,
     "metadata": {},
     "output_type": "execute_result"
    }
   ],
   "source": [
    "pca_values = rank_features(pca_abs)\n",
    "nmf_values = rank_features(nmf_oc)\n",
    "len(pca_values), len(nmf_values)"
   ]
  },
  {
   "cell_type": "code",
   "execution_count": 39,
   "metadata": {},
   "outputs": [
    {
     "data": {
      "text/plain": [
       "([<matplotlib.axis.YTick at 0x11c453160>,\n",
       "  <matplotlib.axis.YTick at 0x11c44da58>,\n",
       "  <matplotlib.axis.YTick at 0x11c447a90>,\n",
       "  <matplotlib.axis.YTick at 0x11c682be0>,\n",
       "  <matplotlib.axis.YTick at 0x11c68a198>,\n",
       "  <matplotlib.axis.YTick at 0x11c68a668>,\n",
       "  <matplotlib.axis.YTick at 0x11c68ab70>,\n",
       "  <matplotlib.axis.YTick at 0x11c693128>,\n",
       "  <matplotlib.axis.YTick at 0x11c6935c0>,\n",
       "  <matplotlib.axis.YTick at 0x11c693ac8>,\n",
       "  <matplotlib.axis.YTick at 0x11c693cf8>],\n",
       " <a list of 11 Text yticklabel objects>)"
      ]
     },
     "execution_count": 39,
     "metadata": {},
     "output_type": "execute_result"
    },
    {
     "data": {
      "image/png": "[encoded data removed]",
      "text/plain": [
       "<Figure size 720x720 with 1 Axes>"
      ]
     },
     "metadata": {},
     "output_type": "display_data"
    }
   ],
   "source": [
    "plt.figure(figsize=(10,10))\n",
    "plt.plot(nmf_values, pca_values, '.')\n",
    "plt.xlabel('NMF Leverage Score')\n",
    "plt.ylabel('PCA Leverage Score')\n",
    "plt.xticks(np.arange(0, 2.2, step=0.2))\n",
    "plt.yticks(np.arange(0, 2.2, step=0.2))"
   ]
  },
  {
   "cell_type": "code",
   "execution_count": null,
   "metadata": {},
   "outputs": [],
   "source": []
  }
 ],
 "metadata": {
  "kernelspec": {
   "display_name": "Python 3",
   "language": "python",
   "name": "python3"
  },
  "language_info": {
   "codemirror_mode": {
    "name": "ipython",
    "version": 3
   },
   "file_extension": ".py",
   "mimetype": "text/x-python",
   "name": "python",
   "nbconvert_exporter": "python",
   "pygments_lexer": "ipython3",
   "version": "3.6.2"
  }
 },
 "nbformat": 4,
 "nbformat_minor": 2
}

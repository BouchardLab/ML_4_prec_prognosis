{
 "cells": [
  {
   "cell_type": "code",
   "execution_count": 1,
   "metadata": {},
   "outputs": [],
   "source": [
    "import numpy as np\n",
    "import matplotlib.pyplot as plt\n",
    "import scipy\n",
    "from matplotlib.backends.backend_pdf import PdfPages\n",
    "import h5py\n",
    "from scipy.stats import entropy\n",
    "import scipy.cluster.hierarchy as _sch\n",
    "from activ import load_data\n",
    "from sklearn.decomposition import PCA"
   ]
  },
  {
   "cell_type": "code",
   "execution_count": 2,
   "metadata": {},
   "outputs": [],
   "source": [
    "data = load_data()\n",
    "nmfdata = load_data(uoinmf=True)"
   ]
  },
  {
   "cell_type": "code",
   "execution_count": 3,
   "metadata": {},
   "outputs": [],
   "source": [
    "data_oc = data.outcomes\n",
    "data_bm = data.biomarkers\n",
    "nmf_oc = nmfdata.outcome_bases\n",
    "oc_features = data.outcome_features"
   ]
  },
  {
   "cell_type": "code",
   "execution_count": 4,
   "metadata": {},
   "outputs": [],
   "source": [
    "pca = PCA(n_components=6)\n",
    "pca.fit(data_oc)\n",
    "pca_oc = pca.components_\n",
    "pca_abs = np.abs(pca_oc)"
   ]
  },
  {
   "cell_type": "code",
   "execution_count": 5,
   "metadata": {},
   "outputs": [],
   "source": [
    "def rank_features(data):\n",
    "    values = sorted(data.sum(axis=0))[::-1]\n",
    "    return values"
   ]
  },
  {
   "cell_type": "code",
   "execution_count": 6,
   "metadata": {},
   "outputs": [
    {
     "data": {
      "text/plain": [
       "(177, 177)"
      ]
     },
     "execution_count": 6,
     "metadata": {},
     "output_type": "execute_result"
    }
   ],
   "source": [
    "pca_values = rank_features(pca_abs)\n",
    "nmf_values = rank_features(nmf_oc)\n",
    "len(pca_values), len(nmf_values)"
   ]
  },
  {
   "cell_type": "code",
   "execution_count": 11,
   "metadata": {},
   "outputs": [
    {
     "data": {
      "image/png": "[encoded data removed]",
      "text/plain": [
       "<Figure size 720x720 with 1 Axes>"
      ]
     },
     "metadata": {},
     "output_type": "display_data"
    }
   ],
   "source": [
    "plt.figure(figsize=(10,10))\n",
    "plt.plot(np.linalg.norm(pca_values), np.linalg.norm(nmf_values),'.')\n",
    "plt.xlabel('PCA Leverage Score')\n",
    "plt.ylabel('NMF Leverage Score')\n",
    "# plt.xticks(np.arange(-6, 2, step=1))\n",
    "# plt.yticks(np.arange(-6, 2, step=1))\n",
    "plt.title('Leverage Score Comparison')\n",
    "plt.savefig('/Users/ahyeon/Desktop/activ misc/ls_comparison.pdf')"
   ]
  },
  {
   "cell_type": "code",
   "execution_count": null,
   "metadata": {},
   "outputs": [],
   "source": []
  }
 ],
 "metadata": {
  "kernelspec": {
   "display_name": "Python 3",
   "language": "python",
   "name": "python3"
  },
  "language_info": {
   "codemirror_mode": {
    "name": "ipython",
    "version": 3
   },
   "file_extension": ".py",
   "mimetype": "text/x-python",
   "name": "python",
   "nbconvert_exporter": "python",
   "pygments_lexer": "ipython3",
   "version": "3.6.2"
  }
 },
 "nbformat": 4,
 "nbformat_minor": 2
}

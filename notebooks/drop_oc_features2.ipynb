{
 "cells": [
  {
   "cell_type": "code",
   "execution_count": 4,
   "metadata": {},
   "outputs": [],
   "source": [
    "from activ import load_data, data_normalization\n",
    "import os\n",
    "from activ.readfile import TrackTBIFile\n",
    "%matplotlib inline\n",
    "import matplotlib.pyplot as plt\n",
    "import h5py\n",
    "import numpy as np\n",
    "from activ.analytics import heatmap, nmf_bases_heatmap\n",
    "from activ.clustering import UmapClusteringResults\n",
    "from os.path import dirname, join\n",
    "from matplotlib.backends.backend_pdf import PdfPages\n",
    "from IPython.display import display, Latex, Markdown\n",
    "from pylatex import Document, Section, Subsection, Command\n",
    "from pylatex import Document, Section, Figure, SubFigure, NoEscape\n",
    "from pylatex.utils import italic, NoEscape\n",
    "from scipy.stats import norm, sem"
   ]
  },
  {
   "cell_type": "code",
   "execution_count": 5,
   "metadata": {},
   "outputs": [
    {
     "data": {
      "text/plain": [
       "(6, 177)"
      ]
     },
     "execution_count": 5,
     "metadata": {},
     "output_type": "execute_result"
    }
   ],
   "source": [
    "raw = load_data()\n",
    "labels = raw.outcome_features\n",
    "nmfdata = load_data(uoinmf=True)\n",
    "rawbm = raw.biomarkers #(247,235)\n",
    "feature_names = raw.outcome_features\n",
    "A = data_normalization.data_normalization(raw.outcomes, 'positive') #(247,177)\n",
    "w = nmfdata.outcomes #(247,6)\n",
    "h = nmfdata.outcome_bases #(6,177)\n",
    "h.shape"
   ]
  },
  {
   "cell_type": "code",
   "execution_count": 10,
   "metadata": {},
   "outputs": [],
   "source": [
    "def drop_x_percent(A,w,h,feature_names,percent):\n",
    "    total_features = h.shape[1]\n",
    "    num_features_to_drop = np.round(total_features*percent//100)\n",
    "    h_sum = np.sum(h, axis=0)\n",
    "    h_sum_sorted = np.argsort(h_sum)\n",
    "    print(h_sum_sorted)\n",
    "    print(h_sum[29], h_sum[104])\n",
    "    indices_lowest_values = h_sum_sorted[:num_features_to_drop]\n",
    "    dropped_features = sorted(feature_names[indices_lowest_values])\n",
    "    h_new = np.delete(h, indices_lowest_values, axis=1)\n",
    "    A_new = np.delete(A, indices_lowest_values, axis=1)    \n",
    "    return A_new, h_new, dropped_features"
   ]
  },
  {
   "cell_type": "code",
   "execution_count": 11,
   "metadata": {},
   "outputs": [
    {
     "name": "stdout",
     "output_type": "stream",
     "text": [
      "[104  25 105 101  95 106  26  30 114 103  35 166   0  79  97 171 169  63\n",
      "  31 102 145 120 123  34 172 144 156 167 143 121 125 155 149 146 154 136\n",
      " 163 147 129 170 157 148 151 130  15 141 142 168 159 116  44 165 113 137\n",
      " 127 119 117 158 161 135 118 115 140  93 162  91  11 150  10  80  77 139\n",
      " 153  41 164 176 160  64 134 128 124  75 152  90 133 175 138 122  61  78\n",
      "   2  74  28  92  55  22  54  62 132 126  88  12  84 111  33  87  59  40\n",
      "   1  13  21  32  23  57   4  76   5 174 100   7  72  14  94  19   6  68\n",
      "  86  71  58  16  17  60  18  82  85   9  83   8  99  67  56  46  89  70\n",
      "  42  37  66  69 107  47  73  98 173  48  20 131  81 109  65  53  96 110\n",
      " 112  36  39  27  52  49  38 108   3  51  24  43  50  45  29]\n",
      "0.659715838734 0.0103011443848\n"
     ]
    }
   ],
   "source": [
    "percent = [0,10,20,30,40,50,60,70,80,90]\n",
    "for p in [percent[9]]:\n",
    "    A_features_dropped,h_new, dropped_features = drop_x_percent(A,w,h,feature_names,p)\n"
   ]
  },
  {
   "cell_type": "code",
   "execution_count": 8,
   "metadata": {},
   "outputs": [
    {
     "name": "stdout",
     "output_type": "stream",
     "text": [
      "[104  25 105 101  95 106  26  30 114 103  35 166   0  79  97 171 169  63\n",
      "  31 102 145 120 123  34 172 144 156 167 143 121 125 155 149 146 154 136\n",
      " 163 147 129 170 157 148 151 130  15 141 142 168 159 116  44 165 113 137\n",
      " 127 119 117 158 161 135 118 115 140  93 162  91  11 150  10  80  77 139\n",
      " 153  41 164 176 160  64 134 128 124  75 152  90 133 175 138 122  61  78\n",
      "   2  74  28  92  55  22  54  62 132 126  88  12  84 111  33  87  59  40\n",
      "   1  13  21  32  23  57   4  76   5 174 100   7  72  14  94  19   6  68\n",
      "  86  71  58  16  17  60  18  82  85   9  83   8  99  67  56  46  89  70\n",
      "  42  37  66  69 107  47  73  98 173  48  20 131  81 109  65  53  96 110\n",
      " 112  36  39  27  52  49  38 108   3  51  24  43  50  45  29]\n"
     ]
    }
   ],
   "source": [
    "percent = [0,10,20,30,40,50,60,70,80,90]\n",
    "for p in [percent[0]]:\n",
    "    A_features_dropped,h_new, dropped_features = drop_x_percent(A,w,h,feature_names,p)\n",
    "    fname = '/Users/ahyeon/data/activ/oc_features_dropped/oc_data_features_dropped_{}.h5'.format(p)\n",
    "    TrackTBIFile.write(fname, rawbm, A_features_dropped)"
   ]
  },
  {
   "cell_type": "code",
   "execution_count": null,
   "metadata": {},
   "outputs": [],
   "source": []
  }
 ],
 "metadata": {
  "kernelspec": {
   "display_name": "Python 3",
   "language": "python",
   "name": "python3"
  },
  "language_info": {
   "codemirror_mode": {
    "name": "ipython",
    "version": 3
   },
   "file_extension": ".py",
   "mimetype": "text/x-python",
   "name": "python",
   "nbconvert_exporter": "python",
   "pygments_lexer": "ipython3",
   "version": "3.6.2"
  }
 },
 "nbformat": 4,
 "nbformat_minor": 2
}

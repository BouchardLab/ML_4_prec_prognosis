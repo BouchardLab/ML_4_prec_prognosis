{
 "cells": [
  {
   "cell_type": "code",
   "execution_count": 1,
   "metadata": {},
   "outputs": [],
   "source": [
    "import matplotlib.pyplot as plt\n",
    "import numpy as np\n",
    "import h5py"
   ]
  },
  {
   "cell_type": "code",
   "execution_count": 2,
   "metadata": {},
   "outputs": [],
   "source": [
    "f = h5py.File('/Users/ahyeon/Desktop/activ misc/optimize_k_mat.h5', 'r')\n",
    "f2 = h5py.File('/Users/ahyeon/Desktop/activ/results/optimize_k_mat_0.2_20.h5')\n",
    "bm_f = h5py.File('/Users/ahyeon/Desktop/activ/notebooks/optimize_k_mat_bm_prac.h5')"
   ]
  },
  {
   "cell_type": "code",
   "execution_count": 3,
   "metadata": {},
   "outputs": [
    {
     "data": {
      "text/plain": [
       "['eps', 'error', 'k', 'minsamples']"
      ]
     },
     "execution_count": 3,
     "metadata": {},
     "output_type": "execute_result"
    }
   ],
   "source": [
    "list(bm_f.keys())"
   ]
  },
  {
   "cell_type": "code",
   "execution_count": 14,
   "metadata": {},
   "outputs": [],
   "source": [
    "error = bm_f['error'][:]\n",
    "eps = bm_f['eps'][:]\n",
    "minsamples = bm_f['minsamples'][:]\n",
    "k = bm_f['k'][:]"
   ]
  },
  {
   "cell_type": "code",
   "execution_count": 10,
   "metadata": {},
   "outputs": [
    {
     "data": {
      "text/plain": [
       "(7, 12, 10)"
      ]
     },
     "execution_count": 10,
     "metadata": {},
     "output_type": "execute_result"
    }
   ],
   "source": [
    "k.shape"
   ]
  },
  {
   "cell_type": "code",
   "execution_count": 15,
   "metadata": {},
   "outputs": [],
   "source": [
    "k = np.median(k, axis=2)"
   ]
  },
  {
   "cell_type": "code",
   "execution_count": 19,
   "metadata": {},
   "outputs": [
    {
     "data": {
      "text/plain": [
       "array([[1. , 1. , 1. , 1. , 1. , 1. , 1. , 1. , 1. , 1. , 1. , 1. ],\n",
       "       [2. , 2. , 2. , 2. , 2. , 2. , 2. , 2. , 2. , 2. , 1. , 1. ],\n",
       "       [5.5, 5. , 3. , 3. , 2.5, 2. , 2. , 2. , 2. , 2. , 2. , 2. ],\n",
       "       [7. , 6. , 6. , 5. , 4.5, 5. , 4.5, 3. , 3.5, 3. , 2.5, 2. ],\n",
       "       [8.5, 6. , 5. , 6. , 4.5, 5. , 4.5, 5. , 4.5, 4. , 4. , 4. ],\n",
       "       [5.5, 4.5, 4.5, 4. , 4. , 4. , 4. , 3.5, 3. , 3.5, 3.5, 4. ],\n",
       "       [2.5, 3. , 2.5, 2. , 2. , 2. , 2. , 2. , 2. , 2. , 2. , 2. ]])"
      ]
     },
     "execution_count": 19,
     "metadata": {},
     "output_type": "execute_result"
    }
   ],
   "source": [
    "k"
   ]
  },
  {
   "cell_type": "code",
   "execution_count": 21,
   "metadata": {},
   "outputs": [
    {
     "data": {
      "text/plain": [
       "(<matplotlib.image.AxesImage at 0x113c58438>,\n",
       " <matplotlib.colorbar.Colorbar at 0x113c7fe10>)"
      ]
     },
     "execution_count": 21,
     "metadata": {},
     "output_type": "execute_result"
    },
    {
     "data": {
      "image/png": "[encoded data removed]",
      "text/plain": [
       "<Figure size 432x288 with 2 Axes>"
      ]
     },
     "metadata": {},
     "output_type": "display_data"
    }
   ],
   "source": [
    "from activ.analytics import heatmap\n",
    "#plt.matshow(k, cmap='gray_r')\n",
    "heatmap(k, eps, minsamples)"
   ]
  },
  {
   "cell_type": "code",
   "execution_count": 58,
   "metadata": {},
   "outputs": [
    {
     "data": {
      "text/plain": [
       "(7, 12, 10)"
      ]
     },
     "execution_count": 58,
     "metadata": {},
     "output_type": "execute_result"
    }
   ],
   "source": [
    "k_mat = bm_f['k'][:]\n",
    "k_mat.shape"
   ]
  },
  {
   "cell_type": "code",
   "execution_count": 59,
   "metadata": {},
   "outputs": [
    {
     "data": {
      "text/plain": [
       "16.953544369485474"
      ]
     },
     "execution_count": 59,
     "metadata": {},
     "output_type": "execute_result"
    }
   ],
   "source": [
    "error_mat = error.mean(axis=2)\n",
    "np.min(error_mat)\n",
    "# np.max(error_mat)"
   ]
  },
  {
   "cell_type": "code",
   "execution_count": 60,
   "metadata": {},
   "outputs": [
    {
     "data": {
      "text/plain": [
       "array([ 1,  0,  1,  0,  7, 11, 10])"
      ]
     },
     "execution_count": 60,
     "metadata": {},
     "output_type": "execute_result"
    }
   ],
   "source": [
    "np.argmin(error_mat, axis=1)"
   ]
  },
  {
   "cell_type": "code",
   "execution_count": 63,
   "metadata": {},
   "outputs": [
    {
     "data": {
      "text/plain": [
       "<matplotlib.image.AxesImage at 0x10efb22b0>"
      ]
     },
     "execution_count": 63,
     "metadata": {},
     "output_type": "execute_result"
    },
    {
     "data": {
      "image/png": "[encoded data removed]",
      "text/plain": [
       "<Figure size 493.714x288 with 1 Axes>"
      ]
     },
     "metadata": {},
     "output_type": "display_data"
    }
   ],
   "source": [
    "plt.matshow(error_mat, cmap='gray_r')"
   ]
  },
  {
   "cell_type": "code",
   "execution_count": 62,
   "metadata": {},
   "outputs": [
    {
     "data": {
      "image/png": "[encoded data removed]",
      "text/plain": [
       "<Figure size 432x288 with 1 Axes>"
      ]
     },
     "metadata": {},
     "output_type": "display_data"
    }
   ],
   "source": [
    "fig = plt.figure()\n",
    "ax = fig.add_subplot(111)\n",
    "cax = ax.matshow(error_mat, cmap='gray_r')\n",
    "\n",
    "\n",
    "ax.set_xticks(np.arange(0,12))\n",
    "ax.set_xticklabels(xticks2)\n",
    "ax.set_yticks(np.arange(0,7))\n",
    "ax.set_yticklabels(yticks2)\n",
    "ax.set_xlabel('Number of Samples')\n",
    "ax.set_ylabel('eps')\n",
    "ax.xaxis.set_ticks_position('bottom')\n",
    "ax.set_title('DBSCAN parameters to optimize k')\n",
    "plt.savefig('/Users/ahyeon/Desktop/activ misc/dbscan_param_to_optimize_k_bm.pdf')\n",
    "plt.show()\n"
   ]
  },
  {
   "cell_type": "code",
   "execution_count": 35,
   "metadata": {},
   "outputs": [
    {
     "data": {
      "text/plain": [
       "[0.2, 0.3, 0.4, 0.5, 0.6, 0.7, 0.8]"
      ]
     },
     "execution_count": 35,
     "metadata": {},
     "output_type": "execute_result"
    }
   ],
   "source": [
    "xticks2 = list(map(str, np.arange(20,80,5)))\n",
    "yticks2 = [0.2, 0.3, 0.4, 0.5, 0.6, 0.7, 0.8]\n",
    "yticks2"
   ]
  },
  {
   "cell_type": "code",
   "execution_count": 29,
   "metadata": {},
   "outputs": [
    {
     "data": {
      "text/plain": [
       "['0.1',\n",
       " '0.2',\n",
       " '0.30000000000000004',\n",
       " '0.4',\n",
       " '0.5',\n",
       " '0.6',\n",
       " '0.7000000000000001',\n",
       " '0.8',\n",
       " '0.9',\n",
       " '1.0']"
      ]
     },
     "execution_count": 29,
     "metadata": {},
     "output_type": "execute_result"
    }
   ],
   "source": [
    "xticks = list(map(str, np.arange(5,55,5)))\n",
    "yticks = list(map(str, np.arange(0.1,1.1,0.1)))\n",
    "yticks"
   ]
  },
  {
   "cell_type": "code",
   "execution_count": 97,
   "metadata": {},
   "outputs": [
    {
     "data": {
      "image/png": "[encoded data removed]",
      "text/plain": [
       "<Figure size 432x288 with 1 Axes>"
      ]
     },
     "metadata": {},
     "output_type": "display_data"
    }
   ],
   "source": [
    "fig = plt.figure()\n",
    "ax = fig.add_subplot(111)\n",
    "cax = ax.matshow(error_mat, cmap='gray_r')\n",
    "\n",
    "ax.set_xticks(np.arange(0,10))\n",
    "ax.set_xticklabels(xticks)\n",
    "ax.set_yticks(np.arange(0,10))\n",
    "ax.set_yticklabels(yticks)\n",
    "ax.set_xlabel('Number of Samples')\n",
    "ax.set_ylabel('eps')\n",
    "ax.xaxis.set_ticks_position('bottom')\n",
    "ax.set_title('DBSCAN parameters to optimize k')\n",
    "# plt.savefig('/Users/ahyeon/Desktop/activ misc/dbscan_param_to_optimize_k.pdf')\n",
    "plt.show()\n"
   ]
  },
  {
   "cell_type": "code",
   "execution_count": 21,
   "metadata": {},
   "outputs": [],
   "source": [
    "minval_idx = np.unravel_index(np.argmin(error_mat), error_mat.shape)"
   ]
  }
 ],
 "metadata": {
  "kernelspec": {
   "display_name": "Python 3",
   "language": "python",
   "name": "python3"
  },
  "language_info": {
   "codemirror_mode": {
    "name": "ipython",
    "version": 3
   },
   "file_extension": ".py",
   "mimetype": "text/x-python",
   "name": "python",
   "nbconvert_exporter": "python",
   "pygments_lexer": "ipython3",
   "version": "3.6.1"
  }
 },
 "nbformat": 4,
 "nbformat_minor": 2
}

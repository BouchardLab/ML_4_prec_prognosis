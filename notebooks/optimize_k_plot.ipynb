{
 "cells": [
  {
   "cell_type": "code",
   "execution_count": 1,
   "metadata": {},
   "outputs": [],
   "source": [
    "import matplotlib.pyplot as plt\n",
    "import numpy as np\n",
    "import h5py"
   ]
  },
  {
   "cell_type": "code",
   "execution_count": 2,
   "metadata": {},
   "outputs": [],
   "source": [
    "f = h5py.File('/Users/ahyeon/Desktop/activ misc/optimize_k_mat.h5', 'r')\n",
    "f2 = h5py.File('/Users/ahyeon/Desktop/activ/results/optimize_k_mat_0.2_20.h5')"
   ]
  },
  {
   "cell_type": "code",
   "execution_count": 3,
   "metadata": {},
   "outputs": [
    {
     "data": {
      "text/plain": [
       "['eps', 'error', 'k', 'minsamples']"
      ]
     },
     "execution_count": 3,
     "metadata": {},
     "output_type": "execute_result"
    }
   ],
   "source": [
    "list(f2.keys())"
   ]
  },
  {
   "cell_type": "code",
   "execution_count": 9,
   "metadata": {},
   "outputs": [],
   "source": [
    "error = f2['error'][:]\n",
    "eps = f2['eps'][:]\n",
    "minsamples = f2['minsamples'][:]"
   ]
  },
  {
   "cell_type": "code",
   "execution_count": 11,
   "metadata": {},
   "outputs": [
    {
     "data": {
      "text/plain": [
       "array([20, 25, 30, 35, 40, 45, 50, 55, 60, 65, 70, 75])"
      ]
     },
     "execution_count": 11,
     "metadata": {},
     "output_type": "execute_result"
    }
   ],
   "source": [
    "minsamples"
   ]
  },
  {
   "cell_type": "code",
   "execution_count": 6,
   "metadata": {},
   "outputs": [
    {
     "data": {
      "text/plain": [
       "(7, 12, 10)"
      ]
     },
     "execution_count": 6,
     "metadata": {},
     "output_type": "execute_result"
    }
   ],
   "source": [
    "k_mat = f2['k'][:]\n",
    "k_mat.shape"
   ]
  },
  {
   "cell_type": "code",
   "execution_count": 7,
   "metadata": {},
   "outputs": [],
   "source": [
    "error_mat = error.mean(axis=2)"
   ]
  },
  {
   "cell_type": "code",
   "execution_count": 25,
   "metadata": {},
   "outputs": [
    {
     "data": {
      "text/plain": [
       "array([1, 1, 2, 0, 0, 3, 6])"
      ]
     },
     "execution_count": 25,
     "metadata": {},
     "output_type": "execute_result"
    }
   ],
   "source": [
    "np.argmin(error_mat, axis=1)"
   ]
  },
  {
   "cell_type": "code",
   "execution_count": 8,
   "metadata": {},
   "outputs": [
    {
     "data": {
      "text/plain": [
       "<matplotlib.image.AxesImage at 0x10bec8588>"
      ]
     },
     "execution_count": 8,
     "metadata": {},
     "output_type": "execute_result"
    },
    {
     "data": {
      "image/png": "[encoded data removed]",
      "text/plain": [
       "<Figure size 493.714x288 with 1 Axes>"
      ]
     },
     "metadata": {},
     "output_type": "display_data"
    }
   ],
   "source": [
    "plt.matshow(error_mat, cmap='gray_r')"
   ]
  },
  {
   "cell_type": "code",
   "execution_count": 35,
   "metadata": {},
   "outputs": [
    {
     "data": {
      "text/plain": [
       "[0.2, 0.3, 0.4, 0.5, 0.6, 0.7, 0.8]"
      ]
     },
     "execution_count": 35,
     "metadata": {},
     "output_type": "execute_result"
    }
   ],
   "source": [
    "xticks2 = list(map(str, np.arange(20,80,5)))\n",
    "yticks2 = [0.2, 0.3, 0.4, 0.5, 0.6, 0.7, 0.8]\n",
    "yticks2"
   ]
  },
  {
   "cell_type": "code",
   "execution_count": 37,
   "metadata": {},
   "outputs": [
    {
     "data": {
      "image/png": "[encoded data removed]",
      "text/plain": [
       "<Figure size 432x288 with 1 Axes>"
      ]
     },
     "metadata": {},
     "output_type": "display_data"
    }
   ],
   "source": [
    "fig = plt.figure()\n",
    "ax = fig.add_subplot(111)\n",
    "cax = ax.matshow(error_mat, cmap='gray_r')\n",
    "\n",
    "ax.set_xticks(np.arange(0,12))\n",
    "ax.set_xticklabels(xticks2)\n",
    "ax.set_yticks(np.arange(0,7))\n",
    "ax.set_yticklabels(yticks2)\n",
    "ax.set_xlabel('Number of Samples')\n",
    "ax.set_ylabel('eps')\n",
    "ax.xaxis.set_ticks_position('bottom')\n",
    "ax.set_title('DBSCAN parameters to optimize k')\n",
    "plt.savefig('/Users/ahyeon/Desktop/activ misc/dbscan_param_to_optimize_k.pdf')\n",
    "plt.show()\n"
   ]
  },
  {
   "cell_type": "code",
   "execution_count": 29,
   "metadata": {},
   "outputs": [
    {
     "data": {
      "text/plain": [
       "['0.1',\n",
       " '0.2',\n",
       " '0.30000000000000004',\n",
       " '0.4',\n",
       " '0.5',\n",
       " '0.6',\n",
       " '0.7000000000000001',\n",
       " '0.8',\n",
       " '0.9',\n",
       " '1.0']"
      ]
     },
     "execution_count": 29,
     "metadata": {},
     "output_type": "execute_result"
    }
   ],
   "source": [
    "xticks = list(map(str, np.arange(5,55,5)))\n",
    "yticks = list(map(str, np.arange(0.1,1.1,0.1)))\n",
    "yticks"
   ]
  },
  {
   "cell_type": "code",
   "execution_count": 97,
   "metadata": {},
   "outputs": [
    {
     "data": {
      "image/png": "[encoded data removed]",
      "text/plain": [
       "<Figure size 432x288 with 1 Axes>"
      ]
     },
     "metadata": {},
     "output_type": "display_data"
    }
   ],
   "source": [
    "fig = plt.figure()\n",
    "ax = fig.add_subplot(111)\n",
    "cax = ax.matshow(error_mat, cmap='gray_r')\n",
    "\n",
    "ax.set_xticks(np.arange(0,10))\n",
    "ax.set_xticklabels(xticks)\n",
    "ax.set_yticks(np.arange(0,10))\n",
    "ax.set_yticklabels(yticks)\n",
    "ax.set_xlabel('Number of Samples')\n",
    "ax.set_ylabel('eps')\n",
    "ax.xaxis.set_ticks_position('bottom')\n",
    "ax.set_title('DBSCAN parameters to optimize k')\n",
    "# plt.savefig('/Users/ahyeon/Desktop/activ misc/dbscan_param_to_optimize_k.pdf')\n",
    "plt.show()\n"
   ]
  },
  {
   "cell_type": "code",
   "execution_count": 21,
   "metadata": {},
   "outputs": [],
   "source": [
    "minval_idx = np.unravel_index(np.argmin(error_mat), error_mat.shape)"
   ]
  }
 ],
 "metadata": {
  "kernelspec": {
   "display_name": "Python 3",
   "language": "python",
   "name": "python3"
  },
  "language_info": {
   "codemirror_mode": {
    "name": "ipython",
    "version": 3
   },
   "file_extension": ".py",
   "mimetype": "text/x-python",
   "name": "python",
   "nbconvert_exporter": "python",
   "pygments_lexer": "ipython3",
   "version": "3.6.2"
  }
 },
 "nbformat": 4,
 "nbformat_minor": 2
}

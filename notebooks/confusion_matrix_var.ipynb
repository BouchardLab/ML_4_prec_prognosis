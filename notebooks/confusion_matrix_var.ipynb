{
 "cells": [
  {
   "cell_type": "code",
   "execution_count": 18,
   "metadata": {},
   "outputs": [],
   "source": [
    "%matplotlib inline\n",
    "import matplotlib.pyplot as plt\n",
    "import h5py\n",
    "import numpy as np\n",
    "from activ.analytics import heatmap\n",
    "from activ.clustering import UmapClusteringResults\n",
    "from os.path import dirname, join\n",
    "from sklearn.metrics import accuracy_score\n",
    "from sklearn.preprocessing import label_binarize"
   ]
  },
  {
   "cell_type": "code",
   "execution_count": 19,
   "metadata": {},
   "outputs": [],
   "source": [
    "f = h5py.File('/Users/ahyeon/Desktop/activ misc/predict_scores2.h5', 'r')"
   ]
  },
  {
   "cell_type": "code",
   "execution_count": 20,
   "metadata": {},
   "outputs": [],
   "source": [
    "predictions = f['score'][:]\n",
    "norm_predictions = f['norm_score'][:]\n",
    "labels = f['clusters'][:]\n",
    "umap_dims = f['umap_dimensions'][:]\n",
    "cluster_sizes = f['cluster_sizes'][:]"
   ]
  },
  {
   "cell_type": "code",
   "execution_count": 21,
   "metadata": {},
   "outputs": [],
   "source": [
    "def conf_alliter(size, predicted, actual):\n",
    "    confalliter = []\n",
    "    for j in range(50):\n",
    "        conf = np.zeros((size,size))\n",
    "        labs = list(map(int, actual[j][size-2]))\n",
    "        preds = list(map(int, predicted[j][size-2]))\n",
    "        for l, p in zip(labs, preds):\n",
    "            conf[l,p] += 1\n",
    "        confalliter.append(conf)\n",
    "    return confalliter"
   ]
  },
  {
   "cell_type": "code",
   "execution_count": 22,
   "metadata": {},
   "outputs": [],
   "source": [
    "def accuracy(mat):\n",
    "    return mat.trace()/mat.sum()\n",
    "\n",
    "def specificity(tn, fp):\n",
    "    return tn/(tn+fp)\n",
    "\n",
    "def sensitivity(tp, fn):\n",
    "    return tp/(tp+fn)\n",
    "\n",
    "def fscore(tp, fp, fn):\n",
    "    return (2*tp)/(2*tp+fp+fn)"
   ]
  },
  {
   "cell_type": "code",
   "execution_count": 23,
   "metadata": {},
   "outputs": [],
   "source": [
    "def ind_statistics(matrix):\n",
    "    mat = np.matrix(matrix)\n",
    "    allvals=[]\n",
    "    tps = []\n",
    "    tns = []\n",
    "    fps = []\n",
    "    fns = []\n",
    "    for i in range(mat.shape[0]):\n",
    "        tp = mat[i,i]\n",
    "        tn = mat.sum() - mat[i,:].sum() - mat[:,i].sum() + mat[i,i]\n",
    "        fp = mat[:,i].sum() - mat[i,i]\n",
    "        fn = mat[i,:].sum() - mat[i,i]\n",
    "        tps.append(tp)\n",
    "        tns.append(tn)\n",
    "        fps.append(fp)\n",
    "        fns.append(fn)\n",
    "    allvals.append(tps)\n",
    "    allvals.append(tns)\n",
    "    allvals.append(fps)\n",
    "    allvals.append(fns)\n",
    "    return allvals"
   ]
  },
  {
   "cell_type": "code",
   "execution_count": 24,
   "metadata": {},
   "outputs": [],
   "source": [
    "def find_var_sens(array):\n",
    "    allsens = []\n",
    "    for i in range(len(array[0])):\n",
    "        vals = []\n",
    "        for elem in array:\n",
    "            vals.append(elem[i])\n",
    "        tp = vals[0]\n",
    "        tn = vals[1]\n",
    "        fp = vals[2]\n",
    "        fn = vals[3]\n",
    "\n",
    "        sens = sensitivity(tn, fp)\n",
    "        allsens.append(sens)\n",
    "    allsens_var = np.var(allsens)\n",
    "    return(allsens_var)"
   ]
  },
  {
   "cell_type": "code",
   "execution_count": 25,
   "metadata": {},
   "outputs": [],
   "source": [
    "def find_var_fscore(array):\n",
    "    allf = []\n",
    "    for i in range(len(array[0])):\n",
    "        vals = []\n",
    "        for elem in array:\n",
    "            vals.append(elem[i])\n",
    "        tp = vals[0]\n",
    "        tn = vals[1]\n",
    "        fp = vals[2]\n",
    "        fn = vals[3]\n",
    "\n",
    "        f = fscore(tp, fp, fn)\n",
    "        allf.append(f)\n",
    "    allf_var = np.var(allf)\n",
    "    return(allf_var)"
   ]
  },
  {
   "cell_type": "code",
   "execution_count": 26,
   "metadata": {},
   "outputs": [
    {
     "name": "stderr",
     "output_type": "stream",
     "text": [
      "/Users/ahyeon/anaconda3/envs/activ/lib/python3.6/site-packages/ipykernel_launcher.py:14: RuntimeWarning: divide by zero encountered in double_scalars\n",
      "  \n"
     ]
    }
   ],
   "source": [
    "var_f_arr = np.zeros((len(cluster_sizes), 50))\n",
    "for ii, c in enumerate(cluster_sizes):\n",
    "    all50mat = conf_alliter(c, predictions, labels)\n",
    "    norm_all50mat = conf_alliter(c, norm_predictions, labels)\n",
    "    f_50 = []\n",
    "    norm_f_50 = []\n",
    "    for i in range(50):\n",
    "        x = ind_statistics(all50mat[i])\n",
    "        y = ind_statistics(norm_all50mat[i])\n",
    "        f = find_var_fscore(x)\n",
    "        norm_f = find_var_fscore(y)\n",
    "        f_50.append(f)\n",
    "        norm_f_50.append(norm_f)\n",
    "    foc = [j/k for j,k in zip(f_50, norm_f_50)]\n",
    "    var_f_arr[ii,:] = foc"
   ]
  },
  {
   "cell_type": "code",
   "execution_count": 27,
   "metadata": {},
   "outputs": [
    {
     "data": {
      "image/png": "[encoded data removed]",
      "text/plain": [
       "<Figure size 720x720 with 1 Axes>"
      ]
     },
     "metadata": {},
     "output_type": "display_data"
    }
   ],
   "source": [
    "plt.figure(figsize=(10,10))\n",
    "plt.boxplot(var_f_arr.T, labels = cluster_sizes, showfliers=False)\n",
    "plt.xlabel('Cluster Number', fontsize=16)\n",
    "plt.ylabel('Fold over Chance', fontsize=16)\n",
    "plt.title('Var Fscore vs Cluster Number', fontsize=20)\n",
    "plt.savefig('/Users/ahyeon/Desktop/activ misc/var_fscore_vs_clusters_predictions.pdf')"
   ]
  },
  {
   "cell_type": "code",
   "execution_count": 28,
   "metadata": {},
   "outputs": [],
   "source": [
    "var_sens_arr = np.zeros((len(cluster_sizes), 50))\n",
    "for ii, c in enumerate(cluster_sizes):\n",
    "    all50mat = conf_alliter(c, predictions, labels)\n",
    "    norm_all50mat = conf_alliter(c, norm_predictions, labels)\n",
    "    sens_50 = []\n",
    "    norm_sens_50 = []\n",
    "    for i in range(50):\n",
    "        x = ind_statistics(all50mat[i])\n",
    "        y = ind_statistics(norm_all50mat[i])\n",
    "        sens = find_var_sens(x)\n",
    "        norm_sens = find_var_sens(y)\n",
    "        sens_50.append(sens)\n",
    "        norm_sens_50.append(norm_sens)\n",
    "    foc = [j/k for j,k in zip(sens_50, norm_sens_50)]\n",
    "    var_sens_arr[ii,:] = foc"
   ]
  },
  {
   "cell_type": "code",
   "execution_count": 29,
   "metadata": {},
   "outputs": [
    {
     "data": {
      "image/png": "[encoded data removed]",
      "text/plain": [
       "<Figure size 720x720 with 1 Axes>"
      ]
     },
     "metadata": {},
     "output_type": "display_data"
    }
   ],
   "source": [
    "plt.figure(figsize=(10,10))\n",
    "plt.boxplot(var_sens_arr.T, labels = cluster_sizes, showfliers=False)\n",
    "plt.xlabel('Cluster Number', fontsize=16)\n",
    "plt.ylabel('Fold over Chance', fontsize=16)\n",
    "plt.title('Var Sensitivity vs Cluster Number', fontsize=20)\n",
    "plt.savefig('/Users/ahyeon/Desktop/activ misc/var_sens_vs_clusters_predictions.pdf')"
   ]
  },
  {
   "cell_type": "code",
   "execution_count": null,
   "metadata": {},
   "outputs": [],
   "source": []
  }
 ],
 "metadata": {
  "kernelspec": {
   "display_name": "Python 3",
   "language": "python",
   "name": "python3"
  },
  "language_info": {
   "codemirror_mode": {
    "name": "ipython",
    "version": 3
   },
   "file_extension": ".py",
   "mimetype": "text/x-python",
   "name": "python",
   "nbconvert_exporter": "python",
   "pygments_lexer": "ipython3",
   "version": "3.6.2"
  }
 },
 "nbformat": 4,
 "nbformat_minor": 2
}

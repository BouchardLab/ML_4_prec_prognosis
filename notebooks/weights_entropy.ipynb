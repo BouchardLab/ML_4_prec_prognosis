{
 "cells": [
  {
   "cell_type": "code",
   "execution_count": 15,
   "metadata": {},
   "outputs": [],
   "source": [
    "import numpy as np\n",
    "import matplotlib.pyplot as plt\n",
    "import scipy\n",
    "import h5py\n",
    "from scipy.stats import entropy\n",
    "from collections import Counter\n",
    "from activ import load_data\n",
    "import pandas as pd\n",
    "from scipy.spatial.distance import pdist, squareform\n",
    "import scipy.cluster.hierarchy as _sch"
   ]
  },
  {
   "cell_type": "code",
   "execution_count": 16,
   "metadata": {},
   "outputs": [],
   "source": [
    "nmfdata = load_data(uoinmf=True)"
   ]
  },
  {
   "cell_type": "code",
   "execution_count": 17,
   "metadata": {},
   "outputs": [
    {
     "data": {
      "text/plain": [
       "(247, 6)"
      ]
     },
     "execution_count": 17,
     "metadata": {},
     "output_type": "execute_result"
    }
   ],
   "source": [
    "nmf_oc = nmfdata.outcomes\n",
    "nmf_oc.shape"
   ]
  },
  {
   "cell_type": "code",
   "execution_count": 24,
   "metadata": {},
   "outputs": [],
   "source": [
    "w1 = nmf_oc[:,0]\n",
    "w2 = nmf_oc[:,1]\n",
    "w3 = nmf_oc[:,2]\n",
    "w4 = nmf_oc[:,3]\n",
    "w5 = nmf_oc[:,4]\n",
    "w6 = nmf_oc[:,5]\n",
    "ws = [w1, w2, w3, w4, w5, w6]"
   ]
  },
  {
   "cell_type": "code",
   "execution_count": 39,
   "metadata": {},
   "outputs": [
    {
     "data": {
      "text/plain": [
       "array([ 0.        ,  0.17543654,  0.        ,  1.56255807,  0.        ,\n",
       "        1.14346396,  0.        ,  0.18096641,  0.84609467,  0.0596198 ,\n",
       "        0.37561887,  0.81087367,  2.45431001,  0.        ,  0.        ,\n",
       "        0.        ,  0.        ,  0.09864733,  0.        ,  0.53854979,\n",
       "        0.        ,  0.        ,  0.        ,  0.        ,  0.        ,\n",
       "        0.        ,  1.68482645,  0.        ,  0.6466536 ,  0.12505565,\n",
       "        0.        ,  0.        ,  0.        ,  0.        ,  0.        ,\n",
       "        0.        ,  0.87021477,  0.        ,  0.        ,  0.60323074,\n",
       "        0.        ,  0.        ,  0.04494566,  0.        ,  0.        ,\n",
       "        0.        ,  0.24019545,  0.93774475,  1.4384876 ,  0.44095806,\n",
       "        0.13132882,  0.        ,  1.43355779,  2.1936881 ,  0.26626697,\n",
       "        0.36957953,  0.        ,  0.        ,  1.63075135,  0.84650731,\n",
       "        0.20710802,  0.        ,  0.49955242,  0.33490584,  0.05617304,\n",
       "        0.        ,  1.30001243,  0.        ,  1.192265  ,  0.71273854,\n",
       "        0.        ,  0.05229646,  0.00980924,  0.523272  ,  0.        ,\n",
       "        0.94167907,  1.08888513,  2.07462813,  0.0396963 ,  0.0410913 ,\n",
       "        0.        ,  1.22442998,  0.        ,  0.        ,  1.41476145,\n",
       "        0.        ,  0.        ,  0.        ,  1.71227214,  0.0522617 ,\n",
       "        0.84697023,  0.16238444,  0.08632416,  0.        ,  0.08369702,\n",
       "        1.0298068 ,  0.96095301,  1.51974483,  0.        ,  0.14905244,\n",
       "        0.41605404,  1.12692295,  0.95922556,  0.58388473,  0.        ,\n",
       "        0.        ,  0.52297929,  0.1778999 ,  0.52618877,  0.        ,\n",
       "        0.        ,  0.        ,  1.46736339,  1.03839344,  0.        ,\n",
       "        1.68686222,  0.        ,  0.        ,  0.65707314,  0.        ,\n",
       "        0.        ,  0.        ,  0.        ,  0.        ,  0.39478694,\n",
       "        0.        ,  0.92337597,  1.64577928,  0.        ,  1.63580112,\n",
       "        0.        ,  0.        ,  0.        ,  0.        ,  0.        ,\n",
       "        0.46864674,  0.        ,  0.70662241,  0.61539599,  1.91231825,\n",
       "        0.79673712,  0.        ,  0.97993881,  0.        ,  0.        ,\n",
       "        0.        ,  0.        ,  1.12224034,  0.        ,  0.        ,\n",
       "        0.29694887,  0.44390228,  0.53528128,  0.        ,  1.21711717,\n",
       "        1.39061693,  0.        ,  0.31185613,  1.13539108,  1.80561503,\n",
       "        0.22311383,  1.33875722,  0.        ,  0.09736356,  0.        ,\n",
       "        0.        ,  0.        ,  0.        ,  2.07942415,  1.34266748,\n",
       "        1.00974511,  1.27570151,  0.        ,  1.18467862,  0.        ,\n",
       "        0.        ,  0.        ,  0.47049383,  0.        ,  1.22027487,\n",
       "        1.29825873,  0.        ,  0.        ,  0.        ,  0.62957357,\n",
       "        0.        ,  0.        ,  0.57740513,  0.        ,  0.        ,\n",
       "        0.        ,  0.        ,  0.53945995,  0.        ,  0.        ,\n",
       "        0.89316933,  0.        ,  0.        ,  0.23255309,  0.20539187,\n",
       "        0.        ,  0.        ,  1.68188644,  0.3890713 ,  0.        ,\n",
       "        0.        ,  0.07778088,  0.        ,  1.76514113,  0.        ,\n",
       "        1.27158628,  0.56824586,  1.76786503,  0.        ,  0.        ,\n",
       "        0.        ,  0.        ,  0.37817662,  1.27431989,  0.        ,\n",
       "        0.19817708,  0.        ,  1.54639605,  0.02408173,  0.        ,\n",
       "        0.        ,  1.20139948,  0.        ,  0.        ,  0.        ,\n",
       "        0.51631568,  2.24322722,  0.        ,  0.        ,  1.29500927,\n",
       "        0.        ,  0.24221738,  0.        ,  0.        ,  1.54487644,\n",
       "        1.35638115,  1.37252328,  0.        ,  0.        ,  1.09945525,\n",
       "        0.40193027,  0.        ])"
      ]
     },
     "execution_count": 39,
     "metadata": {},
     "output_type": "execute_result"
    }
   ],
   "source": [
    "w1"
   ]
  },
  {
   "cell_type": "code",
   "execution_count": 25,
   "metadata": {},
   "outputs": [],
   "source": [
    "file = '/Users/ahyeon/Desktop/activ misc/sweep_u2-10_c2-50_i50_raw-oc-cluster_uoinmf-bm-predict/umap_clustering_sweep.h5'"
   ]
  },
  {
   "cell_type": "code",
   "execution_count": 26,
   "metadata": {},
   "outputs": [],
   "source": [
    "f = h5py.File(file, 'r')"
   ]
  },
  {
   "cell_type": "code",
   "execution_count": 31,
   "metadata": {},
   "outputs": [],
   "source": [
    "umap_dims = f['umap_dimensions'][:]\n",
    "score = f['score'][:]\n",
    "norm_score = f['norm_score'][:]\n",
    "clusters = f['clusters'][:]\n",
    "cluster_sizes = f['cluster_sizes'][:]\n",
    "emb = f['umap_embeddings'][:]\n",
    "scale = f['umap_embeddings_dimscale'][:][:54]"
   ]
  },
  {
   "cell_type": "code",
   "execution_count": 32,
   "metadata": {},
   "outputs": [],
   "source": [
    "for dim in umap_dims:\n",
    "    all_dmat = np.zeros((30381,50))\n",
    "    for x in range(emb.shape[0]):\n",
    "        dmat = pdist(emb[x][:,scale==dim], metric='mahalanobis')\n",
    "        all_dmat[:,x] = dmat\n",
    "    mean = all_dmat.mean(axis=1)"
   ]
  },
  {
   "cell_type": "code",
   "execution_count": 33,
   "metadata": {},
   "outputs": [],
   "source": [
    "def calc_entropy(gose_scores):\n",
    "    probs = np.array(list(Counter(gose_scores).values()))/len(gose_scores)\n",
    "    return entropy(probs, base=2.0)"
   ]
  },
  {
   "cell_type": "code",
   "execution_count": 42,
   "metadata": {},
   "outputs": [],
   "source": [
    "def entropy_across_clusters(cluster_sizes, data):\n",
    "    values = []\n",
    "    tree = _sch.linkage(mean, method='ward')\n",
    "    labels = _sch.cut_tree(tree, cluster_sizes)\n",
    "\n",
    "    for ii,c in enumerate(cluster_sizes):\n",
    "        entropies = []\n",
    "        for label in np.unique(labels[:,ii]):\n",
    "            scores = data[labels[:,ii]==label]\n",
    "            ent = calc_entropy(scores)\n",
    "            entropies.append(ent)\n",
    "        v = np.mean(entropies)\n",
    "        values.append(v)\n",
    "    return values"
   ]
  },
  {
   "cell_type": "code",
   "execution_count": 43,
   "metadata": {},
   "outputs": [
    {
     "data": {
      "image/png": "[encoded data removed]",
      "text/plain": [
       "<Figure size 432x432 with 1 Axes>"
      ]
     },
     "metadata": {},
     "output_type": "display_data"
    },
    {
     "data": {
      "text/plain": [
       "<Figure size 432x288 with 0 Axes>"
      ]
     },
     "metadata": {},
     "output_type": "display_data"
    }
   ],
   "source": [
    "plt.figure(figsize=(6,6))\n",
    "plt.plot(cluster_sizes, entropy_across_clusters(cluster_sizes, w1), '.', label='W1')\n",
    "plt.plot(cluster_sizes, entropy_across_clusters(cluster_sizes, w2), '.', label='W2')\n",
    "plt.plot(cluster_sizes, entropy_across_clusters(cluster_sizes, w3), '.', label='W3')\n",
    "plt.plot(cluster_sizes, entropy_across_clusters(cluster_sizes, w4), '.', label='W4')\n",
    "plt.plot(cluster_sizes, entropy_across_clusters(cluster_sizes, w5), '.', label='W5')\n",
    "plt.plot(cluster_sizes, entropy_across_clusters(cluster_sizes, w6), '.', label='W6')\n",
    "plt.xlabel('Number of Clusters')\n",
    "plt.ylabel('Entropy')\n",
    "plt.title('Num Clusters vs Entropy for Different weights')\n",
    "plt.legend() \n",
    "plt.show()\n",
    "plt.savefig('/Users/ahyeon/Desktop/activ misc/weights_entropy.pdf')"
   ]
  },
  {
   "cell_type": "code",
   "execution_count": null,
   "metadata": {},
   "outputs": [],
   "source": []
  }
 ],
 "metadata": {
  "kernelspec": {
   "display_name": "Python 3",
   "language": "python",
   "name": "python3"
  },
  "language_info": {
   "codemirror_mode": {
    "name": "ipython",
    "version": 3
   },
   "file_extension": ".py",
   "mimetype": "text/x-python",
   "name": "python",
   "nbconvert_exporter": "python",
   "pygments_lexer": "ipython3",
   "version": "3.6.2"
  }
 },
 "nbformat": 4,
 "nbformat_minor": 2
}

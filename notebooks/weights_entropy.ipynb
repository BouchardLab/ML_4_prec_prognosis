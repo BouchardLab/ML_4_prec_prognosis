{
 "cells": [
  {
   "cell_type": "code",
   "execution_count": 20,
   "metadata": {},
   "outputs": [],
   "source": [
    "import numpy as np\n",
    "import matplotlib.pyplot as plt\n",
    "import scipy\n",
    "import h5py\n",
    "from scipy.stats import entropy\n",
    "from collections import Counter\n",
    "from activ import load_data\n",
    "import pandas as pd\n",
    "from scipy.spatial.distance import pdist, squareform\n",
    "import scipy.cluster.hierarchy as _sch\n",
    "from info_measures.continuous.kraskov_stoegbauer_grassberger import Entropy"
   ]
  },
  {
   "cell_type": "code",
   "execution_count": 21,
   "metadata": {},
   "outputs": [
    {
     "name": "stdout",
     "output_type": "stream",
     "text": [
      "Help on class Entropy in module info_measures.continuous.kraskov_stoegbauer_grassberger:\n",
      "\n",
      "class Entropy(builtins.object)\n",
      " |  Estimate the entropy of a distribution with continuous support based on\n",
      " |  nearest-neighbor methods.\n",
      " |  \n",
      " |  Parameters\n",
      " |  ----------\n",
      " |  X : data (n_samples, n_dim)\n",
      " |      Data matrix\n",
      " |  k : int\n",
      " |      k-nearest-neighbor will be used. (default=3)\n",
      " |  add_noise : bool\n",
      " |      Small (1e-10) noise to break degeneracy. (default=False)\n",
      " |  \n",
      " |  Methods defined here:\n",
      " |  \n",
      " |  __init__(self, X, k=3, add_noise=False)\n",
      " |      Initialize self.  See help(type(self)) for accurate signature.\n",
      " |  \n",
      " |  entropy(self, k=None, n_jobs=-1)\n",
      " |      The classic K-L k-nearest neighbor continuous entropy estimator.\n",
      " |  \n",
      " |  ----------------------------------------------------------------------\n",
      " |  Data descriptors defined here:\n",
      " |  \n",
      " |  __dict__\n",
      " |      dictionary for instance variables (if defined)\n",
      " |  \n",
      " |  __weakref__\n",
      " |      list of weak references to the object (if defined)\n",
      "\n"
     ]
    },
    {
     "data": {
      "text/plain": [
       "['__class__',\n",
       " '__delattr__',\n",
       " '__dict__',\n",
       " '__dir__',\n",
       " '__doc__',\n",
       " '__eq__',\n",
       " '__format__',\n",
       " '__ge__',\n",
       " '__getattribute__',\n",
       " '__gt__',\n",
       " '__hash__',\n",
       " '__init__',\n",
       " '__init_subclass__',\n",
       " '__le__',\n",
       " '__lt__',\n",
       " '__module__',\n",
       " '__ne__',\n",
       " '__new__',\n",
       " '__reduce__',\n",
       " '__reduce_ex__',\n",
       " '__repr__',\n",
       " '__setattr__',\n",
       " '__sizeof__',\n",
       " '__str__',\n",
       " '__subclasshook__',\n",
       " '__weakref__',\n",
       " 'entropy']"
      ]
     },
     "execution_count": 21,
     "metadata": {},
     "output_type": "execute_result"
    }
   ],
   "source": [
    "help(Entropy)\n",
    "dir(Entropy)"
   ]
  },
  {
   "cell_type": "code",
   "execution_count": 7,
   "metadata": {},
   "outputs": [],
   "source": [
    "nmfdata = load_data(uoinmf=True)"
   ]
  },
  {
   "cell_type": "code",
   "execution_count": 8,
   "metadata": {},
   "outputs": [
    {
     "data": {
      "text/plain": [
       "(247, 6)"
      ]
     },
     "execution_count": 8,
     "metadata": {},
     "output_type": "execute_result"
    }
   ],
   "source": [
    "nmf_oc = nmfdata.outcomes\n",
    "nmf_oc.shape"
   ]
  },
  {
   "cell_type": "code",
   "execution_count": 9,
   "metadata": {},
   "outputs": [
    {
     "data": {
      "text/plain": [
       "(247,)"
      ]
     },
     "execution_count": 9,
     "metadata": {},
     "output_type": "execute_result"
    }
   ],
   "source": [
    "w1 = nmf_oc[:,0]\n",
    "w2 = nmf_oc[:,1]\n",
    "w3 = nmf_oc[:,2]\n",
    "w4 = nmf_oc[:,3]\n",
    "w5 = nmf_oc[:,4]\n",
    "w6 = nmf_oc[:,5]\n",
    "ws = [w1, w2, w3, w4, w5, w6]\n",
    "w1.shape"
   ]
  },
  {
   "cell_type": "code",
   "execution_count": 10,
   "metadata": {},
   "outputs": [
    {
     "data": {
      "text/plain": [
       "(247,)"
      ]
     },
     "execution_count": 10,
     "metadata": {},
     "output_type": "execute_result"
    }
   ],
   "source": [
    "np.expand_dims(w2, axis=1)\n",
    "w1.shape"
   ]
  },
  {
   "cell_type": "code",
   "execution_count": 11,
   "metadata": {},
   "outputs": [],
   "source": [
    "file = '/Users/ahyeon/Desktop/activ misc/sweep_u2-10_c2-50_i50_raw-oc-cluster_uoinmf-bm-predict/umap_clustering_sweep.h5'"
   ]
  },
  {
   "cell_type": "code",
   "execution_count": 12,
   "metadata": {},
   "outputs": [],
   "source": [
    "f = h5py.File(file, 'r')"
   ]
  },
  {
   "cell_type": "code",
   "execution_count": 13,
   "metadata": {},
   "outputs": [],
   "source": [
    "umap_dims = f['umap_dimensions'][:]\n",
    "score = f['score'][:]\n",
    "norm_score = f['norm_score'][:]\n",
    "clusters = f['clusters'][:]\n",
    "cluster_sizes = f['cluster_sizes'][:]\n",
    "emb = f['umap_embeddings'][:]\n",
    "scale = f['umap_embeddings_dimscale'][:][:54]"
   ]
  },
  {
   "cell_type": "code",
   "execution_count": 25,
   "metadata": {},
   "outputs": [
    {
     "data": {
      "text/plain": [
       "array([ 0.        ,  0.12754668,  0.        ,  0.        ,  0.        ,\n",
       "        2.70533891,  0.21511741,  0.        ,  1.71368507,  0.        ,\n",
       "        0.44663051,  5.91581755,  0.15543001,  0.11959411,  0.        ,\n",
       "        1.23282155,  0.        ,  0.        ,  0.        ,  0.        ,\n",
       "        1.63734391,  0.        ,  0.        ,  0.77783888,  0.83761882,\n",
       "        0.        ,  3.99909032,  0.51229646,  0.03559384,  1.2037469 ,\n",
       "        0.        ,  0.        ,  0.        ,  0.        ,  0.        ,\n",
       "        1.24974772,  3.98136199,  0.74181731,  1.9631771 ,  0.58201662,\n",
       "        0.        ,  0.        ,  1.43116278,  0.        ,  2.76397339,\n",
       "        0.        ,  0.35073568,  1.81261024,  1.00933081,  2.30005568,\n",
       "        0.        ,  0.        ,  0.        ,  0.        ,  0.        ,\n",
       "        4.62389994,  0.        ,  0.        ,  0.11423547,  0.        ,\n",
       "        0.46238102,  0.        ,  1.21031991,  1.03354433,  0.35608112,\n",
       "        0.01341702,  3.84728604,  3.43168638,  0.        ,  0.        ,\n",
       "        1.90278047,  0.        ,  0.        ,  3.33298661,  0.        ,\n",
       "        3.15840805,  1.7255925 ,  0.        ,  0.21216422,  3.64323981,\n",
       "        0.        ,  0.88710794,  0.        ,  1.89355721,  3.02681568,\n",
       "        0.        ,  0.        ,  0.        ,  1.07458977,  0.        ,\n",
       "        2.73921211,  0.        ,  3.02519143,  0.        ,  0.        ,\n",
       "        2.57028497,  2.17914659,  2.79468142,  2.04939892,  1.37970591,\n",
       "        0.35308542,  3.75524916,  0.        ,  0.        ,  2.30237063,\n",
       "        0.83490988,  6.45623442,  1.10625273,  1.88648437,  4.89561486,\n",
       "        0.        ,  1.92753089,  0.15377576,  0.28066557,  0.        ,\n",
       "        0.73658318,  0.        ,  0.31030354,  0.        ,  0.        ,\n",
       "        0.        ,  0.        ,  0.        ,  4.53661603,  5.74309576,\n",
       "        3.02061767,  0.        ,  0.49081381,  0.16891286,  0.29052524,\n",
       "        0.        ,  0.        ,  0.        ,  0.87275252,  0.64741383,\n",
       "        1.60116425,  2.09050091,  2.5181416 ,  4.84794349,  0.10990485,\n",
       "        5.43503763,  0.        ,  2.0940287 ,  2.24205219,  0.44072199,\n",
       "        0.        ,  0.        ,  4.75940782,  1.51320936,  0.        ,\n",
       "        3.12708037,  4.12640576,  0.        ,  0.56438234,  3.98974732,\n",
       "        0.36194158,  0.02220308,  1.6769624 ,  1.27652494,  0.        ,\n",
       "        6.85521129,  4.16675138,  0.        ,  0.        ,  5.96705658,\n",
       "        0.        ,  0.33568   ,  6.30177844,  0.        ,  2.48954933,\n",
       "        0.        ,  2.74131233,  5.26521602,  3.06398203,  2.29263728,\n",
       "        0.78350769,  0.        ,  1.3681547 ,  0.8137805 ,  4.293447  ,\n",
       "        0.        ,  4.39968743,  0.        ,  0.        ,  2.93516315,\n",
       "        0.        ,  3.06658373,  4.20175637,  0.        ,  0.45254756,\n",
       "        0.        ,  0.4459454 ,  6.31681843,  3.19832626,  4.65091189,\n",
       "        4.87636514,  0.        ,  0.        ,  3.04781786,  0.        ,\n",
       "        0.        ,  6.65179092,  0.41820958,  3.81429149,  0.        ,\n",
       "        0.        ,  0.        ,  0.        ,  1.84110518,  0.        ,\n",
       "        3.21128885,  2.21558364,  0.        ,  2.71558322,  0.        ,\n",
       "        0.        ,  0.21116455,  0.47539875,  4.10881667,  4.51335757,\n",
       "        0.        ,  0.        ,  2.48150087,  0.        ,  0.        ,\n",
       "        3.60394144,  1.84059125,  0.        ,  4.73384197,  0.        ,\n",
       "        0.        ,  1.8636633 ,  0.        ,  0.        ,  0.        ,\n",
       "        0.38337438,  6.11106643,  0.        ,  0.32564457,  2.95229535,\n",
       "        3.19432025,  0.33425154,  6.71443339,  0.        ,  3.8330123 ,\n",
       "        0.86947191,  0.        ])"
      ]
     },
     "execution_count": 25,
     "metadata": {},
     "output_type": "execute_result"
    }
   ],
   "source": [
    "w6"
   ]
  },
  {
   "cell_type": "code",
   "execution_count": 26,
   "metadata": {},
   "outputs": [
    {
     "ename": "ValueError",
     "evalue": "not enough values to unpack (expected 2, got 1)",
     "output_type": "error",
     "traceback": [
      "\u001b[0;31m---------------------------------------------------------------------------\u001b[0m",
      "\u001b[0;31mValueError\u001b[0m                                Traceback (most recent call last)",
      "\u001b[0;32m<ipython-input-26-bee83b50b576>\u001b[0m in \u001b[0;36m<module>\u001b[0;34m()\u001b[0m\n\u001b[0;32m----> 1\u001b[0;31m \u001b[0mw\u001b[0m \u001b[0;34m=\u001b[0m \u001b[0mEntropy\u001b[0m\u001b[0;34m(\u001b[0m\u001b[0mw6\u001b[0m\u001b[0;34m)\u001b[0m\u001b[0;34m\u001b[0m\u001b[0m\n\u001b[0m\u001b[1;32m      2\u001b[0m \u001b[0mprint\u001b[0m\u001b[0;34m(\u001b[0m\u001b[0mw\u001b[0m\u001b[0;34m)\u001b[0m\u001b[0;34m\u001b[0m\u001b[0m\n",
      "\u001b[0;32m~/info_measures/info_measures/continuous/kraskov_stoegbauer_grassberger.py\u001b[0m in \u001b[0;36m__init__\u001b[0;34m(self, X, k, add_noise)\u001b[0m\n\u001b[1;32m     48\u001b[0m     \u001b[0;32mdef\u001b[0m \u001b[0m__init__\u001b[0m\u001b[0;34m(\u001b[0m\u001b[0mself\u001b[0m\u001b[0;34m,\u001b[0m \u001b[0mX\u001b[0m\u001b[0;34m,\u001b[0m \u001b[0mk\u001b[0m\u001b[0;34m=\u001b[0m\u001b[0;36m3\u001b[0m\u001b[0;34m,\u001b[0m \u001b[0madd_noise\u001b[0m\u001b[0;34m=\u001b[0m\u001b[0;32mFalse\u001b[0m\u001b[0;34m)\u001b[0m\u001b[0;34m:\u001b[0m\u001b[0;34m\u001b[0m\u001b[0m\n\u001b[1;32m     49\u001b[0m         \u001b[0mself\u001b[0m\u001b[0;34m.\u001b[0m\u001b[0mk\u001b[0m \u001b[0;34m=\u001b[0m \u001b[0mk\u001b[0m\u001b[0;34m\u001b[0m\u001b[0m\n\u001b[0;32m---> 50\u001b[0;31m         \u001b[0mself\u001b[0m\u001b[0;34m.\u001b[0m\u001b[0mn_samples\u001b[0m\u001b[0;34m,\u001b[0m \u001b[0mself\u001b[0m\u001b[0;34m.\u001b[0m\u001b[0mn_dim\u001b[0m \u001b[0;34m=\u001b[0m \u001b[0mX\u001b[0m\u001b[0;34m.\u001b[0m\u001b[0mshape\u001b[0m\u001b[0;34m\u001b[0m\u001b[0m\n\u001b[0m\u001b[1;32m     51\u001b[0m         \u001b[0;32massert\u001b[0m \u001b[0mk\u001b[0m \u001b[0;34m<=\u001b[0m \u001b[0mself\u001b[0m\u001b[0;34m.\u001b[0m\u001b[0mn_samples\u001b[0m \u001b[0;34m-\u001b[0m \u001b[0;36m1\u001b[0m\u001b[0;34m\u001b[0m\u001b[0m\n\u001b[1;32m     52\u001b[0m         \u001b[0mintens\u001b[0m \u001b[0;34m=\u001b[0m \u001b[0;36m1e-10\u001b[0m  \u001b[0;31m# small noise to break degeneracy, see doc.\u001b[0m\u001b[0;34m\u001b[0m\u001b[0m\n",
      "\u001b[0;31mValueError\u001b[0m: not enough values to unpack (expected 2, got 1)"
     ]
    }
   ],
   "source": [
    "w = Entropy(w6)\n",
    "print(w)"
   ]
  },
  {
   "cell_type": "code",
   "execution_count": null,
   "metadata": {},
   "outputs": [],
   "source": []
  },
  {
   "cell_type": "code",
   "execution_count": 28,
   "metadata": {},
   "outputs": [
    {
     "name": "stdout",
     "output_type": "stream",
     "text": [
      "-inf\n",
      "-inf\n",
      "-inf\n",
      "-inf\n",
      "-inf\n",
      "-inf\n",
      "-inf\n",
      "-inf\n",
      "-inf\n",
      "-inf\n",
      "-inf\n",
      "-inf\n",
      "-inf\n",
      "-inf\n",
      "-inf\n",
      "-inf\n",
      "-inf\n",
      "-inf\n",
      "-inf\n",
      "-inf\n",
      "-inf\n",
      "-inf\n",
      "-inf\n",
      "-inf\n",
      "-inf\n",
      "-inf\n",
      "-inf\n",
      "-inf\n",
      "-inf\n",
      "-inf\n",
      "-inf\n",
      "-inf\n",
      "-inf\n",
      "-inf\n",
      "-inf\n",
      "-inf\n",
      "-inf\n",
      "-inf\n",
      "-inf\n",
      "-inf\n",
      "-inf\n",
      "-inf\n",
      "-inf\n",
      "-inf\n",
      "-inf\n",
      "-inf\n",
      "-inf\n",
      "-inf\n",
      "-inf\n"
     ]
    },
    {
     "name": "stderr",
     "output_type": "stream",
     "text": [
      "/Users/ahyeon/info_measures/info_measures/continuous/kraskov_stoegbauer_grassberger.py:66: RuntimeWarning: divide by zero encountered in log\n",
      "  return const + self.n_dim * np.mean(np.log(nn))\n"
     ]
    }
   ],
   "source": [
    "w = np.expand_dims(w6, axis=1)\n",
    "w1_ent = Entropy(w)\n",
    "for ii,c in enumerate(cluster_sizes):\n",
    "    ent = w1_ent.entropy(k=3)\n",
    "    print(ent)"
   ]
  },
  {
   "cell_type": "code",
   "execution_count": 15,
   "metadata": {},
   "outputs": [],
   "source": [
    "for dim in umap_dims:\n",
    "    all_dmat = np.zeros((30381,50))\n",
    "    for x in range(emb.shape[0]):\n",
    "        dmat = pdist(emb[x][:,scale==dim], metric='mahalanobis')\n",
    "        all_dmat[:,x] = dmat\n",
    "    mean = all_dmat.mean(axis=1)"
   ]
  },
  {
   "cell_type": "code",
   "execution_count": 16,
   "metadata": {},
   "outputs": [],
   "source": [
    "def calc_entropy(gose_scores):\n",
    "    probs = np.array(list(Counter(gose_scores).values()))/len(gose_scores)\n",
    "    return entropy(probs, base=2.0)"
   ]
  },
  {
   "cell_type": "code",
   "execution_count": 17,
   "metadata": {},
   "outputs": [],
   "source": [
    "def jesse_entropy(cluster_sizes, data):\n",
    "    values = []\n",
    "    tree = _sch.linkage(mean, method='ward')\n",
    "    labels = _sch.cut_tree(tree, cluster_sizes)\n",
    "\n",
    "    for ii,c in enumerate(cluster_sizes):\n",
    "        entropies = []\n",
    "        for label in np.unique(labels[:,ii]):\n",
    "            scores = data[labels[:,ii]==label]\n",
    "            ent = Entropy(scores)\n",
    "            ent2 = ent.entropy(k=3)\n",
    "            entropies.append(ent2)\n",
    "        v = np.mean(entropies)\n",
    "        values.append(v)\n",
    "    return values"
   ]
  },
  {
   "cell_type": "code",
   "execution_count": 18,
   "metadata": {},
   "outputs": [
    {
     "ename": "ValueError",
     "evalue": "not enough values to unpack (expected 2, got 1)",
     "output_type": "error",
     "traceback": [
      "\u001b[0;31m---------------------------------------------------------------------------\u001b[0m",
      "\u001b[0;31mValueError\u001b[0m                                Traceback (most recent call last)",
      "\u001b[0;32m<ipython-input-18-46bd3e2be3b2>\u001b[0m in \u001b[0;36m<module>\u001b[0;34m()\u001b[0m\n\u001b[0;32m----> 1\u001b[0;31m \u001b[0mjessew1\u001b[0m \u001b[0;34m=\u001b[0m \u001b[0mjesse_entropy\u001b[0m\u001b[0;34m(\u001b[0m\u001b[0mcluster_sizes\u001b[0m\u001b[0;34m,\u001b[0m \u001b[0mw1\u001b[0m\u001b[0;34m)\u001b[0m\u001b[0;34m\u001b[0m\u001b[0m\n\u001b[0m",
      "\u001b[0;32m<ipython-input-17-00ac1114ea20>\u001b[0m in \u001b[0;36mjesse_entropy\u001b[0;34m(cluster_sizes, data)\u001b[0m\n\u001b[1;32m      8\u001b[0m         \u001b[0;32mfor\u001b[0m \u001b[0mlabel\u001b[0m \u001b[0;32min\u001b[0m \u001b[0mnp\u001b[0m\u001b[0;34m.\u001b[0m\u001b[0munique\u001b[0m\u001b[0;34m(\u001b[0m\u001b[0mlabels\u001b[0m\u001b[0;34m[\u001b[0m\u001b[0;34m:\u001b[0m\u001b[0;34m,\u001b[0m\u001b[0mii\u001b[0m\u001b[0;34m]\u001b[0m\u001b[0;34m)\u001b[0m\u001b[0;34m:\u001b[0m\u001b[0;34m\u001b[0m\u001b[0m\n\u001b[1;32m      9\u001b[0m             \u001b[0mscores\u001b[0m \u001b[0;34m=\u001b[0m \u001b[0mdata\u001b[0m\u001b[0;34m[\u001b[0m\u001b[0mlabels\u001b[0m\u001b[0;34m[\u001b[0m\u001b[0;34m:\u001b[0m\u001b[0;34m,\u001b[0m\u001b[0mii\u001b[0m\u001b[0;34m]\u001b[0m\u001b[0;34m==\u001b[0m\u001b[0mlabel\u001b[0m\u001b[0;34m]\u001b[0m\u001b[0;34m\u001b[0m\u001b[0m\n\u001b[0;32m---> 10\u001b[0;31m             \u001b[0ment\u001b[0m \u001b[0;34m=\u001b[0m \u001b[0mEntropy\u001b[0m\u001b[0;34m(\u001b[0m\u001b[0mscores\u001b[0m\u001b[0;34m)\u001b[0m\u001b[0;34m\u001b[0m\u001b[0m\n\u001b[0m\u001b[1;32m     11\u001b[0m             \u001b[0ment2\u001b[0m \u001b[0;34m=\u001b[0m \u001b[0ment\u001b[0m\u001b[0;34m.\u001b[0m\u001b[0mentropy\u001b[0m\u001b[0;34m(\u001b[0m\u001b[0mk\u001b[0m\u001b[0;34m=\u001b[0m\u001b[0;36m3\u001b[0m\u001b[0;34m)\u001b[0m\u001b[0;34m\u001b[0m\u001b[0m\n\u001b[1;32m     12\u001b[0m             \u001b[0mentropies\u001b[0m\u001b[0;34m.\u001b[0m\u001b[0mappend\u001b[0m\u001b[0;34m(\u001b[0m\u001b[0ment2\u001b[0m\u001b[0;34m)\u001b[0m\u001b[0;34m\u001b[0m\u001b[0m\n",
      "\u001b[0;32m~/info_measures/info_measures/continuous/kraskov_stoegbauer_grassberger.py\u001b[0m in \u001b[0;36m__init__\u001b[0;34m(self, X, k, add_noise)\u001b[0m\n\u001b[1;32m     48\u001b[0m     \u001b[0;32mdef\u001b[0m \u001b[0m__init__\u001b[0m\u001b[0;34m(\u001b[0m\u001b[0mself\u001b[0m\u001b[0;34m,\u001b[0m \u001b[0mX\u001b[0m\u001b[0;34m,\u001b[0m \u001b[0mk\u001b[0m\u001b[0;34m=\u001b[0m\u001b[0;36m3\u001b[0m\u001b[0;34m,\u001b[0m \u001b[0madd_noise\u001b[0m\u001b[0;34m=\u001b[0m\u001b[0;32mFalse\u001b[0m\u001b[0;34m)\u001b[0m\u001b[0;34m:\u001b[0m\u001b[0;34m\u001b[0m\u001b[0m\n\u001b[1;32m     49\u001b[0m         \u001b[0mself\u001b[0m\u001b[0;34m.\u001b[0m\u001b[0mk\u001b[0m \u001b[0;34m=\u001b[0m \u001b[0mk\u001b[0m\u001b[0;34m\u001b[0m\u001b[0m\n\u001b[0;32m---> 50\u001b[0;31m         \u001b[0mself\u001b[0m\u001b[0;34m.\u001b[0m\u001b[0mn_samples\u001b[0m\u001b[0;34m,\u001b[0m \u001b[0mself\u001b[0m\u001b[0;34m.\u001b[0m\u001b[0mn_dim\u001b[0m \u001b[0;34m=\u001b[0m \u001b[0mX\u001b[0m\u001b[0;34m.\u001b[0m\u001b[0mshape\u001b[0m\u001b[0;34m\u001b[0m\u001b[0m\n\u001b[0m\u001b[1;32m     51\u001b[0m         \u001b[0;32massert\u001b[0m \u001b[0mk\u001b[0m \u001b[0;34m<=\u001b[0m \u001b[0mself\u001b[0m\u001b[0;34m.\u001b[0m\u001b[0mn_samples\u001b[0m \u001b[0;34m-\u001b[0m \u001b[0;36m1\u001b[0m\u001b[0;34m\u001b[0m\u001b[0m\n\u001b[1;32m     52\u001b[0m         \u001b[0mintens\u001b[0m \u001b[0;34m=\u001b[0m \u001b[0;36m1e-10\u001b[0m  \u001b[0;31m# small noise to break degeneracy, see doc.\u001b[0m\u001b[0;34m\u001b[0m\u001b[0m\n",
      "\u001b[0;31mValueError\u001b[0m: not enough values to unpack (expected 2, got 1)"
     ]
    }
   ],
   "source": [
    "jessew1 = jesse_entropy(cluster_sizes, w1)"
   ]
  },
  {
   "cell_type": "code",
   "execution_count": 30,
   "metadata": {},
   "outputs": [],
   "source": [
    "def entropy_across_clusters(cluster_sizes, data):\n",
    "    values = []\n",
    "    tree = _sch.linkage(mean, method='ward')\n",
    "    labels = _sch.cut_tree(tree, cluster_sizes)\n",
    "\n",
    "    for ii,c in enumerate(cluster_sizes):\n",
    "        entropies = []\n",
    "        for label in np.unique(labels[:,ii]):\n",
    "            scores = data[labels[:,ii]==label]\n",
    "            ent = calc_entropy(scores)\n",
    "            entropies.append(ent)\n",
    "        v = np.mean(entropies)\n",
    "        values.append(v)\n",
    "    return values"
   ]
  },
  {
   "cell_type": "code",
   "execution_count": 31,
   "metadata": {},
   "outputs": [
    {
     "data": {
      "image/png": "[encoded data removed]",
      "text/plain": [
       "<Figure size 432x432 with 1 Axes>"
      ]
     },
     "metadata": {},
     "output_type": "display_data"
    },
    {
     "data": {
      "text/plain": [
       "<Figure size 432x288 with 0 Axes>"
      ]
     },
     "metadata": {},
     "output_type": "display_data"
    }
   ],
   "source": [
    "plt.figure(figsize=(6,6))\n",
    "plt.plot(cluster_sizes, entropy_across_clusters(cluster_sizes, w1), '.', label='W1')\n",
    "plt.plot(cluster_sizes, entropy_across_clusters(cluster_sizes, w2), '.', label='W2')\n",
    "plt.plot(cluster_sizes, entropy_across_clusters(cluster_sizes, w3), '.', label='W3')\n",
    "plt.plot(cluster_sizes, entropy_across_clusters(cluster_sizes, w4), '.', label='W4')\n",
    "plt.plot(cluster_sizes, entropy_across_clusters(cluster_sizes, w5), '.', label='W5')\n",
    "plt.plot(cluster_sizes, entropy_across_clusters(cluster_sizes, w6), '.', label='W6')\n",
    "plt.xlabel('Number of Clusters')\n",
    "plt.ylabel('Entropy')\n",
    "plt.title('Num Clusters vs Entropy for Different weights')\n",
    "plt.legend() \n",
    "plt.show()\n",
    "plt.savefig('/Users/ahyeon/Desktop/activ misc/weights_entropy.pdf')"
   ]
  },
  {
   "cell_type": "code",
   "execution_count": null,
   "metadata": {},
   "outputs": [],
   "source": []
  }
 ],
 "metadata": {
  "kernelspec": {
   "display_name": "Python 3",
   "language": "python",
   "name": "python3"
  },
  "language_info": {
   "codemirror_mode": {
    "name": "ipython",
    "version": 3
   },
   "file_extension": ".py",
   "mimetype": "text/x-python",
   "name": "python",
   "nbconvert_exporter": "python",
   "pygments_lexer": "ipython3",
   "version": "3.6.2"
  }
 },
 "nbformat": 4,
 "nbformat_minor": 2
}
